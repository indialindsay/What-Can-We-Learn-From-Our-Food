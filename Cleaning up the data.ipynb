{
 "cells": [
  {
   "cell_type": "code",
   "execution_count": 1,
   "metadata": {},
   "outputs": [
    {
     "name": "stdout",
     "output_type": "stream",
     "text": [
      "Populating the interactive namespace from numpy and matplotlib\n"
     ]
    }
   ],
   "source": [
    "from pandas import Series, DataFrame\n",
    "import pandas as pd\n",
    "%pylab inline"
   ]
  },
  {
   "cell_type": "markdown",
   "metadata": {},
   "source": [
    "__Importing And Reading In The Data File__\n",
    "\n",
    "The data file is saved as a tsv (tab seperated file). You must set sep='\\t' to specify that the data is seperated by tabs. Pandas attempts to guess the datatypes of each column. However, the data file is  large and guessing the datatype is memory demanding. Setting low_memory to false will tell pandas to avoid guessing the datatype so save on memory and processing time"
   ]
  },
  {
   "cell_type": "code",
   "execution_count": 2,
   "metadata": {},
   "outputs": [
    {
     "name": "stdout",
     "output_type": "stream",
     "text": [
      "This data set contains 356027 rows and  163 columns\n"
     ]
    }
   ],
   "source": [
    "df = pd.read_csv('en.openfoodfacts.org.products.tsv',sep='\\t',low_memory=False)\n",
    "print(\"This data set contains\",len(df),\"rows and \",len(df.columns),\"columns\")"
   ]
  },
  {
   "cell_type": "markdown",
   "metadata": {},
   "source": [
    "This data set contains 356,027 food products from around the world and 163 characteristics for each product. The data was obtained from Open Food Facts (https://world.openfoodfacts.org/) - a free collaborative database of food products with each product uploaded by users who scan the food products and upload pictures of their nutrition labels. The data set contains a wide variety of information on each product ranging from the ingredients to allergens to nutrition facts, all gathered from the packaging labels. You can view the first 5 rows of the dataset below:"
   ]
  },
  {
   "cell_type": "code",
   "execution_count": 3,
   "metadata": {},
   "outputs": [
    {
     "data": {
      "text/html": [
       "<div>\n",
       "<style scoped>\n",
       "    .dataframe tbody tr th:only-of-type {\n",
       "        vertical-align: middle;\n",
       "    }\n",
       "\n",
       "    .dataframe tbody tr th {\n",
       "        vertical-align: top;\n",
       "    }\n",
       "\n",
       "    .dataframe thead th {\n",
       "        text-align: right;\n",
       "    }\n",
       "</style>\n",
       "<table border=\"1\" class=\"dataframe\">\n",
       "  <thead>\n",
       "    <tr style=\"text-align: right;\">\n",
       "      <th></th>\n",
       "      <th>code</th>\n",
       "      <th>url</th>\n",
       "      <th>creator</th>\n",
       "      <th>created_t</th>\n",
       "      <th>created_datetime</th>\n",
       "      <th>last_modified_t</th>\n",
       "      <th>last_modified_datetime</th>\n",
       "      <th>product_name</th>\n",
       "      <th>generic_name</th>\n",
       "      <th>quantity</th>\n",
       "      <th>...</th>\n",
       "      <th>fruits-vegetables-nuts_100g</th>\n",
       "      <th>fruits-vegetables-nuts-estimate_100g</th>\n",
       "      <th>collagen-meat-protein-ratio_100g</th>\n",
       "      <th>cocoa_100g</th>\n",
       "      <th>chlorophyl_100g</th>\n",
       "      <th>carbon-footprint_100g</th>\n",
       "      <th>nutrition-score-fr_100g</th>\n",
       "      <th>nutrition-score-uk_100g</th>\n",
       "      <th>glycemic-index_100g</th>\n",
       "      <th>water-hardness_100g</th>\n",
       "    </tr>\n",
       "  </thead>\n",
       "  <tbody>\n",
       "    <tr>\n",
       "      <th>0</th>\n",
       "      <td>0000000003087</td>\n",
       "      <td>http://world-en.openfoodfacts.org/product/0000...</td>\n",
       "      <td>openfoodfacts-contributors</td>\n",
       "      <td>1474103866</td>\n",
       "      <td>2016-09-17T09:17:46Z</td>\n",
       "      <td>1474103893</td>\n",
       "      <td>2016-09-17T09:18:13Z</td>\n",
       "      <td>Farine de blé noir</td>\n",
       "      <td>NaN</td>\n",
       "      <td>1kg</td>\n",
       "      <td>...</td>\n",
       "      <td>NaN</td>\n",
       "      <td>NaN</td>\n",
       "      <td>NaN</td>\n",
       "      <td>NaN</td>\n",
       "      <td>NaN</td>\n",
       "      <td>NaN</td>\n",
       "      <td>NaN</td>\n",
       "      <td>NaN</td>\n",
       "      <td>NaN</td>\n",
       "      <td>NaN</td>\n",
       "    </tr>\n",
       "    <tr>\n",
       "      <th>1</th>\n",
       "      <td>0000000004530</td>\n",
       "      <td>http://world-en.openfoodfacts.org/product/0000...</td>\n",
       "      <td>usda-ndb-import</td>\n",
       "      <td>1489069957</td>\n",
       "      <td>2017-03-09T14:32:37Z</td>\n",
       "      <td>1489069957</td>\n",
       "      <td>2017-03-09T14:32:37Z</td>\n",
       "      <td>Banana Chips Sweetened (Whole)</td>\n",
       "      <td>NaN</td>\n",
       "      <td>NaN</td>\n",
       "      <td>...</td>\n",
       "      <td>NaN</td>\n",
       "      <td>NaN</td>\n",
       "      <td>NaN</td>\n",
       "      <td>NaN</td>\n",
       "      <td>NaN</td>\n",
       "      <td>NaN</td>\n",
       "      <td>14.0</td>\n",
       "      <td>14.0</td>\n",
       "      <td>NaN</td>\n",
       "      <td>NaN</td>\n",
       "    </tr>\n",
       "    <tr>\n",
       "      <th>2</th>\n",
       "      <td>0000000004559</td>\n",
       "      <td>http://world-en.openfoodfacts.org/product/0000...</td>\n",
       "      <td>usda-ndb-import</td>\n",
       "      <td>1489069957</td>\n",
       "      <td>2017-03-09T14:32:37Z</td>\n",
       "      <td>1489069957</td>\n",
       "      <td>2017-03-09T14:32:37Z</td>\n",
       "      <td>Peanuts</td>\n",
       "      <td>NaN</td>\n",
       "      <td>NaN</td>\n",
       "      <td>...</td>\n",
       "      <td>NaN</td>\n",
       "      <td>NaN</td>\n",
       "      <td>NaN</td>\n",
       "      <td>NaN</td>\n",
       "      <td>NaN</td>\n",
       "      <td>NaN</td>\n",
       "      <td>0.0</td>\n",
       "      <td>0.0</td>\n",
       "      <td>NaN</td>\n",
       "      <td>NaN</td>\n",
       "    </tr>\n",
       "    <tr>\n",
       "      <th>3</th>\n",
       "      <td>0000000016087</td>\n",
       "      <td>http://world-en.openfoodfacts.org/product/0000...</td>\n",
       "      <td>usda-ndb-import</td>\n",
       "      <td>1489055731</td>\n",
       "      <td>2017-03-09T10:35:31Z</td>\n",
       "      <td>1489055731</td>\n",
       "      <td>2017-03-09T10:35:31Z</td>\n",
       "      <td>Organic Salted Nut Mix</td>\n",
       "      <td>NaN</td>\n",
       "      <td>NaN</td>\n",
       "      <td>...</td>\n",
       "      <td>NaN</td>\n",
       "      <td>NaN</td>\n",
       "      <td>NaN</td>\n",
       "      <td>NaN</td>\n",
       "      <td>NaN</td>\n",
       "      <td>NaN</td>\n",
       "      <td>12.0</td>\n",
       "      <td>12.0</td>\n",
       "      <td>NaN</td>\n",
       "      <td>NaN</td>\n",
       "    </tr>\n",
       "    <tr>\n",
       "      <th>4</th>\n",
       "      <td>0000000016094</td>\n",
       "      <td>http://world-en.openfoodfacts.org/product/0000...</td>\n",
       "      <td>usda-ndb-import</td>\n",
       "      <td>1489055653</td>\n",
       "      <td>2017-03-09T10:34:13Z</td>\n",
       "      <td>1489055653</td>\n",
       "      <td>2017-03-09T10:34:13Z</td>\n",
       "      <td>Organic Polenta</td>\n",
       "      <td>NaN</td>\n",
       "      <td>NaN</td>\n",
       "      <td>...</td>\n",
       "      <td>NaN</td>\n",
       "      <td>NaN</td>\n",
       "      <td>NaN</td>\n",
       "      <td>NaN</td>\n",
       "      <td>NaN</td>\n",
       "      <td>NaN</td>\n",
       "      <td>NaN</td>\n",
       "      <td>NaN</td>\n",
       "      <td>NaN</td>\n",
       "      <td>NaN</td>\n",
       "    </tr>\n",
       "  </tbody>\n",
       "</table>\n",
       "<p>5 rows × 163 columns</p>\n",
       "</div>"
      ],
      "text/plain": [
       "            code                                                url  \\\n",
       "0  0000000003087  http://world-en.openfoodfacts.org/product/0000...   \n",
       "1  0000000004530  http://world-en.openfoodfacts.org/product/0000...   \n",
       "2  0000000004559  http://world-en.openfoodfacts.org/product/0000...   \n",
       "3  0000000016087  http://world-en.openfoodfacts.org/product/0000...   \n",
       "4  0000000016094  http://world-en.openfoodfacts.org/product/0000...   \n",
       "\n",
       "                      creator   created_t      created_datetime  \\\n",
       "0  openfoodfacts-contributors  1474103866  2016-09-17T09:17:46Z   \n",
       "1             usda-ndb-import  1489069957  2017-03-09T14:32:37Z   \n",
       "2             usda-ndb-import  1489069957  2017-03-09T14:32:37Z   \n",
       "3             usda-ndb-import  1489055731  2017-03-09T10:35:31Z   \n",
       "4             usda-ndb-import  1489055653  2017-03-09T10:34:13Z   \n",
       "\n",
       "  last_modified_t last_modified_datetime                    product_name  \\\n",
       "0      1474103893   2016-09-17T09:18:13Z              Farine de blé noir   \n",
       "1      1489069957   2017-03-09T14:32:37Z  Banana Chips Sweetened (Whole)   \n",
       "2      1489069957   2017-03-09T14:32:37Z                         Peanuts   \n",
       "3      1489055731   2017-03-09T10:35:31Z          Organic Salted Nut Mix   \n",
       "4      1489055653   2017-03-09T10:34:13Z                 Organic Polenta   \n",
       "\n",
       "  generic_name quantity  ... fruits-vegetables-nuts_100g  \\\n",
       "0          NaN      1kg  ...                         NaN   \n",
       "1          NaN      NaN  ...                         NaN   \n",
       "2          NaN      NaN  ...                         NaN   \n",
       "3          NaN      NaN  ...                         NaN   \n",
       "4          NaN      NaN  ...                         NaN   \n",
       "\n",
       "  fruits-vegetables-nuts-estimate_100g collagen-meat-protein-ratio_100g  \\\n",
       "0                                  NaN                              NaN   \n",
       "1                                  NaN                              NaN   \n",
       "2                                  NaN                              NaN   \n",
       "3                                  NaN                              NaN   \n",
       "4                                  NaN                              NaN   \n",
       "\n",
       "  cocoa_100g chlorophyl_100g carbon-footprint_100g nutrition-score-fr_100g  \\\n",
       "0        NaN             NaN                   NaN                     NaN   \n",
       "1        NaN             NaN                   NaN                    14.0   \n",
       "2        NaN             NaN                   NaN                     0.0   \n",
       "3        NaN             NaN                   NaN                    12.0   \n",
       "4        NaN             NaN                   NaN                     NaN   \n",
       "\n",
       "  nutrition-score-uk_100g glycemic-index_100g water-hardness_100g  \n",
       "0                     NaN                 NaN                 NaN  \n",
       "1                    14.0                 NaN                 NaN  \n",
       "2                     0.0                 NaN                 NaN  \n",
       "3                    12.0                 NaN                 NaN  \n",
       "4                     NaN                 NaN                 NaN  \n",
       "\n",
       "[5 rows x 163 columns]"
      ]
     },
     "execution_count": 3,
     "metadata": {},
     "output_type": "execute_result"
    }
   ],
   "source": [
    "df.head()"
   ]
  },
  {
   "cell_type": "markdown",
   "metadata": {},
   "source": [
    "__Selecting Columns of Interest__"
   ]
  },
  {
   "cell_type": "markdown",
   "metadata": {},
   "source": [
    "This dataset contains a wide variety of characteristics on the products. Below you can observe a snapshot of the columns this data set contains. "
   ]
  },
  {
   "cell_type": "code",
   "execution_count": 4,
   "metadata": {},
   "outputs": [
    {
     "data": {
      "text/plain": [
       "array(['ingredients_that_may_be_from_palm_oil',\n",
       "       'ingredients_that_may_be_from_palm_oil_tags', 'nutrition_grade_uk',\n",
       "       'nutrition_grade_fr', 'pnns_groups_1', 'pnns_groups_2', 'states',\n",
       "       'states_tags', 'states_en', 'main_category', 'main_category_en',\n",
       "       'image_url', 'image_small_url', 'energy_100g',\n",
       "       'energy-from-fat_100g', 'fat_100g', 'saturated-fat_100g',\n",
       "       '-butyric-acid_100g', '-caproic-acid_100g', '-caprylic-acid_100g',\n",
       "       '-capric-acid_100g', '-lauric-acid_100g', '-myristic-acid_100g',\n",
       "       '-palmitic-acid_100g', '-stearic-acid_100g'], dtype=object)"
      ]
     },
     "execution_count": 4,
     "metadata": {},
     "output_type": "execute_result"
    }
   ],
   "source": [
    "df.columns.values[50:75]"
   ]
  },
  {
   "cell_type": "markdown",
   "metadata": {},
   "source": [
    "As this analysis is focused on gaining a macro level understanding of how different countries eat, let's clean up the dataset to focus on the more generic food product characteristics.\n",
    "\n",
    "Additionally, any column that ends in '\\_en' contains that columns characteristics in English. We will drop any columns that contain similar information in another form. For example, the column 'countries_en' contains the name of the country (in English) where each product was scanned and uploaded. The columns 'countries' and 'countries_tags' contain similar information but in a messier format. We will stick with 'countries_en' for ease of analysis. "
   ]
  },
  {
   "cell_type": "code",
   "execution_count": 3,
   "metadata": {},
   "outputs": [],
   "source": [
    "columns_to_drop = ['code', 'url', 'creator', 'created_t', 'created_datetime',\n",
    "       'last_modified_t', 'last_modified_datetime','no_nutriments', 'ingredients_from_palm_oil_n',\n",
    "       'ingredients_from_palm_oil', 'ingredients_from_palm_oil_tags',\n",
    "       'ingredients_that_may_be_from_palm_oil_n',\n",
    "       'ingredients_that_may_be_from_palm_oil',\n",
    "       'ingredients_that_may_be_from_palm_oil_tags','pnns_groups_1', 'pnns_groups_2',  '-butyric-acid_100g', '-caproic-acid_100g', '-caprylic-acid_100g',\n",
    "       '-capric-acid_100g', '-lauric-acid_100g', '-myristic-acid_100g',\n",
    "       '-palmitic-acid_100g', '-stearic-acid_100g',\n",
    "       '-arachidic-acid_100g', '-behenic-acid_100g',\n",
    "       '-lignoceric-acid_100g', '-cerotic-acid_100g',\n",
    "       '-montanic-acid_100g', '-melissic-acid_100g',\n",
    "       'monounsaturated-fat_100g', 'polyunsaturated-fat_100g',\n",
    "       'omega-3-fat_100g', '-alpha-linolenic-acid_100g',\n",
    "       '-eicosapentaenoic-acid_100g', '-docosahexaenoic-acid_100g',\n",
    "       'omega-6-fat_100g', '-linoleic-acid_100g',\n",
    "       '-arachidonic-acid_100g', '-gamma-linolenic-acid_100g',\n",
    "       '-dihomo-gamma-linolenic-acid_100g', 'omega-9-fat_100g',\n",
    "       '-oleic-acid_100g', '-elaidic-acid_100g', '-gondoic-acid_100g',\n",
    "       '-mead-acid_100g', '-erucic-acid_100g', '-nervonic-acid_100g','-maltose_100g', '-maltodextrins_100g',\n",
    "       'starch_100g', 'polyols_100g',  'casein_100g', 'serum-proteins_100g', 'nucleotides_100g',  'vitamin-b2_100g', 'vitamin-pp_100g', 'vitamin-b6_100g',\n",
    "       'vitamin-b9_100g', 'folates_100g', 'pantothenic-acid_100g', 'silica_100g',\n",
    "       'bicarbonate_100g','chloride_100g', 'phosphorus_100g', 'copper_100g', 'manganese_100g', 'fluoride_100g',\n",
    "       'selenium_100g', 'chromium_100g', 'molybdenum_100g', 'iodine_100g',\n",
    "       'caffeine_100g', 'taurine_100g', 'ph_100g',\n",
    "       'fruits-vegetables-nuts_100g',\n",
    "       'fruits-vegetables-nuts-estimate_100g',\n",
    "       'collagen-meat-protein-ratio_100g', 'cocoa_100g',\n",
    "       'chlorophyl_100g','water-hardness_100g', 'categories',\n",
    "       'categories_tags', 'labels',\n",
    "       'labels_tags','emb_codes', 'emb_codes_tags','allergens','countries','countries_tags',\n",
    "        'additives_n', 'additives', 'additives_tags','traces', 'traces_tags', 'states',\n",
    "       'states_tags', 'main_category']\n",
    "clean_df = df.drop(columns_to_drop,axis=1)"
   ]
  },
  {
   "cell_type": "markdown",
   "metadata": {},
   "source": [
    "Our dataset now has the following columns:"
   ]
  },
  {
   "cell_type": "code",
   "execution_count": 4,
   "metadata": {},
   "outputs": [
    {
     "data": {
      "text/plain": [
       "array(['product_name', 'generic_name', 'quantity', 'packaging',\n",
       "       'packaging_tags', 'brands', 'brands_tags', 'categories_en',\n",
       "       'origins', 'origins_tags', 'manufacturing_places',\n",
       "       'manufacturing_places_tags', 'labels_en',\n",
       "       'first_packaging_code_geo', 'cities', 'cities_tags',\n",
       "       'purchase_places', 'stores', 'countries_en', 'ingredients_text',\n",
       "       'allergens_en', 'traces_en', 'serving_size', 'additives_en',\n",
       "       'nutrition_grade_uk', 'nutrition_grade_fr', 'states_en',\n",
       "       'main_category_en', 'image_url', 'image_small_url', 'energy_100g',\n",
       "       'energy-from-fat_100g', 'fat_100g', 'saturated-fat_100g',\n",
       "       'trans-fat_100g', 'cholesterol_100g', 'carbohydrates_100g',\n",
       "       'sugars_100g', '-sucrose_100g', '-glucose_100g', '-fructose_100g',\n",
       "       '-lactose_100g', 'fiber_100g', 'proteins_100g', 'salt_100g',\n",
       "       'sodium_100g', 'alcohol_100g', 'vitamin-a_100g',\n",
       "       'beta-carotene_100g', 'vitamin-d_100g', 'vitamin-e_100g',\n",
       "       'vitamin-k_100g', 'vitamin-c_100g', 'vitamin-b1_100g',\n",
       "       'vitamin-b12_100g', 'biotin_100g', 'potassium_100g',\n",
       "       'calcium_100g', 'iron_100g', 'magnesium_100g', 'zinc_100g',\n",
       "       'carbon-footprint_100g', 'nutrition-score-fr_100g',\n",
       "       'nutrition-score-uk_100g', 'glycemic-index_100g'], dtype=object)"
      ]
     },
     "execution_count": 4,
     "metadata": {},
     "output_type": "execute_result"
    }
   ],
   "source": [
    "clean_df.columns.values"
   ]
  },
  {
   "cell_type": "code",
   "execution_count": 5,
   "metadata": {},
   "outputs": [
    {
     "data": {
      "text/html": [
       "<div>\n",
       "<style scoped>\n",
       "    .dataframe tbody tr th:only-of-type {\n",
       "        vertical-align: middle;\n",
       "    }\n",
       "\n",
       "    .dataframe tbody tr th {\n",
       "        vertical-align: top;\n",
       "    }\n",
       "\n",
       "    .dataframe thead th {\n",
       "        text-align: right;\n",
       "    }\n",
       "</style>\n",
       "<table border=\"1\" class=\"dataframe\">\n",
       "  <thead>\n",
       "    <tr style=\"text-align: right;\">\n",
       "      <th></th>\n",
       "      <th>product_name</th>\n",
       "      <th>generic_name</th>\n",
       "      <th>quantity</th>\n",
       "      <th>packaging</th>\n",
       "      <th>packaging_tags</th>\n",
       "      <th>brands</th>\n",
       "      <th>brands_tags</th>\n",
       "      <th>categories_en</th>\n",
       "      <th>origins</th>\n",
       "      <th>origins_tags</th>\n",
       "      <th>...</th>\n",
       "      <th>biotin_100g</th>\n",
       "      <th>potassium_100g</th>\n",
       "      <th>calcium_100g</th>\n",
       "      <th>iron_100g</th>\n",
       "      <th>magnesium_100g</th>\n",
       "      <th>zinc_100g</th>\n",
       "      <th>carbon-footprint_100g</th>\n",
       "      <th>nutrition-score-fr_100g</th>\n",
       "      <th>nutrition-score-uk_100g</th>\n",
       "      <th>glycemic-index_100g</th>\n",
       "    </tr>\n",
       "  </thead>\n",
       "  <tbody>\n",
       "    <tr>\n",
       "      <th>0</th>\n",
       "      <td>Farine de blé noir</td>\n",
       "      <td>NaN</td>\n",
       "      <td>1kg</td>\n",
       "      <td>NaN</td>\n",
       "      <td>NaN</td>\n",
       "      <td>Ferme t'y R'nao</td>\n",
       "      <td>ferme-t-y-r-nao</td>\n",
       "      <td>NaN</td>\n",
       "      <td>NaN</td>\n",
       "      <td>NaN</td>\n",
       "      <td>...</td>\n",
       "      <td>NaN</td>\n",
       "      <td>NaN</td>\n",
       "      <td>NaN</td>\n",
       "      <td>NaN</td>\n",
       "      <td>NaN</td>\n",
       "      <td>NaN</td>\n",
       "      <td>NaN</td>\n",
       "      <td>NaN</td>\n",
       "      <td>NaN</td>\n",
       "      <td>NaN</td>\n",
       "    </tr>\n",
       "    <tr>\n",
       "      <th>1</th>\n",
       "      <td>Banana Chips Sweetened (Whole)</td>\n",
       "      <td>NaN</td>\n",
       "      <td>NaN</td>\n",
       "      <td>NaN</td>\n",
       "      <td>NaN</td>\n",
       "      <td>NaN</td>\n",
       "      <td>NaN</td>\n",
       "      <td>NaN</td>\n",
       "      <td>NaN</td>\n",
       "      <td>NaN</td>\n",
       "      <td>...</td>\n",
       "      <td>NaN</td>\n",
       "      <td>NaN</td>\n",
       "      <td>0.000</td>\n",
       "      <td>0.00129</td>\n",
       "      <td>NaN</td>\n",
       "      <td>NaN</td>\n",
       "      <td>NaN</td>\n",
       "      <td>14.0</td>\n",
       "      <td>14.0</td>\n",
       "      <td>NaN</td>\n",
       "    </tr>\n",
       "    <tr>\n",
       "      <th>2</th>\n",
       "      <td>Peanuts</td>\n",
       "      <td>NaN</td>\n",
       "      <td>NaN</td>\n",
       "      <td>NaN</td>\n",
       "      <td>NaN</td>\n",
       "      <td>Torn &amp; Glasser</td>\n",
       "      <td>torn-glasser</td>\n",
       "      <td>NaN</td>\n",
       "      <td>NaN</td>\n",
       "      <td>NaN</td>\n",
       "      <td>...</td>\n",
       "      <td>NaN</td>\n",
       "      <td>NaN</td>\n",
       "      <td>0.071</td>\n",
       "      <td>0.00129</td>\n",
       "      <td>NaN</td>\n",
       "      <td>NaN</td>\n",
       "      <td>NaN</td>\n",
       "      <td>0.0</td>\n",
       "      <td>0.0</td>\n",
       "      <td>NaN</td>\n",
       "    </tr>\n",
       "    <tr>\n",
       "      <th>3</th>\n",
       "      <td>Organic Salted Nut Mix</td>\n",
       "      <td>NaN</td>\n",
       "      <td>NaN</td>\n",
       "      <td>NaN</td>\n",
       "      <td>NaN</td>\n",
       "      <td>Grizzlies</td>\n",
       "      <td>grizzlies</td>\n",
       "      <td>NaN</td>\n",
       "      <td>NaN</td>\n",
       "      <td>NaN</td>\n",
       "      <td>...</td>\n",
       "      <td>NaN</td>\n",
       "      <td>NaN</td>\n",
       "      <td>0.143</td>\n",
       "      <td>0.00514</td>\n",
       "      <td>NaN</td>\n",
       "      <td>NaN</td>\n",
       "      <td>NaN</td>\n",
       "      <td>12.0</td>\n",
       "      <td>12.0</td>\n",
       "      <td>NaN</td>\n",
       "    </tr>\n",
       "    <tr>\n",
       "      <th>4</th>\n",
       "      <td>Organic Polenta</td>\n",
       "      <td>NaN</td>\n",
       "      <td>NaN</td>\n",
       "      <td>NaN</td>\n",
       "      <td>NaN</td>\n",
       "      <td>Bob's Red Mill</td>\n",
       "      <td>bob-s-red-mill</td>\n",
       "      <td>NaN</td>\n",
       "      <td>NaN</td>\n",
       "      <td>NaN</td>\n",
       "      <td>...</td>\n",
       "      <td>NaN</td>\n",
       "      <td>NaN</td>\n",
       "      <td>NaN</td>\n",
       "      <td>NaN</td>\n",
       "      <td>NaN</td>\n",
       "      <td>NaN</td>\n",
       "      <td>NaN</td>\n",
       "      <td>NaN</td>\n",
       "      <td>NaN</td>\n",
       "      <td>NaN</td>\n",
       "    </tr>\n",
       "  </tbody>\n",
       "</table>\n",
       "<p>5 rows × 65 columns</p>\n",
       "</div>"
      ],
      "text/plain": [
       "                     product_name generic_name quantity packaging  \\\n",
       "0              Farine de blé noir          NaN      1kg       NaN   \n",
       "1  Banana Chips Sweetened (Whole)          NaN      NaN       NaN   \n",
       "2                         Peanuts          NaN      NaN       NaN   \n",
       "3          Organic Salted Nut Mix          NaN      NaN       NaN   \n",
       "4                 Organic Polenta          NaN      NaN       NaN   \n",
       "\n",
       "  packaging_tags           brands      brands_tags categories_en origins  \\\n",
       "0            NaN  Ferme t'y R'nao  ferme-t-y-r-nao           NaN     NaN   \n",
       "1            NaN              NaN              NaN           NaN     NaN   \n",
       "2            NaN   Torn & Glasser     torn-glasser           NaN     NaN   \n",
       "3            NaN        Grizzlies        grizzlies           NaN     NaN   \n",
       "4            NaN   Bob's Red Mill   bob-s-red-mill           NaN     NaN   \n",
       "\n",
       "  origins_tags  ... biotin_100g potassium_100g calcium_100g iron_100g  \\\n",
       "0          NaN  ...         NaN            NaN          NaN       NaN   \n",
       "1          NaN  ...         NaN            NaN        0.000   0.00129   \n",
       "2          NaN  ...         NaN            NaN        0.071   0.00129   \n",
       "3          NaN  ...         NaN            NaN        0.143   0.00514   \n",
       "4          NaN  ...         NaN            NaN          NaN       NaN   \n",
       "\n",
       "  magnesium_100g zinc_100g carbon-footprint_100g nutrition-score-fr_100g  \\\n",
       "0            NaN       NaN                   NaN                     NaN   \n",
       "1            NaN       NaN                   NaN                    14.0   \n",
       "2            NaN       NaN                   NaN                     0.0   \n",
       "3            NaN       NaN                   NaN                    12.0   \n",
       "4            NaN       NaN                   NaN                     NaN   \n",
       "\n",
       "  nutrition-score-uk_100g glycemic-index_100g  \n",
       "0                     NaN                 NaN  \n",
       "1                    14.0                 NaN  \n",
       "2                     0.0                 NaN  \n",
       "3                    12.0                 NaN  \n",
       "4                     NaN                 NaN  \n",
       "\n",
       "[5 rows x 65 columns]"
      ]
     },
     "execution_count": 5,
     "metadata": {},
     "output_type": "execute_result"
    }
   ],
   "source": [
    "clean_df.head()"
   ]
  },
  {
   "cell_type": "markdown",
   "metadata": {},
   "source": [
    "It is obvious that the dataset contains a lot of missing values. As we are interested in understanding how different countries eat, it is essential to know the name of the country in which the product was scanned and uploaded. "
   ]
  },
  {
   "cell_type": "code",
   "execution_count": 7,
   "metadata": {},
   "outputs": [
    {
     "name": "stdout",
     "output_type": "stream",
     "text": [
      "We dropped 275 rows with missing country names\n",
      "Our new data set has 355752 rows\n"
     ]
    }
   ],
   "source": [
    "clean_df2 = clean_df.dropna(subset=['countries_en'], how='any')\n",
    "print(\"We dropped\",len(clean_df)-len(clean_df2),\"rows with missing country names\")\n",
    "print(\"Our new data set has\",len(clean_df2),'rows')"
   ]
  },
  {
   "cell_type": "markdown",
   "metadata": {},
   "source": [
    "__Where Do Our Food Products Come From?__\n",
    "\n",
    "The column 'countries_en' contains the name of the country (in English) where each product was scanned and uploaded. We will assume that's where the product was purchased. "
   ]
  },
  {
   "cell_type": "code",
   "execution_count": 8,
   "metadata": {},
   "outputs": [
    {
     "data": {
      "text/plain": [
       "United States                      173159\n",
       "France                             123961\n",
       "Switzerland                         14932\n",
       "Germany                              8470\n",
       "Spain                                5529\n",
       "                                    ...  \n",
       "Czech Republic,Hungary,Slovakia         1\n",
       "France,Saudi Arabia                     1\n",
       "Belgium,France,World                    1\n",
       "Brazil,France,Switzerland               1\n",
       "Hungary,Romania                         1\n",
       "Name: countries_en, Length: 779, dtype: int64"
      ]
     },
     "execution_count": 8,
     "metadata": {},
     "output_type": "execute_result"
    }
   ],
   "source": [
    "clean_df2['countries_en'].value_counts().sort_values(ascending=False)"
   ]
  },
  {
   "cell_type": "markdown",
   "metadata": {},
   "source": [
    "Looks like some products contain multiple country names. Entries contain multiple countries if they contain a comma in the country name. Let's see how many:"
   ]
  },
  {
   "cell_type": "code",
   "execution_count": 9,
   "metadata": {},
   "outputs": [
    {
     "data": {
      "text/plain": [
       "6412"
      ]
     },
     "execution_count": 9,
     "metadata": {},
     "output_type": "execute_result"
    }
   ],
   "source": [
    "import re\n",
    "def multiple_country(s):\n",
    "    return (len(re.findall(',', s))>0)\n",
    "    #returns true if entry in 'countries_en' contains multiple country names\n",
    "\n",
    "counts = clean_df2['countries_en'].map(multiple_country) \n",
    "len(counts[counts==True]) #number of entries that contain multiple names "
   ]
  },
  {
   "cell_type": "markdown",
   "metadata": {},
   "source": [
    "That's quite a few products that have multiple country names listed. As the entry in 'countries_en' contains the country the product was scanned and uploaded to the database in, it means that product is found within that country. Let's duplicate those products so that each product is associated with a single country name.\n",
    "\n",
    "For example, if a product was found in the Czech Republic, Hungary, and Slovakia, we want to have this product appear 3 times in our data set with a single country name listed in our 'countries_en' column. \n",
    "\n",
    "Even though this will result in duplicated products, we are interested in analyzing foods found in each country, not the individual products. It will aid us in comparing how countries eat. "
   ]
  },
  {
   "cell_type": "code",
   "execution_count": 12,
   "metadata": {},
   "outputs": [],
   "source": [
    "clean_df2 = clean_df2.assign(country=clean_df2['countries_en'].str.split(',')).explode('country')\n",
    "#takes the string of countries in 'countries_en'\n",
    "#splits them on the comma \n",
    "#creates a list of countries per product\n",
    "\n",
    "#the method explode \"explodes\" the list into separate rows on the country name\n",
    "#and retains all other information for each row "
   ]
  },
  {
   "cell_type": "code",
   "execution_count": 13,
   "metadata": {},
   "outputs": [
    {
     "data": {
      "text/plain": [
       "United States                         173708\n",
       "France                                129320\n",
       "Switzerland                            17204\n",
       "Germany                                 9403\n",
       "Spain                                   6061\n",
       "                                       ...  \n",
       "Other-turquie                              1\n",
       "Suriname                                   1\n",
       "fr:Bourgogne-aube-nogent-sur-seine         1\n",
       "fr:Irland                                  1\n",
       "Somalia                                    1\n",
       "Name: country, Length: 224, dtype: int64"
      ]
     },
     "execution_count": 13,
     "metadata": {},
     "output_type": "execute_result"
    }
   ],
   "source": [
    "countries = clean_df2['country'].value_counts().sort_values(ascending=False)\n",
    "countries"
   ]
  },
  {
   "cell_type": "markdown",
   "metadata": {},
   "source": [
    "Our dataset now contains products from 174 different countries. There are still some weirdly formatted country names in this dataset. As we're interested in comparing how countries eat, we need to look at countries that have enough products. While we may not be sure how many products will give us a significant amount of insight into a country's eating habits, let's just look at countries that have more than 1000 products. \n"
   ]
  },
  {
   "cell_type": "code",
   "execution_count": 14,
   "metadata": {},
   "outputs": [
    {
     "data": {
      "text/plain": [
       "United States     173708\n",
       "France            129320\n",
       "Switzerland        17204\n",
       "Germany             9403\n",
       "Spain               6061\n",
       "United Kingdom      5987\n",
       "Belgium             4088\n",
       "Australia           2319\n",
       "Russia              1641\n",
       "Italy               1632\n",
       "Canada              1070\n",
       "Name: country, dtype: int64"
      ]
     },
     "execution_count": 14,
     "metadata": {},
     "output_type": "execute_result"
    }
   ],
   "source": [
    "top_countries = countries[countries>1000]\n",
    "top_countries"
   ]
  },
  {
   "cell_type": "code",
   "execution_count": 15,
   "metadata": {},
   "outputs": [],
   "source": [
    "final = clean_df2[clean_df2['country'].isin(top_countries.index)] \n",
    "#grabbing products from countries who have at least 100 products"
   ]
  },
  {
   "cell_type": "code",
   "execution_count": 16,
   "metadata": {},
   "outputs": [
    {
     "name": "stdout",
     "output_type": "stream",
     "text": [
      "We have information on 352433 products\n"
     ]
    }
   ],
   "source": [
    "print(\"We have information on\",len(final),\"products\")"
   ]
  },
  {
   "cell_type": "markdown",
   "metadata": {},
   "source": [
    "Let's save this dataset so we can use it for all future analysis. "
   ]
  },
  {
   "cell_type": "code",
   "execution_count": 17,
   "metadata": {},
   "outputs": [],
   "source": [
    "final.to_csv('Food_Products.csv')"
   ]
  },
  {
   "cell_type": "code",
   "execution_count": null,
   "metadata": {},
   "outputs": [],
   "source": []
  }
 ],
 "metadata": {
  "kernelspec": {
   "display_name": "Python 3",
   "language": "python",
   "name": "python3"
  },
  "language_info": {
   "codemirror_mode": {
    "name": "ipython",
    "version": 3
   },
   "file_extension": ".py",
   "mimetype": "text/x-python",
   "name": "python",
   "nbconvert_exporter": "python",
   "pygments_lexer": "ipython3",
   "version": "3.7.6"
  }
 },
 "nbformat": 4,
 "nbformat_minor": 4
}
