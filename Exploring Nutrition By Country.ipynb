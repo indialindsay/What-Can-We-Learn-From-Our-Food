{
 "cells": [
  {
   "cell_type": "code",
   "execution_count": 106,
   "metadata": {},
   "outputs": [
    {
     "data": {
      "text/html": [
       "<script>\n",
       "code_show=true; \n",
       "function code_toggle() {\n",
       "  if (code_show) {\n",
       "    $('div.input').each(function(id) {\n",
       "      el = $(this).find('.cm-variable:first');\n",
       "      if (id == 0 || el.text() == 'hide_me') {\n",
       "        $(this).hide();\n",
       "      }\n",
       "    });\n",
       "    $('div.output_prompt').css('opacity', 0);\n",
       "  } else {\n",
       "    $('div.input').each(function(id) {\n",
       "      $(this).show();\n",
       "    });\n",
       "    $('div.output_prompt').css('opacity', 1);\n",
       "  }\n",
       "  code_show = !code_show\n",
       "} \n",
       "$( document ).ready(code_toggle);\n",
       "</script>\n",
       "<form action=\"javascript:code_toggle()\"><input style=\"opacity:0\" type=\"submit\" value=\"Click here to toggle on/off the raw code.\"></form>"
      ],
      "text/plain": [
       "<IPython.core.display.HTML object>"
      ]
     },
     "execution_count": 106,
     "metadata": {},
     "output_type": "execute_result"
    }
   ],
   "source": [
    "# This is a cell to hide code snippets from displaying\n",
    "# This must be at first cell!\n",
    "\n",
    "from IPython.display import HTML\n",
    "\n",
    "hide_me = ''\n",
    "HTML('''<script>\n",
    "code_show=true; \n",
    "function code_toggle() {\n",
    "  if (code_show) {\n",
    "    $('div.input').each(function(id) {\n",
    "      el = $(this).find('.cm-variable:first');\n",
    "      if (id == 0 || el.text() == 'hide_me') {\n",
    "        $(this).hide();\n",
    "      }\n",
    "    });\n",
    "    $('div.output_prompt').css('opacity', 0);\n",
    "  } else {\n",
    "    $('div.input').each(function(id) {\n",
    "      $(this).show();\n",
    "    });\n",
    "    $('div.output_prompt').css('opacity', 1);\n",
    "  }\n",
    "  code_show = !code_show\n",
    "} \n",
    "$( document ).ready(code_toggle);\n",
    "</script>\n",
    "<form action=\"javascript:code_toggle()\"><input style=\"opacity:0\" type=\"submit\" value=\"Click here to toggle on/off the raw code.\"></form>''')"
   ]
  },
  {
   "cell_type": "code",
   "execution_count": 121,
   "metadata": {},
   "outputs": [
    {
     "data": {
      "text/html": [
       "<script>\n",
       "code_show=true; \n",
       "function code_toggle() {\n",
       " if (code_show){\n",
       " $('div.input').hide();\n",
       " } else {\n",
       " $('div.input').show();\n",
       " }\n",
       " code_show = !code_show\n",
       "} \n",
       "$( document ).ready(code_toggle);\n",
       "</script>\n",
       "<form action=\"javascript:code_toggle()\"><input type=\"submit\" value=\"Click here to toggle on/off the raw code.\"></form>"
      ],
      "text/plain": [
       "<IPython.core.display.HTML object>"
      ]
     },
     "execution_count": 121,
     "metadata": {},
     "output_type": "execute_result"
    }
   ],
   "source": [
    "from IPython.display import HTML\n",
    "\n",
    "HTML('''<script>\n",
    "code_show=true; \n",
    "function code_toggle() {\n",
    " if (code_show){\n",
    " $('div.input').hide();\n",
    " } else {\n",
    " $('div.input').show();\n",
    " }\n",
    " code_show = !code_show\n",
    "} \n",
    "$( document ).ready(code_toggle);\n",
    "</script>\n",
    "<form action=\"javascript:code_toggle()\"><input type=\"submit\" value=\"Click here to toggle on/off the raw code.\"></form>''')"
   ]
  },
  {
   "cell_type": "code",
   "execution_count": 108,
   "metadata": {},
   "outputs": [
    {
     "name": "stdout",
     "output_type": "stream",
     "text": [
      "Populating the interactive namespace from numpy and matplotlib\n"
     ]
    },
    {
     "data": {
      "text/html": [
       "\n",
       "    <div class=\"bk-root\">\n",
       "        <a href=\"https://bokeh.org\" target=\"_blank\" class=\"bk-logo bk-logo-small bk-logo-notebook\"></a>\n",
       "        <span id=\"18353\">Loading BokehJS ...</span>\n",
       "    </div>"
      ]
     },
     "metadata": {},
     "output_type": "display_data"
    },
    {
     "data": {
      "application/javascript": [
       "\n",
       "(function(root) {\n",
       "  function now() {\n",
       "    return new Date();\n",
       "  }\n",
       "\n",
       "  var force = true;\n",
       "\n",
       "  if (typeof root._bokeh_onload_callbacks === \"undefined\" || force === true) {\n",
       "    root._bokeh_onload_callbacks = [];\n",
       "    root._bokeh_is_loading = undefined;\n",
       "  }\n",
       "\n",
       "  var JS_MIME_TYPE = 'application/javascript';\n",
       "  var HTML_MIME_TYPE = 'text/html';\n",
       "  var EXEC_MIME_TYPE = 'application/vnd.bokehjs_exec.v0+json';\n",
       "  var CLASS_NAME = 'output_bokeh rendered_html';\n",
       "\n",
       "  /**\n",
       "   * Render data to the DOM node\n",
       "   */\n",
       "  function render(props, node) {\n",
       "    var script = document.createElement(\"script\");\n",
       "    node.appendChild(script);\n",
       "  }\n",
       "\n",
       "  /**\n",
       "   * Handle when an output is cleared or removed\n",
       "   */\n",
       "  function handleClearOutput(event, handle) {\n",
       "    var cell = handle.cell;\n",
       "\n",
       "    var id = cell.output_area._bokeh_element_id;\n",
       "    var server_id = cell.output_area._bokeh_server_id;\n",
       "    // Clean up Bokeh references\n",
       "    if (id != null && id in Bokeh.index) {\n",
       "      Bokeh.index[id].model.document.clear();\n",
       "      delete Bokeh.index[id];\n",
       "    }\n",
       "\n",
       "    if (server_id !== undefined) {\n",
       "      // Clean up Bokeh references\n",
       "      var cmd = \"from bokeh.io.state import curstate; print(curstate().uuid_to_server['\" + server_id + \"'].get_sessions()[0].document.roots[0]._id)\";\n",
       "      cell.notebook.kernel.execute(cmd, {\n",
       "        iopub: {\n",
       "          output: function(msg) {\n",
       "            var id = msg.content.text.trim();\n",
       "            if (id in Bokeh.index) {\n",
       "              Bokeh.index[id].model.document.clear();\n",
       "              delete Bokeh.index[id];\n",
       "            }\n",
       "          }\n",
       "        }\n",
       "      });\n",
       "      // Destroy server and session\n",
       "      var cmd = \"import bokeh.io.notebook as ion; ion.destroy_server('\" + server_id + \"')\";\n",
       "      cell.notebook.kernel.execute(cmd);\n",
       "    }\n",
       "  }\n",
       "\n",
       "  /**\n",
       "   * Handle when a new output is added\n",
       "   */\n",
       "  function handleAddOutput(event, handle) {\n",
       "    var output_area = handle.output_area;\n",
       "    var output = handle.output;\n",
       "\n",
       "    // limit handleAddOutput to display_data with EXEC_MIME_TYPE content only\n",
       "    if ((output.output_type != \"display_data\") || (!output.data.hasOwnProperty(EXEC_MIME_TYPE))) {\n",
       "      return\n",
       "    }\n",
       "\n",
       "    var toinsert = output_area.element.find(\".\" + CLASS_NAME.split(' ')[0]);\n",
       "\n",
       "    if (output.metadata[EXEC_MIME_TYPE][\"id\"] !== undefined) {\n",
       "      toinsert[toinsert.length - 1].firstChild.textContent = output.data[JS_MIME_TYPE];\n",
       "      // store reference to embed id on output_area\n",
       "      output_area._bokeh_element_id = output.metadata[EXEC_MIME_TYPE][\"id\"];\n",
       "    }\n",
       "    if (output.metadata[EXEC_MIME_TYPE][\"server_id\"] !== undefined) {\n",
       "      var bk_div = document.createElement(\"div\");\n",
       "      bk_div.innerHTML = output.data[HTML_MIME_TYPE];\n",
       "      var script_attrs = bk_div.children[0].attributes;\n",
       "      for (var i = 0; i < script_attrs.length; i++) {\n",
       "        toinsert[toinsert.length - 1].firstChild.setAttribute(script_attrs[i].name, script_attrs[i].value);\n",
       "      }\n",
       "      // store reference to server id on output_area\n",
       "      output_area._bokeh_server_id = output.metadata[EXEC_MIME_TYPE][\"server_id\"];\n",
       "    }\n",
       "  }\n",
       "\n",
       "  function register_renderer(events, OutputArea) {\n",
       "\n",
       "    function append_mime(data, metadata, element) {\n",
       "      // create a DOM node to render to\n",
       "      var toinsert = this.create_output_subarea(\n",
       "        metadata,\n",
       "        CLASS_NAME,\n",
       "        EXEC_MIME_TYPE\n",
       "      );\n",
       "      this.keyboard_manager.register_events(toinsert);\n",
       "      // Render to node\n",
       "      var props = {data: data, metadata: metadata[EXEC_MIME_TYPE]};\n",
       "      render(props, toinsert[toinsert.length - 1]);\n",
       "      element.append(toinsert);\n",
       "      return toinsert\n",
       "    }\n",
       "\n",
       "    /* Handle when an output is cleared or removed */\n",
       "    events.on('clear_output.CodeCell', handleClearOutput);\n",
       "    events.on('delete.Cell', handleClearOutput);\n",
       "\n",
       "    /* Handle when a new output is added */\n",
       "    events.on('output_added.OutputArea', handleAddOutput);\n",
       "\n",
       "    /**\n",
       "     * Register the mime type and append_mime function with output_area\n",
       "     */\n",
       "    OutputArea.prototype.register_mime_type(EXEC_MIME_TYPE, append_mime, {\n",
       "      /* Is output safe? */\n",
       "      safe: true,\n",
       "      /* Index of renderer in `output_area.display_order` */\n",
       "      index: 0\n",
       "    });\n",
       "  }\n",
       "\n",
       "  // register the mime type if in Jupyter Notebook environment and previously unregistered\n",
       "  if (root.Jupyter !== undefined) {\n",
       "    var events = require('base/js/events');\n",
       "    var OutputArea = require('notebook/js/outputarea').OutputArea;\n",
       "\n",
       "    if (OutputArea.prototype.mime_types().indexOf(EXEC_MIME_TYPE) == -1) {\n",
       "      register_renderer(events, OutputArea);\n",
       "    }\n",
       "  }\n",
       "\n",
       "  \n",
       "  if (typeof (root._bokeh_timeout) === \"undefined\" || force === true) {\n",
       "    root._bokeh_timeout = Date.now() + 5000;\n",
       "    root._bokeh_failed_load = false;\n",
       "  }\n",
       "\n",
       "  var NB_LOAD_WARNING = {'data': {'text/html':\n",
       "     \"<div style='background-color: #fdd'>\\n\"+\n",
       "     \"<p>\\n\"+\n",
       "     \"BokehJS does not appear to have successfully loaded. If loading BokehJS from CDN, this \\n\"+\n",
       "     \"may be due to a slow or bad network connection. Possible fixes:\\n\"+\n",
       "     \"</p>\\n\"+\n",
       "     \"<ul>\\n\"+\n",
       "     \"<li>re-rerun `output_notebook()` to attempt to load from CDN again, or</li>\\n\"+\n",
       "     \"<li>use INLINE resources instead, as so:</li>\\n\"+\n",
       "     \"</ul>\\n\"+\n",
       "     \"<code>\\n\"+\n",
       "     \"from bokeh.resources import INLINE\\n\"+\n",
       "     \"output_notebook(resources=INLINE)\\n\"+\n",
       "     \"</code>\\n\"+\n",
       "     \"</div>\"}};\n",
       "\n",
       "  function display_loaded() {\n",
       "    var el = document.getElementById(\"18353\");\n",
       "    if (el != null) {\n",
       "      el.textContent = \"BokehJS is loading...\";\n",
       "    }\n",
       "    if (root.Bokeh !== undefined) {\n",
       "      if (el != null) {\n",
       "        el.textContent = \"BokehJS \" + root.Bokeh.version + \" successfully loaded.\";\n",
       "      }\n",
       "    } else if (Date.now() < root._bokeh_timeout) {\n",
       "      setTimeout(display_loaded, 100)\n",
       "    }\n",
       "  }\n",
       "\n",
       "\n",
       "  function run_callbacks() {\n",
       "    try {\n",
       "      root._bokeh_onload_callbacks.forEach(function(callback) {\n",
       "        if (callback != null)\n",
       "          callback();\n",
       "      });\n",
       "    } finally {\n",
       "      delete root._bokeh_onload_callbacks\n",
       "    }\n",
       "    console.debug(\"Bokeh: all callbacks have finished\");\n",
       "  }\n",
       "\n",
       "  function load_libs(css_urls, js_urls, callback) {\n",
       "    if (css_urls == null) css_urls = [];\n",
       "    if (js_urls == null) js_urls = [];\n",
       "\n",
       "    root._bokeh_onload_callbacks.push(callback);\n",
       "    if (root._bokeh_is_loading > 0) {\n",
       "      console.debug(\"Bokeh: BokehJS is being loaded, scheduling callback at\", now());\n",
       "      return null;\n",
       "    }\n",
       "    if (js_urls == null || js_urls.length === 0) {\n",
       "      run_callbacks();\n",
       "      return null;\n",
       "    }\n",
       "    console.debug(\"Bokeh: BokehJS not loaded, scheduling load and callback at\", now());\n",
       "    root._bokeh_is_loading = css_urls.length + js_urls.length;\n",
       "\n",
       "    function on_load() {\n",
       "      root._bokeh_is_loading--;\n",
       "      if (root._bokeh_is_loading === 0) {\n",
       "        console.debug(\"Bokeh: all BokehJS libraries/stylesheets loaded\");\n",
       "        run_callbacks()\n",
       "      }\n",
       "    }\n",
       "\n",
       "    function on_error() {\n",
       "      console.error(\"failed to load \" + url);\n",
       "    }\n",
       "\n",
       "    for (var i = 0; i < css_urls.length; i++) {\n",
       "      var url = css_urls[i];\n",
       "      const element = document.createElement(\"link\");\n",
       "      element.onload = on_load;\n",
       "      element.onerror = on_error;\n",
       "      element.rel = \"stylesheet\";\n",
       "      element.type = \"text/css\";\n",
       "      element.href = url;\n",
       "      console.debug(\"Bokeh: injecting link tag for BokehJS stylesheet: \", url);\n",
       "      document.body.appendChild(element);\n",
       "    }\n",
       "\n",
       "    for (var i = 0; i < js_urls.length; i++) {\n",
       "      var url = js_urls[i];\n",
       "      var element = document.createElement('script');\n",
       "      element.onload = on_load;\n",
       "      element.onerror = on_error;\n",
       "      element.async = false;\n",
       "      element.src = url;\n",
       "      console.debug(\"Bokeh: injecting script tag for BokehJS library: \", url);\n",
       "      document.head.appendChild(element);\n",
       "    }\n",
       "  };var element = document.getElementById(\"18353\");\n",
       "  if (element == null) {\n",
       "    console.error(\"Bokeh: ERROR: autoload.js configured with elementid '18353' but no matching script tag was found. \")\n",
       "    return false;\n",
       "  }\n",
       "\n",
       "  function inject_raw_css(css) {\n",
       "    const element = document.createElement(\"style\");\n",
       "    element.appendChild(document.createTextNode(css));\n",
       "    document.body.appendChild(element);\n",
       "  }\n",
       "\n",
       "  \n",
       "  var js_urls = [\"https://cdn.pydata.org/bokeh/release/bokeh-1.4.0.min.js\", \"https://cdn.pydata.org/bokeh/release/bokeh-widgets-1.4.0.min.js\", \"https://cdn.pydata.org/bokeh/release/bokeh-tables-1.4.0.min.js\", \"https://cdn.pydata.org/bokeh/release/bokeh-gl-1.4.0.min.js\"];\n",
       "  var css_urls = [];\n",
       "  \n",
       "\n",
       "  var inline_js = [\n",
       "    function(Bokeh) {\n",
       "      Bokeh.set_log_level(\"info\");\n",
       "    },\n",
       "    function(Bokeh) {\n",
       "    \n",
       "    \n",
       "    }\n",
       "  ];\n",
       "\n",
       "  function run_inline_js() {\n",
       "    \n",
       "    if (root.Bokeh !== undefined || force === true) {\n",
       "      \n",
       "    for (var i = 0; i < inline_js.length; i++) {\n",
       "      inline_js[i].call(root, root.Bokeh);\n",
       "    }\n",
       "    if (force === true) {\n",
       "        display_loaded();\n",
       "      }} else if (Date.now() < root._bokeh_timeout) {\n",
       "      setTimeout(run_inline_js, 100);\n",
       "    } else if (!root._bokeh_failed_load) {\n",
       "      console.log(\"Bokeh: BokehJS failed to load within specified timeout.\");\n",
       "      root._bokeh_failed_load = true;\n",
       "    } else if (force !== true) {\n",
       "      var cell = $(document.getElementById(\"18353\")).parents('.cell').data().cell;\n",
       "      cell.output_area.append_execute_result(NB_LOAD_WARNING)\n",
       "    }\n",
       "\n",
       "  }\n",
       "\n",
       "  if (root._bokeh_is_loading === 0) {\n",
       "    console.debug(\"Bokeh: BokehJS loaded, going straight to plotting\");\n",
       "    run_inline_js();\n",
       "  } else {\n",
       "    load_libs(css_urls, js_urls, function() {\n",
       "      console.debug(\"Bokeh: BokehJS plotting callback run at\", now());\n",
       "      run_inline_js();\n",
       "    });\n",
       "  }\n",
       "}(window));"
      ],
      "application/vnd.bokehjs_load.v0+json": "\n(function(root) {\n  function now() {\n    return new Date();\n  }\n\n  var force = true;\n\n  if (typeof root._bokeh_onload_callbacks === \"undefined\" || force === true) {\n    root._bokeh_onload_callbacks = [];\n    root._bokeh_is_loading = undefined;\n  }\n\n  \n\n  \n  if (typeof (root._bokeh_timeout) === \"undefined\" || force === true) {\n    root._bokeh_timeout = Date.now() + 5000;\n    root._bokeh_failed_load = false;\n  }\n\n  var NB_LOAD_WARNING = {'data': {'text/html':\n     \"<div style='background-color: #fdd'>\\n\"+\n     \"<p>\\n\"+\n     \"BokehJS does not appear to have successfully loaded. If loading BokehJS from CDN, this \\n\"+\n     \"may be due to a slow or bad network connection. Possible fixes:\\n\"+\n     \"</p>\\n\"+\n     \"<ul>\\n\"+\n     \"<li>re-rerun `output_notebook()` to attempt to load from CDN again, or</li>\\n\"+\n     \"<li>use INLINE resources instead, as so:</li>\\n\"+\n     \"</ul>\\n\"+\n     \"<code>\\n\"+\n     \"from bokeh.resources import INLINE\\n\"+\n     \"output_notebook(resources=INLINE)\\n\"+\n     \"</code>\\n\"+\n     \"</div>\"}};\n\n  function display_loaded() {\n    var el = document.getElementById(\"18353\");\n    if (el != null) {\n      el.textContent = \"BokehJS is loading...\";\n    }\n    if (root.Bokeh !== undefined) {\n      if (el != null) {\n        el.textContent = \"BokehJS \" + root.Bokeh.version + \" successfully loaded.\";\n      }\n    } else if (Date.now() < root._bokeh_timeout) {\n      setTimeout(display_loaded, 100)\n    }\n  }\n\n\n  function run_callbacks() {\n    try {\n      root._bokeh_onload_callbacks.forEach(function(callback) {\n        if (callback != null)\n          callback();\n      });\n    } finally {\n      delete root._bokeh_onload_callbacks\n    }\n    console.debug(\"Bokeh: all callbacks have finished\");\n  }\n\n  function load_libs(css_urls, js_urls, callback) {\n    if (css_urls == null) css_urls = [];\n    if (js_urls == null) js_urls = [];\n\n    root._bokeh_onload_callbacks.push(callback);\n    if (root._bokeh_is_loading > 0) {\n      console.debug(\"Bokeh: BokehJS is being loaded, scheduling callback at\", now());\n      return null;\n    }\n    if (js_urls == null || js_urls.length === 0) {\n      run_callbacks();\n      return null;\n    }\n    console.debug(\"Bokeh: BokehJS not loaded, scheduling load and callback at\", now());\n    root._bokeh_is_loading = css_urls.length + js_urls.length;\n\n    function on_load() {\n      root._bokeh_is_loading--;\n      if (root._bokeh_is_loading === 0) {\n        console.debug(\"Bokeh: all BokehJS libraries/stylesheets loaded\");\n        run_callbacks()\n      }\n    }\n\n    function on_error() {\n      console.error(\"failed to load \" + url);\n    }\n\n    for (var i = 0; i < css_urls.length; i++) {\n      var url = css_urls[i];\n      const element = document.createElement(\"link\");\n      element.onload = on_load;\n      element.onerror = on_error;\n      element.rel = \"stylesheet\";\n      element.type = \"text/css\";\n      element.href = url;\n      console.debug(\"Bokeh: injecting link tag for BokehJS stylesheet: \", url);\n      document.body.appendChild(element);\n    }\n\n    for (var i = 0; i < js_urls.length; i++) {\n      var url = js_urls[i];\n      var element = document.createElement('script');\n      element.onload = on_load;\n      element.onerror = on_error;\n      element.async = false;\n      element.src = url;\n      console.debug(\"Bokeh: injecting script tag for BokehJS library: \", url);\n      document.head.appendChild(element);\n    }\n  };var element = document.getElementById(\"18353\");\n  if (element == null) {\n    console.error(\"Bokeh: ERROR: autoload.js configured with elementid '18353' but no matching script tag was found. \")\n    return false;\n  }\n\n  function inject_raw_css(css) {\n    const element = document.createElement(\"style\");\n    element.appendChild(document.createTextNode(css));\n    document.body.appendChild(element);\n  }\n\n  \n  var js_urls = [\"https://cdn.pydata.org/bokeh/release/bokeh-1.4.0.min.js\", \"https://cdn.pydata.org/bokeh/release/bokeh-widgets-1.4.0.min.js\", \"https://cdn.pydata.org/bokeh/release/bokeh-tables-1.4.0.min.js\", \"https://cdn.pydata.org/bokeh/release/bokeh-gl-1.4.0.min.js\"];\n  var css_urls = [];\n  \n\n  var inline_js = [\n    function(Bokeh) {\n      Bokeh.set_log_level(\"info\");\n    },\n    function(Bokeh) {\n    \n    \n    }\n  ];\n\n  function run_inline_js() {\n    \n    if (root.Bokeh !== undefined || force === true) {\n      \n    for (var i = 0; i < inline_js.length; i++) {\n      inline_js[i].call(root, root.Bokeh);\n    }\n    if (force === true) {\n        display_loaded();\n      }} else if (Date.now() < root._bokeh_timeout) {\n      setTimeout(run_inline_js, 100);\n    } else if (!root._bokeh_failed_load) {\n      console.log(\"Bokeh: BokehJS failed to load within specified timeout.\");\n      root._bokeh_failed_load = true;\n    } else if (force !== true) {\n      var cell = $(document.getElementById(\"18353\")).parents('.cell').data().cell;\n      cell.output_area.append_execute_result(NB_LOAD_WARNING)\n    }\n\n  }\n\n  if (root._bokeh_is_loading === 0) {\n    console.debug(\"Bokeh: BokehJS loaded, going straight to plotting\");\n    run_inline_js();\n  } else {\n    load_libs(css_urls, js_urls, function() {\n      console.debug(\"Bokeh: BokehJS plotting callback run at\", now());\n      run_inline_js();\n    });\n  }\n}(window));"
     },
     "metadata": {},
     "output_type": "display_data"
    }
   ],
   "source": [
    "'''Installing Necessary Libraries'''\n",
    "from pandas import Series, DataFrame\n",
    "import pandas as pd\n",
    "import seaborn as sns\n",
    "import warnings\n",
    "warnings.filterwarnings('ignore')\n",
    "from matplotlib.pyplot import figure \n",
    "%pylab inline\n",
    "\n",
    "from bokeh.io import output_notebook\n",
    "from bokeh.plotting import figure, show\n",
    "from bokeh.palettes import Set3, GnBu3, OrRd3, RdYlGn, Reds, Paired\n",
    "from bokeh.transform import cumsum, dodge\n",
    "from bokeh.models import ColumnDataSource, HoverTool, Panel\n",
    "from bokeh.core.properties import value\n",
    "from bokeh.models.widgets import Tabs\n",
    "\n",
    "\n",
    "plot = figure(plot_width=600, plot_height=400, tools='pan,box_zoom')\n",
    "output_notebook()\n",
    "\n"
   ]
  },
  {
   "cell_type": "markdown",
   "metadata": {},
   "source": [
    "# Exploring The Data\n",
    "\n",
    "### Which Countries Offer The Healthiest Products?\n"
   ]
  },
  {
   "cell_type": "code",
   "execution_count": 109,
   "metadata": {},
   "outputs": [],
   "source": [
    "'''\n",
    "In order to analzye the general nutrition characteristics of the food products, \n",
    "it will be helpful to know the amount of energy, saturated fat, trans fat, fiber,\n",
    "sodium, sugars, and protein contained in each product. Let's only select rows \n",
    "where this information is not missing. \n",
    "'''\n",
    "df = pd.read_csv('final_food_data.csv') #reading in the data\n",
    "df['country'] = df['country'].replace(['United Kingdom','United States'],['UK','US']) #renaming countries concisely\n",
    "nutrients = df.dropna(subset=['saturated-fat_100g', 'trans-fat_100g',\n",
    "             'fiber_100g','sugars_100g','proteins_100g','sodium_100g'], how='any')"
   ]
  },
  {
   "cell_type": "markdown",
   "metadata": {},
   "source": [
    "#### Let's begin by looking into the number of products we have per country:"
   ]
  },
  {
   "cell_type": "code",
   "execution_count": 110,
   "metadata": {},
   "outputs": [
    {
     "data": {
      "text/html": [
       "\n",
       "\n",
       "\n",
       "\n",
       "\n",
       "\n",
       "  <div class=\"bk-root\" id=\"e3f99b04-a53e-43f3-a018-e52df536fffb\" data-root-id=\"18354\"></div>\n"
      ]
     },
     "metadata": {},
     "output_type": "display_data"
    },
    {
     "data": {
      "application/javascript": [
       "(function(root) {\n",
       "  function embed_document(root) {\n",
       "    \n",
       "  var docs_json = {\"8333cdf1-e2e1-4148-949a-a4fe73f4c046\":{\"roots\":{\"references\":[{\"attributes\":{\"below\":[{\"id\":\"18365\",\"type\":\"LinearAxis\"}],\"center\":[{\"id\":\"18369\",\"type\":\"Grid\"},{\"id\":\"18374\",\"type\":\"Grid\"},{\"id\":\"18391\",\"type\":\"Legend\"}],\"left\":[{\"id\":\"18370\",\"type\":\"LinearAxis\"}],\"plot_height\":350,\"renderers\":[{\"id\":\"18384\",\"type\":\"GlyphRenderer\"}],\"title\":{\"id\":\"18355\",\"type\":\"Title\"},\"toolbar\":{\"id\":\"18376\",\"type\":\"Toolbar\"},\"toolbar_location\":null,\"x_range\":{\"id\":\"18357\",\"type\":\"Range1d\"},\"x_scale\":{\"id\":\"18361\",\"type\":\"LinearScale\"},\"y_range\":{\"id\":\"18359\",\"type\":\"DataRange1d\"},\"y_scale\":{\"id\":\"18363\",\"type\":\"LinearScale\"}},\"id\":\"18354\",\"subtype\":\"Figure\",\"type\":\"Plot\"},{\"attributes\":{},\"id\":\"18361\",\"type\":\"LinearScale\"},{\"attributes\":{\"source\":{\"id\":\"18380\",\"type\":\"ColumnDataSource\"}},\"id\":\"18385\",\"type\":\"CDSView\"},{\"attributes\":{\"dimension\":1,\"grid_line_color\":null,\"ticker\":{\"id\":\"18371\",\"type\":\"BasicTicker\"}},\"id\":\"18374\",\"type\":\"Grid\"},{\"attributes\":{\"label\":{\"field\":\"country\"},\"renderers\":[{\"id\":\"18384\",\"type\":\"GlyphRenderer\"}]},\"id\":\"18392\",\"type\":\"LegendItem\"},{\"attributes\":{\"end_angle\":{\"expr\":{\"id\":\"18379\",\"type\":\"CumSum\"},\"units\":\"rad\"},\"fill_alpha\":{\"value\":0.1},\"fill_color\":{\"value\":\"#1f77b4\"},\"line_alpha\":{\"value\":0.1},\"line_color\":{\"value\":\"#1f77b4\"},\"radius\":{\"units\":\"data\",\"value\":0.4},\"start_angle\":{\"expr\":{\"id\":\"18378\",\"type\":\"CumSum\"},\"units\":\"rad\"},\"x\":{\"value\":0},\"y\":{\"value\":1}},\"id\":\"18383\",\"type\":\"Wedge\"},{\"attributes\":{},\"id\":\"18950\",\"type\":\"UnionRenderers\"},{\"attributes\":{\"end_angle\":{\"expr\":{\"id\":\"18379\",\"type\":\"CumSum\"},\"units\":\"rad\"},\"fill_color\":{\"field\":\"color\"},\"line_color\":{\"value\":\"white\"},\"radius\":{\"units\":\"data\",\"value\":0.4},\"start_angle\":{\"expr\":{\"id\":\"18378\",\"type\":\"CumSum\"},\"units\":\"rad\"},\"x\":{\"value\":0},\"y\":{\"value\":1}},\"id\":\"18382\",\"type\":\"Wedge\"},{\"attributes\":{\"callback\":null,\"data\":{\"angle\":{\"__ndarray__\":\"En+yU2TGCEAV3QzCtHECQNNyWzIxodM/9eE5niB1xT+m86Briam7P8gstqwTU7s/gYLF5lOosj/DOqt47yqlP+0RGxI79Z0/v4BxTSvLnT94M6P/p4iTPw==\",\"dtype\":\"float64\",\"shape\":[11]},\"color\":[\"#8dd3c7\",\"#ffffb3\",\"#bebada\",\"#fb8072\",\"#80b1d3\",\"#fdb462\",\"#b3de69\",\"#fccde5\",\"#d9d9d9\",\"#bc80bd\",\"#ccebc5\"],\"country\":[\"US\",\"France\",\"Switzerland\",\"Germany\",\"Spain\",\"UK\",\"Belgium\",\"Australia\",\"Russia\",\"Italy\",\"Canada\"],\"counts\":[173708,129320,17204,9403,6061,5987,4088,2319,1641,1632,1070]},\"selected\":{\"id\":\"18951\",\"type\":\"Selection\"},\"selection_policy\":{\"id\":\"18950\",\"type\":\"UnionRenderers\"}},\"id\":\"18380\",\"type\":\"ColumnDataSource\"},{\"attributes\":{\"data_source\":{\"id\":\"18380\",\"type\":\"ColumnDataSource\"},\"glyph\":{\"id\":\"18382\",\"type\":\"Wedge\"},\"hover_glyph\":null,\"muted_glyph\":null,\"nonselection_glyph\":{\"id\":\"18383\",\"type\":\"Wedge\"},\"selection_glyph\":null,\"view\":{\"id\":\"18385\",\"type\":\"CDSView\"}},\"id\":\"18384\",\"type\":\"GlyphRenderer\"},{\"attributes\":{\"items\":[{\"id\":\"18392\",\"type\":\"LegendItem\"}]},\"id\":\"18391\",\"type\":\"Legend\"},{\"attributes\":{},\"id\":\"18390\",\"type\":\"BasicTickFormatter\"},{\"attributes\":{\"callback\":null},\"id\":\"18359\",\"type\":\"DataRange1d\"},{\"attributes\":{\"field\":\"angle\"},\"id\":\"18379\",\"type\":\"CumSum\"},{\"attributes\":{\"active_drag\":\"auto\",\"active_inspect\":\"auto\",\"active_multi\":null,\"active_scroll\":\"auto\",\"active_tap\":\"auto\",\"tools\":[{\"id\":\"18375\",\"type\":\"HoverTool\"}]},\"id\":\"18376\",\"type\":\"Toolbar\"},{\"attributes\":{},\"id\":\"18366\",\"type\":\"BasicTicker\"},{\"attributes\":{\"axis_label\":null,\"formatter\":{\"id\":\"18390\",\"type\":\"BasicTickFormatter\"},\"ticker\":{\"id\":\"18366\",\"type\":\"BasicTicker\"},\"visible\":false},\"id\":\"18365\",\"type\":\"LinearAxis\"},{\"attributes\":{\"callback\":null,\"start\":-0.5},\"id\":\"18357\",\"type\":\"Range1d\"},{\"attributes\":{\"callback\":null,\"tooltips\":\"@country: @counts\"},\"id\":\"18375\",\"type\":\"HoverTool\"},{\"attributes\":{\"grid_line_color\":null,\"ticker\":{\"id\":\"18366\",\"type\":\"BasicTicker\"}},\"id\":\"18369\",\"type\":\"Grid\"},{\"attributes\":{\"text\":\"Number of Products by Country\"},\"id\":\"18355\",\"type\":\"Title\"},{\"attributes\":{},\"id\":\"18951\",\"type\":\"Selection\"},{\"attributes\":{},\"id\":\"18371\",\"type\":\"BasicTicker\"},{\"attributes\":{\"axis_label\":null,\"formatter\":{\"id\":\"18388\",\"type\":\"BasicTickFormatter\"},\"ticker\":{\"id\":\"18371\",\"type\":\"BasicTicker\"},\"visible\":false},\"id\":\"18370\",\"type\":\"LinearAxis\"},{\"attributes\":{\"field\":\"angle\",\"include_zero\":true},\"id\":\"18378\",\"type\":\"CumSum\"},{\"attributes\":{},\"id\":\"18388\",\"type\":\"BasicTickFormatter\"},{\"attributes\":{},\"id\":\"18363\",\"type\":\"LinearScale\"}],\"root_ids\":[\"18354\"]},\"title\":\"Bokeh Application\",\"version\":\"1.4.0\"}};\n",
       "  var render_items = [{\"docid\":\"8333cdf1-e2e1-4148-949a-a4fe73f4c046\",\"roots\":{\"18354\":\"e3f99b04-a53e-43f3-a018-e52df536fffb\"}}];\n",
       "  root.Bokeh.embed.embed_items_notebook(docs_json, render_items);\n",
       "\n",
       "  }\n",
       "  if (root.Bokeh !== undefined) {\n",
       "    embed_document(root);\n",
       "  } else {\n",
       "    var attempts = 0;\n",
       "    var timer = setInterval(function(root) {\n",
       "      if (root.Bokeh !== undefined) {\n",
       "        clearInterval(timer);\n",
       "        embed_document(root);\n",
       "      } else {\n",
       "        attempts++;\n",
       "        if (attempts > 100) {\n",
       "          clearInterval(timer);\n",
       "          console.log(\"Bokeh: ERROR: Unable to run BokehJS code because BokehJS library is missing\");\n",
       "        }\n",
       "      }\n",
       "    }, 10, root)\n",
       "  }\n",
       "})(window);"
      ],
      "application/vnd.bokehjs_exec.v0+json": ""
     },
     "metadata": {
      "application/vnd.bokehjs_exec.v0+json": {
       "id": "18354"
      }
     },
     "output_type": "display_data"
    }
   ],
   "source": [
    "chart_colors = ['#BE9EC9', '#feb236', '#006E6D',\n",
    "                '#d64161', '#F1EA7F', '#6b5b95',\n",
    "                '#EC9787', ' #BD3D3A', '#D5AE41', '#00A591','#7F4145']\n",
    "\n",
    "country = df['country'].value_counts().rename_axis('country').to_frame('counts')\n",
    "country['angle'] = country['counts']/country['counts'].sum() * 2*pi\n",
    "country['color'] = Set3[len(country)]\n",
    "\n",
    "p = figure(plot_height=350, title=\"Number of Products by Country\", toolbar_location=None,\n",
    "           tools=\"hover\", tooltips=\"@country: @counts\", x_range=(-0.5, 1.0))\n",
    "\n",
    "p.wedge(x=0, y=1, radius=0.4,\n",
    "        start_angle=cumsum('angle', include_zero=True), end_angle=cumsum('angle'),\n",
    "        line_color=\"white\", fill_color='color', legend_field='country', source=country)\n",
    "\n",
    "p.axis.axis_label=None\n",
    "p.axis.visible=False\n",
    "p.grid.grid_line_color = None\n",
    "\n",
    "show(p)"
   ]
  },
  {
   "cell_type": "markdown",
   "metadata": {},
   "source": [
    "The US and France definitely dominate this dataset. \n",
    "\n",
    "Let's try to figure out which countries offer the healthiest products. Though there are many schools of thought when it comes to evaluating nutrition labels, one should typically avoid foods high in sugar, saturated and trans fats (we will label these together as bad fats), and sodium. Foods high in protein and fiber are considered healthy to eat."
   ]
  },
  {
   "cell_type": "code",
   "execution_count": 111,
   "metadata": {},
   "outputs": [],
   "source": [
    "#combining saturated and trans fat into one variable\n",
    "nutrients['bad-fats_100g'] = nutrients['saturated-fat_100g'] + nutrients['trans-fat_100g']"
   ]
  },
  {
   "cell_type": "code",
   "execution_count": 112,
   "metadata": {},
   "outputs": [
    {
     "data": {
      "text/html": [
       "\n",
       "\n",
       "\n",
       "\n",
       "\n",
       "\n",
       "  <div class=\"bk-root\" id=\"e03e12e5-7f46-4ffa-ab78-1980b79bc5a5\" data-root-id=\"18994\"></div>\n"
      ]
     },
     "metadata": {},
     "output_type": "display_data"
    },
    {
     "data": {
      "application/javascript": [
       "(function(root) {\n",
       "  function embed_document(root) {\n",
       "    \n",
       "  var docs_json = {\"b827838f-be4a-4f55-8794-b7613bcaefe2\":{\"roots\":{\"references\":[{\"attributes\":{\"below\":[{\"id\":\"19005\",\"type\":\"CategoricalAxis\"}],\"center\":[{\"id\":\"19008\",\"type\":\"Grid\"},{\"id\":\"19013\",\"type\":\"Grid\"},{\"id\":\"19027\",\"type\":\"Legend\"}],\"left\":[{\"id\":\"19009\",\"type\":\"LinearAxis\"}],\"plot_height\":250,\"plot_width\":800,\"renderers\":[{\"id\":\"19020\",\"type\":\"GlyphRenderer\"},{\"id\":\"19034\",\"type\":\"GlyphRenderer\"},{\"id\":\"19049\",\"type\":\"GlyphRenderer\"}],\"title\":{\"id\":\"18995\",\"type\":\"Title\"},\"toolbar\":{\"id\":\"19014\",\"type\":\"Toolbar\"},\"toolbar_location\":null,\"x_range\":{\"id\":\"18997\",\"type\":\"FactorRange\"},\"x_scale\":{\"id\":\"19001\",\"type\":\"CategoricalScale\"},\"y_range\":{\"id\":\"18999\",\"type\":\"Range1d\"},\"y_scale\":{\"id\":\"19003\",\"type\":\"LinearScale\"}},\"id\":\"18994\",\"subtype\":\"Figure\",\"type\":\"Plot\"},{\"attributes\":{\"fill_color\":{\"value\":\"#bebada\"},\"line_color\":{\"value\":\"#bebada\"},\"top\":{\"field\":\"bad-fats_100g\"},\"width\":{\"value\":0.4},\"x\":{\"field\":\"country\",\"transform\":{\"id\":\"19029\",\"type\":\"Dodge\"}}},\"id\":\"19032\",\"type\":\"VBar\"},{\"attributes\":{\"text\":\"Unhealthy Nutrients By Country\"},\"id\":\"18995\",\"type\":\"Title\"},{\"attributes\":{\"callback\":null,\"data\":{\"bad-fats_100g\":[5.468859999999998,6.4509333333333325,4.968937499999999,7.160109241706165,4.363571428571428,18.16,8.584,4.441333333333334,7.073333333333335,7.216850000000001,4.758991609507045],\"country\":[\"Australia\",\"Belgium\",\"Canada\",\"France\",\"Germany\",\"Italy\",\"Russia\",\"Spain\",\"Switzerland\",\"UK\",\"US\"],\"fiber_100g\":[5.860857142857142,3.3093333333333335,2.6785170454545457,2.8230964454976317,1.4857142857142855,2.966666666666667,4.8285714286,2.4266666666666667,3.436969696969697,3.9814999999999996,2.8627901937465765],\"proteins_100g\":[6.18257142857143,4.902933333333334,7.238414772727274,6.240853080568717,3.5785714285714287,6.353333333333333,7.4799999999999995,6.772666666666667,8.755757575757578,6.5155,7.912500742267172],\"sodium_100g\":[14.595228571428569,0.33861049868766396,0.5541930426807444,0.48489768175541986,1.2692800899887513,0.14200000000000002,0.24630686164226595,0.2074311811023622,0.7701418515867321,0.37139645669291343,0.56956916311267],\"sugars_100g\":[13.645428571428575,8.781133333333333,13.527749999999997,17.58767535545025,18.343571428571426,24.929999999999996,12.925714285800002,14.639333333333331,13.045454545454545,15.796000000000001,15.56155517769031]},\"selected\":{\"id\":\"19059\",\"type\":\"Selection\"},\"selection_policy\":{\"id\":\"19058\",\"type\":\"UnionRenderers\"}},\"id\":\"19030\",\"type\":\"ColumnDataSource\"},{\"attributes\":{\"label\":{\"value\":\"sodium\"},\"renderers\":[{\"id\":\"19049\",\"type\":\"GlyphRenderer\"}]},\"id\":\"19060\",\"type\":\"LegendItem\"},{\"attributes\":{},\"id\":\"19041\",\"type\":\"UnionRenderers\"},{\"attributes\":{\"range\":{\"id\":\"18997\",\"type\":\"FactorRange\"},\"value\":0.1},\"id\":\"19044\",\"type\":\"Dodge\"},{\"attributes\":{},\"id\":\"19003\",\"type\":\"LinearScale\"},{\"attributes\":{},\"id\":\"19006\",\"type\":\"CategoricalTicker\"},{\"attributes\":{\"items\":[{\"id\":\"19028\",\"type\":\"LegendItem\"},{\"id\":\"19043\",\"type\":\"LegendItem\"},{\"id\":\"19060\",\"type\":\"LegendItem\"}],\"location\":\"top_left\",\"orientation\":\"horizontal\"},\"id\":\"19027\",\"type\":\"Legend\"},{\"attributes\":{\"source\":{\"id\":\"19045\",\"type\":\"ColumnDataSource\"}},\"id\":\"19050\",\"type\":\"CDSView\"},{\"attributes\":{\"range\":{\"id\":\"18997\",\"type\":\"FactorRange\"},\"value\":-0.1},\"id\":\"19015\",\"type\":\"Dodge\"},{\"attributes\":{},\"id\":\"19026\",\"type\":\"CategoricalTickFormatter\"},{\"attributes\":{\"label\":{\"value\":\"bad-fats\"},\"renderers\":[{\"id\":\"19034\",\"type\":\"GlyphRenderer\"}]},\"id\":\"19043\",\"type\":\"LegendItem\"},{\"attributes\":{},\"id\":\"19059\",\"type\":\"Selection\"},{\"attributes\":{\"fill_color\":{\"value\":\"#fb8072\"},\"line_color\":{\"value\":\"#fb8072\"},\"top\":{\"field\":\"sodium_100g\"},\"width\":{\"value\":0.4},\"x\":{\"field\":\"country\",\"transform\":{\"id\":\"19044\",\"type\":\"Dodge\"}}},\"id\":\"19047\",\"type\":\"VBar\"},{\"attributes\":{\"label\":{\"value\":\"sugars\"},\"renderers\":[{\"id\":\"19020\",\"type\":\"GlyphRenderer\"}]},\"id\":\"19028\",\"type\":\"LegendItem\"},{\"attributes\":{\"fill_alpha\":{\"value\":0.1},\"fill_color\":{\"value\":\"#1f77b4\"},\"line_alpha\":{\"value\":0.1},\"line_color\":{\"value\":\"#1f77b4\"},\"top\":{\"field\":\"sugars_100g\"},\"width\":{\"value\":0.4},\"x\":{\"field\":\"country\",\"transform\":{\"id\":\"19015\",\"type\":\"Dodge\"}}},\"id\":\"19019\",\"type\":\"VBar\"},{\"attributes\":{},\"id\":\"19679\",\"type\":\"UnionRenderers\"},{\"attributes\":{\"callback\":null,\"factors\":[\"Australia\",\"Belgium\",\"Canada\",\"France\",\"Germany\",\"Italy\",\"Russia\",\"Spain\",\"Switzerland\",\"UK\",\"US\"],\"range_padding\":0.1},\"id\":\"18997\",\"type\":\"FactorRange\"},{\"attributes\":{\"callback\":null,\"end\":27.929999999999996},\"id\":\"18999\",\"type\":\"Range1d\"},{\"attributes\":{},\"id\":\"19042\",\"type\":\"Selection\"},{\"attributes\":{\"fill_color\":{\"value\":\"#fccde5\"},\"line_color\":{\"value\":\"#fccde5\"},\"top\":{\"field\":\"sugars_100g\"},\"width\":{\"value\":0.4},\"x\":{\"field\":\"country\",\"transform\":{\"id\":\"19015\",\"type\":\"Dodge\"}}},\"id\":\"19018\",\"type\":\"VBar\"},{\"attributes\":{},\"id\":\"19001\",\"type\":\"CategoricalScale\"},{\"attributes\":{\"source\":{\"id\":\"19030\",\"type\":\"ColumnDataSource\"}},\"id\":\"19035\",\"type\":\"CDSView\"},{\"attributes\":{},\"id\":\"19058\",\"type\":\"UnionRenderers\"},{\"attributes\":{\"active_drag\":\"auto\",\"active_inspect\":\"auto\",\"active_multi\":null,\"active_scroll\":\"auto\",\"active_tap\":\"auto\"},\"id\":\"19014\",\"type\":\"Toolbar\"},{\"attributes\":{\"callback\":null,\"data\":{\"bad-fats_100g\":[5.468859999999998,6.4509333333333325,4.968937499999999,7.160109241706165,4.363571428571428,18.16,8.584,4.441333333333334,7.073333333333335,7.216850000000001,4.758991609507045],\"country\":[\"Australia\",\"Belgium\",\"Canada\",\"France\",\"Germany\",\"Italy\",\"Russia\",\"Spain\",\"Switzerland\",\"UK\",\"US\"],\"fiber_100g\":[5.860857142857142,3.3093333333333335,2.6785170454545457,2.8230964454976317,1.4857142857142855,2.966666666666667,4.8285714286,2.4266666666666667,3.436969696969697,3.9814999999999996,2.8627901937465765],\"proteins_100g\":[6.18257142857143,4.902933333333334,7.238414772727274,6.240853080568717,3.5785714285714287,6.353333333333333,7.4799999999999995,6.772666666666667,8.755757575757578,6.5155,7.912500742267172],\"sodium_100g\":[14.595228571428569,0.33861049868766396,0.5541930426807444,0.48489768175541986,1.2692800899887513,0.14200000000000002,0.24630686164226595,0.2074311811023622,0.7701418515867321,0.37139645669291343,0.56956916311267],\"sugars_100g\":[13.645428571428575,8.781133333333333,13.527749999999997,17.58767535545025,18.343571428571426,24.929999999999996,12.925714285800002,14.639333333333331,13.045454545454545,15.796000000000001,15.56155517769031]},\"selected\":{\"id\":\"19680\",\"type\":\"Selection\"},\"selection_policy\":{\"id\":\"19679\",\"type\":\"UnionRenderers\"}},\"id\":\"19045\",\"type\":\"ColumnDataSource\"},{\"attributes\":{\"axis_label\":\"Mean Amount Per 100g\",\"formatter\":{\"id\":\"19024\",\"type\":\"BasicTickFormatter\"},\"ticker\":{\"id\":\"19010\",\"type\":\"BasicTicker\"}},\"id\":\"19009\",\"type\":\"LinearAxis\"},{\"attributes\":{\"fill_alpha\":{\"value\":0.1},\"fill_color\":{\"value\":\"#1f77b4\"},\"line_alpha\":{\"value\":0.1},\"line_color\":{\"value\":\"#1f77b4\"},\"top\":{\"field\":\"bad-fats_100g\"},\"width\":{\"value\":0.4},\"x\":{\"field\":\"country\",\"transform\":{\"id\":\"19029\",\"type\":\"Dodge\"}}},\"id\":\"19033\",\"type\":\"VBar\"},{\"attributes\":{\"fill_alpha\":{\"value\":0.1},\"fill_color\":{\"value\":\"#1f77b4\"},\"line_alpha\":{\"value\":0.1},\"line_color\":{\"value\":\"#1f77b4\"},\"top\":{\"field\":\"sodium_100g\"},\"width\":{\"value\":0.4},\"x\":{\"field\":\"country\",\"transform\":{\"id\":\"19044\",\"type\":\"Dodge\"}}},\"id\":\"19048\",\"type\":\"VBar\"},{\"attributes\":{\"range\":{\"id\":\"18997\",\"type\":\"FactorRange\"}},\"id\":\"19029\",\"type\":\"Dodge\"},{\"attributes\":{\"grid_line_color\":null,\"ticker\":{\"id\":\"19006\",\"type\":\"CategoricalTicker\"}},\"id\":\"19008\",\"type\":\"Grid\"},{\"attributes\":{\"callback\":null,\"data\":{\"bad-fats_100g\":[5.468859999999998,6.4509333333333325,4.968937499999999,7.160109241706165,4.363571428571428,18.16,8.584,4.441333333333334,7.073333333333335,7.216850000000001,4.758991609507045],\"country\":[\"Australia\",\"Belgium\",\"Canada\",\"France\",\"Germany\",\"Italy\",\"Russia\",\"Spain\",\"Switzerland\",\"UK\",\"US\"],\"fiber_100g\":[5.860857142857142,3.3093333333333335,2.6785170454545457,2.8230964454976317,1.4857142857142855,2.966666666666667,4.8285714286,2.4266666666666667,3.436969696969697,3.9814999999999996,2.8627901937465765],\"proteins_100g\":[6.18257142857143,4.902933333333334,7.238414772727274,6.240853080568717,3.5785714285714287,6.353333333333333,7.4799999999999995,6.772666666666667,8.755757575757578,6.5155,7.912500742267172],\"sodium_100g\":[14.595228571428569,0.33861049868766396,0.5541930426807444,0.48489768175541986,1.2692800899887513,0.14200000000000002,0.24630686164226595,0.2074311811023622,0.7701418515867321,0.37139645669291343,0.56956916311267],\"sugars_100g\":[13.645428571428575,8.781133333333333,13.527749999999997,17.58767535545025,18.343571428571426,24.929999999999996,12.925714285800002,14.639333333333331,13.045454545454545,15.796000000000001,15.56155517769031]},\"selected\":{\"id\":\"19042\",\"type\":\"Selection\"},\"selection_policy\":{\"id\":\"19041\",\"type\":\"UnionRenderers\"}},\"id\":\"19016\",\"type\":\"ColumnDataSource\"},{\"attributes\":{\"dimension\":1,\"ticker\":{\"id\":\"19010\",\"type\":\"BasicTicker\"}},\"id\":\"19013\",\"type\":\"Grid\"},{\"attributes\":{\"data_source\":{\"id\":\"19016\",\"type\":\"ColumnDataSource\"},\"glyph\":{\"id\":\"19018\",\"type\":\"VBar\"},\"hover_glyph\":null,\"muted_glyph\":null,\"nonselection_glyph\":{\"id\":\"19019\",\"type\":\"VBar\"},\"selection_glyph\":null,\"view\":{\"id\":\"19021\",\"type\":\"CDSView\"}},\"id\":\"19020\",\"type\":\"GlyphRenderer\"},{\"attributes\":{\"data_source\":{\"id\":\"19045\",\"type\":\"ColumnDataSource\"},\"glyph\":{\"id\":\"19047\",\"type\":\"VBar\"},\"hover_glyph\":null,\"muted_glyph\":null,\"nonselection_glyph\":{\"id\":\"19048\",\"type\":\"VBar\"},\"selection_glyph\":null,\"view\":{\"id\":\"19050\",\"type\":\"CDSView\"}},\"id\":\"19049\",\"type\":\"GlyphRenderer\"},{\"attributes\":{},\"id\":\"19024\",\"type\":\"BasicTickFormatter\"},{\"attributes\":{},\"id\":\"19680\",\"type\":\"Selection\"},{\"attributes\":{\"data_source\":{\"id\":\"19030\",\"type\":\"ColumnDataSource\"},\"glyph\":{\"id\":\"19032\",\"type\":\"VBar\"},\"hover_glyph\":null,\"muted_glyph\":null,\"nonselection_glyph\":{\"id\":\"19033\",\"type\":\"VBar\"},\"selection_glyph\":null,\"view\":{\"id\":\"19035\",\"type\":\"CDSView\"}},\"id\":\"19034\",\"type\":\"GlyphRenderer\"},{\"attributes\":{\"source\":{\"id\":\"19016\",\"type\":\"ColumnDataSource\"}},\"id\":\"19021\",\"type\":\"CDSView\"},{\"attributes\":{},\"id\":\"19010\",\"type\":\"BasicTicker\"},{\"attributes\":{\"formatter\":{\"id\":\"19026\",\"type\":\"CategoricalTickFormatter\"},\"ticker\":{\"id\":\"19006\",\"type\":\"CategoricalTicker\"}},\"id\":\"19005\",\"type\":\"CategoricalAxis\"}],\"root_ids\":[\"18994\"]},\"title\":\"Bokeh Application\",\"version\":\"1.4.0\"}};\n",
       "  var render_items = [{\"docid\":\"b827838f-be4a-4f55-8794-b7613bcaefe2\",\"roots\":{\"18994\":\"e03e12e5-7f46-4ffa-ab78-1980b79bc5a5\"}}];\n",
       "  root.Bokeh.embed.embed_items_notebook(docs_json, render_items);\n",
       "\n",
       "  }\n",
       "  if (root.Bokeh !== undefined) {\n",
       "    embed_document(root);\n",
       "  } else {\n",
       "    var attempts = 0;\n",
       "    var timer = setInterval(function(root) {\n",
       "      if (root.Bokeh !== undefined) {\n",
       "        clearInterval(timer);\n",
       "        embed_document(root);\n",
       "      } else {\n",
       "        attempts++;\n",
       "        if (attempts > 100) {\n",
       "          clearInterval(timer);\n",
       "          console.log(\"Bokeh: ERROR: Unable to run BokehJS code because BokehJS library is missing\");\n",
       "        }\n",
       "      }\n",
       "    }, 10, root)\n",
       "  }\n",
       "})(window);"
      ],
      "application/vnd.bokehjs_exec.v0+json": ""
     },
     "metadata": {
      "application/vnd.bokehjs_exec.v0+json": {
       "id": "18994"
      }
     },
     "output_type": "display_data"
    },
    {
     "data": {
      "text/html": [
       "\n",
       "\n",
       "\n",
       "\n",
       "\n",
       "\n",
       "  <div class=\"bk-root\" id=\"bd48ddc9-bc32-4fdd-a687-16dab2771707\" data-root-id=\"19061\"></div>\n"
      ]
     },
     "metadata": {},
     "output_type": "display_data"
    },
    {
     "data": {
      "application/javascript": [
       "(function(root) {\n",
       "  function embed_document(root) {\n",
       "    \n",
       "  var docs_json = {\"32e0c9dc-f096-4f16-be92-d7eb1e7cdb69\":{\"roots\":{\"references\":[{\"attributes\":{\"below\":[{\"id\":\"19072\",\"type\":\"CategoricalAxis\"}],\"center\":[{\"id\":\"19075\",\"type\":\"Grid\"},{\"id\":\"19080\",\"type\":\"Grid\"},{\"id\":\"19094\",\"type\":\"Legend\"}],\"left\":[{\"id\":\"19076\",\"type\":\"LinearAxis\"}],\"plot_height\":250,\"plot_width\":800,\"renderers\":[{\"id\":\"19087\",\"type\":\"GlyphRenderer\"},{\"id\":\"19101\",\"type\":\"GlyphRenderer\"}],\"title\":{\"id\":\"19062\",\"type\":\"Title\"},\"toolbar\":{\"id\":\"19081\",\"type\":\"Toolbar\"},\"toolbar_location\":null,\"x_range\":{\"id\":\"19064\",\"type\":\"FactorRange\"},\"x_scale\":{\"id\":\"19068\",\"type\":\"CategoricalScale\"},\"y_range\":{\"id\":\"19066\",\"type\":\"Range1d\"},\"y_scale\":{\"id\":\"19070\",\"type\":\"LinearScale\"}},\"id\":\"19061\",\"subtype\":\"Figure\",\"type\":\"Plot\"},{\"attributes\":{},\"id\":\"20325\",\"type\":\"Selection\"},{\"attributes\":{\"axis_label\":\"Mean Amount Per 100g\",\"formatter\":{\"id\":\"19091\",\"type\":\"BasicTickFormatter\"},\"ticker\":{\"id\":\"19077\",\"type\":\"BasicTicker\"}},\"id\":\"19076\",\"type\":\"LinearAxis\"},{\"attributes\":{\"grid_line_color\":null,\"ticker\":{\"id\":\"19073\",\"type\":\"CategoricalTicker\"}},\"id\":\"19075\",\"type\":\"Grid\"},{\"attributes\":{\"label\":{\"value\":\"fiber\"},\"renderers\":[{\"id\":\"19101\",\"type\":\"GlyphRenderer\"}]},\"id\":\"19110\",\"type\":\"LegendItem\"},{\"attributes\":{},\"id\":\"19077\",\"type\":\"BasicTicker\"},{\"attributes\":{},\"id\":\"19093\",\"type\":\"CategoricalTickFormatter\"},{\"attributes\":{\"fill_color\":{\"value\":\"#d5f4e6\"},\"line_color\":{\"value\":\"#d5f4e6\"},\"top\":{\"field\":\"fiber_100g\"},\"width\":{\"value\":0.4},\"x\":{\"field\":\"country\",\"transform\":{\"id\":\"19096\",\"type\":\"Dodge\"}}},\"id\":\"19099\",\"type\":\"VBar\"},{\"attributes\":{\"fill_color\":{\"value\":\"#80ced6\"},\"line_color\":{\"value\":\"#80ced6\"},\"top\":{\"field\":\"proteins_100g\"},\"width\":{\"value\":0.4},\"x\":{\"field\":\"country\",\"transform\":{\"id\":\"19082\",\"type\":\"Dodge\"}}},\"id\":\"19085\",\"type\":\"VBar\"},{\"attributes\":{\"source\":{\"id\":\"19097\",\"type\":\"ColumnDataSource\"}},\"id\":\"19102\",\"type\":\"CDSView\"},{\"attributes\":{\"callback\":null,\"end\":11.755757575757578},\"id\":\"19066\",\"type\":\"Range1d\"},{\"attributes\":{\"range\":{\"id\":\"18997\",\"type\":\"FactorRange\"},\"value\":0.1},\"id\":\"19082\",\"type\":\"Dodge\"},{\"attributes\":{\"formatter\":{\"id\":\"19093\",\"type\":\"CategoricalTickFormatter\"},\"ticker\":{\"id\":\"19073\",\"type\":\"CategoricalTicker\"}},\"id\":\"19072\",\"type\":\"CategoricalAxis\"},{\"attributes\":{},\"id\":\"19070\",\"type\":\"LinearScale\"},{\"attributes\":{\"callback\":null,\"data\":{\"bad-fats_100g\":[5.468859999999998,6.4509333333333325,4.968937499999999,7.160109241706165,4.363571428571428,18.16,8.584,4.441333333333334,7.073333333333335,7.216850000000001,4.758991609507045],\"country\":[\"Australia\",\"Belgium\",\"Canada\",\"France\",\"Germany\",\"Italy\",\"Russia\",\"Spain\",\"Switzerland\",\"UK\",\"US\"],\"fiber_100g\":[5.860857142857142,3.3093333333333335,2.6785170454545457,2.8230964454976317,1.4857142857142855,2.966666666666667,4.8285714286,2.4266666666666667,3.436969696969697,3.9814999999999996,2.8627901937465765],\"proteins_100g\":[6.18257142857143,4.902933333333334,7.238414772727274,6.240853080568717,3.5785714285714287,6.353333333333333,7.4799999999999995,6.772666666666667,8.755757575757578,6.5155,7.912500742267172],\"sodium_100g\":[14.595228571428569,0.33861049868766396,0.5541930426807444,0.48489768175541986,1.2692800899887513,0.14200000000000002,0.24630686164226595,0.2074311811023622,0.7701418515867321,0.37139645669291343,0.56956916311267],\"sugars_100g\":[13.645428571428575,8.781133333333333,13.527749999999997,17.58767535545025,18.343571428571426,24.929999999999996,12.925714285800002,14.639333333333331,13.045454545454545,15.796000000000001,15.56155517769031]},\"selected\":{\"id\":\"20325\",\"type\":\"Selection\"},\"selection_policy\":{\"id\":\"20324\",\"type\":\"UnionRenderers\"}},\"id\":\"19097\",\"type\":\"ColumnDataSource\"},{\"attributes\":{},\"id\":\"19109\",\"type\":\"Selection\"},{\"attributes\":{\"items\":[{\"id\":\"19095\",\"type\":\"LegendItem\"},{\"id\":\"19110\",\"type\":\"LegendItem\"}],\"location\":\"top_left\",\"orientation\":\"horizontal\"},\"id\":\"19094\",\"type\":\"Legend\"},{\"attributes\":{\"text\":\"Healthy Nutrients By Country\"},\"id\":\"19062\",\"type\":\"Title\"},{\"attributes\":{\"range\":{\"id\":\"18997\",\"type\":\"FactorRange\"},\"value\":0.2},\"id\":\"19096\",\"type\":\"Dodge\"},{\"attributes\":{\"callback\":null,\"factors\":[\"Australia\",\"Belgium\",\"Canada\",\"France\",\"Germany\",\"Italy\",\"Russia\",\"Spain\",\"Switzerland\",\"UK\",\"US\"],\"range_padding\":0.1},\"id\":\"18997\",\"type\":\"FactorRange\"},{\"attributes\":{\"label\":{\"value\":\"protein\"},\"renderers\":[{\"id\":\"19087\",\"type\":\"GlyphRenderer\"}]},\"id\":\"19095\",\"type\":\"LegendItem\"},{\"attributes\":{\"fill_alpha\":{\"value\":0.1},\"fill_color\":{\"value\":\"#1f77b4\"},\"line_alpha\":{\"value\":0.1},\"line_color\":{\"value\":\"#1f77b4\"},\"top\":{\"field\":\"proteins_100g\"},\"width\":{\"value\":0.4},\"x\":{\"field\":\"country\",\"transform\":{\"id\":\"19082\",\"type\":\"Dodge\"}}},\"id\":\"19086\",\"type\":\"VBar\"},{\"attributes\":{},\"id\":\"19108\",\"type\":\"UnionRenderers\"},{\"attributes\":{\"active_drag\":\"auto\",\"active_inspect\":\"auto\",\"active_multi\":null,\"active_scroll\":\"auto\",\"active_tap\":\"auto\"},\"id\":\"19081\",\"type\":\"Toolbar\"},{\"attributes\":{\"source\":{\"id\":\"19083\",\"type\":\"ColumnDataSource\"}},\"id\":\"19088\",\"type\":\"CDSView\"},{\"attributes\":{\"callback\":null,\"data\":{\"bad-fats_100g\":[5.468859999999998,6.4509333333333325,4.968937499999999,7.160109241706165,4.363571428571428,18.16,8.584,4.441333333333334,7.073333333333335,7.216850000000001,4.758991609507045],\"country\":[\"Australia\",\"Belgium\",\"Canada\",\"France\",\"Germany\",\"Italy\",\"Russia\",\"Spain\",\"Switzerland\",\"UK\",\"US\"],\"fiber_100g\":[5.860857142857142,3.3093333333333335,2.6785170454545457,2.8230964454976317,1.4857142857142855,2.966666666666667,4.8285714286,2.4266666666666667,3.436969696969697,3.9814999999999996,2.8627901937465765],\"proteins_100g\":[6.18257142857143,4.902933333333334,7.238414772727274,6.240853080568717,3.5785714285714287,6.353333333333333,7.4799999999999995,6.772666666666667,8.755757575757578,6.5155,7.912500742267172],\"sodium_100g\":[14.595228571428569,0.33861049868766396,0.5541930426807444,0.48489768175541986,1.2692800899887513,0.14200000000000002,0.24630686164226595,0.2074311811023622,0.7701418515867321,0.37139645669291343,0.56956916311267],\"sugars_100g\":[13.645428571428575,8.781133333333333,13.527749999999997,17.58767535545025,18.343571428571426,24.929999999999996,12.925714285800002,14.639333333333331,13.045454545454545,15.796000000000001,15.56155517769031]},\"selected\":{\"id\":\"19109\",\"type\":\"Selection\"},\"selection_policy\":{\"id\":\"19108\",\"type\":\"UnionRenderers\"}},\"id\":\"19083\",\"type\":\"ColumnDataSource\"},{\"attributes\":{\"dimension\":1,\"ticker\":{\"id\":\"19077\",\"type\":\"BasicTicker\"}},\"id\":\"19080\",\"type\":\"Grid\"},{\"attributes\":{\"data_source\":{\"id\":\"19083\",\"type\":\"ColumnDataSource\"},\"glyph\":{\"id\":\"19085\",\"type\":\"VBar\"},\"hover_glyph\":null,\"muted_glyph\":null,\"nonselection_glyph\":{\"id\":\"19086\",\"type\":\"VBar\"},\"selection_glyph\":null,\"view\":{\"id\":\"19088\",\"type\":\"CDSView\"}},\"id\":\"19087\",\"type\":\"GlyphRenderer\"},{\"attributes\":{\"callback\":null,\"factors\":[\"Australia\",\"Belgium\",\"Canada\",\"France\",\"Germany\",\"Italy\",\"Russia\",\"Spain\",\"Switzerland\",\"UK\",\"US\"],\"range_padding\":0.1},\"id\":\"19064\",\"type\":\"FactorRange\"},{\"attributes\":{},\"id\":\"20324\",\"type\":\"UnionRenderers\"},{\"attributes\":{},\"id\":\"19091\",\"type\":\"BasicTickFormatter\"},{\"attributes\":{\"fill_alpha\":{\"value\":0.1},\"fill_color\":{\"value\":\"#1f77b4\"},\"line_alpha\":{\"value\":0.1},\"line_color\":{\"value\":\"#1f77b4\"},\"top\":{\"field\":\"fiber_100g\"},\"width\":{\"value\":0.4},\"x\":{\"field\":\"country\",\"transform\":{\"id\":\"19096\",\"type\":\"Dodge\"}}},\"id\":\"19100\",\"type\":\"VBar\"},{\"attributes\":{\"data_source\":{\"id\":\"19097\",\"type\":\"ColumnDataSource\"},\"glyph\":{\"id\":\"19099\",\"type\":\"VBar\"},\"hover_glyph\":null,\"muted_glyph\":null,\"nonselection_glyph\":{\"id\":\"19100\",\"type\":\"VBar\"},\"selection_glyph\":null,\"view\":{\"id\":\"19102\",\"type\":\"CDSView\"}},\"id\":\"19101\",\"type\":\"GlyphRenderer\"},{\"attributes\":{},\"id\":\"19068\",\"type\":\"CategoricalScale\"},{\"attributes\":{},\"id\":\"19073\",\"type\":\"CategoricalTicker\"}],\"root_ids\":[\"19061\"]},\"title\":\"Bokeh Application\",\"version\":\"1.4.0\"}};\n",
       "  var render_items = [{\"docid\":\"32e0c9dc-f096-4f16-be92-d7eb1e7cdb69\",\"roots\":{\"19061\":\"bd48ddc9-bc32-4fdd-a687-16dab2771707\"}}];\n",
       "  root.Bokeh.embed.embed_items_notebook(docs_json, render_items);\n",
       "\n",
       "  }\n",
       "  if (root.Bokeh !== undefined) {\n",
       "    embed_document(root);\n",
       "  } else {\n",
       "    var attempts = 0;\n",
       "    var timer = setInterval(function(root) {\n",
       "      if (root.Bokeh !== undefined) {\n",
       "        clearInterval(timer);\n",
       "        embed_document(root);\n",
       "      } else {\n",
       "        attempts++;\n",
       "        if (attempts > 100) {\n",
       "          clearInterval(timer);\n",
       "          console.log(\"Bokeh: ERROR: Unable to run BokehJS code because BokehJS library is missing\");\n",
       "        }\n",
       "      }\n",
       "    }, 10, root)\n",
       "  }\n",
       "})(window);"
      ],
      "application/vnd.bokehjs_exec.v0+json": ""
     },
     "metadata": {
      "application/vnd.bokehjs_exec.v0+json": {
       "id": "19061"
      }
     },
     "output_type": "display_data"
    }
   ],
   "source": [
    "#focusing on mean nutrient value per product by country \n",
    "nutr = nutrients.groupby('country',as_index=False)[['sugars_100g','bad-fats_100g','sodium_100g','proteins_100g','fiber_100g']].agg('mean')\n",
    "data = nutr.to_dict(orient='list')\n",
    "country = nutr['country'].tolist()\n",
    "\n",
    "#get max possible value of plotted columns with some offset\n",
    "p = figure(x_range=country, y_range=(0, nutr[['sugars_100g','bad-fats_100g','sodium_100g']].values.max() + 3), \n",
    "           plot_height=250, title=\"Unhealthy Nutrients By Country\", plot_width = 800,\n",
    "           toolbar_location=None, tools=\"\", y_axis_label = 'Mean Amount Per 100g')\n",
    "\n",
    "p.vbar(x=dodge('country', -0.1, range=p.x_range), top='sugars_100g', width=0.4, source=ColumnDataSource(data),\n",
    "       color=Set3[8][7], legend_label=\"sugars\")\n",
    "\n",
    "p.vbar(x=dodge('country', 0, range=p.x_range), top='bad-fats_100g', width=0.4, source=ColumnDataSource(data),\n",
    "       color=Set3[4][2], legend_label=\"bad-fats\")\n",
    "\n",
    "p.vbar(x=dodge('country', 0.1, range=p.x_range), top='sodium_100g', width=0.4, source=ColumnDataSource(data),\n",
    "       color=Set3[4][3], legend_label=\"sodium\")\n",
    "\n",
    "p.x_range.range_padding = 0.1\n",
    "p.xgrid.grid_line_color = None\n",
    "p.legend.location = \"top_left\"\n",
    "p.legend.orientation = \"horizontal\"\n",
    "\n",
    "\n",
    "#get max possible value of plotted columns with some offset\n",
    "h = figure(x_range=country, y_range=(0, nutr[['proteins_100g','fiber_100g']].values.max() + 3), \n",
    "           plot_height=250, title=\"Healthy Nutrients By Country\", plot_width=800,\n",
    "           toolbar_location=None, tools=\"\", y_axis_label = 'Mean Amount Per 100g')\n",
    "\n",
    "h.vbar(x=dodge('country', 0.1, range=p.x_range), top='proteins_100g', width=0.4, source=ColumnDataSource(data),\n",
    "       color='#80ced6', legend_label='protein')\n",
    "\n",
    "h.vbar(x=dodge('country',  0.2,  range=p.x_range), top='fiber_100g', width=0.4, source=ColumnDataSource(data),\n",
    "       color='#d5f4e6',legend_label = \"fiber\")\n",
    "\n",
    "\n",
    "h.x_range.range_padding = 0.1\n",
    "h.xgrid.grid_line_color = None\n",
    "h.legend.location = \"top_left\"\n",
    "h.legend.orientation = \"horizontal\"\n",
    "\n",
    "show(p)\n",
    "show(h)"
   ]
  },
  {
   "cell_type": "markdown",
   "metadata": {},
   "source": [
    "Sugar has fairly detrimental affects on health. It can lead to weight gain, increased risk of type 2 Diabetes, food addictions, and chronic digestive issues. Saturated and trans fats can causes increases in harmful LDL cholesterol levels, create inflammation, and contribute to insulin resistance. Excess sodium can lead to elevated blood pressure and cause varying health problems. \n",
    "\n",
    "Italy clearly takes home the gold when it comes to average sugar and fat content while Australia is the runner-up in terms of sodium. In general, most countries products tend to be fairly high in sugar. \n",
    "\n",
    "Protein is essential within a diet as it is used by our bodies to build and repair tissues. Our body is unable to store protein and needs relatively large quantities of it. Fiber aids our bodies in regulating digestion and lowers cholesterol levels. It is recommended to eat foods high in fiber to help achieve a healthy weight. \n",
    "\n",
    "From the above plots, we observe that Switzerland offers products with the highest average protein content while Australia's products have the highest average fiber content. \n",
    "\n",
    "__Relying upon the country's average score in terms of the above healthy/unhealthy nutrients, Italy provides some of the unhealthiest products while Switzerland, Russia, and Australia offer the healthiest.__ \n",
    "\n",
    "### Can We Verify This With External Information? \n",
    "\n",
    "According to the European Union Commission 2017 Health Report, the leading cause of death in Italy is cardiovascular disease, 40% among women and 33% among men. A recent study by clinical researchers from the University of Surrey found that the risk of heart disease is significantly increased by high-sugar diets, even amongst healthy populations. The average sugar content of Italy's products exceeds the next leading country by about 7 grams. Italy's consumption of high-sugar products may have a relationship with its population's predisposition towards cardiovascular disease.\n",
    "\n",
    "Switzerland, Australia, and Russia ranked top for healthiest products offered. According to the Organization for Economic Cooperation and Development, Switzerland has one of the lowest obesity rates at 9% compared to other developed nations. In terms of overweight children, Switzerland, Australia, and Russia have some of the lowest rates: 19%, 18%, and 17% respectively. Italy's proportion of overweight children remains significantly higher, at 38%.  \n",
    "\n",
    "While there are a variety of external and genetic factors that yield influence on an individual's health, this data suggests the presence of relationships between the nutritional quality of food products offered to a population and their health.  \n",
    "\n",
    "*Sources at Bottom of Report*\n",
    "\n",
    "### Which Country Offers the Healthiest Food Items?\n",
    "\n",
    "Let's see which country offers products with the greatest amount of protein and fiber per 100g. "
   ]
  },
  {
   "cell_type": "code",
   "execution_count": 113,
   "metadata": {},
   "outputs": [
    {
     "data": {
      "text/html": [
       "\n",
       "\n",
       "\n",
       "\n",
       "\n",
       "\n",
       "  <div class=\"bk-root\" id=\"efd528c7-72dd-40cd-b758-a61a7ee9b24e\" data-root-id=\"20380\"></div>\n"
      ]
     },
     "metadata": {},
     "output_type": "display_data"
    },
    {
     "data": {
      "application/javascript": [
       "(function(root) {\n",
       "  function embed_document(root) {\n",
       "    \n",
       "  var docs_json = {\"8e44fbbf-27a0-43ef-b437-4da3e733d6c1\":{\"roots\":{\"references\":[{\"attributes\":{\"below\":[{\"id\":\"20391\",\"type\":\"CategoricalAxis\"}],\"center\":[{\"id\":\"20394\",\"type\":\"Grid\"},{\"id\":\"20399\",\"type\":\"Grid\"},{\"id\":\"20413\",\"type\":\"Legend\"}],\"left\":[{\"id\":\"20395\",\"type\":\"LinearAxis\"}],\"plot_height\":250,\"plot_width\":800,\"renderers\":[{\"id\":\"20406\",\"type\":\"GlyphRenderer\"},{\"id\":\"20420\",\"type\":\"GlyphRenderer\"}],\"title\":{\"id\":\"20381\",\"type\":\"Title\"},\"toolbar\":{\"id\":\"20400\",\"type\":\"Toolbar\"},\"toolbar_location\":null,\"x_range\":{\"id\":\"20383\",\"type\":\"FactorRange\"},\"x_scale\":{\"id\":\"20387\",\"type\":\"CategoricalScale\"},\"y_range\":{\"id\":\"20385\",\"type\":\"Range1d\"},\"y_scale\":{\"id\":\"20389\",\"type\":\"LinearScale\"}},\"id\":\"20380\",\"subtype\":\"Figure\",\"type\":\"Plot\"},{\"attributes\":{\"data_source\":{\"id\":\"20402\",\"type\":\"ColumnDataSource\"},\"glyph\":{\"id\":\"20404\",\"type\":\"VBar\"},\"hover_glyph\":null,\"muted_glyph\":null,\"nonselection_glyph\":{\"id\":\"20405\",\"type\":\"VBar\"},\"selection_glyph\":null,\"view\":{\"id\":\"20407\",\"type\":\"CDSView\"}},\"id\":\"20406\",\"type\":\"GlyphRenderer\"},{\"attributes\":{\"text\":\"Healthiest Food Product By Country\"},\"id\":\"20381\",\"type\":\"Title\"},{\"attributes\":{\"fill_alpha\":{\"value\":0.1},\"fill_color\":{\"value\":\"#1f77b4\"},\"line_alpha\":{\"value\":0.1},\"line_color\":{\"value\":\"#1f77b4\"},\"top\":{\"field\":\"proteins_100g\"},\"width\":{\"value\":0.4},\"x\":{\"field\":\"country\",\"transform\":{\"id\":\"20401\",\"type\":\"Dodge\"}}},\"id\":\"20405\",\"type\":\"VBar\"},{\"attributes\":{\"range\":{\"id\":\"20383\",\"type\":\"FactorRange\"},\"value\":0.1},\"id\":\"20415\",\"type\":\"Dodge\"},{\"attributes\":{},\"id\":\"21016\",\"type\":\"UnionRenderers\"},{\"attributes\":{\"active_drag\":\"auto\",\"active_inspect\":\"auto\",\"active_multi\":null,\"active_scroll\":\"auto\",\"active_tap\":\"auto\"},\"id\":\"20400\",\"type\":\"Toolbar\"},{\"attributes\":{\"grid_line_color\":null,\"ticker\":{\"id\":\"20392\",\"type\":\"CategoricalTicker\"}},\"id\":\"20394\",\"type\":\"Grid\"},{\"attributes\":{\"fill_color\":{\"value\":\"#f7cac9\"},\"line_color\":{\"value\":\"#f7cac9\"},\"top\":{\"field\":\"proteins_100g\"},\"width\":{\"value\":0.4},\"x\":{\"field\":\"country\",\"transform\":{\"id\":\"20401\",\"type\":\"Dodge\"}}},\"id\":\"20404\",\"type\":\"VBar\"},{\"attributes\":{\"source\":{\"id\":\"20416\",\"type\":\"ColumnDataSource\"}},\"id\":\"20421\",\"type\":\"CDSView\"},{\"attributes\":{\"axis_label\":\"Max Amount Per 100g\",\"formatter\":{\"id\":\"20410\",\"type\":\"BasicTickFormatter\"},\"ticker\":{\"id\":\"20396\",\"type\":\"BasicTicker\"}},\"id\":\"20395\",\"type\":\"LinearAxis\"},{\"attributes\":{},\"id\":\"20428\",\"type\":\"Selection\"},{\"attributes\":{\"callback\":null,\"data\":{\"country\":[\"Australia\",\"Belgium\",\"Canada\",\"France\",\"Germany\",\"Italy\",\"Russia\",\"Spain\",\"Switzerland\",\"UK\",\"US\"],\"fiber_100g\":[66.7,13.5,18.2,40.0,12.0,5.3,8.0,7.9,13.5,17.0,100.0],\"proteins_100g\":[22.6,14.3,33.3,33.0,19.0,7.0,10.0,17.0,78.9,21.0,100.0]},\"selected\":{\"id\":\"20428\",\"type\":\"Selection\"},\"selection_policy\":{\"id\":\"20427\",\"type\":\"UnionRenderers\"}},\"id\":\"20402\",\"type\":\"ColumnDataSource\"},{\"attributes\":{\"callback\":null,\"data\":{\"country\":[\"Australia\",\"Belgium\",\"Canada\",\"France\",\"Germany\",\"Italy\",\"Russia\",\"Spain\",\"Switzerland\",\"UK\",\"US\"],\"fiber_100g\":[66.7,13.5,18.2,40.0,12.0,5.3,8.0,7.9,13.5,17.0,100.0],\"proteins_100g\":[22.6,14.3,33.3,33.0,19.0,7.0,10.0,17.0,78.9,21.0,100.0]},\"selected\":{\"id\":\"21017\",\"type\":\"Selection\"},\"selection_policy\":{\"id\":\"21016\",\"type\":\"UnionRenderers\"}},\"id\":\"20416\",\"type\":\"ColumnDataSource\"},{\"attributes\":{\"items\":[{\"id\":\"20414\",\"type\":\"LegendItem\"},{\"id\":\"20429\",\"type\":\"LegendItem\"}],\"location\":\"top_left\",\"orientation\":\"horizontal\"},\"id\":\"20413\",\"type\":\"Legend\"},{\"attributes\":{},\"id\":\"20412\",\"type\":\"CategoricalTickFormatter\"},{\"attributes\":{},\"id\":\"20392\",\"type\":\"CategoricalTicker\"},{\"attributes\":{\"label\":{\"value\":\"protein\"},\"renderers\":[{\"id\":\"20406\",\"type\":\"GlyphRenderer\"}]},\"id\":\"20414\",\"type\":\"LegendItem\"},{\"attributes\":{},\"id\":\"20427\",\"type\":\"UnionRenderers\"},{\"attributes\":{},\"id\":\"20410\",\"type\":\"BasicTickFormatter\"},{\"attributes\":{\"fill_color\":{\"value\":\"#92a8d1\"},\"line_color\":{\"value\":\"#92a8d1\"},\"top\":{\"field\":\"fiber_100g\"},\"width\":{\"value\":0.4},\"x\":{\"field\":\"country\",\"transform\":{\"id\":\"20415\",\"type\":\"Dodge\"}}},\"id\":\"20418\",\"type\":\"VBar\"},{\"attributes\":{\"formatter\":{\"id\":\"20412\",\"type\":\"CategoricalTickFormatter\"},\"ticker\":{\"id\":\"20392\",\"type\":\"CategoricalTicker\"}},\"id\":\"20391\",\"type\":\"CategoricalAxis\"},{\"attributes\":{\"callback\":null,\"factors\":[\"Australia\",\"Belgium\",\"Canada\",\"France\",\"Germany\",\"Italy\",\"Russia\",\"Spain\",\"Switzerland\",\"UK\",\"US\"],\"range_padding\":0.1},\"id\":\"20383\",\"type\":\"FactorRange\"},{\"attributes\":{\"dimension\":1,\"ticker\":{\"id\":\"20396\",\"type\":\"BasicTicker\"}},\"id\":\"20399\",\"type\":\"Grid\"},{\"attributes\":{\"callback\":null,\"end\":103.0},\"id\":\"20385\",\"type\":\"Range1d\"},{\"attributes\":{\"range\":{\"id\":\"20383\",\"type\":\"FactorRange\"},\"value\":-0.1},\"id\":\"20401\",\"type\":\"Dodge\"},{\"attributes\":{\"data_source\":{\"id\":\"20416\",\"type\":\"ColumnDataSource\"},\"glyph\":{\"id\":\"20418\",\"type\":\"VBar\"},\"hover_glyph\":null,\"muted_glyph\":null,\"nonselection_glyph\":{\"id\":\"20419\",\"type\":\"VBar\"},\"selection_glyph\":null,\"view\":{\"id\":\"20421\",\"type\":\"CDSView\"}},\"id\":\"20420\",\"type\":\"GlyphRenderer\"},{\"attributes\":{},\"id\":\"21017\",\"type\":\"Selection\"},{\"attributes\":{},\"id\":\"20387\",\"type\":\"CategoricalScale\"},{\"attributes\":{},\"id\":\"20389\",\"type\":\"LinearScale\"},{\"attributes\":{\"label\":{\"value\":\"fiber\"},\"renderers\":[{\"id\":\"20420\",\"type\":\"GlyphRenderer\"}]},\"id\":\"20429\",\"type\":\"LegendItem\"},{\"attributes\":{\"source\":{\"id\":\"20402\",\"type\":\"ColumnDataSource\"}},\"id\":\"20407\",\"type\":\"CDSView\"},{\"attributes\":{\"fill_alpha\":{\"value\":0.1},\"fill_color\":{\"value\":\"#1f77b4\"},\"line_alpha\":{\"value\":0.1},\"line_color\":{\"value\":\"#1f77b4\"},\"top\":{\"field\":\"fiber_100g\"},\"width\":{\"value\":0.4},\"x\":{\"field\":\"country\",\"transform\":{\"id\":\"20415\",\"type\":\"Dodge\"}}},\"id\":\"20419\",\"type\":\"VBar\"},{\"attributes\":{},\"id\":\"20396\",\"type\":\"BasicTicker\"}],\"root_ids\":[\"20380\"]},\"title\":\"Bokeh Application\",\"version\":\"1.4.0\"}};\n",
       "  var render_items = [{\"docid\":\"8e44fbbf-27a0-43ef-b437-4da3e733d6c1\",\"roots\":{\"20380\":\"efd528c7-72dd-40cd-b758-a61a7ee9b24e\"}}];\n",
       "  root.Bokeh.embed.embed_items_notebook(docs_json, render_items);\n",
       "\n",
       "  }\n",
       "  if (root.Bokeh !== undefined) {\n",
       "    embed_document(root);\n",
       "  } else {\n",
       "    var attempts = 0;\n",
       "    var timer = setInterval(function(root) {\n",
       "      if (root.Bokeh !== undefined) {\n",
       "        clearInterval(timer);\n",
       "        embed_document(root);\n",
       "      } else {\n",
       "        attempts++;\n",
       "        if (attempts > 100) {\n",
       "          clearInterval(timer);\n",
       "          console.log(\"Bokeh: ERROR: Unable to run BokehJS code because BokehJS library is missing\");\n",
       "        }\n",
       "      }\n",
       "    }, 10, root)\n",
       "  }\n",
       "})(window);"
      ],
      "application/vnd.bokehjs_exec.v0+json": ""
     },
     "metadata": {
      "application/vnd.bokehjs_exec.v0+json": {
       "id": "20380"
      }
     },
     "output_type": "display_data"
    }
   ],
   "source": [
    "max_nutrients = nutrients.groupby('country',as_index=False)[['proteins_100g','fiber_100g']].agg('max')\n",
    "data2 = max_nutrients.to_dict(orient='list')\n",
    "country = max_nutrients['country'].tolist()\n",
    "\n",
    "\n",
    "\n",
    "#get max possible value of plotted columns with some offset\n",
    "p = figure(x_range=country, y_range=(0, max_nutrients[['proteins_100g','fiber_100g']].values.max() + 3), \n",
    "           plot_height=250, title=\"Healthiest Food Product By Country\", plot_width=800,\n",
    "           toolbar_location=None, tools=\"\", y_axis_label = 'Max Amount Per 100g')\n",
    "\n",
    "p.vbar(x=dodge('country', -0.1, range=p.x_range), top='proteins_100g', width=0.4, source=ColumnDataSource(data2),\n",
    "       color='#f7cac9', legend_label='protein')\n",
    "\n",
    "p.vbar(x=dodge('country',  0.1,  range=p.x_range), top='fiber_100g', width=0.4, source=ColumnDataSource(data2),\n",
    "       color='#92a8d1',legend_label = \"fiber\")\n",
    "\n",
    "\n",
    "p.x_range.range_padding = 0.1\n",
    "p.xgrid.grid_line_color = None\n",
    "p.legend.location = \"top_left\"\n",
    "p.legend.orientation = \"horizontal\"\n",
    "\n",
    "show(p)\n"
   ]
  },
  {
   "cell_type": "markdown",
   "metadata": {},
   "source": [
    "Switzerland's products target the protein factor while Australia contain high levels of fiber. __Given both of these countries stood out for out for their healthy product offerings in the previous section, this may indicate the presence of a health conscious market in Switzerland and Australia__\n",
    "\n",
    "It seems a little odd that the US has a product with a 100g of protein and another with 100g fiber ... for a product to have 100 grams of protein or fiber per 100 grams, it must be entirely made up of protein or fiber. Let's see what these products are. "
   ]
  },
  {
   "cell_type": "code",
   "execution_count": 114,
   "metadata": {},
   "outputs": [
    {
     "data": {
      "text/html": [
       "<div>\n",
       "<style scoped>\n",
       "    .dataframe tbody tr th:only-of-type {\n",
       "        vertical-align: middle;\n",
       "    }\n",
       "\n",
       "    .dataframe tbody tr th {\n",
       "        vertical-align: top;\n",
       "    }\n",
       "\n",
       "    .dataframe thead th {\n",
       "        text-align: right;\n",
       "    }\n",
       "</style>\n",
       "<table border=\"1\" class=\"dataframe\">\n",
       "  <thead>\n",
       "    <tr style=\"text-align: right;\">\n",
       "      <th></th>\n",
       "      <th>product_name</th>\n",
       "      <th>serving_size</th>\n",
       "      <th>brands</th>\n",
       "      <th>energy_100g</th>\n",
       "      <th>fat_100g</th>\n",
       "      <th>fiber_100g</th>\n",
       "      <th>proteins_100g</th>\n",
       "    </tr>\n",
       "  </thead>\n",
       "  <tbody>\n",
       "    <tr>\n",
       "      <th>152137</th>\n",
       "      <td>Tcho-A-Day Dark Chocolate</td>\n",
       "      <td>8 g (1 BAR)</td>\n",
       "      <td>Tcho</td>\n",
       "      <td>2301.0</td>\n",
       "      <td>35.00</td>\n",
       "      <td>0.0</td>\n",
       "      <td>100.00</td>\n",
       "    </tr>\n",
       "    <tr>\n",
       "      <th>41498</th>\n",
       "      <td>Unflavored Gelatin</td>\n",
       "      <td>7 g (7 g)</td>\n",
       "      <td>Meijer</td>\n",
       "      <td>1795.0</td>\n",
       "      <td>0.00</td>\n",
       "      <td>0.0</td>\n",
       "      <td>100.00</td>\n",
       "    </tr>\n",
       "    <tr>\n",
       "      <th>18852</th>\n",
       "      <td>Fisherman's Wharf, Cocktail Shrimp</td>\n",
       "      <td>22 g (8 SHRIMP AND 0.8 OZ SAUCE | ABOUT)</td>\n",
       "      <td>Winn-Dixie Stores  Inc.</td>\n",
       "      <td>2092.0</td>\n",
       "      <td>6.82</td>\n",
       "      <td>0.0</td>\n",
       "      <td>86.36</td>\n",
       "    </tr>\n",
       "  </tbody>\n",
       "</table>\n",
       "</div>"
      ],
      "text/plain": [
       "                              product_name  \\\n",
       "152137           Tcho-A-Day Dark Chocolate   \n",
       "41498                   Unflavored Gelatin   \n",
       "18852   Fisherman's Wharf, Cocktail Shrimp   \n",
       "\n",
       "                                    serving_size                   brands  \\\n",
       "152137                               8 g (1 BAR)                     Tcho   \n",
       "41498                                  7 g (7 g)                   Meijer   \n",
       "18852   22 g (8 SHRIMP AND 0.8 OZ SAUCE | ABOUT)  Winn-Dixie Stores  Inc.   \n",
       "\n",
       "        energy_100g  fat_100g  fiber_100g  proteins_100g  \n",
       "152137       2301.0     35.00         0.0         100.00  \n",
       "41498        1795.0      0.00         0.0         100.00  \n",
       "18852        2092.0      6.82         0.0          86.36  "
      ]
     },
     "execution_count": 114,
     "metadata": {},
     "output_type": "execute_result"
    }
   ],
   "source": [
    "#selecting country as US\n",
    "usa = nutrients[nutrients['country']=='US']\n",
    "usa[['product_name','serving_size','brands','energy_100g','fat_100g','fiber_100g','proteins_100g']].sort_values(by='proteins_100g',ascending=False)[:3]"
   ]
  },
  {
   "cell_type": "markdown",
   "metadata": {},
   "source": [
    "Unless the Tcho-A-Day Dark Chocolate bar actually is made of pure protein (if so, please tell me where to find it 😋), its protein content is probably the result of a data entry error. Otherwise, unflavored gelatin (a protein product derived from collagen) takes the gold for the US. This product is typically 99% protein and often taken as a protein supplement. "
   ]
  },
  {
   "cell_type": "code",
   "execution_count": 115,
   "metadata": {},
   "outputs": [
    {
     "data": {
      "text/html": [
       "<div>\n",
       "<style scoped>\n",
       "    .dataframe tbody tr th:only-of-type {\n",
       "        vertical-align: middle;\n",
       "    }\n",
       "\n",
       "    .dataframe tbody tr th {\n",
       "        vertical-align: top;\n",
       "    }\n",
       "\n",
       "    .dataframe thead th {\n",
       "        text-align: right;\n",
       "    }\n",
       "</style>\n",
       "<table border=\"1\" class=\"dataframe\">\n",
       "  <thead>\n",
       "    <tr style=\"text-align: right;\">\n",
       "      <th></th>\n",
       "      <th>product_name</th>\n",
       "      <th>serving_size</th>\n",
       "      <th>brands</th>\n",
       "      <th>energy_100g</th>\n",
       "      <th>fat_100g</th>\n",
       "      <th>fiber_100g</th>\n",
       "      <th>proteins_100g</th>\n",
       "    </tr>\n",
       "  </thead>\n",
       "  <tbody>\n",
       "    <tr>\n",
       "      <th>87624</th>\n",
       "      <td>Yamashin, Powdered Agar-Agar</td>\n",
       "      <td>4 g (1 PACKAGE)</td>\n",
       "      <td>Wismettac Asian Foods  Inc.</td>\n",
       "      <td>1046.0</td>\n",
       "      <td>0.0</td>\n",
       "      <td>100.0</td>\n",
       "      <td>0.0</td>\n",
       "    </tr>\n",
       "    <tr>\n",
       "      <th>37059</th>\n",
       "      <td>Premium Guar Gum</td>\n",
       "      <td>10 g (1 Tbsp)</td>\n",
       "      <td>Bob's Red Mill</td>\n",
       "      <td>1255.0</td>\n",
       "      <td>0.0</td>\n",
       "      <td>90.0</td>\n",
       "      <td>0.0</td>\n",
       "    </tr>\n",
       "    <tr>\n",
       "      <th>77233</th>\n",
       "      <td>Xanthan Gum</td>\n",
       "      <td>1.15 g (0.5 tsp)</td>\n",
       "      <td>NaN</td>\n",
       "      <td>0.0</td>\n",
       "      <td>0.0</td>\n",
       "      <td>87.0</td>\n",
       "      <td>0.0</td>\n",
       "    </tr>\n",
       "  </tbody>\n",
       "</table>\n",
       "</div>"
      ],
      "text/plain": [
       "                       product_name      serving_size  \\\n",
       "87624  Yamashin, Powdered Agar-Agar   4 g (1 PACKAGE)   \n",
       "37059              Premium Guar Gum     10 g (1 Tbsp)   \n",
       "77233                   Xanthan Gum  1.15 g (0.5 tsp)   \n",
       "\n",
       "                            brands  energy_100g  fat_100g  fiber_100g  \\\n",
       "87624  Wismettac Asian Foods  Inc.       1046.0       0.0       100.0   \n",
       "37059               Bob's Red Mill       1255.0       0.0        90.0   \n",
       "77233                          NaN          0.0       0.0        87.0   \n",
       "\n",
       "       proteins_100g  \n",
       "87624            0.0  \n",
       "37059            0.0  \n",
       "77233            0.0  "
      ]
     },
     "execution_count": 115,
     "metadata": {},
     "output_type": "execute_result"
    }
   ],
   "source": [
    "#top 3 USA products with the highest fiber content\n",
    "usa[['product_name','serving_size','brands','energy_100g','fat_100g','fiber_100g','proteins_100g']].sort_values(by='fiber_100g',ascending=False)[:3]"
   ]
  },
  {
   "cell_type": "markdown",
   "metadata": {},
   "source": [
    "The products the US offers with the highest fiber content are all a little unusual. Agar-agar is a jelly-like product derived from seaweed. Guar gum consist of the fiber from the seed of the guar plant and Xantham gum is a plant-based thickening and stabilizing agent. All three of these products are typically used as thickening or stablizing agents within vegan cooking to help food imitate the consistency or creamyness provided from using animal products. __These products may indicate that a market for vegan, animal-product substitutes exists in the US.__\n",
    "\n",
    "While we're on the topic of vegan products...\n",
    "\n",
    "### Let's Look At The Popularity of Alternative Diets By Country\n",
    "\n",
    "If a product fits a vegetarian diet, than it contains no animal meat products. If it fits a vegan diet, it contains no animal or dairy products. Foods that are vegan are also vegetarian.\n",
    "\n",
    "In the data quality file, I used categorized the foods by their diet type. Let's use these tags to discovery which countries have preferences for the different diets. "
   ]
  },
  {
   "cell_type": "code",
   "execution_count": 116,
   "metadata": {},
   "outputs": [],
   "source": [
    "diets = nutrients[nutrients['Special Diet']!= 'Not Specified']\n",
    "\n",
    "#gives us proportion of popularity of each diet to normalize for amount of products per country\n",
    "diets2 = pd.crosstab(diets['country'],diets['Special Diet']).apply(lambda r: r/r.sum(), axis=1)"
   ]
  },
  {
   "cell_type": "code",
   "execution_count": 117,
   "metadata": {},
   "outputs": [
    {
     "data": {
      "text/html": [
       "\n",
       "\n",
       "\n",
       "\n",
       "\n",
       "\n",
       "  <div class=\"bk-root\" id=\"1038ee40-33d5-45b4-ab64-b93bedc3feb0\" data-root-id=\"21073\"></div>\n"
      ]
     },
     "metadata": {},
     "output_type": "display_data"
    },
    {
     "data": {
      "application/javascript": [
       "(function(root) {\n",
       "  function embed_document(root) {\n",
       "    \n",
       "  var docs_json = {\"565efdbf-5994-4a52-8fc6-e4b52232d0a8\":{\"roots\":{\"references\":[{\"attributes\":{\"below\":[{\"id\":\"21083\",\"type\":\"LinearAxis\"}],\"center\":[{\"id\":\"21087\",\"type\":\"Grid\"},{\"id\":\"21091\",\"type\":\"Grid\"},{\"id\":\"21116\",\"type\":\"Legend\"}],\"left\":[{\"id\":\"21088\",\"type\":\"CategoricalAxis\"}],\"plot_width\":800,\"renderers\":[{\"id\":\"21108\",\"type\":\"GlyphRenderer\"},{\"id\":\"21121\",\"type\":\"GlyphRenderer\"},{\"id\":\"21135\",\"type\":\"GlyphRenderer\"},{\"id\":\"21151\",\"type\":\"GlyphRenderer\"}],\"title\":{\"id\":\"21074\",\"type\":\"Title\"},\"toolbar\":{\"id\":\"21098\",\"type\":\"Toolbar\"},\"x_range\":{\"id\":\"21076\",\"type\":\"DataRange1d\"},\"x_scale\":{\"id\":\"21079\",\"type\":\"LinearScale\"},\"y_range\":{\"id\":\"21072\",\"type\":\"FactorRange\"},\"y_scale\":{\"id\":\"21081\",\"type\":\"CategoricalScale\"}},\"id\":\"21073\",\"subtype\":\"Figure\",\"type\":\"Plot\"},{\"attributes\":{\"callback\":null},\"id\":\"21076\",\"type\":\"DataRange1d\"},{\"attributes\":{\"bottom_units\":\"screen\",\"fill_alpha\":{\"value\":0.5},\"fill_color\":{\"value\":\"lightgrey\"},\"left_units\":\"screen\",\"level\":\"overlay\",\"line_alpha\":{\"value\":1.0},\"line_color\":{\"value\":\"black\"},\"line_dash\":[4,4],\"line_width\":{\"value\":2},\"render_mode\":\"css\",\"right_units\":\"screen\",\"top_units\":\"screen\"},\"id\":\"21115\",\"type\":\"BoxAnnotation\"},{\"attributes\":{\"text\":\"Special Diet Popularity\"},\"id\":\"21074\",\"type\":\"Title\"},{\"attributes\":{},\"id\":\"21767\",\"type\":\"Selection\"},{\"attributes\":{\"data_source\":{\"id\":\"21105\",\"type\":\"ColumnDataSource\"},\"glyph\":{\"id\":\"21106\",\"type\":\"HBar\"},\"hover_glyph\":null,\"muted_glyph\":null,\"nonselection_glyph\":{\"id\":\"21107\",\"type\":\"HBar\"},\"selection_glyph\":null,\"view\":{\"id\":\"21109\",\"type\":\"CDSView\"}},\"id\":\"21108\",\"type\":\"GlyphRenderer\"},{\"attributes\":{\"callback\":null,\"data\":{\"left\":{\"__ndarray__\":\"kiRJkiRJwj8AAAAAAADwPx3UQR3UQc0/F1100UUXzT+e2Imd2IntP1VVVVVVVcU/AAAAAAAAAABI4XoUrkfBPw==\",\"dtype\":\"float64\",\"shape\":[8]},\"right\":{\"__ndarray__\":\"kiRJkiRJ4j8AAAAAAAAAAAAAAAAAAAAARhdddNFFpz8UO7ETO7GzPwAAAAAAAAAAAAAAAAAA8D+amZmZmZmpPw==\",\"dtype\":\"float64\",\"shape\":[8]},\"y\":[\"Australia\",\"Belgium\",\"Canada\",\"France\",\"Spain\",\"Switzerland\",\"UK\",\"US\"]},\"selected\":{\"id\":\"21767\",\"type\":\"Selection\"},\"selection_policy\":{\"id\":\"21766\",\"type\":\"UnionRenderers\"}},\"id\":\"21148\",\"type\":\"ColumnDataSource\"},{\"attributes\":{\"overlay\":{\"id\":\"21115\",\"type\":\"BoxAnnotation\"}},\"id\":\"21094\",\"type\":\"BoxZoomTool\"},{\"attributes\":{\"fill_alpha\":{\"value\":0.1},\"fill_color\":{\"value\":\"#1f77b4\"},\"height\":{\"value\":0.2},\"line_alpha\":{\"value\":0.1},\"line_color\":{\"value\":\"#1f77b4\"},\"right\":{\"field\":\"right\"},\"y\":{\"field\":\"y\"}},\"id\":\"21107\",\"type\":\"HBar\"},{\"attributes\":{\"callback\":null,\"data\":{\"right\":{\"__ndarray__\":\"kiRJkiRJ0j8AAAAAAAAAAFAHdVAHdeA/L7rooosuyj8AAAAAAAAAAFVVVVVVVcU/AAAAAAAAAABI4XoUrkflPw==\",\"dtype\":\"float64\",\"shape\":[8]},\"y\":[\"Australia\",\"Belgium\",\"Canada\",\"France\",\"Spain\",\"Switzerland\",\"UK\",\"US\"]},\"selected\":{\"id\":\"21130\",\"type\":\"Selection\"},\"selection_policy\":{\"id\":\"21129\",\"type\":\"UnionRenderers\"}},\"id\":\"21105\",\"type\":\"ColumnDataSource\"},{\"attributes\":{\"source\":{\"id\":\"21132\",\"type\":\"ColumnDataSource\"}},\"id\":\"21136\",\"type\":\"CDSView\"},{\"attributes\":{},\"id\":\"21079\",\"type\":\"LinearScale\"},{\"attributes\":{\"callback\":null,\"factors\":[\"Australia\",\"Belgium\",\"Canada\",\"France\",\"Spain\",\"Switzerland\",\"UK\",\"US\"]},\"id\":\"21072\",\"type\":\"FactorRange\"},{\"attributes\":{},\"id\":\"21089\",\"type\":\"CategoricalTicker\"},{\"attributes\":{\"label\":{\"value\":\"Meat\"},\"renderers\":[{\"id\":\"21121\",\"type\":\"GlyphRenderer\"}]},\"id\":\"21131\",\"type\":\"LegendItem\"},{\"attributes\":{},\"id\":\"21146\",\"type\":\"Selection\"},{\"attributes\":{\"items\":[{\"id\":\"21117\",\"type\":\"LegendItem\"},{\"id\":\"21131\",\"type\":\"LegendItem\"},{\"id\":\"21147\",\"type\":\"LegendItem\"},{\"id\":\"21165\",\"type\":\"LegendItem\"}]},\"id\":\"21116\",\"type\":\"Legend\"},{\"attributes\":{},\"id\":\"21093\",\"type\":\"WheelZoomTool\"},{\"attributes\":{\"callback\":null,\"data\":{\"left\":{\"__ndarray__\":\"AAAAAAAAAAAAAAAAAAAAAFAHdVAHddA/uuiiiy664D8AAAAAAAAAAFVVVVVVVeU/AAAAAAAAAAAzMzMzMzPDPw==\",\"dtype\":\"float64\",\"shape\":[8]},\"right\":{\"__ndarray__\":\"kiRJkiRJwj8AAAAAAADwPx3UQR3UQc0/F1100UUXzT+e2Imd2IntP1VVVVVVVcU/AAAAAAAAAABI4XoUrkfBPw==\",\"dtype\":\"float64\",\"shape\":[8]},\"y\":[\"Australia\",\"Belgium\",\"Canada\",\"France\",\"Spain\",\"Switzerland\",\"UK\",\"US\"]},\"selected\":{\"id\":\"21164\",\"type\":\"Selection\"},\"selection_policy\":{\"id\":\"21163\",\"type\":\"UnionRenderers\"}},\"id\":\"21132\",\"type\":\"ColumnDataSource\"},{\"attributes\":{\"axis_label\":\"Country\",\"formatter\":{\"id\":\"21112\",\"type\":\"CategoricalTickFormatter\"},\"ticker\":{\"id\":\"21089\",\"type\":\"CategoricalTicker\"}},\"id\":\"21088\",\"type\":\"CategoricalAxis\"},{\"attributes\":{\"fill_color\":{\"value\":\"#ff6f69\"},\"height\":{\"value\":0.2},\"line_color\":{\"value\":\"#ff6f69\"},\"right\":{\"field\":\"right\"},\"y\":{\"field\":\"y\"}},\"id\":\"21106\",\"type\":\"HBar\"},{\"attributes\":{\"dimension\":1,\"ticker\":{\"id\":\"21089\",\"type\":\"CategoricalTicker\"}},\"id\":\"21091\",\"type\":\"Grid\"},{\"attributes\":{\"fill_color\":{\"value\":\"#96ceb4\"},\"height\":{\"value\":0.2},\"left\":{\"field\":\"left\"},\"line_color\":{\"value\":\"#96ceb4\"},\"right\":{\"field\":\"right\"},\"y\":{\"field\":\"y\"}},\"id\":\"21133\",\"type\":\"HBar\"},{\"attributes\":{\"label\":{\"value\":\"Dairy\"},\"renderers\":[{\"id\":\"21108\",\"type\":\"GlyphRenderer\"}]},\"id\":\"21117\",\"type\":\"LegendItem\"},{\"attributes\":{\"source\":{\"id\":\"21118\",\"type\":\"ColumnDataSource\"}},\"id\":\"21122\",\"type\":\"CDSView\"},{\"attributes\":{},\"id\":\"21095\",\"type\":\"SaveTool\"},{\"attributes\":{},\"id\":\"21084\",\"type\":\"BasicTicker\"},{\"attributes\":{},\"id\":\"21097\",\"type\":\"HelpTool\"},{\"attributes\":{\"source\":{\"id\":\"21105\",\"type\":\"ColumnDataSource\"}},\"id\":\"21109\",\"type\":\"CDSView\"},{\"attributes\":{\"label\":{\"value\":\"Vegan\"},\"renderers\":[{\"id\":\"21135\",\"type\":\"GlyphRenderer\"}]},\"id\":\"21147\",\"type\":\"LegendItem\"},{\"attributes\":{\"callback\":null,\"data\":{\"left\":{\"__ndarray__\":\"kiRJkiRJ0j8AAAAAAAAAAFAHdVAHdeA/L7rooosuyj8AAAAAAAAAAFVVVVVVVcU/AAAAAAAAAABI4XoUrkflPw==\",\"dtype\":\"float64\",\"shape\":[8]},\"right\":{\"__ndarray__\":\"AAAAAAAAAAAAAAAAAAAAAFAHdVAHddA/uuiiiy664D8AAAAAAAAAAFVVVVVVVeU/AAAAAAAAAAAzMzMzMzPDPw==\",\"dtype\":\"float64\",\"shape\":[8]},\"y\":[\"Australia\",\"Belgium\",\"Canada\",\"France\",\"Spain\",\"Switzerland\",\"UK\",\"US\"]},\"selected\":{\"id\":\"21146\",\"type\":\"Selection\"},\"selection_policy\":{\"id\":\"21145\",\"type\":\"UnionRenderers\"}},\"id\":\"21118\",\"type\":\"ColumnDataSource\"},{\"attributes\":{\"ticker\":{\"id\":\"21084\",\"type\":\"BasicTicker\"}},\"id\":\"21087\",\"type\":\"Grid\"},{\"attributes\":{},\"id\":\"21112\",\"type\":\"CategoricalTickFormatter\"},{\"attributes\":{},\"id\":\"21145\",\"type\":\"UnionRenderers\"},{\"attributes\":{},\"id\":\"21163\",\"type\":\"UnionRenderers\"},{\"attributes\":{\"data_source\":{\"id\":\"21118\",\"type\":\"ColumnDataSource\"},\"glyph\":{\"id\":\"21119\",\"type\":\"HBar\"},\"hover_glyph\":null,\"muted_glyph\":null,\"nonselection_glyph\":{\"id\":\"21120\",\"type\":\"HBar\"},\"selection_glyph\":null,\"view\":{\"id\":\"21122\",\"type\":\"CDSView\"}},\"id\":\"21121\",\"type\":\"GlyphRenderer\"},{\"attributes\":{\"source\":{\"id\":\"21148\",\"type\":\"ColumnDataSource\"}},\"id\":\"21152\",\"type\":\"CDSView\"},{\"attributes\":{},\"id\":\"21130\",\"type\":\"Selection\"},{\"attributes\":{},\"id\":\"21164\",\"type\":\"Selection\"},{\"attributes\":{},\"id\":\"21081\",\"type\":\"CategoricalScale\"},{\"attributes\":{\"fill_alpha\":{\"value\":0.1},\"fill_color\":{\"value\":\"#1f77b4\"},\"height\":{\"value\":0.2},\"left\":{\"field\":\"left\"},\"line_alpha\":{\"value\":0.1},\"line_color\":{\"value\":\"#1f77b4\"},\"right\":{\"field\":\"right\"},\"y\":{\"field\":\"y\"}},\"id\":\"21134\",\"type\":\"HBar\"},{\"attributes\":{\"axis_label\":\"Proportion of Products\",\"formatter\":{\"id\":\"21114\",\"type\":\"BasicTickFormatter\"},\"ticker\":{\"id\":\"21084\",\"type\":\"BasicTicker\"}},\"id\":\"21083\",\"type\":\"LinearAxis\"},{\"attributes\":{},\"id\":\"21092\",\"type\":\"PanTool\"},{\"attributes\":{},\"id\":\"21129\",\"type\":\"UnionRenderers\"},{\"attributes\":{\"data_source\":{\"id\":\"21132\",\"type\":\"ColumnDataSource\"},\"glyph\":{\"id\":\"21133\",\"type\":\"HBar\"},\"hover_glyph\":null,\"muted_glyph\":null,\"nonselection_glyph\":{\"id\":\"21134\",\"type\":\"HBar\"},\"selection_glyph\":null,\"view\":{\"id\":\"21136\",\"type\":\"CDSView\"}},\"id\":\"21135\",\"type\":\"GlyphRenderer\"},{\"attributes\":{\"fill_color\":{\"value\":\"#ffcc5c\"},\"height\":{\"value\":0.2},\"left\":{\"field\":\"left\"},\"line_color\":{\"value\":\"#ffcc5c\"},\"right\":{\"field\":\"right\"},\"y\":{\"field\":\"y\"}},\"id\":\"21119\",\"type\":\"HBar\"},{\"attributes\":{\"fill_alpha\":{\"value\":0.1},\"fill_color\":{\"value\":\"#1f77b4\"},\"height\":{\"value\":0.2},\"left\":{\"field\":\"left\"},\"line_alpha\":{\"value\":0.1},\"line_color\":{\"value\":\"#1f77b4\"},\"right\":{\"field\":\"right\"},\"y\":{\"field\":\"y\"}},\"id\":\"21150\",\"type\":\"HBar\"},{\"attributes\":{},\"id\":\"21766\",\"type\":\"UnionRenderers\"},{\"attributes\":{},\"id\":\"21114\",\"type\":\"BasicTickFormatter\"},{\"attributes\":{\"label\":{\"value\":\"Vegetarian\"},\"renderers\":[{\"id\":\"21151\",\"type\":\"GlyphRenderer\"}]},\"id\":\"21165\",\"type\":\"LegendItem\"},{\"attributes\":{\"active_drag\":\"auto\",\"active_inspect\":\"auto\",\"active_multi\":null,\"active_scroll\":\"auto\",\"active_tap\":\"auto\",\"tools\":[{\"id\":\"21092\",\"type\":\"PanTool\"},{\"id\":\"21093\",\"type\":\"WheelZoomTool\"},{\"id\":\"21094\",\"type\":\"BoxZoomTool\"},{\"id\":\"21095\",\"type\":\"SaveTool\"},{\"id\":\"21096\",\"type\":\"ResetTool\"},{\"id\":\"21097\",\"type\":\"HelpTool\"}]},\"id\":\"21098\",\"type\":\"Toolbar\"},{\"attributes\":{\"data_source\":{\"id\":\"21148\",\"type\":\"ColumnDataSource\"},\"glyph\":{\"id\":\"21149\",\"type\":\"HBar\"},\"hover_glyph\":null,\"muted_glyph\":null,\"nonselection_glyph\":{\"id\":\"21150\",\"type\":\"HBar\"},\"selection_glyph\":null,\"view\":{\"id\":\"21152\",\"type\":\"CDSView\"}},\"id\":\"21151\",\"type\":\"GlyphRenderer\"},{\"attributes\":{\"fill_alpha\":{\"value\":0.1},\"fill_color\":{\"value\":\"#1f77b4\"},\"height\":{\"value\":0.2},\"left\":{\"field\":\"left\"},\"line_alpha\":{\"value\":0.1},\"line_color\":{\"value\":\"#1f77b4\"},\"right\":{\"field\":\"right\"},\"y\":{\"field\":\"y\"}},\"id\":\"21120\",\"type\":\"HBar\"},{\"attributes\":{\"fill_color\":{\"value\":\"#ffeead\"},\"height\":{\"value\":0.2},\"left\":{\"field\":\"left\"},\"line_color\":{\"value\":\"#ffeead\"},\"right\":{\"field\":\"right\"},\"y\":{\"field\":\"y\"}},\"id\":\"21149\",\"type\":\"HBar\"},{\"attributes\":{},\"id\":\"21096\",\"type\":\"ResetTool\"}],\"root_ids\":[\"21073\"]},\"title\":\"Bokeh Application\",\"version\":\"1.4.0\"}};\n",
       "  var render_items = [{\"docid\":\"565efdbf-5994-4a52-8fc6-e4b52232d0a8\",\"roots\":{\"21073\":\"1038ee40-33d5-45b4-ab64-b93bedc3feb0\"}}];\n",
       "  root.Bokeh.embed.embed_items_notebook(docs_json, render_items);\n",
       "\n",
       "  }\n",
       "  if (root.Bokeh !== undefined) {\n",
       "    embed_document(root);\n",
       "  } else {\n",
       "    var attempts = 0;\n",
       "    var timer = setInterval(function(root) {\n",
       "      if (root.Bokeh !== undefined) {\n",
       "        clearInterval(timer);\n",
       "        embed_document(root);\n",
       "      } else {\n",
       "        attempts++;\n",
       "        if (attempts > 100) {\n",
       "          clearInterval(timer);\n",
       "          console.log(\"Bokeh: ERROR: Unable to run BokehJS code because BokehJS library is missing\");\n",
       "        }\n",
       "      }\n",
       "    }, 10, root)\n",
       "  }\n",
       "})(window);"
      ],
      "application/vnd.bokehjs_exec.v0+json": ""
     },
     "metadata": {
      "application/vnd.bokehjs_exec.v0+json": {
       "id": "21073"
      }
     },
     "output_type": "display_data"
    }
   ],
   "source": [
    "from bokeh.models.ranges import FactorRange\n",
    "p = figure(title=\"Special Diet Popularity\",\n",
    "           y_axis_label='Country', x_axis_label='Proportion of Products',\n",
    "           y_range = FactorRange(factors=list(diets2.index)),\n",
    "           plot_height=600, plot_width=800)\n",
    "\n",
    "p.hbar(y=diets2.index, left=0, right=diets2['Dairy Product'], height=0.2, color='#ff6f69', legend_label='Dairy')\n",
    "p.hbar(y=diets2.index, left=diets2['Dairy Product'], right=diets2['Meat Product'], height=0.2, color='#ffcc5c', legend_label='Meat')\n",
    "p.hbar(y=diets2.index, left=diets2['Meat Product'], right=diets2['Vegan'], height=0.2, color='#96ceb4', legend_label='Vegan')\n",
    "p.hbar(y=diets2.index, left=diets2['Vegan'], right=diets2['Vegetarian'], height=0.2, color='#ffeead', legend_label='Vegetarian')\n",
    "\n",
    "\n",
    "show(p)"
   ]
  },
  {
   "cell_type": "markdown",
   "metadata": {},
   "source": [
    "__Wow! The majority of Spain's products in this dataset are vegan and no other country comes close. All of the countries seem to have fairly high proportions of dairy products with Russia taking the lead. France offers the greatest proportion of meat products while the UK and Australia are tied for the number of vegetarian products.__\n",
    "\n",
    "*Remember that any vegan products can also be classified as vegetarian. We chose to separate them here to see how countries differ in products offered between these two categories.*\n",
    "\n",
    "### Does The Nutritional Content of Products Differ By Special Diet Category?"
   ]
  },
  {
   "cell_type": "code",
   "execution_count": 118,
   "metadata": {},
   "outputs": [],
   "source": [
    "nutr_cat = diets.groupby(['Special Diet'])[['proteins_100g','fiber_100g','fat_100g','sodium_100g']].mean()\n",
    "nutr_cat = nutr_cat.T\n",
    "nutr_cat.index = nutr_content\n",
    "nutr_content = ['Proteins','Fibers','Fat','Sodium']"
   ]
  },
  {
   "cell_type": "code",
   "execution_count": 119,
   "metadata": {},
   "outputs": [
    {
     "data": {
      "text/html": [
       "\n",
       "\n",
       "\n",
       "\n",
       "\n",
       "\n",
       "  <div class=\"bk-root\" id=\"cd09a7a5-06eb-4cc5-a730-f81953e25e82\" data-root-id=\"21852\"></div>\n"
      ]
     },
     "metadata": {},
     "output_type": "display_data"
    },
    {
     "data": {
      "application/javascript": [
       "(function(root) {\n",
       "  function embed_document(root) {\n",
       "    \n",
       "  var docs_json = {\"08442d48-0a68-4723-8954-5d5ef8cdb7bd\":{\"roots\":{\"references\":[{\"attributes\":{\"below\":[{\"id\":\"21863\",\"type\":\"CategoricalAxis\"}],\"center\":[{\"id\":\"21866\",\"type\":\"Grid\"},{\"id\":\"21871\",\"type\":\"Grid\"},{\"id\":\"21896\",\"type\":\"Legend\"}],\"left\":[{\"id\":\"21867\",\"type\":\"LinearAxis\"}],\"renderers\":[{\"id\":\"21888\",\"type\":\"GlyphRenderer\"},{\"id\":\"21901\",\"type\":\"GlyphRenderer\"},{\"id\":\"21915\",\"type\":\"GlyphRenderer\"},{\"id\":\"21931\",\"type\":\"GlyphRenderer\"},{\"id\":\"21949\",\"type\":\"GlyphRenderer\"},{\"id\":\"21954\",\"type\":\"GlyphRenderer\"},{\"id\":\"21959\",\"type\":\"GlyphRenderer\"},{\"id\":\"21964\",\"type\":\"GlyphRenderer\"}],\"title\":{\"id\":\"21853\",\"type\":\"Title\"},\"toolbar\":{\"id\":\"21878\",\"type\":\"Toolbar\"},\"x_range\":{\"id\":\"21855\",\"type\":\"FactorRange\"},\"x_scale\":{\"id\":\"21859\",\"type\":\"CategoricalScale\"},\"y_range\":{\"id\":\"21857\",\"type\":\"DataRange1d\"},\"y_scale\":{\"id\":\"21861\",\"type\":\"LinearScale\"}},\"id\":\"21852\",\"subtype\":\"Figure\",\"type\":\"Plot\"},{\"attributes\":{\"data_source\":{\"id\":\"21951\",\"type\":\"ColumnDataSource\"},\"glyph\":{\"id\":\"21952\",\"type\":\"Circle\"},\"hover_glyph\":null,\"muted_glyph\":null,\"nonselection_glyph\":{\"id\":\"21953\",\"type\":\"Circle\"},\"selection_glyph\":null,\"view\":{\"id\":\"21955\",\"type\":\"CDSView\"}},\"id\":\"21954\",\"type\":\"GlyphRenderer\"},{\"attributes\":{\"callback\":null,\"data\":{\"x\":[\"Proteins\",\"Fibers\",\"Fat\",\"Sodium\"],\"y\":{\"__ndarray__\":\"vxR7pKtVIUDdpuAYXFLDPwNWDi2yXSVAfkSZhD47zT8=\",\"dtype\":\"float64\",\"shape\":[4]}},\"selected\":{\"id\":\"21910\",\"type\":\"Selection\"},\"selection_policy\":{\"id\":\"21909\",\"type\":\"UnionRenderers\"}},\"id\":\"21885\",\"type\":\"ColumnDataSource\"},{\"attributes\":{\"callback\":null,\"data\":{\"x\":[\"Proteins\",\"Fibers\",\"Fat\",\"Sodium\"],\"y\":{\"__ndarray__\":\"E/DNq4nnFEBVNBLwzasMQCz5xZJfrB5AaZYnNtB87z8=\",\"dtype\":\"float64\",\"shape\":[4]}},\"selected\":{\"id\":\"22589\",\"type\":\"Selection\"},\"selection_policy\":{\"id\":\"22588\",\"type\":\"UnionRenderers\"}},\"id\":\"21961\",\"type\":\"ColumnDataSource\"},{\"attributes\":{\"data_source\":{\"id\":\"21898\",\"type\":\"ColumnDataSource\"},\"glyph\":{\"id\":\"21899\",\"type\":\"Line\"},\"hover_glyph\":null,\"muted_glyph\":null,\"nonselection_glyph\":{\"id\":\"21900\",\"type\":\"Line\"},\"selection_glyph\":null,\"view\":{\"id\":\"21902\",\"type\":\"CDSView\"}},\"id\":\"21901\",\"type\":\"GlyphRenderer\"},{\"attributes\":{\"ticker\":{\"id\":\"21864\",\"type\":\"CategoricalTicker\"}},\"id\":\"21866\",\"type\":\"Grid\"},{\"attributes\":{\"source\":{\"id\":\"21946\",\"type\":\"ColumnDataSource\"}},\"id\":\"21950\",\"type\":\"CDSView\"},{\"attributes\":{\"fill_alpha\":{\"value\":0.1},\"fill_color\":{\"value\":\"#1f77b4\"},\"line_alpha\":{\"value\":0.1},\"line_color\":{\"value\":\"#1f77b4\"},\"radius\":{\"units\":\"data\",\"value\":0.05},\"x\":{\"field\":\"x\"},\"y\":{\"field\":\"y\"}},\"id\":\"21953\",\"type\":\"Circle\"},{\"attributes\":{\"formatter\":{\"id\":\"21892\",\"type\":\"BasicTickFormatter\"},\"ticker\":{\"id\":\"21868\",\"type\":\"BasicTicker\"}},\"id\":\"21867\",\"type\":\"LinearAxis\"},{\"attributes\":{},\"id\":\"21868\",\"type\":\"BasicTicker\"},{\"attributes\":{},\"id\":\"21925\",\"type\":\"UnionRenderers\"},{\"attributes\":{\"data_source\":{\"id\":\"21946\",\"type\":\"ColumnDataSource\"},\"glyph\":{\"id\":\"21947\",\"type\":\"Circle\"},\"hover_glyph\":null,\"muted_glyph\":null,\"nonselection_glyph\":{\"id\":\"21948\",\"type\":\"Circle\"},\"selection_glyph\":null,\"view\":{\"id\":\"21950\",\"type\":\"CDSView\"}},\"id\":\"21949\",\"type\":\"GlyphRenderer\"},{\"attributes\":{\"label\":{\"value\":\"Vegetarian\"},\"renderers\":[{\"id\":\"21931\",\"type\":\"GlyphRenderer\"}]},\"id\":\"21945\",\"type\":\"LegendItem\"},{\"attributes\":{\"source\":{\"id\":\"21928\",\"type\":\"ColumnDataSource\"}},\"id\":\"21932\",\"type\":\"CDSView\"},{\"attributes\":{\"line_color\":\"tomato\",\"x\":{\"field\":\"x\"},\"y\":{\"field\":\"y\"}},\"id\":\"21886\",\"type\":\"Line\"},{\"attributes\":{\"fill_color\":{\"value\":\"indigo\"},\"line_color\":{\"value\":\"indigo\"},\"radius\":{\"units\":\"data\",\"value\":0.05},\"x\":{\"field\":\"x\"},\"y\":{\"field\":\"y\"}},\"id\":\"21957\",\"type\":\"Circle\"},{\"attributes\":{\"dimension\":1,\"ticker\":{\"id\":\"21868\",\"type\":\"BasicTicker\"}},\"id\":\"21871\",\"type\":\"Grid\"},{\"attributes\":{},\"id\":\"21944\",\"type\":\"Selection\"},{\"attributes\":{},\"id\":\"21861\",\"type\":\"LinearScale\"},{\"attributes\":{},\"id\":\"21859\",\"type\":\"CategoricalScale\"},{\"attributes\":{\"fill_alpha\":{\"value\":0.1},\"fill_color\":{\"value\":\"#1f77b4\"},\"line_alpha\":{\"value\":0.1},\"line_color\":{\"value\":\"#1f77b4\"},\"radius\":{\"units\":\"data\",\"value\":0.05},\"x\":{\"field\":\"x\"},\"y\":{\"field\":\"y\"}},\"id\":\"21948\",\"type\":\"Circle\"},{\"attributes\":{},\"id\":\"21943\",\"type\":\"UnionRenderers\"},{\"attributes\":{\"label\":{\"value\":\"Meat Product\"},\"renderers\":[{\"id\":\"21901\",\"type\":\"GlyphRenderer\"}]},\"id\":\"21911\",\"type\":\"LegendItem\"},{\"attributes\":{\"bottom_units\":\"screen\",\"fill_alpha\":{\"value\":0.5},\"fill_color\":{\"value\":\"lightgrey\"},\"left_units\":\"screen\",\"level\":\"overlay\",\"line_alpha\":{\"value\":1.0},\"line_color\":{\"value\":\"black\"},\"line_dash\":[4,4],\"line_width\":{\"value\":2},\"render_mode\":\"css\",\"right_units\":\"screen\",\"top_units\":\"screen\"},\"id\":\"21895\",\"type\":\"BoxAnnotation\"},{\"attributes\":{\"line_alpha\":0.1,\"line_color\":\"#1f77b4\",\"x\":{\"field\":\"x\"},\"y\":{\"field\":\"y\"}},\"id\":\"21930\",\"type\":\"Line\"},{\"attributes\":{\"label\":{\"value\":\"Vegan\"},\"renderers\":[{\"id\":\"21915\",\"type\":\"GlyphRenderer\"}]},\"id\":\"21927\",\"type\":\"LegendItem\"},{\"attributes\":{\"data_source\":{\"id\":\"21928\",\"type\":\"ColumnDataSource\"},\"glyph\":{\"id\":\"21929\",\"type\":\"Line\"},\"hover_glyph\":null,\"muted_glyph\":null,\"nonselection_glyph\":{\"id\":\"21930\",\"type\":\"Line\"},\"selection_glyph\":null,\"view\":{\"id\":\"21932\",\"type\":\"CDSView\"}},\"id\":\"21931\",\"type\":\"GlyphRenderer\"},{\"attributes\":{\"line_color\":\"#96ceb4\",\"x\":{\"field\":\"x\"},\"y\":{\"field\":\"y\"}},\"id\":\"21899\",\"type\":\"Line\"},{\"attributes\":{\"fill_color\":{\"value\":\"tomato\"},\"line_color\":{\"value\":\"tomato\"},\"radius\":{\"units\":\"data\",\"value\":0.05},\"x\":{\"field\":\"x\"},\"y\":{\"field\":\"y\"}},\"id\":\"21947\",\"type\":\"Circle\"},{\"attributes\":{},\"id\":\"22580\",\"type\":\"UnionRenderers\"},{\"attributes\":{\"text\":\"Average Nutritional Content Per Special Diet\"},\"id\":\"21853\",\"type\":\"Title\"},{\"attributes\":{\"callback\":null,\"data\":{\"x\":[\"Proteins\",\"Fibers\",\"Fat\",\"Sodium\"],\"y\":{\"__ndarray__\":\"/aqhrxp6LEBIGA1Rnt3rP2Know/UkyNAqN8qGPDW4z8=\",\"dtype\":\"float64\",\"shape\":[4]}},\"selected\":{\"id\":\"22585\",\"type\":\"Selection\"},\"selection_policy\":{\"id\":\"22584\",\"type\":\"UnionRenderers\"}},\"id\":\"21951\",\"type\":\"ColumnDataSource\"},{\"attributes\":{},\"id\":\"21864\",\"type\":\"CategoricalTicker\"},{\"attributes\":{\"callback\":null,\"data\":{\"x\":[\"Proteins\",\"Fibers\",\"Fat\",\"Sodium\"],\"y\":{\"__ndarray__\":\"dpMYBFYOHkAzDgiH8S0VQN/nmEXlHTVA/YsjtNTV5j8=\",\"dtype\":\"float64\",\"shape\":[4]}},\"selected\":{\"id\":\"22587\",\"type\":\"Selection\"},\"selection_policy\":{\"id\":\"22586\",\"type\":\"UnionRenderers\"}},\"id\":\"21956\",\"type\":\"ColumnDataSource\"},{\"attributes\":{\"formatter\":{\"id\":\"21894\",\"type\":\"CategoricalTickFormatter\"},\"ticker\":{\"id\":\"21864\",\"type\":\"CategoricalTicker\"}},\"id\":\"21863\",\"type\":\"CategoricalAxis\"},{\"attributes\":{\"line_alpha\":0.1,\"line_color\":\"#1f77b4\",\"x\":{\"field\":\"x\"},\"y\":{\"field\":\"y\"}},\"id\":\"21900\",\"type\":\"Line\"},{\"attributes\":{\"callback\":null},\"id\":\"21857\",\"type\":\"DataRange1d\"},{\"attributes\":{\"callback\":null,\"factors\":[\"Proteins\",\"Fibers\",\"Fat\",\"Sodium\"]},\"id\":\"21855\",\"type\":\"FactorRange\"},{\"attributes\":{},\"id\":\"21926\",\"type\":\"Selection\"},{\"attributes\":{\"fill_color\":{\"value\":\"#96ceb4\"},\"line_color\":{\"value\":\"#96ceb4\"},\"radius\":{\"units\":\"data\",\"value\":0.05},\"x\":{\"field\":\"x\"},\"y\":{\"field\":\"y\"}},\"id\":\"21952\",\"type\":\"Circle\"},{\"attributes\":{\"callback\":null,\"data\":{\"x\":[\"Proteins\",\"Fibers\",\"Fat\",\"Sodium\"],\"y\":{\"__ndarray__\":\"E/DNq4nnFEBVNBLwzasMQCz5xZJfrB5AaZYnNtB87z8=\",\"dtype\":\"float64\",\"shape\":[4]}},\"selected\":{\"id\":\"22581\",\"type\":\"Selection\"},\"selection_policy\":{\"id\":\"22580\",\"type\":\"UnionRenderers\"}},\"id\":\"21928\",\"type\":\"ColumnDataSource\"},{\"attributes\":{\"source\":{\"id\":\"21912\",\"type\":\"ColumnDataSource\"}},\"id\":\"21916\",\"type\":\"CDSView\"},{\"attributes\":{},\"id\":\"22587\",\"type\":\"Selection\"},{\"attributes\":{\"line_alpha\":0.1,\"line_color\":\"#1f77b4\",\"x\":{\"field\":\"x\"},\"y\":{\"field\":\"y\"}},\"id\":\"21914\",\"type\":\"Line\"},{\"attributes\":{\"data_source\":{\"id\":\"21912\",\"type\":\"ColumnDataSource\"},\"glyph\":{\"id\":\"21913\",\"type\":\"Line\"},\"hover_glyph\":null,\"muted_glyph\":null,\"nonselection_glyph\":{\"id\":\"21914\",\"type\":\"Line\"},\"selection_glyph\":null,\"view\":{\"id\":\"21916\",\"type\":\"CDSView\"}},\"id\":\"21915\",\"type\":\"GlyphRenderer\"},{\"attributes\":{\"callback\":null,\"data\":{\"x\":[\"Proteins\",\"Fibers\",\"Fat\",\"Sodium\"],\"y\":{\"__ndarray__\":\"dpMYBFYOHkAzDgiH8S0VQN/nmEXlHTVA/YsjtNTV5j8=\",\"dtype\":\"float64\",\"shape\":[4]}},\"selected\":{\"id\":\"21944\",\"type\":\"Selection\"},\"selection_policy\":{\"id\":\"21943\",\"type\":\"UnionRenderers\"}},\"id\":\"21912\",\"type\":\"ColumnDataSource\"},{\"attributes\":{\"source\":{\"id\":\"21885\",\"type\":\"ColumnDataSource\"}},\"id\":\"21889\",\"type\":\"CDSView\"},{\"attributes\":{\"items\":[{\"id\":\"21897\",\"type\":\"LegendItem\"},{\"id\":\"21911\",\"type\":\"LegendItem\"},{\"id\":\"21927\",\"type\":\"LegendItem\"},{\"id\":\"21945\",\"type\":\"LegendItem\"}],\"location\":\"top_left\"},\"id\":\"21896\",\"type\":\"Legend\"},{\"attributes\":{\"source\":{\"id\":\"21898\",\"type\":\"ColumnDataSource\"}},\"id\":\"21902\",\"type\":\"CDSView\"},{\"attributes\":{},\"id\":\"21892\",\"type\":\"BasicTickFormatter\"},{\"attributes\":{\"line_color\":\"indigo\",\"x\":{\"field\":\"x\"},\"y\":{\"field\":\"y\"}},\"id\":\"21913\",\"type\":\"Line\"},{\"attributes\":{},\"id\":\"21877\",\"type\":\"HelpTool\"},{\"attributes\":{\"data_source\":{\"id\":\"21885\",\"type\":\"ColumnDataSource\"},\"glyph\":{\"id\":\"21886\",\"type\":\"Line\"},\"hover_glyph\":null,\"muted_glyph\":null,\"nonselection_glyph\":{\"id\":\"21887\",\"type\":\"Line\"},\"selection_glyph\":null,\"view\":{\"id\":\"21889\",\"type\":\"CDSView\"}},\"id\":\"21888\",\"type\":\"GlyphRenderer\"},{\"attributes\":{\"callback\":null,\"data\":{\"x\":[\"Proteins\",\"Fibers\",\"Fat\",\"Sodium\"],\"y\":{\"__ndarray__\":\"vxR7pKtVIUDdpuAYXFLDPwNWDi2yXSVAfkSZhD47zT8=\",\"dtype\":\"float64\",\"shape\":[4]}},\"selected\":{\"id\":\"22583\",\"type\":\"Selection\"},\"selection_policy\":{\"id\":\"22582\",\"type\":\"UnionRenderers\"}},\"id\":\"21946\",\"type\":\"ColumnDataSource\"},{\"attributes\":{\"line_alpha\":0.1,\"line_color\":\"#1f77b4\",\"x\":{\"field\":\"x\"},\"y\":{\"field\":\"y\"}},\"id\":\"21887\",\"type\":\"Line\"},{\"attributes\":{},\"id\":\"22584\",\"type\":\"UnionRenderers\"},{\"attributes\":{\"active_drag\":\"auto\",\"active_inspect\":\"auto\",\"active_multi\":null,\"active_scroll\":\"auto\",\"active_tap\":\"auto\",\"tools\":[{\"id\":\"21872\",\"type\":\"PanTool\"},{\"id\":\"21873\",\"type\":\"WheelZoomTool\"},{\"id\":\"21874\",\"type\":\"BoxZoomTool\"},{\"id\":\"21875\",\"type\":\"SaveTool\"},{\"id\":\"21876\",\"type\":\"ResetTool\"},{\"id\":\"21877\",\"type\":\"HelpTool\"}]},\"id\":\"21878\",\"type\":\"Toolbar\"},{\"attributes\":{},\"id\":\"22582\",\"type\":\"UnionRenderers\"},{\"attributes\":{},\"id\":\"22583\",\"type\":\"Selection\"},{\"attributes\":{},\"id\":\"22588\",\"type\":\"UnionRenderers\"},{\"attributes\":{},\"id\":\"22589\",\"type\":\"Selection\"},{\"attributes\":{},\"id\":\"22586\",\"type\":\"UnionRenderers\"},{\"attributes\":{},\"id\":\"22585\",\"type\":\"Selection\"},{\"attributes\":{\"overlay\":{\"id\":\"21895\",\"type\":\"BoxAnnotation\"}},\"id\":\"21874\",\"type\":\"BoxZoomTool\"},{\"attributes\":{},\"id\":\"21894\",\"type\":\"CategoricalTickFormatter\"},{\"attributes\":{\"source\":{\"id\":\"21961\",\"type\":\"ColumnDataSource\"}},\"id\":\"21965\",\"type\":\"CDSView\"},{\"attributes\":{\"fill_color\":{\"value\":\"gold\"},\"line_color\":{\"value\":\"gold\"},\"radius\":{\"units\":\"data\",\"value\":0.05},\"x\":{\"field\":\"x\"},\"y\":{\"field\":\"y\"}},\"id\":\"21962\",\"type\":\"Circle\"},{\"attributes\":{\"fill_alpha\":{\"value\":0.1},\"fill_color\":{\"value\":\"#1f77b4\"},\"line_alpha\":{\"value\":0.1},\"line_color\":{\"value\":\"#1f77b4\"},\"radius\":{\"units\":\"data\",\"value\":0.05},\"x\":{\"field\":\"x\"},\"y\":{\"field\":\"y\"}},\"id\":\"21963\",\"type\":\"Circle\"},{\"attributes\":{\"data_source\":{\"id\":\"21956\",\"type\":\"ColumnDataSource\"},\"glyph\":{\"id\":\"21957\",\"type\":\"Circle\"},\"hover_glyph\":null,\"muted_glyph\":null,\"nonselection_glyph\":{\"id\":\"21958\",\"type\":\"Circle\"},\"selection_glyph\":null,\"view\":{\"id\":\"21960\",\"type\":\"CDSView\"}},\"id\":\"21959\",\"type\":\"GlyphRenderer\"},{\"attributes\":{},\"id\":\"21876\",\"type\":\"ResetTool\"},{\"attributes\":{\"data_source\":{\"id\":\"21961\",\"type\":\"ColumnDataSource\"},\"glyph\":{\"id\":\"21962\",\"type\":\"Circle\"},\"hover_glyph\":null,\"muted_glyph\":null,\"nonselection_glyph\":{\"id\":\"21963\",\"type\":\"Circle\"},\"selection_glyph\":null,\"view\":{\"id\":\"21965\",\"type\":\"CDSView\"}},\"id\":\"21964\",\"type\":\"GlyphRenderer\"},{\"attributes\":{\"label\":{\"value\":\"Dairy Product\"},\"renderers\":[{\"id\":\"21888\",\"type\":\"GlyphRenderer\"}]},\"id\":\"21897\",\"type\":\"LegendItem\"},{\"attributes\":{\"callback\":null,\"data\":{\"x\":[\"Proteins\",\"Fibers\",\"Fat\",\"Sodium\"],\"y\":{\"__ndarray__\":\"/aqhrxp6LEBIGA1Rnt3rP2Know/UkyNAqN8qGPDW4z8=\",\"dtype\":\"float64\",\"shape\":[4]}},\"selected\":{\"id\":\"21926\",\"type\":\"Selection\"},\"selection_policy\":{\"id\":\"21925\",\"type\":\"UnionRenderers\"}},\"id\":\"21898\",\"type\":\"ColumnDataSource\"},{\"attributes\":{\"line_color\":\"gold\",\"x\":{\"field\":\"x\"},\"y\":{\"field\":\"y\"}},\"id\":\"21929\",\"type\":\"Line\"},{\"attributes\":{\"source\":{\"id\":\"21956\",\"type\":\"ColumnDataSource\"}},\"id\":\"21960\",\"type\":\"CDSView\"},{\"attributes\":{},\"id\":\"21909\",\"type\":\"UnionRenderers\"},{\"attributes\":{},\"id\":\"22581\",\"type\":\"Selection\"},{\"attributes\":{},\"id\":\"21910\",\"type\":\"Selection\"},{\"attributes\":{},\"id\":\"21872\",\"type\":\"PanTool\"},{\"attributes\":{},\"id\":\"21873\",\"type\":\"WheelZoomTool\"},{\"attributes\":{},\"id\":\"21875\",\"type\":\"SaveTool\"},{\"attributes\":{\"source\":{\"id\":\"21951\",\"type\":\"ColumnDataSource\"}},\"id\":\"21955\",\"type\":\"CDSView\"},{\"attributes\":{\"fill_alpha\":{\"value\":0.1},\"fill_color\":{\"value\":\"#1f77b4\"},\"line_alpha\":{\"value\":0.1},\"line_color\":{\"value\":\"#1f77b4\"},\"radius\":{\"units\":\"data\",\"value\":0.05},\"x\":{\"field\":\"x\"},\"y\":{\"field\":\"y\"}},\"id\":\"21958\",\"type\":\"Circle\"}],\"root_ids\":[\"21852\"]},\"title\":\"Bokeh Application\",\"version\":\"1.4.0\"}};\n",
       "  var render_items = [{\"docid\":\"08442d48-0a68-4723-8954-5d5ef8cdb7bd\",\"roots\":{\"21852\":\"cd09a7a5-06eb-4cc5-a730-f81953e25e82\"}}];\n",
       "  root.Bokeh.embed.embed_items_notebook(docs_json, render_items);\n",
       "\n",
       "  }\n",
       "  if (root.Bokeh !== undefined) {\n",
       "    embed_document(root);\n",
       "  } else {\n",
       "    var attempts = 0;\n",
       "    var timer = setInterval(function(root) {\n",
       "      if (root.Bokeh !== undefined) {\n",
       "        clearInterval(timer);\n",
       "        embed_document(root);\n",
       "      } else {\n",
       "        attempts++;\n",
       "        if (attempts > 100) {\n",
       "          clearInterval(timer);\n",
       "          console.log(\"Bokeh: ERROR: Unable to run BokehJS code because BokehJS library is missing\");\n",
       "        }\n",
       "      }\n",
       "    }, 10, root)\n",
       "  }\n",
       "})(window);"
      ],
      "application/vnd.bokehjs_exec.v0+json": ""
     },
     "metadata": {
      "application/vnd.bokehjs_exec.v0+json": {
       "id": "21852"
      }
     },
     "output_type": "display_data"
    }
   ],
   "source": [
    "from bokeh.models.annotations import Label\n",
    "\n",
    "#Initializing our plot\n",
    "p = figure(x_range=nutr_cat.index.tolist(), title='Average Nutritional Content Per Special Diet')\n",
    "\n",
    "#Plotting a line\n",
    "p.line(nutr_cat.index,\n",
    "      nutr_cat['Dairy Product'],\n",
    "        line_color=\"tomato\", legend_label = 'Dairy Product',\n",
    "      line_width=1)\n",
    "\n",
    "p.line(nutr_cat.index,\n",
    "      nutr_cat['Meat Product'],\n",
    "       line_color='#96ceb4',  legend_label = 'Meat Product',\n",
    "      line_width=1)\n",
    "\n",
    "p.line(nutr_cat.index,\n",
    "      nutr_cat['Vegan'], line_color=\"indigo\", legend_label = 'Vegan',\n",
    "      line_width=1)\n",
    "\n",
    "p.line(nutr_cat.index,\n",
    "      nutr_cat['Vegetarian'],\n",
    "       line_color=\"gold\", legend_label = 'Vegetarian',\n",
    "      line_width=1)\n",
    "\n",
    "#Plotting data points as cirles\n",
    "p.circle(nutr_cat.index,\n",
    "      nutr_cat['Dairy Product'],\n",
    "        radius=.05,\n",
    "        fill_color=\"tomato\", line_color='tomato')\n",
    "\n",
    "p.circle(nutr_cat.index,\n",
    "      nutr_cat['Meat Product'],\n",
    "        radius=.05,\n",
    "        fill_color='#96ceb4', line_color = '#96ceb4')\n",
    "\n",
    "p.circle(nutr_cat.index,\n",
    "      nutr_cat['Vegan'],\n",
    "        radius=.05,\n",
    "        fill_color=\"indigo\", line_color='indigo')\n",
    "\n",
    "p.circle(nutr_cat.index,\n",
    "      nutr_cat['Vegetarian'],\n",
    "        radius=.05,\n",
    "        fill_color='gold', line_color='gold')\n",
    "\n",
    "\n",
    "p.legend.location = \"top_left\"\n",
    "\n",
    "show(p)"
   ]
  },
  {
   "cell_type": "markdown",
   "metadata": {},
   "source": [
    "Meat products generally have high average values of protein, fat, and sodium while vegetarian and vegan products take the lead in average fiber content. \n",
    "\n",
    "All types of diets tend to be fairly high in fat, let's take a closer look at how the type of fat differs by diet. Remember, bad fat per 100 grams measures the total amount of both saturated and trans fats per 100 grams in the product"
   ]
  },
  {
   "cell_type": "code",
   "execution_count": 120,
   "metadata": {},
   "outputs": [
    {
     "data": {
      "text/html": [
       "\n",
       "\n",
       "\n",
       "\n",
       "\n",
       "\n",
       "  <div class=\"bk-root\" id=\"5f0c4458-b900-41bb-9b4c-d50ec0db7140\" data-root-id=\"22722\"></div>\n"
      ]
     },
     "metadata": {},
     "output_type": "display_data"
    },
    {
     "data": {
      "application/javascript": [
       "(function(root) {\n",
       "  function embed_document(root) {\n",
       "    \n",
       "  var docs_json = {\"2e881878-e9e0-4280-9fca-4fb0b66409b8\":{\"roots\":{\"references\":[{\"attributes\":{\"below\":[{\"id\":\"22733\",\"type\":\"LinearAxis\"}],\"center\":[{\"id\":\"22737\",\"type\":\"Grid\"},{\"id\":\"22742\",\"type\":\"Grid\"},{\"id\":\"22767\",\"type\":\"Legend\"}],\"left\":[{\"id\":\"22738\",\"type\":\"LinearAxis\"}],\"renderers\":[{\"id\":\"22759\",\"type\":\"GlyphRenderer\"},{\"id\":\"22772\",\"type\":\"GlyphRenderer\"},{\"id\":\"22786\",\"type\":\"GlyphRenderer\"},{\"id\":\"22802\",\"type\":\"GlyphRenderer\"}],\"title\":{\"id\":\"22723\",\"type\":\"Title\"},\"toolbar\":{\"id\":\"22749\",\"type\":\"Toolbar\"},\"x_range\":{\"id\":\"22725\",\"type\":\"DataRange1d\"},\"x_scale\":{\"id\":\"22729\",\"type\":\"LinearScale\"},\"y_range\":{\"id\":\"22727\",\"type\":\"DataRange1d\"},\"y_scale\":{\"id\":\"22731\",\"type\":\"LinearScale\"}},\"id\":\"22722\",\"subtype\":\"Figure\",\"type\":\"Plot\"},{\"attributes\":{\"dimension\":1,\"ticker\":{\"id\":\"22739\",\"type\":\"BasicTicker\"}},\"id\":\"22742\",\"type\":\"Grid\"},{\"attributes\":{},\"id\":\"22781\",\"type\":\"Selection\"},{\"attributes\":{},\"id\":\"22815\",\"type\":\"Selection\"},{\"attributes\":{\"source\":{\"id\":\"22769\",\"type\":\"ColumnDataSource\"}},\"id\":\"22773\",\"type\":\"CDSView\"},{\"attributes\":{\"fill_alpha\":{\"value\":0.1},\"fill_color\":{\"value\":\"#1f77b4\"},\"line_alpha\":{\"value\":0.1},\"line_color\":{\"value\":\"#1f77b4\"},\"size\":{\"units\":\"screen\",\"value\":10},\"x\":{\"field\":\"x\"},\"y\":{\"field\":\"y\"}},\"id\":\"22771\",\"type\":\"Circle\"},{\"attributes\":{\"callback\":null,\"data\":{\"x\":{\"__ndarray__\":\"6SYxCKwcyj8AAAAAAAAAAAAAAAAAAAAAmpmZmZmZAUCamZmZmZkBQJqZmZmZmQFAmpmZmZmZAUAzMzMzMzPzPzMzMzMzM/M/pHA9Ctej/D8AAAAAAAAAAAAAAAAAAAAAAAAAAAAAAAAAAAAAAAD4PzMzMzMzM+M/rkfhehSuGkAAAAAAAAAgQAAAAAAAAPA/\",\"dtype\":\"float64\",\"shape\":[18]},\"y\":{\"__ndarray__\":\"FK5H4XoU+j8AAAAAAAAkQAAAAAAAAAAAMzMzMzMzEUAzMzMzMzMRQJqZmZmZmRVAmpmZmZmZFUAAAAAAAAAgQAAAAAAAACBAmpmZmZkZMEAAAAAAAAAAAAAAAAAAAAAAAAAAAAAAAADNzMzMzEwwQGZmZmZmZg5AZmZmZmamQEAAAAAAAIAwQAAAAAAAABRA\",\"dtype\":\"float64\",\"shape\":[18]}},\"selected\":{\"id\":\"23454\",\"type\":\"Selection\"},\"selection_policy\":{\"id\":\"23453\",\"type\":\"UnionRenderers\"}},\"id\":\"22799\",\"type\":\"ColumnDataSource\"},{\"attributes\":{},\"id\":\"22797\",\"type\":\"Selection\"},{\"attributes\":{},\"id\":\"22734\",\"type\":\"BasicTicker\"},{\"attributes\":{\"overlay\":{\"id\":\"22766\",\"type\":\"BoxAnnotation\"}},\"id\":\"22745\",\"type\":\"BoxZoomTool\"},{\"attributes\":{},\"id\":\"22747\",\"type\":\"ResetTool\"},{\"attributes\":{\"source\":{\"id\":\"22799\",\"type\":\"ColumnDataSource\"}},\"id\":\"22803\",\"type\":\"CDSView\"},{\"attributes\":{},\"id\":\"22729\",\"type\":\"LinearScale\"},{\"attributes\":{},\"id\":\"22746\",\"type\":\"SaveTool\"},{\"attributes\":{\"label\":{\"value\":\"Dairy Product\"},\"renderers\":[{\"id\":\"22759\",\"type\":\"GlyphRenderer\"}]},\"id\":\"22768\",\"type\":\"LegendItem\"},{\"attributes\":{\"callback\":null},\"id\":\"22725\",\"type\":\"DataRange1d\"},{\"attributes\":{\"fill_alpha\":{\"value\":0.2},\"fill_color\":{\"value\":\"#96ceb4\"},\"line_color\":{\"value\":\"#96ceb4\"},\"size\":{\"units\":\"screen\",\"value\":10},\"x\":{\"field\":\"x\"},\"y\":{\"field\":\"y\"}},\"id\":\"22770\",\"type\":\"Circle\"},{\"attributes\":{\"source\":{\"id\":\"22783\",\"type\":\"ColumnDataSource\"}},\"id\":\"22787\",\"type\":\"CDSView\"},{\"attributes\":{},\"id\":\"22731\",\"type\":\"LinearScale\"},{\"attributes\":{\"axis_label\":\"Bad Fats Per 100g\",\"formatter\":{\"id\":\"22765\",\"type\":\"BasicTickFormatter\"},\"ticker\":{\"id\":\"22734\",\"type\":\"BasicTicker\"}},\"id\":\"22733\",\"type\":\"LinearAxis\"},{\"attributes\":{},\"id\":\"22744\",\"type\":\"WheelZoomTool\"},{\"attributes\":{\"label\":{\"value\":\"Vegan\"},\"renderers\":[{\"id\":\"22786\",\"type\":\"GlyphRenderer\"}]},\"id\":\"22798\",\"type\":\"LegendItem\"},{\"attributes\":{\"callback\":null,\"data\":{\"x\":{\"__ndarray__\":\"cT0K16Nw9T+PwvUoXI8cQAAAAAAAAAAAAAAAAAAAGED6fmq8dJPsPwAAAAAAAAAAZmZmZmZmJUBSuB6F69EiQJqZmZmZmSRAyqFFtvP96D9cj8L1KNwhQAAAAAAAABlAAAAAAAAAEECJFtnO91PbP+xRuB6FayJAAAAAAAAAAAAAAAAAAAAAAGZmZmZmZgJA9ihcj8L1/D/2KFyPwvUGQAAAAAAAAARA7FG4HoXr8T8AAAAAAAAAAAAAAAAAAAAAXI/C9SjcIUCF61G4HoUjQDMzMzMzMyxAMzMzMzMz0z8AAAAAAAAAADMzMzMzMxFAz/dT46UbEkBmZmZmZmYlQBKDwMqhRdY/pHA9CtejEUCF61G4HoUHQClcj8L1KBxAAAAAAAAAAAAAAAAAAAAIQAAAAAAAACxAAAAAAAAALEAAAAAAAADwP2dmZmZmZvY/mZmZmZmZ6T+ZmZmZmZnpP83MzMzMzBBAZ2ZmZmZmAkBnZmZmZmYCQDQzMzMzM/M/MzMzMzMzB0CamZmZmZn5P5qZmZmZmfk/mpmZmZmZBUCamZmZmZkFQM3MzMzMzAhAzczMzMzMFkAAAAAAAAAWQJqZmZmZmRFAzczMzMzMBECamZmZmZn5P5qZmZmZmdk/mpmZmZmZAUDNzMzMzMz0P83MzMzMzABAmpmZmZmZ2T+F61G4HoXjP+xRuB6F6+k/\",\"dtype\":\"float64\",\"shape\":[66]},\"y\":{\"__ndarray__\":\"XI/C9SjcIUBmZmZmZmY1QI/C9ShcjwxAAAAAAAAALkBxPQrXo3AFQAAAAAAAAAAAmpmZmZmZPEBmZmZmZuY5QJqZmZmZmTtA9ihcj8L1CEAAAAAAAAA5QJqZmZmZmTNAAAAAAAAAJECF61G4HoUUQDMzMzMzszdAuB6F61G4+j+4HoXrUbj6PwAAAAAAABRAmpmZmZmZKkCamZmZmZkmQM3MzMzMzCZAzczMzMzMCkD6fmq8dJPsP/p+arx0k+w/AAAAAAAAOUCamZmZmZk5QDMzMzMzM0NAAAAAAAAAAECkcD0K16P8PwAAAAAAAC5AzczMzMzMJ0CamZmZmZk8QM3MzMzMzPQ/hetRuB6FF0AzMzMzMzMlQGZmZmZm5jBAH4XrUbge9T8AAAAAAAAmQIXrUbgehRRAhetRuB6FFECamZmZmZkVQGZmZmZmZhRAzczMzMzMGEDNzMzMzMwYQGZmZmZmZhxAAAAAAAAAHkAAAAAAAAAeQAAAAAAAABxAZmZmZmZmHEAzMzMzMzMiQDMzMzMzMyJAmpmZmZmZH0CamZmZmZkfQM3MzMzMzBpAAAAAAAAAJkDNzMzMzMwjQDMzMzMzMyFAzczMzMzMIkAAAAAAAAAgQAAAAAAAAARAAAAAAAAAGkBmZmZmZmYQQGZmZmZmZhhAMzMzMzMz8z+amZmZmZn5P83MzMzMzABA\",\"dtype\":\"float64\",\"shape\":[66]}},\"selected\":{\"id\":\"22797\",\"type\":\"Selection\"},\"selection_policy\":{\"id\":\"22796\",\"type\":\"UnionRenderers\"}},\"id\":\"22769\",\"type\":\"ColumnDataSource\"},{\"attributes\":{},\"id\":\"22780\",\"type\":\"UnionRenderers\"},{\"attributes\":{\"active_drag\":\"auto\",\"active_inspect\":\"auto\",\"active_multi\":null,\"active_scroll\":\"auto\",\"active_tap\":\"auto\",\"tools\":[{\"id\":\"22743\",\"type\":\"PanTool\"},{\"id\":\"22744\",\"type\":\"WheelZoomTool\"},{\"id\":\"22745\",\"type\":\"BoxZoomTool\"},{\"id\":\"22746\",\"type\":\"SaveTool\"},{\"id\":\"22747\",\"type\":\"ResetTool\"},{\"id\":\"22748\",\"type\":\"HelpTool\"}]},\"id\":\"22749\",\"type\":\"Toolbar\"},{\"attributes\":{\"data_source\":{\"id\":\"22799\",\"type\":\"ColumnDataSource\"},\"glyph\":{\"id\":\"22800\",\"type\":\"Circle\"},\"hover_glyph\":null,\"muted_glyph\":null,\"nonselection_glyph\":{\"id\":\"22801\",\"type\":\"Circle\"},\"selection_glyph\":null,\"view\":{\"id\":\"22803\",\"type\":\"CDSView\"}},\"id\":\"22802\",\"type\":\"GlyphRenderer\"},{\"attributes\":{},\"id\":\"22743\",\"type\":\"PanTool\"},{\"attributes\":{},\"id\":\"22765\",\"type\":\"BasicTickFormatter\"},{\"attributes\":{\"data_source\":{\"id\":\"22769\",\"type\":\"ColumnDataSource\"},\"glyph\":{\"id\":\"22770\",\"type\":\"Circle\"},\"hover_glyph\":null,\"muted_glyph\":null,\"nonselection_glyph\":{\"id\":\"22771\",\"type\":\"Circle\"},\"selection_glyph\":null,\"view\":{\"id\":\"22773\",\"type\":\"CDSView\"}},\"id\":\"22772\",\"type\":\"GlyphRenderer\"},{\"attributes\":{\"label\":{\"value\":\"Meat Product\"},\"renderers\":[{\"id\":\"22772\",\"type\":\"GlyphRenderer\"}]},\"id\":\"22782\",\"type\":\"LegendItem\"},{\"attributes\":{},\"id\":\"23454\",\"type\":\"Selection\"},{\"attributes\":{\"data_source\":{\"id\":\"22783\",\"type\":\"ColumnDataSource\"},\"glyph\":{\"id\":\"22784\",\"type\":\"Circle\"},\"hover_glyph\":null,\"muted_glyph\":null,\"nonselection_glyph\":{\"id\":\"22785\",\"type\":\"Circle\"},\"selection_glyph\":null,\"view\":{\"id\":\"22787\",\"type\":\"CDSView\"}},\"id\":\"22786\",\"type\":\"GlyphRenderer\"},{\"attributes\":{},\"id\":\"22763\",\"type\":\"BasicTickFormatter\"},{\"attributes\":{\"fill_alpha\":{\"value\":0.1},\"fill_color\":{\"value\":\"#1f77b4\"},\"line_alpha\":{\"value\":0.1},\"line_color\":{\"value\":\"#1f77b4\"},\"size\":{\"units\":\"screen\",\"value\":10},\"x\":{\"field\":\"x\"},\"y\":{\"field\":\"y\"}},\"id\":\"22801\",\"type\":\"Circle\"},{\"attributes\":{\"bottom_units\":\"screen\",\"fill_alpha\":{\"value\":0.5},\"fill_color\":{\"value\":\"lightgrey\"},\"left_units\":\"screen\",\"level\":\"overlay\",\"line_alpha\":{\"value\":1.0},\"line_color\":{\"value\":\"black\"},\"line_dash\":[4,4],\"line_width\":{\"value\":2},\"render_mode\":\"css\",\"right_units\":\"screen\",\"top_units\":\"screen\"},\"id\":\"22766\",\"type\":\"BoxAnnotation\"},{\"attributes\":{},\"id\":\"22814\",\"type\":\"UnionRenderers\"},{\"attributes\":{},\"id\":\"23453\",\"type\":\"UnionRenderers\"},{\"attributes\":{\"fill_alpha\":{\"value\":0.1},\"fill_color\":{\"value\":\"#1f77b4\"},\"line_alpha\":{\"value\":0.1},\"line_color\":{\"value\":\"#1f77b4\"},\"size\":{\"units\":\"screen\",\"value\":10},\"x\":{\"field\":\"x\"},\"y\":{\"field\":\"y\"}},\"id\":\"22785\",\"type\":\"Circle\"},{\"attributes\":{},\"id\":\"22739\",\"type\":\"BasicTicker\"},{\"attributes\":{\"source\":{\"id\":\"22756\",\"type\":\"ColumnDataSource\"}},\"id\":\"22760\",\"type\":\"CDSView\"},{\"attributes\":{},\"id\":\"22796\",\"type\":\"UnionRenderers\"},{\"attributes\":{\"items\":[{\"id\":\"22768\",\"type\":\"LegendItem\"},{\"id\":\"22782\",\"type\":\"LegendItem\"},{\"id\":\"22798\",\"type\":\"LegendItem\"},{\"id\":\"22816\",\"type\":\"LegendItem\"}],\"location\":\"top_left\"},\"id\":\"22767\",\"type\":\"Legend\"},{\"attributes\":{\"label\":{\"value\":\"Vegetarian\"},\"renderers\":[{\"id\":\"22802\",\"type\":\"GlyphRenderer\"}]},\"id\":\"22816\",\"type\":\"LegendItem\"},{\"attributes\":{\"data_source\":{\"id\":\"22756\",\"type\":\"ColumnDataSource\"},\"glyph\":{\"id\":\"22757\",\"type\":\"Circle\"},\"hover_glyph\":null,\"muted_glyph\":null,\"nonselection_glyph\":{\"id\":\"22758\",\"type\":\"Circle\"},\"selection_glyph\":null,\"view\":{\"id\":\"22760\",\"type\":\"CDSView\"}},\"id\":\"22759\",\"type\":\"GlyphRenderer\"},{\"attributes\":{\"fill_alpha\":{\"value\":0.2},\"fill_color\":{\"value\":\"gold\"},\"line_color\":{\"value\":\"gold\"},\"size\":{\"units\":\"screen\",\"value\":10},\"x\":{\"field\":\"x\"},\"y\":{\"field\":\"y\"}},\"id\":\"22800\",\"type\":\"Circle\"},{\"attributes\":{\"fill_alpha\":{\"value\":0.1},\"fill_color\":{\"value\":\"#1f77b4\"},\"line_alpha\":{\"value\":0.1},\"line_color\":{\"value\":\"#1f77b4\"},\"size\":{\"units\":\"screen\",\"value\":10},\"x\":{\"field\":\"x\"},\"y\":{\"field\":\"y\"}},\"id\":\"22758\",\"type\":\"Circle\"},{\"attributes\":{\"fill_alpha\":{\"value\":0.2},\"fill_color\":{\"value\":\"indigo\"},\"line_color\":{\"value\":\"indigo\"},\"size\":{\"units\":\"screen\",\"value\":10},\"x\":{\"field\":\"x\"},\"y\":{\"field\":\"y\"}},\"id\":\"22784\",\"type\":\"Circle\"},{\"attributes\":{\"callback\":null,\"data\":{\"x\":{\"__ndarray__\":\"pHA9Ctej/D8AAAAAAAAAAAAAAAAAAAAAzczMzMxMN0AzMzMzMzMsQAAAAAAAADBAAAAAAAAAMEDhehSuR+HKP1K4HoXrUew/uB6F61G4+j8AAAAAAAAAALgehetRuPo/AAAAAAAAAACPwvUoXI8MQHE9CtejcBVAcT0K16NwFUAUrkfhehQdQAAAAAAAAAAAAAAAAAAAAAAAAAAAAAAeQJqZmZmZmfk/ZmZmZmZm5j8zMzMzMzMFQDMzMzMzMwVAAAAAAAAAAAB56SYxCKzgPz0K16NwPR9ApHA9Ctej/D+PwvUoXI8MQFyPwvUoXP8/XI/C9ShcBUCZmZmZmZnpP2ZmZmZmZi9AZmZmZmbmMkAzMzMzMzM8QJqZmZmZGTRAmpmZmZkZO0CamZmZmZk2QHA9CtejcCpAcD0K16NwKkBwPQrXo3AqQIcW2c73U+M/hxbZzvdT4z+HFtnO91PjPwAAAAAAABlAAAAAAACANkAAAAAAAAAAAAAAAAAAAAAAmpmZmZmZ+T+amZmZmZn5P2ZmZmZmZhBAAAAAAAAALkBnZmZmZmYCQGZmZmZmZgZAAAAAAAAACEAAAAAAAAAQQAAAAAAAAAAAPQrXo3A9H0AAAAAAAABJQKRwPQrXowpA\",\"dtype\":\"float64\",\"shape\":[60]},\"y\":{\"__ndarray__\":\"mpmZmZmZPECamZmZmZm5P5qZmZmZmbk/AAAAAADAQ0AAAAAAAABJQAAAAAAAADBAAAAAAAAAMEAUrkfhehT+P1K4HoXrUQxAAAAAAAAA+H8AAAAAAAAAAAAAAAAAABRAAAAAAAAAAACuR+F6FG41QJqZmZmZmTxAmpmZmZmZPEBmZmZmZmYwQB+F61G4HhtASOF6FK5H9T+amZmZmZkqQJqZmZmZmfk/XI/C9ShcGUCamZmZmZkoQDMzMzMzMyVAAAAAAAAAAADNzMzMzMwkQGZmZmZm5kVArkfhehRuNUDsUbgehdtRQGZmZmZmZitApHA9CtejCkBmZmZmZmYUQDMzMzMzMzxAzczMzMyMQkAAAAAAAMBHQGZmZmZm5klAMzMzMzNzR0BmZmZmZuZFQM3MzMzMTDRAzczMzMxMNEDNzMzMzEw0QAAAAAAAAABAAAAAAAAAAEAAAAAAAAAAQDMzMzMzs01AAAAAAACARkBmZmZmZmbmP2ZmZmZmZuY/ZmZmZmZm/j9mZmZmZmb+PwAAAAAAACpAAAAAAAAAWUBmZmZmZmYvQDMzMzMzszJAAAAAAACAM0AzMzMzMzM6QAAAAAAAAOA/zczMzMxMREAzMzMzM7NNQGZmZmZmpkVA\",\"dtype\":\"float64\",\"shape\":[60]}},\"selected\":{\"id\":\"22815\",\"type\":\"Selection\"},\"selection_policy\":{\"id\":\"22814\",\"type\":\"UnionRenderers\"}},\"id\":\"22783\",\"type\":\"ColumnDataSource\"},{\"attributes\":{\"text\":\"Relationship Between Fat and Bad Fats\"},\"id\":\"22723\",\"type\":\"Title\"},{\"attributes\":{\"callback\":null},\"id\":\"22727\",\"type\":\"DataRange1d\"},{\"attributes\":{},\"id\":\"22748\",\"type\":\"HelpTool\"},{\"attributes\":{\"fill_alpha\":{\"value\":0.2},\"fill_color\":{\"value\":\"tomato\"},\"line_color\":{\"value\":\"tomato\"},\"size\":{\"units\":\"screen\",\"value\":10},\"x\":{\"field\":\"x\"},\"y\":{\"field\":\"y\"}},\"id\":\"22757\",\"type\":\"Circle\"},{\"attributes\":{\"callback\":null,\"data\":{\"x\":{\"__ndarray__\":\"AAAAAAAAAAB7FK5H4XoAQGZmZmZm5jFAAAAAAAAA5D9cj8L1KFz3PwAAAAAAAAAAAAAAAAAA9D+amZmZmZnJP6RwPQrXowpAZmZmZmbmMUBmZmZmZuYxQGZmZmZm5jFAZmZmZmbmMUA3iUFg5dDiP8P1KFyPwgFA5KWbxCCw5j+amZmZmZksQHsUrkfhehBACtejcD0KE0AAAAAAAAAAANejcD0K1+M/AAAAAAAAAAAAAAAAAAAAAArXo3A9ChNAAAAAAAAA5D8zMzMzMzPnP2ZmZmZm5jFAAAAAAAAARkAzMzMzM7MwQGZmZmZm5jFAAAAAAAAAFEDTTWIQWDnsPwAAAAAAAAAAZmZmZmbmMUAAAAAAAAD0PzMzMzMzM/M/AAAAAAAA8D8AAAAAAADwP7gehetRuPo/AAAAAAAAAACamZmZmZn5PwAAAAAAAAAA46WbxCCw2j+e76fGSzfZP5huEoPAqjRAmpmZmZmZ2T97FK5H4XrkP/p+arx0UyFAAAAAAAAAAADqBDQRNjytP+oENBE2PK0/ZmZmZmbmMUBmZmZmZuYxQGZmZmZm5jFAN4lBYOXQ4j8AAAAAAAAAAB1aZDvfT9U/JzEIrBxa5D8AAAAAAAD0PwAAAAAAAOQ/AAAAAAAA5D8AAAAAAAD0P3sUrkfhegBA9ihcj8L1AEAAAAAAAADkP/3UeOkmMew/AAAAAAAAAACkcD0K16MAQFK4HoXrkUxApHA9CtejAEBmZmZmZuYxQK5H4XoUrgFArkfhehSuAUBSuB6F61H0P/YoXI/C9QBAObTIdr6fyj+amZmZmZksQFK4HoXrUfQ/AAAAAAAA5D+amZmZmZksQJqZmZmZmSxAZmZmZmZmNUBmZmZmZmY1QHE9CtejcBVApHA9CtejEUCamZmZmZkWQB6F61G4XjxAHoXrUbhePEAehetRuF48QCcxCKwcWuQ/AAAAAAAAAAApXI/C9Sj8Pylcj8L1KPw/KVyPwvUo/D+F61G4HoX3P4XrUbgehfc/exSuR+F6AECuR+F6FK4QQAAAAAAAAAAAZmZmZmZmNUAzMzMzMzP7P5qZmZmZmSxAzczMzMzMAkApXI/C9Sj8Pylcj8L1KPw/exSuR+F6AEAAAAAAAAAAAAAAAAAAAElAAAAAAAAANEAK16NwPQr7P6RwPQrXowBApHA9CtejAEBcj8L1KFzzP1yPwvUo3CFAmpmZmZmZAUAAAAAAAAAAANejcD0K1+M/yXa+nxrvK0AOLbKd76fqPwAAAAAAAPA/rkfhehSuGkAAAAAAAAAAAArXo3A9Cvs/NV66SQwC2z/TTWIQWDnsP9NNYhBYOew/001iEFg57D9cj8L1KFwFQGZmZmZm5jFAZmZmZmZmNUBmZmZmZuYxQGZmZmZm5jFAKVyPwvUo/D8AAAAAAAAIQAAAAAAAAABALbKd76fGL0ApXI/C9SjsPylcj8L1KOw/KVyPwvUo7D/hehSuR+HyP+F6FK5H4fI/AAAAAACANkAAAAAAAAA5QAAAAAAAAAAAAAAAAAAAAAAAAAAAAAAAAAAAAAAAAAAAAAAAAAAAAAAAAAAAAAAAAAAAAAAAAAAAAAAAAAAAAAAAAAAAAAAAAClcj8L1KPw/rkfhehRuNUCuR+F6FG41QDMzMzMzMyZAAAAAAAAAAACG61G4HkUyQIbrUbgeRTJAAAAAAAAA5D8AAAAAAAAoQJqZmZmZmck/zczMzMzMDEA=\",\"dtype\":\"float64\",\"shape\":[163]},\"y\":{\"__ndarray__\":\"AAAAAAAAAAB7FK5H4XoQQM3MzMzMDEBApHA9Ctej8D+kcD0K16MAQAAAAAAAAAAApHA9CtejAEBmZmZmZmb2P1K4HoXrURVAzczMzMwMQEDNzMzMzAxAQM3MzMzMDEBAzczMzMwMQEDTTWIQWDnsP3sUrkfhegxACtejcD0KAUBmZmZmZmY1QD0K16NwPRxAj8L1KFyPHEAAAAAAAAAAAKRwPQrXo/A/AAAAAAAAAACkcD0K16PwP4/C9ShcjxxApHA9Ctej8D9xPQrXo3DxP83MzMzMDEBAAAAAAAAATkDNzMzMzMw7QJqZmZmZmTxAAAAAAAAAJECF61G4HoX3PwAAAAAAAAAAmpmZmZmZPECkcD0K16MAQJqZmZmZmfk/AAAAAAAA+D8AAAAAAAD4PwAAAAAAAARAAAAAAAAAAAAAAAAAAAAEQAAAAAAAAAAAFK5H4XoU/j9I4XoUrkf5PzMzMzMzszpAMzMzMzMzA0AAAAAAAADwPwAAAAAAAC5AAAAAAAAAAADJdr6fGi+9P8l2vp8aL70/zczMzMwMQEDNzMzMzAxAQM3MzMzMDEBA001iEFg57D8AAAAAAAAAAPLSTWIQWOU/9ihcj8L18D+kcD0K16MAQKRwPQrXo/A/pHA9Ctej8D+kcD0K16MAQD0K16NwPQxAH4XrUbgeC0CkcD0K16PwPx+F61G4HvU/AAAAAAAAAACkcD0K16MKQD0K16NwbVVAAAAAAAAADkCamZmZmZk8QFK4HoXrUQxAUrgehetRDED2KFyPwvUAQHsUrkfheg5AFK5H4XoU/j9mZmZmZmY1QPYoXI/C9QBApHA9Ctej8D/NzMzMzAxAQM3MzMzMDEBAzczMzMwMQEDNzMzMzAxAQFyPwvUo3CFA9ihcj8L1HUAfhetRuB4gQAAAAAAAAERAAAAAAAAAREAAAAAAAABEQPYoXI/C9fA/AAAAAAAAAAAzMzMzMzMFQDMzMzMzMwVAhetRuB6FB0B7FK5H4XoAQHsUrkfhegBAhetRuB6FB0DNzMzMzEwyQKRwPQrXo/A/zczMzMwMQEDNzMzMzMwEQAAAAAAAADlAPQrXo3A9DECF61G4HoUHQIXrUbgehQdAPQrXo3A9DEAAAAAAAAAAAGZmZmZmplNACtejcD2qQEBSuB6F61EEQKRwPQrXowpApHA9CtejCkApXI/C9SgAQJqZmZmZmTxArkfhehSuD0AAAAAAAAAAAKRwPQrXo/A/AAAAAAAANEC4HoXrUbj6P7gehetRuPo/ZmZmZmZmJ0AAAAAAAAAAAI/C9ShcjxJACtejcD0KC0CF61G4HoX3P4XrUbgehfc/hetRuB6F9z/D9Shcj8IRQM3MzMzMDEBAzczMzMwMQEDNzMzMzAxAQM3MzMzMDEBAMzMzMzMzBUCuR+F6FK4aQFyPwvUoXAVAMzMzMzOzOEBI4XoUrkf1P0jhehSuR/U/SOF6FK5H9T8pXI/C9Sj8Pylcj8L1KPw/AAAAAACAQUCamZmZmdlBQAAAAAAAAAAAAAAAAAAAAAAAAAAAAAAAAAAAAAAAAAAAAAAAAAAAAAAAAAAAAAAAAAAAAAAAAAAAAAAAAAAAAAAAAAAAAAAAADMzMzMzMwVAUrgehesRQEBSuB6F6xFAQAAAAAAAAC5AAAAAAAAAAAAAAAAAAAA6QAAAAAAAADpApHA9Ctej8D8AAAAAAAAsQJqZmZmZmbk/zczMzMzMEkA=\",\"dtype\":\"float64\",\"shape\":[163]}},\"selected\":{\"id\":\"22781\",\"type\":\"Selection\"},\"selection_policy\":{\"id\":\"22780\",\"type\":\"UnionRenderers\"}},\"id\":\"22756\",\"type\":\"ColumnDataSource\"},{\"attributes\":{\"ticker\":{\"id\":\"22734\",\"type\":\"BasicTicker\"}},\"id\":\"22737\",\"type\":\"Grid\"},{\"attributes\":{\"axis_label\":\"Fats Per 100g\",\"formatter\":{\"id\":\"22763\",\"type\":\"BasicTickFormatter\"},\"ticker\":{\"id\":\"22739\",\"type\":\"BasicTicker\"}},\"id\":\"22738\",\"type\":\"LinearAxis\"}],\"root_ids\":[\"22722\"]},\"title\":\"Bokeh Application\",\"version\":\"1.4.0\"}};\n",
       "  var render_items = [{\"docid\":\"2e881878-e9e0-4280-9fca-4fb0b66409b8\",\"roots\":{\"22722\":\"5f0c4458-b900-41bb-9b4c-d50ec0db7140\"}}];\n",
       "  root.Bokeh.embed.embed_items_notebook(docs_json, render_items);\n",
       "\n",
       "  }\n",
       "  if (root.Bokeh !== undefined) {\n",
       "    embed_document(root);\n",
       "  } else {\n",
       "    var attempts = 0;\n",
       "    var timer = setInterval(function(root) {\n",
       "      if (root.Bokeh !== undefined) {\n",
       "        clearInterval(timer);\n",
       "        embed_document(root);\n",
       "      } else {\n",
       "        attempts++;\n",
       "        if (attempts > 100) {\n",
       "          clearInterval(timer);\n",
       "          console.log(\"Bokeh: ERROR: Unable to run BokehJS code because BokehJS library is missing\");\n",
       "        }\n",
       "      }\n",
       "    }, 10, root)\n",
       "  }\n",
       "})(window);"
      ],
      "application/vnd.bokehjs_exec.v0+json": ""
     },
     "metadata": {
      "application/vnd.bokehjs_exec.v0+json": {
       "id": "22722"
      }
     },
     "output_type": "display_data"
    }
   ],
   "source": [
    "colormap = {'Dairy Product': \"tomato\", 'Meat Product': '#96ceb4', 'Vegan': 'indigo', 'Vegetarian':'gold'}\n",
    "colors = [colormap[x] for x in diets['Special Diet']]\n",
    "\n",
    "\n",
    "p = figure(title =\"Relationship Between Fat and Bad Fats\" )\n",
    "p.xaxis.axis_label = \"Bad Fats Per 100g\"\n",
    "p.yaxis.axis_label = 'Fats Per 100g'\n",
    "\n",
    "for diet in colormap.keys():\n",
    "    df = diets[diets['Special Diet']==diet]\n",
    "    p.circle(x=df['bad-fats_100g'],y=df['fat_100g'], legend_label= diet,  color= colormap[diet], fill_alpha = 0.2, size = 10)\n",
    "p.legend.location = \"top_left\"\n",
    "show(p)"
   ]
  },
  {
   "cell_type": "markdown",
   "metadata": {},
   "source": [
    "It looks like the fat content of dairy products is primarily derived from the unhealthy types of fats. Vegan and vegetarian tend to have lower values of bad fats per fat content while overall, meat products tend to be fairly low in fat.  \n",
    "\n",
    "__Concluding Thoughts__\n",
    "\n",
    "We found that Italy may have a bit of a sweet tooth, offering products that tend to have the highest average amounts of sugar and bad-fats per 100 grams. Given the majority of fat in dairy products stems from bad-fats, it might be helpful to stress the benefits of low dairy diets. \n",
    "\n",
    "Australia's products contain the highest average amounts of sodium and fiber. Given the sodium content tends to be higher in packaged goods, this could imply that Australia eats more processed and packaged food than other countries. Australia also offers a high proportion of vegetarian products, which tend to have high fiber content. When combined with the fact that Australia's products contained the highest average amounts of fiber, this may indicate a strong preference of vegetarian food items in Australia. \n",
    "\n",
    "While the US may not have had the highest averages for specific nutrients, they offer products with the most extreme amounts of protein and fiber. This may imply the existence of a health conscious market within the US, focused on taking supplements or food products merely for their nutritional value. \n",
    "\n",
    "Spain earns the gold medal when it comes to the amount of vegan products offered. This may suggest the existence of a large market for plant-based, meat alternatives. \n",
    "\n",
    "Overall, it is important to remember the that insights in this dataset reflect the products uploaded to the open food facts database. The data offers interesting tidbits about the ways different countries eat however, it may not be representative of the general eating habits of the whole population of these countries. \n",
    "\n",
    "Sources:\n",
    "\n",
    "\n",
    "__[EC Report on Italy's Health](https://ec.europa.eu/health/sites/health/files/state/docs/chp_it_english.pdf#:~:text=Close%20to%20two-thirds%20of%20all%20deaths%20in%20Italy,to%20cardiovascular%20diseases%20and%20another%20one-third%20to%20cancer)__\n",
    "__[High-Sugar Diets and Cardiovascular Disease](https://www.medicalnewstoday.com/articles/319663)__\n",
    "__[OECD Report On Obesity](http://www.oecd.org/switzerland/Obesity-Update-2014-SWITZERLAND.pdf)__"
   ]
  }
 ],
 "metadata": {
  "kernelspec": {
   "display_name": "Python 3",
   "language": "python",
   "name": "python3"
  },
  "language_info": {
   "codemirror_mode": {
    "name": "ipython",
    "version": 3
   },
   "file_extension": ".py",
   "mimetype": "text/x-python",
   "name": "python",
   "nbconvert_exporter": "python",
   "pygments_lexer": "ipython3",
   "version": "3.7.6"
  }
 },
 "nbformat": 4,
 "nbformat_minor": 4
}
