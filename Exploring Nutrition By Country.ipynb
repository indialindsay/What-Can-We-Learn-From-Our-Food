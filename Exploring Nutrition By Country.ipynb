{
 "cells": [
  {
   "cell_type": "code",
   "execution_count": 1,
   "metadata": {},
   "outputs": [
    {
     "name": "stdout",
     "output_type": "stream",
     "text": [
      "Populating the interactive namespace from numpy and matplotlib\n"
     ]
    },
    {
     "data": {
      "text/html": [
       "\n",
       "    <div class=\"bk-root\">\n",
       "        <a href=\"https://bokeh.org\" target=\"_blank\" class=\"bk-logo bk-logo-small bk-logo-notebook\"></a>\n",
       "        <span id=\"1025\">Loading BokehJS ...</span>\n",
       "    </div>"
      ]
     },
     "metadata": {},
     "output_type": "display_data"
    },
    {
     "data": {
      "application/javascript": [
       "\n",
       "(function(root) {\n",
       "  function now() {\n",
       "    return new Date();\n",
       "  }\n",
       "\n",
       "  var force = true;\n",
       "\n",
       "  if (typeof root._bokeh_onload_callbacks === \"undefined\" || force === true) {\n",
       "    root._bokeh_onload_callbacks = [];\n",
       "    root._bokeh_is_loading = undefined;\n",
       "  }\n",
       "\n",
       "  var JS_MIME_TYPE = 'application/javascript';\n",
       "  var HTML_MIME_TYPE = 'text/html';\n",
       "  var EXEC_MIME_TYPE = 'application/vnd.bokehjs_exec.v0+json';\n",
       "  var CLASS_NAME = 'output_bokeh rendered_html';\n",
       "\n",
       "  /**\n",
       "   * Render data to the DOM node\n",
       "   */\n",
       "  function render(props, node) {\n",
       "    var script = document.createElement(\"script\");\n",
       "    node.appendChild(script);\n",
       "  }\n",
       "\n",
       "  /**\n",
       "   * Handle when an output is cleared or removed\n",
       "   */\n",
       "  function handleClearOutput(event, handle) {\n",
       "    var cell = handle.cell;\n",
       "\n",
       "    var id = cell.output_area._bokeh_element_id;\n",
       "    var server_id = cell.output_area._bokeh_server_id;\n",
       "    // Clean up Bokeh references\n",
       "    if (id != null && id in Bokeh.index) {\n",
       "      Bokeh.index[id].model.document.clear();\n",
       "      delete Bokeh.index[id];\n",
       "    }\n",
       "\n",
       "    if (server_id !== undefined) {\n",
       "      // Clean up Bokeh references\n",
       "      var cmd = \"from bokeh.io.state import curstate; print(curstate().uuid_to_server['\" + server_id + \"'].get_sessions()[0].document.roots[0]._id)\";\n",
       "      cell.notebook.kernel.execute(cmd, {\n",
       "        iopub: {\n",
       "          output: function(msg) {\n",
       "            var id = msg.content.text.trim();\n",
       "            if (id in Bokeh.index) {\n",
       "              Bokeh.index[id].model.document.clear();\n",
       "              delete Bokeh.index[id];\n",
       "            }\n",
       "          }\n",
       "        }\n",
       "      });\n",
       "      // Destroy server and session\n",
       "      var cmd = \"import bokeh.io.notebook as ion; ion.destroy_server('\" + server_id + \"')\";\n",
       "      cell.notebook.kernel.execute(cmd);\n",
       "    }\n",
       "  }\n",
       "\n",
       "  /**\n",
       "   * Handle when a new output is added\n",
       "   */\n",
       "  function handleAddOutput(event, handle) {\n",
       "    var output_area = handle.output_area;\n",
       "    var output = handle.output;\n",
       "\n",
       "    // limit handleAddOutput to display_data with EXEC_MIME_TYPE content only\n",
       "    if ((output.output_type != \"display_data\") || (!output.data.hasOwnProperty(EXEC_MIME_TYPE))) {\n",
       "      return\n",
       "    }\n",
       "\n",
       "    var toinsert = output_area.element.find(\".\" + CLASS_NAME.split(' ')[0]);\n",
       "\n",
       "    if (output.metadata[EXEC_MIME_TYPE][\"id\"] !== undefined) {\n",
       "      toinsert[toinsert.length - 1].firstChild.textContent = output.data[JS_MIME_TYPE];\n",
       "      // store reference to embed id on output_area\n",
       "      output_area._bokeh_element_id = output.metadata[EXEC_MIME_TYPE][\"id\"];\n",
       "    }\n",
       "    if (output.metadata[EXEC_MIME_TYPE][\"server_id\"] !== undefined) {\n",
       "      var bk_div = document.createElement(\"div\");\n",
       "      bk_div.innerHTML = output.data[HTML_MIME_TYPE];\n",
       "      var script_attrs = bk_div.children[0].attributes;\n",
       "      for (var i = 0; i < script_attrs.length; i++) {\n",
       "        toinsert[toinsert.length - 1].firstChild.setAttribute(script_attrs[i].name, script_attrs[i].value);\n",
       "      }\n",
       "      // store reference to server id on output_area\n",
       "      output_area._bokeh_server_id = output.metadata[EXEC_MIME_TYPE][\"server_id\"];\n",
       "    }\n",
       "  }\n",
       "\n",
       "  function register_renderer(events, OutputArea) {\n",
       "\n",
       "    function append_mime(data, metadata, element) {\n",
       "      // create a DOM node to render to\n",
       "      var toinsert = this.create_output_subarea(\n",
       "        metadata,\n",
       "        CLASS_NAME,\n",
       "        EXEC_MIME_TYPE\n",
       "      );\n",
       "      this.keyboard_manager.register_events(toinsert);\n",
       "      // Render to node\n",
       "      var props = {data: data, metadata: metadata[EXEC_MIME_TYPE]};\n",
       "      render(props, toinsert[toinsert.length - 1]);\n",
       "      element.append(toinsert);\n",
       "      return toinsert\n",
       "    }\n",
       "\n",
       "    /* Handle when an output is cleared or removed */\n",
       "    events.on('clear_output.CodeCell', handleClearOutput);\n",
       "    events.on('delete.Cell', handleClearOutput);\n",
       "\n",
       "    /* Handle when a new output is added */\n",
       "    events.on('output_added.OutputArea', handleAddOutput);\n",
       "\n",
       "    /**\n",
       "     * Register the mime type and append_mime function with output_area\n",
       "     */\n",
       "    OutputArea.prototype.register_mime_type(EXEC_MIME_TYPE, append_mime, {\n",
       "      /* Is output safe? */\n",
       "      safe: true,\n",
       "      /* Index of renderer in `output_area.display_order` */\n",
       "      index: 0\n",
       "    });\n",
       "  }\n",
       "\n",
       "  // register the mime type if in Jupyter Notebook environment and previously unregistered\n",
       "  if (root.Jupyter !== undefined) {\n",
       "    var events = require('base/js/events');\n",
       "    var OutputArea = require('notebook/js/outputarea').OutputArea;\n",
       "\n",
       "    if (OutputArea.prototype.mime_types().indexOf(EXEC_MIME_TYPE) == -1) {\n",
       "      register_renderer(events, OutputArea);\n",
       "    }\n",
       "  }\n",
       "\n",
       "  \n",
       "  if (typeof (root._bokeh_timeout) === \"undefined\" || force === true) {\n",
       "    root._bokeh_timeout = Date.now() + 5000;\n",
       "    root._bokeh_failed_load = false;\n",
       "  }\n",
       "\n",
       "  var NB_LOAD_WARNING = {'data': {'text/html':\n",
       "     \"<div style='background-color: #fdd'>\\n\"+\n",
       "     \"<p>\\n\"+\n",
       "     \"BokehJS does not appear to have successfully loaded. If loading BokehJS from CDN, this \\n\"+\n",
       "     \"may be due to a slow or bad network connection. Possible fixes:\\n\"+\n",
       "     \"</p>\\n\"+\n",
       "     \"<ul>\\n\"+\n",
       "     \"<li>re-rerun `output_notebook()` to attempt to load from CDN again, or</li>\\n\"+\n",
       "     \"<li>use INLINE resources instead, as so:</li>\\n\"+\n",
       "     \"</ul>\\n\"+\n",
       "     \"<code>\\n\"+\n",
       "     \"from bokeh.resources import INLINE\\n\"+\n",
       "     \"output_notebook(resources=INLINE)\\n\"+\n",
       "     \"</code>\\n\"+\n",
       "     \"</div>\"}};\n",
       "\n",
       "  function display_loaded() {\n",
       "    var el = document.getElementById(\"1025\");\n",
       "    if (el != null) {\n",
       "      el.textContent = \"BokehJS is loading...\";\n",
       "    }\n",
       "    if (root.Bokeh !== undefined) {\n",
       "      if (el != null) {\n",
       "        el.textContent = \"BokehJS \" + root.Bokeh.version + \" successfully loaded.\";\n",
       "      }\n",
       "    } else if (Date.now() < root._bokeh_timeout) {\n",
       "      setTimeout(display_loaded, 100)\n",
       "    }\n",
       "  }\n",
       "\n",
       "\n",
       "  function run_callbacks() {\n",
       "    try {\n",
       "      root._bokeh_onload_callbacks.forEach(function(callback) {\n",
       "        if (callback != null)\n",
       "          callback();\n",
       "      });\n",
       "    } finally {\n",
       "      delete root._bokeh_onload_callbacks\n",
       "    }\n",
       "    console.debug(\"Bokeh: all callbacks have finished\");\n",
       "  }\n",
       "\n",
       "  function load_libs(css_urls, js_urls, callback) {\n",
       "    if (css_urls == null) css_urls = [];\n",
       "    if (js_urls == null) js_urls = [];\n",
       "\n",
       "    root._bokeh_onload_callbacks.push(callback);\n",
       "    if (root._bokeh_is_loading > 0) {\n",
       "      console.debug(\"Bokeh: BokehJS is being loaded, scheduling callback at\", now());\n",
       "      return null;\n",
       "    }\n",
       "    if (js_urls == null || js_urls.length === 0) {\n",
       "      run_callbacks();\n",
       "      return null;\n",
       "    }\n",
       "    console.debug(\"Bokeh: BokehJS not loaded, scheduling load and callback at\", now());\n",
       "    root._bokeh_is_loading = css_urls.length + js_urls.length;\n",
       "\n",
       "    function on_load() {\n",
       "      root._bokeh_is_loading--;\n",
       "      if (root._bokeh_is_loading === 0) {\n",
       "        console.debug(\"Bokeh: all BokehJS libraries/stylesheets loaded\");\n",
       "        run_callbacks()\n",
       "      }\n",
       "    }\n",
       "\n",
       "    function on_error() {\n",
       "      console.error(\"failed to load \" + url);\n",
       "    }\n",
       "\n",
       "    for (var i = 0; i < css_urls.length; i++) {\n",
       "      var url = css_urls[i];\n",
       "      const element = document.createElement(\"link\");\n",
       "      element.onload = on_load;\n",
       "      element.onerror = on_error;\n",
       "      element.rel = \"stylesheet\";\n",
       "      element.type = \"text/css\";\n",
       "      element.href = url;\n",
       "      console.debug(\"Bokeh: injecting link tag for BokehJS stylesheet: \", url);\n",
       "      document.body.appendChild(element);\n",
       "    }\n",
       "\n",
       "    for (var i = 0; i < js_urls.length; i++) {\n",
       "      var url = js_urls[i];\n",
       "      var element = document.createElement('script');\n",
       "      element.onload = on_load;\n",
       "      element.onerror = on_error;\n",
       "      element.async = false;\n",
       "      element.src = url;\n",
       "      console.debug(\"Bokeh: injecting script tag for BokehJS library: \", url);\n",
       "      document.head.appendChild(element);\n",
       "    }\n",
       "  };var element = document.getElementById(\"1025\");\n",
       "  if (element == null) {\n",
       "    console.error(\"Bokeh: ERROR: autoload.js configured with elementid '1025' but no matching script tag was found. \")\n",
       "    return false;\n",
       "  }\n",
       "\n",
       "  function inject_raw_css(css) {\n",
       "    const element = document.createElement(\"style\");\n",
       "    element.appendChild(document.createTextNode(css));\n",
       "    document.body.appendChild(element);\n",
       "  }\n",
       "\n",
       "  \n",
       "  var js_urls = [\"https://cdn.pydata.org/bokeh/release/bokeh-1.4.0.min.js\", \"https://cdn.pydata.org/bokeh/release/bokeh-widgets-1.4.0.min.js\", \"https://cdn.pydata.org/bokeh/release/bokeh-tables-1.4.0.min.js\", \"https://cdn.pydata.org/bokeh/release/bokeh-gl-1.4.0.min.js\"];\n",
       "  var css_urls = [];\n",
       "  \n",
       "\n",
       "  var inline_js = [\n",
       "    function(Bokeh) {\n",
       "      Bokeh.set_log_level(\"info\");\n",
       "    },\n",
       "    function(Bokeh) {\n",
       "    \n",
       "    \n",
       "    }\n",
       "  ];\n",
       "\n",
       "  function run_inline_js() {\n",
       "    \n",
       "    if (root.Bokeh !== undefined || force === true) {\n",
       "      \n",
       "    for (var i = 0; i < inline_js.length; i++) {\n",
       "      inline_js[i].call(root, root.Bokeh);\n",
       "    }\n",
       "    if (force === true) {\n",
       "        display_loaded();\n",
       "      }} else if (Date.now() < root._bokeh_timeout) {\n",
       "      setTimeout(run_inline_js, 100);\n",
       "    } else if (!root._bokeh_failed_load) {\n",
       "      console.log(\"Bokeh: BokehJS failed to load within specified timeout.\");\n",
       "      root._bokeh_failed_load = true;\n",
       "    } else if (force !== true) {\n",
       "      var cell = $(document.getElementById(\"1025\")).parents('.cell').data().cell;\n",
       "      cell.output_area.append_execute_result(NB_LOAD_WARNING)\n",
       "    }\n",
       "\n",
       "  }\n",
       "\n",
       "  if (root._bokeh_is_loading === 0) {\n",
       "    console.debug(\"Bokeh: BokehJS loaded, going straight to plotting\");\n",
       "    run_inline_js();\n",
       "  } else {\n",
       "    load_libs(css_urls, js_urls, function() {\n",
       "      console.debug(\"Bokeh: BokehJS plotting callback run at\", now());\n",
       "      run_inline_js();\n",
       "    });\n",
       "  }\n",
       "}(window));"
      ],
      "application/vnd.bokehjs_load.v0+json": "\n(function(root) {\n  function now() {\n    return new Date();\n  }\n\n  var force = true;\n\n  if (typeof root._bokeh_onload_callbacks === \"undefined\" || force === true) {\n    root._bokeh_onload_callbacks = [];\n    root._bokeh_is_loading = undefined;\n  }\n\n  \n\n  \n  if (typeof (root._bokeh_timeout) === \"undefined\" || force === true) {\n    root._bokeh_timeout = Date.now() + 5000;\n    root._bokeh_failed_load = false;\n  }\n\n  var NB_LOAD_WARNING = {'data': {'text/html':\n     \"<div style='background-color: #fdd'>\\n\"+\n     \"<p>\\n\"+\n     \"BokehJS does not appear to have successfully loaded. If loading BokehJS from CDN, this \\n\"+\n     \"may be due to a slow or bad network connection. Possible fixes:\\n\"+\n     \"</p>\\n\"+\n     \"<ul>\\n\"+\n     \"<li>re-rerun `output_notebook()` to attempt to load from CDN again, or</li>\\n\"+\n     \"<li>use INLINE resources instead, as so:</li>\\n\"+\n     \"</ul>\\n\"+\n     \"<code>\\n\"+\n     \"from bokeh.resources import INLINE\\n\"+\n     \"output_notebook(resources=INLINE)\\n\"+\n     \"</code>\\n\"+\n     \"</div>\"}};\n\n  function display_loaded() {\n    var el = document.getElementById(\"1025\");\n    if (el != null) {\n      el.textContent = \"BokehJS is loading...\";\n    }\n    if (root.Bokeh !== undefined) {\n      if (el != null) {\n        el.textContent = \"BokehJS \" + root.Bokeh.version + \" successfully loaded.\";\n      }\n    } else if (Date.now() < root._bokeh_timeout) {\n      setTimeout(display_loaded, 100)\n    }\n  }\n\n\n  function run_callbacks() {\n    try {\n      root._bokeh_onload_callbacks.forEach(function(callback) {\n        if (callback != null)\n          callback();\n      });\n    } finally {\n      delete root._bokeh_onload_callbacks\n    }\n    console.debug(\"Bokeh: all callbacks have finished\");\n  }\n\n  function load_libs(css_urls, js_urls, callback) {\n    if (css_urls == null) css_urls = [];\n    if (js_urls == null) js_urls = [];\n\n    root._bokeh_onload_callbacks.push(callback);\n    if (root._bokeh_is_loading > 0) {\n      console.debug(\"Bokeh: BokehJS is being loaded, scheduling callback at\", now());\n      return null;\n    }\n    if (js_urls == null || js_urls.length === 0) {\n      run_callbacks();\n      return null;\n    }\n    console.debug(\"Bokeh: BokehJS not loaded, scheduling load and callback at\", now());\n    root._bokeh_is_loading = css_urls.length + js_urls.length;\n\n    function on_load() {\n      root._bokeh_is_loading--;\n      if (root._bokeh_is_loading === 0) {\n        console.debug(\"Bokeh: all BokehJS libraries/stylesheets loaded\");\n        run_callbacks()\n      }\n    }\n\n    function on_error() {\n      console.error(\"failed to load \" + url);\n    }\n\n    for (var i = 0; i < css_urls.length; i++) {\n      var url = css_urls[i];\n      const element = document.createElement(\"link\");\n      element.onload = on_load;\n      element.onerror = on_error;\n      element.rel = \"stylesheet\";\n      element.type = \"text/css\";\n      element.href = url;\n      console.debug(\"Bokeh: injecting link tag for BokehJS stylesheet: \", url);\n      document.body.appendChild(element);\n    }\n\n    for (var i = 0; i < js_urls.length; i++) {\n      var url = js_urls[i];\n      var element = document.createElement('script');\n      element.onload = on_load;\n      element.onerror = on_error;\n      element.async = false;\n      element.src = url;\n      console.debug(\"Bokeh: injecting script tag for BokehJS library: \", url);\n      document.head.appendChild(element);\n    }\n  };var element = document.getElementById(\"1025\");\n  if (element == null) {\n    console.error(\"Bokeh: ERROR: autoload.js configured with elementid '1025' but no matching script tag was found. \")\n    return false;\n  }\n\n  function inject_raw_css(css) {\n    const element = document.createElement(\"style\");\n    element.appendChild(document.createTextNode(css));\n    document.body.appendChild(element);\n  }\n\n  \n  var js_urls = [\"https://cdn.pydata.org/bokeh/release/bokeh-1.4.0.min.js\", \"https://cdn.pydata.org/bokeh/release/bokeh-widgets-1.4.0.min.js\", \"https://cdn.pydata.org/bokeh/release/bokeh-tables-1.4.0.min.js\", \"https://cdn.pydata.org/bokeh/release/bokeh-gl-1.4.0.min.js\"];\n  var css_urls = [];\n  \n\n  var inline_js = [\n    function(Bokeh) {\n      Bokeh.set_log_level(\"info\");\n    },\n    function(Bokeh) {\n    \n    \n    }\n  ];\n\n  function run_inline_js() {\n    \n    if (root.Bokeh !== undefined || force === true) {\n      \n    for (var i = 0; i < inline_js.length; i++) {\n      inline_js[i].call(root, root.Bokeh);\n    }\n    if (force === true) {\n        display_loaded();\n      }} else if (Date.now() < root._bokeh_timeout) {\n      setTimeout(run_inline_js, 100);\n    } else if (!root._bokeh_failed_load) {\n      console.log(\"Bokeh: BokehJS failed to load within specified timeout.\");\n      root._bokeh_failed_load = true;\n    } else if (force !== true) {\n      var cell = $(document.getElementById(\"1025\")).parents('.cell').data().cell;\n      cell.output_area.append_execute_result(NB_LOAD_WARNING)\n    }\n\n  }\n\n  if (root._bokeh_is_loading === 0) {\n    console.debug(\"Bokeh: BokehJS loaded, going straight to plotting\");\n    run_inline_js();\n  } else {\n    load_libs(css_urls, js_urls, function() {\n      console.debug(\"Bokeh: BokehJS plotting callback run at\", now());\n      run_inline_js();\n    });\n  }\n}(window));"
     },
     "metadata": {},
     "output_type": "display_data"
    }
   ],
   "source": [
    "'''Installing Necessary Libraries'''\n",
    "from pandas import Series, DataFrame\n",
    "import pandas as pd\n",
    "import seaborn as sns\n",
    "import warnings\n",
    "warnings.filterwarnings('ignore')\n",
    "from matplotlib.pyplot import figure \n",
    "%pylab inline\n",
    "\n",
    "from bokeh.io import output_notebook\n",
    "from bokeh.plotting import figure, show\n",
    "from bokeh.palettes import Set3, GnBu3, OrRd3, RdYlGn, Reds, Paired\n",
    "from bokeh.transform import cumsum, dodge\n",
    "from bokeh.models import ColumnDataSource, HoverTool, Panel\n",
    "from bokeh.core.properties import value\n",
    "from bokeh.models.widgets import Tabs\n",
    "from bokeh.io import export_png\n",
    "\n",
    "\n",
    "plot = figure(plot_width=600, plot_height=400, tools='pan,box_zoom')\n",
    "output_notebook()\n",
    "\n"
   ]
  },
  {
   "cell_type": "markdown",
   "metadata": {},
   "source": [
    "# Exploring The Data\n",
    "\n",
    "### Which Countries Offer The Healthiest Products?\n"
   ]
  },
  {
   "cell_type": "code",
   "execution_count": 2,
   "metadata": {},
   "outputs": [],
   "source": [
    "'''\n",
    "In order to analzye the general nutrition characteristics of the food products, \n",
    "it will be helpful to know the amount of energy, saturated fat, trans fat, fiber,\n",
    "sodium, sugars, and protein contained in each product. Let's only select rows \n",
    "where this information is not missing. \n",
    "'''\n",
    "df = pd.read_csv('final_food_data.csv') #reading in the data\n",
    "df['country'] = df['country'].replace(['United Kingdom','United States'],['UK','US']) #renaming countries concisely\n",
    "nutrients = df.dropna(subset=['saturated-fat_100g', 'trans-fat_100g',\n",
    "             'fiber_100g','sugars_100g','proteins_100g','sodium_100g'], how='any')"
   ]
  },
  {
   "cell_type": "markdown",
   "metadata": {},
   "source": [
    "#### Let's begin by looking into the number of products we have per country:"
   ]
  },
  {
   "cell_type": "code",
   "execution_count": 7,
   "metadata": {},
   "outputs": [
    {
     "data": {
      "text/html": [
       "\n",
       "\n",
       "\n",
       "\n",
       "\n",
       "\n",
       "  <div class=\"bk-root\" id=\"b063a7f5-ca54-4bf3-853e-b3527b375b74\" data-root-id=\"1393\"></div>\n"
      ]
     },
     "metadata": {},
     "output_type": "display_data"
    },
    {
     "data": {
      "application/javascript": [
       "(function(root) {\n",
       "  function embed_document(root) {\n",
       "    \n",
       "  var docs_json = {\"82f49f9b-4e23-4bba-b05c-63da15c58d63\":{\"roots\":{\"references\":[{\"attributes\":{\"below\":[{\"id\":\"1404\",\"type\":\"LinearAxis\"}],\"center\":[{\"id\":\"1408\",\"type\":\"Grid\"},{\"id\":\"1413\",\"type\":\"Grid\"},{\"id\":\"1430\",\"type\":\"Legend\"}],\"left\":[{\"id\":\"1409\",\"type\":\"LinearAxis\"}],\"plot_height\":350,\"renderers\":[{\"id\":\"1423\",\"type\":\"GlyphRenderer\"}],\"title\":{\"id\":\"1394\",\"type\":\"Title\"},\"toolbar\":{\"id\":\"1415\",\"type\":\"Toolbar\"},\"toolbar_location\":null,\"x_range\":{\"id\":\"1396\",\"type\":\"Range1d\"},\"x_scale\":{\"id\":\"1400\",\"type\":\"LinearScale\"},\"y_range\":{\"id\":\"1398\",\"type\":\"DataRange1d\"},\"y_scale\":{\"id\":\"1402\",\"type\":\"LinearScale\"}},\"id\":\"1393\",\"subtype\":\"Figure\",\"type\":\"Plot\"},{\"attributes\":{},\"id\":\"1451\",\"type\":\"Selection\"},{\"attributes\":{\"data_source\":{\"id\":\"1419\",\"type\":\"ColumnDataSource\"},\"glyph\":{\"id\":\"1421\",\"type\":\"Wedge\"},\"hover_glyph\":null,\"muted_glyph\":null,\"nonselection_glyph\":{\"id\":\"1422\",\"type\":\"Wedge\"},\"selection_glyph\":null,\"view\":{\"id\":\"1424\",\"type\":\"CDSView\"}},\"id\":\"1423\",\"type\":\"GlyphRenderer\"},{\"attributes\":{\"callback\":null,\"tooltips\":\"@country: @counts\"},\"id\":\"1414\",\"type\":\"HoverTool\"},{\"attributes\":{\"grid_line_color\":null,\"ticker\":{\"id\":\"1405\",\"type\":\"BasicTicker\"}},\"id\":\"1408\",\"type\":\"Grid\"},{\"attributes\":{\"items\":[{\"id\":\"1431\",\"type\":\"LegendItem\"}]},\"id\":\"1430\",\"type\":\"Legend\"},{\"attributes\":{\"callback\":null,\"data\":{\"angle\":{\"__ndarray__\":\"En+yU2TGCEAV3QzCtHECQNNyWzIxodM/9eE5niB1xT+m86Briam7P8gstqwTU7s/gYLF5lOosj/DOqt47yqlP+0RGxI79Z0/v4BxTSvLnT94M6P/p4iTPw==\",\"dtype\":\"float64\",\"shape\":[11]},\"color\":[\"#8dd3c7\",\"#ffffb3\",\"#bebada\",\"#fb8072\",\"#80b1d3\",\"#fdb462\",\"#b3de69\",\"#fccde5\",\"#d9d9d9\",\"#bc80bd\",\"#ccebc5\"],\"country\":[\"US\",\"France\",\"Switzerland\",\"Germany\",\"Spain\",\"UK\",\"Belgium\",\"Australia\",\"Russia\",\"Italy\",\"Canada\"],\"counts\":[173708,129320,17204,9403,6061,5987,4088,2319,1641,1632,1070]},\"selected\":{\"id\":\"1451\",\"type\":\"Selection\"},\"selection_policy\":{\"id\":\"1452\",\"type\":\"UnionRenderers\"}},\"id\":\"1419\",\"type\":\"ColumnDataSource\"},{\"attributes\":{\"source\":{\"id\":\"1419\",\"type\":\"ColumnDataSource\"}},\"id\":\"1424\",\"type\":\"CDSView\"},{\"attributes\":{},\"id\":\"1427\",\"type\":\"BasicTickFormatter\"},{\"attributes\":{\"axis_label\":null,\"formatter\":{\"id\":\"1429\",\"type\":\"BasicTickFormatter\"},\"ticker\":{\"id\":\"1410\",\"type\":\"BasicTicker\"},\"visible\":false},\"id\":\"1409\",\"type\":\"LinearAxis\"},{\"attributes\":{},\"id\":\"1410\",\"type\":\"BasicTicker\"},{\"attributes\":{},\"id\":\"1429\",\"type\":\"BasicTickFormatter\"},{\"attributes\":{\"dimension\":1,\"grid_line_color\":null,\"ticker\":{\"id\":\"1410\",\"type\":\"BasicTicker\"}},\"id\":\"1413\",\"type\":\"Grid\"},{\"attributes\":{\"callback\":null},\"id\":\"1398\",\"type\":\"DataRange1d\"},{\"attributes\":{\"callback\":null,\"start\":-0.5},\"id\":\"1396\",\"type\":\"Range1d\"},{\"attributes\":{\"text\":\"Number of Products by Country\"},\"id\":\"1394\",\"type\":\"Title\"},{\"attributes\":{\"active_drag\":\"auto\",\"active_inspect\":\"auto\",\"active_multi\":null,\"active_scroll\":\"auto\",\"active_tap\":\"auto\",\"tools\":[{\"id\":\"1414\",\"type\":\"HoverTool\"}]},\"id\":\"1415\",\"type\":\"Toolbar\"},{\"attributes\":{\"label\":{\"field\":\"country\"},\"renderers\":[{\"id\":\"1423\",\"type\":\"GlyphRenderer\"}]},\"id\":\"1431\",\"type\":\"LegendItem\"},{\"attributes\":{\"end_angle\":{\"expr\":{\"id\":\"1418\",\"type\":\"CumSum\"},\"units\":\"rad\"},\"fill_alpha\":{\"value\":0.1},\"fill_color\":{\"value\":\"#1f77b4\"},\"line_alpha\":{\"value\":0.1},\"line_color\":{\"value\":\"#1f77b4\"},\"radius\":{\"units\":\"data\",\"value\":0.4},\"start_angle\":{\"expr\":{\"id\":\"1417\",\"type\":\"CumSum\"},\"units\":\"rad\"},\"x\":{\"value\":0},\"y\":{\"value\":1}},\"id\":\"1422\",\"type\":\"Wedge\"},{\"attributes\":{},\"id\":\"1402\",\"type\":\"LinearScale\"},{\"attributes\":{\"field\":\"angle\"},\"id\":\"1418\",\"type\":\"CumSum\"},{\"attributes\":{},\"id\":\"1400\",\"type\":\"LinearScale\"},{\"attributes\":{},\"id\":\"1405\",\"type\":\"BasicTicker\"},{\"attributes\":{\"axis_label\":null,\"formatter\":{\"id\":\"1427\",\"type\":\"BasicTickFormatter\"},\"ticker\":{\"id\":\"1405\",\"type\":\"BasicTicker\"},\"visible\":false},\"id\":\"1404\",\"type\":\"LinearAxis\"},{\"attributes\":{},\"id\":\"1452\",\"type\":\"UnionRenderers\"},{\"attributes\":{\"end_angle\":{\"expr\":{\"id\":\"1418\",\"type\":\"CumSum\"},\"units\":\"rad\"},\"fill_color\":{\"field\":\"color\"},\"line_color\":{\"value\":\"white\"},\"radius\":{\"units\":\"data\",\"value\":0.4},\"start_angle\":{\"expr\":{\"id\":\"1417\",\"type\":\"CumSum\"},\"units\":\"rad\"},\"x\":{\"value\":0},\"y\":{\"value\":1}},\"id\":\"1421\",\"type\":\"Wedge\"},{\"attributes\":{\"field\":\"angle\",\"include_zero\":true},\"id\":\"1417\",\"type\":\"CumSum\"}],\"root_ids\":[\"1393\"]},\"title\":\"Bokeh Application\",\"version\":\"1.4.0\"}};\n",
       "  var render_items = [{\"docid\":\"82f49f9b-4e23-4bba-b05c-63da15c58d63\",\"roots\":{\"1393\":\"b063a7f5-ca54-4bf3-853e-b3527b375b74\"}}];\n",
       "  root.Bokeh.embed.embed_items_notebook(docs_json, render_items);\n",
       "\n",
       "  }\n",
       "  if (root.Bokeh !== undefined) {\n",
       "    embed_document(root);\n",
       "  } else {\n",
       "    var attempts = 0;\n",
       "    var timer = setInterval(function(root) {\n",
       "      if (root.Bokeh !== undefined) {\n",
       "        clearInterval(timer);\n",
       "        embed_document(root);\n",
       "      } else {\n",
       "        attempts++;\n",
       "        if (attempts > 100) {\n",
       "          clearInterval(timer);\n",
       "          console.log(\"Bokeh: ERROR: Unable to run BokehJS code because BokehJS library is missing\");\n",
       "        }\n",
       "      }\n",
       "    }, 10, root)\n",
       "  }\n",
       "})(window);"
      ],
      "application/vnd.bokehjs_exec.v0+json": ""
     },
     "metadata": {
      "application/vnd.bokehjs_exec.v0+json": {
       "id": "1393"
      }
     },
     "output_type": "display_data"
    },
    {
     "data": {
      "text/plain": [
       "'C:\\\\Users\\\\india\\\\Documents\\\\Projects\\\\plot1.png'"
      ]
     },
     "execution_count": 7,
     "metadata": {},
     "output_type": "execute_result"
    }
   ],
   "source": [
    "chart_colors = ['#BE9EC9', '#feb236', '#006E6D',\n",
    "                '#d64161', '#F1EA7F', '#6b5b95',\n",
    "                '#EC9787', ' #BD3D3A', '#D5AE41', '#00A591','#7F4145']\n",
    "\n",
    "country = df['country'].value_counts().rename_axis('country').to_frame('counts')\n",
    "country['angle'] = country['counts']/country['counts'].sum() * 2*pi\n",
    "country['color'] = Set3[len(country)]\n",
    "\n",
    "p = figure(plot_height=350, title=\"Number of Products by Country\", toolbar_location=None,\n",
    "           tools=\"hover\", tooltips=\"@country: @counts\", x_range=(-0.5, 1.0))\n",
    "\n",
    "p.wedge(x=0, y=1, radius=0.4,\n",
    "        start_angle=cumsum('angle', include_zero=True), end_angle=cumsum('angle'),\n",
    "        line_color=\"white\", fill_color='color', legend_field='country', source=country)\n",
    "\n",
    "p.axis.axis_label=None\n",
    "p.axis.visible=False\n",
    "p.grid.grid_line_color = None\n",
    "\n",
    "show(p)\n",
    "\n",
    "export_png(p, filename=\"plot1.png\")"
   ]
  },
  {
   "cell_type": "markdown",
   "metadata": {},
   "source": [
    "The US and France definitely dominate this dataset. \n",
    "\n",
    "Let's try to figure out which countries offer the healthiest products. Though there are many schools of thought when it comes to evaluating nutrition labels, one should typically avoid foods high in sugar, saturated and trans fats (we will label these together as bad fats), and sodium. Foods high in protein and fiber are considered healthy to eat."
   ]
  },
  {
   "cell_type": "code",
   "execution_count": 8,
   "metadata": {},
   "outputs": [],
   "source": [
    "#combining saturated and trans fat into one variable\n",
    "nutrients['bad-fats_100g'] = nutrients['saturated-fat_100g'] + nutrients['trans-fat_100g']"
   ]
  },
  {
   "cell_type": "code",
   "execution_count": 9,
   "metadata": {},
   "outputs": [
    {
     "data": {
      "text/html": [
       "\n",
       "\n",
       "\n",
       "\n",
       "\n",
       "\n",
       "  <div class=\"bk-root\" id=\"a22c713e-d5ef-499b-8d00-6398eff63ae6\" data-root-id=\"1587\"></div>\n"
      ]
     },
     "metadata": {},
     "output_type": "display_data"
    },
    {
     "data": {
      "application/javascript": [
       "(function(root) {\n",
       "  function embed_document(root) {\n",
       "    \n",
       "  var docs_json = {\"9fce4c2f-092c-49cb-8849-baacf29ae0dd\":{\"roots\":{\"references\":[{\"attributes\":{\"below\":[{\"id\":\"1598\",\"type\":\"CategoricalAxis\"}],\"center\":[{\"id\":\"1601\",\"type\":\"Grid\"},{\"id\":\"1606\",\"type\":\"Grid\"},{\"id\":\"1620\",\"type\":\"Legend\"}],\"left\":[{\"id\":\"1602\",\"type\":\"LinearAxis\"}],\"plot_height\":250,\"plot_width\":800,\"renderers\":[{\"id\":\"1613\",\"type\":\"GlyphRenderer\"},{\"id\":\"1627\",\"type\":\"GlyphRenderer\"},{\"id\":\"1642\",\"type\":\"GlyphRenderer\"}],\"title\":{\"id\":\"1588\",\"type\":\"Title\"},\"toolbar\":{\"id\":\"1607\",\"type\":\"Toolbar\"},\"toolbar_location\":null,\"x_range\":{\"id\":\"1590\",\"type\":\"FactorRange\"},\"x_scale\":{\"id\":\"1594\",\"type\":\"CategoricalScale\"},\"y_range\":{\"id\":\"1592\",\"type\":\"Range1d\"},\"y_scale\":{\"id\":\"1596\",\"type\":\"LinearScale\"}},\"id\":\"1587\",\"subtype\":\"Figure\",\"type\":\"Plot\"},{\"attributes\":{\"range\":{\"id\":\"1590\",\"type\":\"FactorRange\"},\"value\":0.1},\"id\":\"1637\",\"type\":\"Dodge\"},{\"attributes\":{\"callback\":null,\"data\":{\"bad-fats_100g\":[5.468859999999998,6.4509333333333325,4.968937499999999,7.160109241706165,4.363571428571428,18.16,8.584,4.441333333333334,7.073333333333335,7.216850000000001,4.758991609507045],\"country\":[\"Australia\",\"Belgium\",\"Canada\",\"France\",\"Germany\",\"Italy\",\"Russia\",\"Spain\",\"Switzerland\",\"UK\",\"US\"],\"fiber_100g\":[5.860857142857142,3.3093333333333335,2.6785170454545457,2.8230964454976317,1.4857142857142855,2.966666666666667,4.8285714286,2.4266666666666667,3.436969696969697,3.9814999999999996,2.8627901937465765],\"proteins_100g\":[6.18257142857143,4.902933333333334,7.238414772727274,6.240853080568717,3.5785714285714287,6.353333333333333,7.4799999999999995,6.772666666666667,8.755757575757578,6.5155,7.912500742267172],\"sodium_100g\":[14.595228571428569,0.33861049868766396,0.5541930426807444,0.48489768175541986,1.2692800899887513,0.14200000000000002,0.24630686164226595,0.2074311811023622,0.7701418515867321,0.37139645669291343,0.56956916311267],\"sugars_100g\":[13.645428571428575,8.781133333333333,13.527749999999997,17.58767535545025,18.343571428571426,24.929999999999996,12.925714285800002,14.639333333333331,13.045454545454545,15.796000000000001,15.56155517769031]},\"selected\":{\"id\":\"1634\",\"type\":\"Selection\"},\"selection_policy\":{\"id\":\"1635\",\"type\":\"UnionRenderers\"}},\"id\":\"1609\",\"type\":\"ColumnDataSource\"},{\"attributes\":{\"callback\":null,\"data\":{\"bad-fats_100g\":[5.468859999999998,6.4509333333333325,4.968937499999999,7.160109241706165,4.363571428571428,18.16,8.584,4.441333333333334,7.073333333333335,7.216850000000001,4.758991609507045],\"country\":[\"Australia\",\"Belgium\",\"Canada\",\"France\",\"Germany\",\"Italy\",\"Russia\",\"Spain\",\"Switzerland\",\"UK\",\"US\"],\"fiber_100g\":[5.860857142857142,3.3093333333333335,2.6785170454545457,2.8230964454976317,1.4857142857142855,2.966666666666667,4.8285714286,2.4266666666666667,3.436969696969697,3.9814999999999996,2.8627901937465765],\"proteins_100g\":[6.18257142857143,4.902933333333334,7.238414772727274,6.240853080568717,3.5785714285714287,6.353333333333333,7.4799999999999995,6.772666666666667,8.755757575757578,6.5155,7.912500742267172],\"sodium_100g\":[14.595228571428569,0.33861049868766396,0.5541930426807444,0.48489768175541986,1.2692800899887513,0.14200000000000002,0.24630686164226595,0.2074311811023622,0.7701418515867321,0.37139645669291343,0.56956916311267],\"sugars_100g\":[13.645428571428575,8.781133333333333,13.527749999999997,17.58767535545025,18.343571428571426,24.929999999999996,12.925714285800002,14.639333333333331,13.045454545454545,15.796000000000001,15.56155517769031]},\"selected\":{\"id\":\"1651\",\"type\":\"Selection\"},\"selection_policy\":{\"id\":\"1652\",\"type\":\"UnionRenderers\"}},\"id\":\"1623\",\"type\":\"ColumnDataSource\"},{\"attributes\":{\"active_drag\":\"auto\",\"active_inspect\":\"auto\",\"active_multi\":null,\"active_scroll\":\"auto\",\"active_tap\":\"auto\"},\"id\":\"1607\",\"type\":\"Toolbar\"},{\"attributes\":{\"data_source\":{\"id\":\"1638\",\"type\":\"ColumnDataSource\"},\"glyph\":{\"id\":\"1640\",\"type\":\"VBar\"},\"hover_glyph\":null,\"muted_glyph\":null,\"nonselection_glyph\":{\"id\":\"1641\",\"type\":\"VBar\"},\"selection_glyph\":null,\"view\":{\"id\":\"1643\",\"type\":\"CDSView\"}},\"id\":\"1642\",\"type\":\"GlyphRenderer\"},{\"attributes\":{\"fill_color\":{\"value\":\"#fb8072\"},\"line_color\":{\"value\":\"#fb8072\"},\"top\":{\"field\":\"sodium_100g\"},\"width\":{\"value\":0.4},\"x\":{\"field\":\"country\",\"transform\":{\"id\":\"1637\",\"type\":\"Dodge\"}}},\"id\":\"1640\",\"type\":\"VBar\"},{\"attributes\":{},\"id\":\"1652\",\"type\":\"UnionRenderers\"},{\"attributes\":{\"fill_color\":{\"value\":\"#bebada\"},\"line_color\":{\"value\":\"#bebada\"},\"top\":{\"field\":\"bad-fats_100g\"},\"width\":{\"value\":0.4},\"x\":{\"field\":\"country\",\"transform\":{\"id\":\"1622\",\"type\":\"Dodge\"}}},\"id\":\"1625\",\"type\":\"VBar\"},{\"attributes\":{\"text\":\"Unhealthy Nutrients By Country\"},\"id\":\"1588\",\"type\":\"Title\"},{\"attributes\":{},\"id\":\"1651\",\"type\":\"Selection\"},{\"attributes\":{\"data_source\":{\"id\":\"1623\",\"type\":\"ColumnDataSource\"},\"glyph\":{\"id\":\"1625\",\"type\":\"VBar\"},\"hover_glyph\":null,\"muted_glyph\":null,\"nonselection_glyph\":{\"id\":\"1626\",\"type\":\"VBar\"},\"selection_glyph\":null,\"view\":{\"id\":\"1628\",\"type\":\"CDSView\"}},\"id\":\"1627\",\"type\":\"GlyphRenderer\"},{\"attributes\":{\"callback\":null,\"factors\":[\"Australia\",\"Belgium\",\"Canada\",\"France\",\"Germany\",\"Italy\",\"Russia\",\"Spain\",\"Switzerland\",\"UK\",\"US\"],\"range_padding\":0.1},\"id\":\"1590\",\"type\":\"FactorRange\"},{\"attributes\":{\"source\":{\"id\":\"1638\",\"type\":\"ColumnDataSource\"}},\"id\":\"1643\",\"type\":\"CDSView\"},{\"attributes\":{\"formatter\":{\"id\":\"1617\",\"type\":\"CategoricalTickFormatter\"},\"ticker\":{\"id\":\"1599\",\"type\":\"CategoricalTicker\"}},\"id\":\"1598\",\"type\":\"CategoricalAxis\"},{\"attributes\":{\"fill_color\":{\"value\":\"#fccde5\"},\"line_color\":{\"value\":\"#fccde5\"},\"top\":{\"field\":\"sugars_100g\"},\"width\":{\"value\":0.4},\"x\":{\"field\":\"country\",\"transform\":{\"id\":\"1608\",\"type\":\"Dodge\"}}},\"id\":\"1611\",\"type\":\"VBar\"},{\"attributes\":{\"label\":{\"value\":\"sodium\"},\"renderers\":[{\"id\":\"1642\",\"type\":\"GlyphRenderer\"}]},\"id\":\"1653\",\"type\":\"LegendItem\"},{\"attributes\":{\"fill_alpha\":{\"value\":0.1},\"fill_color\":{\"value\":\"#1f77b4\"},\"line_alpha\":{\"value\":0.1},\"line_color\":{\"value\":\"#1f77b4\"},\"top\":{\"field\":\"bad-fats_100g\"},\"width\":{\"value\":0.4},\"x\":{\"field\":\"country\",\"transform\":{\"id\":\"1622\",\"type\":\"Dodge\"}}},\"id\":\"1626\",\"type\":\"VBar\"},{\"attributes\":{\"range\":{\"id\":\"1590\",\"type\":\"FactorRange\"}},\"id\":\"1622\",\"type\":\"Dodge\"},{\"attributes\":{\"callback\":null,\"end\":27.929999999999996},\"id\":\"1592\",\"type\":\"Range1d\"},{\"attributes\":{\"data_source\":{\"id\":\"1609\",\"type\":\"ColumnDataSource\"},\"glyph\":{\"id\":\"1611\",\"type\":\"VBar\"},\"hover_glyph\":null,\"muted_glyph\":null,\"nonselection_glyph\":{\"id\":\"1612\",\"type\":\"VBar\"},\"selection_glyph\":null,\"view\":{\"id\":\"1614\",\"type\":\"CDSView\"}},\"id\":\"1613\",\"type\":\"GlyphRenderer\"},{\"attributes\":{},\"id\":\"1594\",\"type\":\"CategoricalScale\"},{\"attributes\":{},\"id\":\"1635\",\"type\":\"UnionRenderers\"},{\"attributes\":{},\"id\":\"1596\",\"type\":\"LinearScale\"},{\"attributes\":{\"source\":{\"id\":\"1623\",\"type\":\"ColumnDataSource\"}},\"id\":\"1628\",\"type\":\"CDSView\"},{\"attributes\":{\"grid_line_color\":null,\"ticker\":{\"id\":\"1599\",\"type\":\"CategoricalTicker\"}},\"id\":\"1601\",\"type\":\"Grid\"},{\"attributes\":{},\"id\":\"1735\",\"type\":\"UnionRenderers\"},{\"attributes\":{\"axis_label\":\"Mean Amount Per 100g\",\"formatter\":{\"id\":\"1619\",\"type\":\"BasicTickFormatter\"},\"ticker\":{\"id\":\"1603\",\"type\":\"BasicTicker\"}},\"id\":\"1602\",\"type\":\"LinearAxis\"},{\"attributes\":{\"label\":{\"value\":\"bad-fats\"},\"renderers\":[{\"id\":\"1627\",\"type\":\"GlyphRenderer\"}]},\"id\":\"1636\",\"type\":\"LegendItem\"},{\"attributes\":{},\"id\":\"1734\",\"type\":\"Selection\"},{\"attributes\":{},\"id\":\"1634\",\"type\":\"Selection\"},{\"attributes\":{},\"id\":\"1599\",\"type\":\"CategoricalTicker\"},{\"attributes\":{\"source\":{\"id\":\"1609\",\"type\":\"ColumnDataSource\"}},\"id\":\"1614\",\"type\":\"CDSView\"},{\"attributes\":{},\"id\":\"1617\",\"type\":\"CategoricalTickFormatter\"},{\"attributes\":{\"items\":[{\"id\":\"1621\",\"type\":\"LegendItem\"},{\"id\":\"1636\",\"type\":\"LegendItem\"},{\"id\":\"1653\",\"type\":\"LegendItem\"}],\"location\":\"top_left\",\"orientation\":\"horizontal\"},\"id\":\"1620\",\"type\":\"Legend\"},{\"attributes\":{\"fill_alpha\":{\"value\":0.1},\"fill_color\":{\"value\":\"#1f77b4\"},\"line_alpha\":{\"value\":0.1},\"line_color\":{\"value\":\"#1f77b4\"},\"top\":{\"field\":\"sugars_100g\"},\"width\":{\"value\":0.4},\"x\":{\"field\":\"country\",\"transform\":{\"id\":\"1608\",\"type\":\"Dodge\"}}},\"id\":\"1612\",\"type\":\"VBar\"},{\"attributes\":{},\"id\":\"1603\",\"type\":\"BasicTicker\"},{\"attributes\":{},\"id\":\"1619\",\"type\":\"BasicTickFormatter\"},{\"attributes\":{\"callback\":null,\"data\":{\"bad-fats_100g\":[5.468859999999998,6.4509333333333325,4.968937499999999,7.160109241706165,4.363571428571428,18.16,8.584,4.441333333333334,7.073333333333335,7.216850000000001,4.758991609507045],\"country\":[\"Australia\",\"Belgium\",\"Canada\",\"France\",\"Germany\",\"Italy\",\"Russia\",\"Spain\",\"Switzerland\",\"UK\",\"US\"],\"fiber_100g\":[5.860857142857142,3.3093333333333335,2.6785170454545457,2.8230964454976317,1.4857142857142855,2.966666666666667,4.8285714286,2.4266666666666667,3.436969696969697,3.9814999999999996,2.8627901937465765],\"proteins_100g\":[6.18257142857143,4.902933333333334,7.238414772727274,6.240853080568717,3.5785714285714287,6.353333333333333,7.4799999999999995,6.772666666666667,8.755757575757578,6.5155,7.912500742267172],\"sodium_100g\":[14.595228571428569,0.33861049868766396,0.5541930426807444,0.48489768175541986,1.2692800899887513,0.14200000000000002,0.24630686164226595,0.2074311811023622,0.7701418515867321,0.37139645669291343,0.56956916311267],\"sugars_100g\":[13.645428571428575,8.781133333333333,13.527749999999997,17.58767535545025,18.343571428571426,24.929999999999996,12.925714285800002,14.639333333333331,13.045454545454545,15.796000000000001,15.56155517769031]},\"selected\":{\"id\":\"1734\",\"type\":\"Selection\"},\"selection_policy\":{\"id\":\"1735\",\"type\":\"UnionRenderers\"}},\"id\":\"1638\",\"type\":\"ColumnDataSource\"},{\"attributes\":{\"dimension\":1,\"ticker\":{\"id\":\"1603\",\"type\":\"BasicTicker\"}},\"id\":\"1606\",\"type\":\"Grid\"},{\"attributes\":{\"label\":{\"value\":\"sugars\"},\"renderers\":[{\"id\":\"1613\",\"type\":\"GlyphRenderer\"}]},\"id\":\"1621\",\"type\":\"LegendItem\"},{\"attributes\":{\"fill_alpha\":{\"value\":0.1},\"fill_color\":{\"value\":\"#1f77b4\"},\"line_alpha\":{\"value\":0.1},\"line_color\":{\"value\":\"#1f77b4\"},\"top\":{\"field\":\"sodium_100g\"},\"width\":{\"value\":0.4},\"x\":{\"field\":\"country\",\"transform\":{\"id\":\"1637\",\"type\":\"Dodge\"}}},\"id\":\"1641\",\"type\":\"VBar\"},{\"attributes\":{\"range\":{\"id\":\"1590\",\"type\":\"FactorRange\"},\"value\":-0.1},\"id\":\"1608\",\"type\":\"Dodge\"}],\"root_ids\":[\"1587\"]},\"title\":\"Bokeh Application\",\"version\":\"1.4.0\"}};\n",
       "  var render_items = [{\"docid\":\"9fce4c2f-092c-49cb-8849-baacf29ae0dd\",\"roots\":{\"1587\":\"a22c713e-d5ef-499b-8d00-6398eff63ae6\"}}];\n",
       "  root.Bokeh.embed.embed_items_notebook(docs_json, render_items);\n",
       "\n",
       "  }\n",
       "  if (root.Bokeh !== undefined) {\n",
       "    embed_document(root);\n",
       "  } else {\n",
       "    var attempts = 0;\n",
       "    var timer = setInterval(function(root) {\n",
       "      if (root.Bokeh !== undefined) {\n",
       "        clearInterval(timer);\n",
       "        embed_document(root);\n",
       "      } else {\n",
       "        attempts++;\n",
       "        if (attempts > 100) {\n",
       "          clearInterval(timer);\n",
       "          console.log(\"Bokeh: ERROR: Unable to run BokehJS code because BokehJS library is missing\");\n",
       "        }\n",
       "      }\n",
       "    }, 10, root)\n",
       "  }\n",
       "})(window);"
      ],
      "application/vnd.bokehjs_exec.v0+json": ""
     },
     "metadata": {
      "application/vnd.bokehjs_exec.v0+json": {
       "id": "1587"
      }
     },
     "output_type": "display_data"
    },
    {
     "data": {
      "text/html": [
       "\n",
       "\n",
       "\n",
       "\n",
       "\n",
       "\n",
       "  <div class=\"bk-root\" id=\"1172f989-2159-4484-89f8-56691cd96e72\" data-root-id=\"1654\"></div>\n"
      ]
     },
     "metadata": {},
     "output_type": "display_data"
    },
    {
     "data": {
      "application/javascript": [
       "(function(root) {\n",
       "  function embed_document(root) {\n",
       "    \n",
       "  var docs_json = {\"89641e95-fc72-4f59-bb40-2c2daa317bfa\":{\"roots\":{\"references\":[{\"attributes\":{\"below\":[{\"id\":\"1665\",\"type\":\"CategoricalAxis\"}],\"center\":[{\"id\":\"1668\",\"type\":\"Grid\"},{\"id\":\"1673\",\"type\":\"Grid\"},{\"id\":\"1687\",\"type\":\"Legend\"}],\"left\":[{\"id\":\"1669\",\"type\":\"LinearAxis\"}],\"plot_height\":250,\"plot_width\":800,\"renderers\":[{\"id\":\"1680\",\"type\":\"GlyphRenderer\"},{\"id\":\"1694\",\"type\":\"GlyphRenderer\"}],\"title\":{\"id\":\"1655\",\"type\":\"Title\"},\"toolbar\":{\"id\":\"1674\",\"type\":\"Toolbar\"},\"toolbar_location\":null,\"x_range\":{\"id\":\"1657\",\"type\":\"FactorRange\"},\"x_scale\":{\"id\":\"1661\",\"type\":\"CategoricalScale\"},\"y_range\":{\"id\":\"1659\",\"type\":\"Range1d\"},\"y_scale\":{\"id\":\"1663\",\"type\":\"LinearScale\"}},\"id\":\"1654\",\"subtype\":\"Figure\",\"type\":\"Plot\"},{\"attributes\":{\"data_source\":{\"id\":\"1676\",\"type\":\"ColumnDataSource\"},\"glyph\":{\"id\":\"1678\",\"type\":\"VBar\"},\"hover_glyph\":null,\"muted_glyph\":null,\"nonselection_glyph\":{\"id\":\"1679\",\"type\":\"VBar\"},\"selection_glyph\":null,\"view\":{\"id\":\"1681\",\"type\":\"CDSView\"}},\"id\":\"1680\",\"type\":\"GlyphRenderer\"},{\"attributes\":{\"callback\":null,\"end\":11.755757575757578},\"id\":\"1659\",\"type\":\"Range1d\"},{\"attributes\":{\"fill_alpha\":{\"value\":0.1},\"fill_color\":{\"value\":\"#1f77b4\"},\"line_alpha\":{\"value\":0.1},\"line_color\":{\"value\":\"#1f77b4\"},\"top\":{\"field\":\"proteins_100g\"},\"width\":{\"value\":0.4},\"x\":{\"field\":\"country\",\"transform\":{\"id\":\"1675\",\"type\":\"Dodge\"}}},\"id\":\"1679\",\"type\":\"VBar\"},{\"attributes\":{},\"id\":\"1702\",\"type\":\"UnionRenderers\"},{\"attributes\":{},\"id\":\"1661\",\"type\":\"CategoricalScale\"},{\"attributes\":{\"source\":{\"id\":\"1690\",\"type\":\"ColumnDataSource\"}},\"id\":\"1695\",\"type\":\"CDSView\"},{\"attributes\":{},\"id\":\"1663\",\"type\":\"LinearScale\"},{\"attributes\":{\"grid_line_color\":null,\"ticker\":{\"id\":\"1666\",\"type\":\"CategoricalTicker\"}},\"id\":\"1668\",\"type\":\"Grid\"},{\"attributes\":{\"label\":{\"value\":\"fiber\"},\"renderers\":[{\"id\":\"1694\",\"type\":\"GlyphRenderer\"}]},\"id\":\"1703\",\"type\":\"LegendItem\"},{\"attributes\":{\"callback\":null,\"factors\":[\"Australia\",\"Belgium\",\"Canada\",\"France\",\"Germany\",\"Italy\",\"Russia\",\"Spain\",\"Switzerland\",\"UK\",\"US\"],\"range_padding\":0.1},\"id\":\"1590\",\"type\":\"FactorRange\"},{\"attributes\":{\"axis_label\":\"Mean Amount Per 100g\",\"formatter\":{\"id\":\"1686\",\"type\":\"BasicTickFormatter\"},\"ticker\":{\"id\":\"1670\",\"type\":\"BasicTicker\"}},\"id\":\"1669\",\"type\":\"LinearAxis\"},{\"attributes\":{},\"id\":\"1701\",\"type\":\"Selection\"},{\"attributes\":{\"source\":{\"id\":\"1676\",\"type\":\"ColumnDataSource\"}},\"id\":\"1681\",\"type\":\"CDSView\"},{\"attributes\":{},\"id\":\"1666\",\"type\":\"CategoricalTicker\"},{\"attributes\":{},\"id\":\"1684\",\"type\":\"CategoricalTickFormatter\"},{\"attributes\":{\"items\":[{\"id\":\"1688\",\"type\":\"LegendItem\"},{\"id\":\"1703\",\"type\":\"LegendItem\"}],\"location\":\"top_left\",\"orientation\":\"horizontal\"},\"id\":\"1687\",\"type\":\"Legend\"},{\"attributes\":{\"range\":{\"id\":\"1590\",\"type\":\"FactorRange\"},\"value\":0.1},\"id\":\"1675\",\"type\":\"Dodge\"},{\"attributes\":{},\"id\":\"1686\",\"type\":\"BasicTickFormatter\"},{\"attributes\":{},\"id\":\"1670\",\"type\":\"BasicTicker\"},{\"attributes\":{\"dimension\":1,\"ticker\":{\"id\":\"1670\",\"type\":\"BasicTicker\"}},\"id\":\"1673\",\"type\":\"Grid\"},{\"attributes\":{\"label\":{\"value\":\"protein\"},\"renderers\":[{\"id\":\"1680\",\"type\":\"GlyphRenderer\"}]},\"id\":\"1688\",\"type\":\"LegendItem\"},{\"attributes\":{},\"id\":\"1842\",\"type\":\"UnionRenderers\"},{\"attributes\":{\"range\":{\"id\":\"1590\",\"type\":\"FactorRange\"},\"value\":0.2},\"id\":\"1689\",\"type\":\"Dodge\"},{\"attributes\":{},\"id\":\"1841\",\"type\":\"Selection\"},{\"attributes\":{\"callback\":null,\"data\":{\"bad-fats_100g\":[5.468859999999998,6.4509333333333325,4.968937499999999,7.160109241706165,4.363571428571428,18.16,8.584,4.441333333333334,7.073333333333335,7.216850000000001,4.758991609507045],\"country\":[\"Australia\",\"Belgium\",\"Canada\",\"France\",\"Germany\",\"Italy\",\"Russia\",\"Spain\",\"Switzerland\",\"UK\",\"US\"],\"fiber_100g\":[5.860857142857142,3.3093333333333335,2.6785170454545457,2.8230964454976317,1.4857142857142855,2.966666666666667,4.8285714286,2.4266666666666667,3.436969696969697,3.9814999999999996,2.8627901937465765],\"proteins_100g\":[6.18257142857143,4.902933333333334,7.238414772727274,6.240853080568717,3.5785714285714287,6.353333333333333,7.4799999999999995,6.772666666666667,8.755757575757578,6.5155,7.912500742267172],\"sodium_100g\":[14.595228571428569,0.33861049868766396,0.5541930426807444,0.48489768175541986,1.2692800899887513,0.14200000000000002,0.24630686164226595,0.2074311811023622,0.7701418515867321,0.37139645669291343,0.56956916311267],\"sugars_100g\":[13.645428571428575,8.781133333333333,13.527749999999997,17.58767535545025,18.343571428571426,24.929999999999996,12.925714285800002,14.639333333333331,13.045454545454545,15.796000000000001,15.56155517769031]},\"selected\":{\"id\":\"1701\",\"type\":\"Selection\"},\"selection_policy\":{\"id\":\"1702\",\"type\":\"UnionRenderers\"}},\"id\":\"1676\",\"type\":\"ColumnDataSource\"},{\"attributes\":{\"callback\":null,\"data\":{\"bad-fats_100g\":[5.468859999999998,6.4509333333333325,4.968937499999999,7.160109241706165,4.363571428571428,18.16,8.584,4.441333333333334,7.073333333333335,7.216850000000001,4.758991609507045],\"country\":[\"Australia\",\"Belgium\",\"Canada\",\"France\",\"Germany\",\"Italy\",\"Russia\",\"Spain\",\"Switzerland\",\"UK\",\"US\"],\"fiber_100g\":[5.860857142857142,3.3093333333333335,2.6785170454545457,2.8230964454976317,1.4857142857142855,2.966666666666667,4.8285714286,2.4266666666666667,3.436969696969697,3.9814999999999996,2.8627901937465765],\"proteins_100g\":[6.18257142857143,4.902933333333334,7.238414772727274,6.240853080568717,3.5785714285714287,6.353333333333333,7.4799999999999995,6.772666666666667,8.755757575757578,6.5155,7.912500742267172],\"sodium_100g\":[14.595228571428569,0.33861049868766396,0.5541930426807444,0.48489768175541986,1.2692800899887513,0.14200000000000002,0.24630686164226595,0.2074311811023622,0.7701418515867321,0.37139645669291343,0.56956916311267],\"sugars_100g\":[13.645428571428575,8.781133333333333,13.527749999999997,17.58767535545025,18.343571428571426,24.929999999999996,12.925714285800002,14.639333333333331,13.045454545454545,15.796000000000001,15.56155517769031]},\"selected\":{\"id\":\"1841\",\"type\":\"Selection\"},\"selection_policy\":{\"id\":\"1842\",\"type\":\"UnionRenderers\"}},\"id\":\"1690\",\"type\":\"ColumnDataSource\"},{\"attributes\":{\"active_drag\":\"auto\",\"active_inspect\":\"auto\",\"active_multi\":null,\"active_scroll\":\"auto\",\"active_tap\":\"auto\"},\"id\":\"1674\",\"type\":\"Toolbar\"},{\"attributes\":{\"fill_color\":{\"value\":\"#d5f4e6\"},\"line_color\":{\"value\":\"#d5f4e6\"},\"top\":{\"field\":\"fiber_100g\"},\"width\":{\"value\":0.4},\"x\":{\"field\":\"country\",\"transform\":{\"id\":\"1689\",\"type\":\"Dodge\"}}},\"id\":\"1692\",\"type\":\"VBar\"},{\"attributes\":{\"text\":\"Healthy Nutrients By Country\"},\"id\":\"1655\",\"type\":\"Title\"},{\"attributes\":{\"data_source\":{\"id\":\"1690\",\"type\":\"ColumnDataSource\"},\"glyph\":{\"id\":\"1692\",\"type\":\"VBar\"},\"hover_glyph\":null,\"muted_glyph\":null,\"nonselection_glyph\":{\"id\":\"1693\",\"type\":\"VBar\"},\"selection_glyph\":null,\"view\":{\"id\":\"1695\",\"type\":\"CDSView\"}},\"id\":\"1694\",\"type\":\"GlyphRenderer\"},{\"attributes\":{\"fill_color\":{\"value\":\"#80ced6\"},\"line_color\":{\"value\":\"#80ced6\"},\"top\":{\"field\":\"proteins_100g\"},\"width\":{\"value\":0.4},\"x\":{\"field\":\"country\",\"transform\":{\"id\":\"1675\",\"type\":\"Dodge\"}}},\"id\":\"1678\",\"type\":\"VBar\"},{\"attributes\":{\"callback\":null,\"factors\":[\"Australia\",\"Belgium\",\"Canada\",\"France\",\"Germany\",\"Italy\",\"Russia\",\"Spain\",\"Switzerland\",\"UK\",\"US\"],\"range_padding\":0.1},\"id\":\"1657\",\"type\":\"FactorRange\"},{\"attributes\":{\"formatter\":{\"id\":\"1684\",\"type\":\"CategoricalTickFormatter\"},\"ticker\":{\"id\":\"1666\",\"type\":\"CategoricalTicker\"}},\"id\":\"1665\",\"type\":\"CategoricalAxis\"},{\"attributes\":{\"fill_alpha\":{\"value\":0.1},\"fill_color\":{\"value\":\"#1f77b4\"},\"line_alpha\":{\"value\":0.1},\"line_color\":{\"value\":\"#1f77b4\"},\"top\":{\"field\":\"fiber_100g\"},\"width\":{\"value\":0.4},\"x\":{\"field\":\"country\",\"transform\":{\"id\":\"1689\",\"type\":\"Dodge\"}}},\"id\":\"1693\",\"type\":\"VBar\"}],\"root_ids\":[\"1654\"]},\"title\":\"Bokeh Application\",\"version\":\"1.4.0\"}};\n",
       "  var render_items = [{\"docid\":\"89641e95-fc72-4f59-bb40-2c2daa317bfa\",\"roots\":{\"1654\":\"1172f989-2159-4484-89f8-56691cd96e72\"}}];\n",
       "  root.Bokeh.embed.embed_items_notebook(docs_json, render_items);\n",
       "\n",
       "  }\n",
       "  if (root.Bokeh !== undefined) {\n",
       "    embed_document(root);\n",
       "  } else {\n",
       "    var attempts = 0;\n",
       "    var timer = setInterval(function(root) {\n",
       "      if (root.Bokeh !== undefined) {\n",
       "        clearInterval(timer);\n",
       "        embed_document(root);\n",
       "      } else {\n",
       "        attempts++;\n",
       "        if (attempts > 100) {\n",
       "          clearInterval(timer);\n",
       "          console.log(\"Bokeh: ERROR: Unable to run BokehJS code because BokehJS library is missing\");\n",
       "        }\n",
       "      }\n",
       "    }, 10, root)\n",
       "  }\n",
       "})(window);"
      ],
      "application/vnd.bokehjs_exec.v0+json": ""
     },
     "metadata": {
      "application/vnd.bokehjs_exec.v0+json": {
       "id": "1654"
      }
     },
     "output_type": "display_data"
    },
    {
     "data": {
      "text/plain": [
       "'C:\\\\Users\\\\india\\\\Documents\\\\Projects\\\\plot3.png'"
      ]
     },
     "execution_count": 9,
     "metadata": {},
     "output_type": "execute_result"
    }
   ],
   "source": [
    "#focusing on mean nutrient value per product by country \n",
    "nutr = nutrients.groupby('country',as_index=False)[['sugars_100g','bad-fats_100g','sodium_100g','proteins_100g','fiber_100g']].agg('mean')\n",
    "data = nutr.to_dict(orient='list')\n",
    "country = nutr['country'].tolist()\n",
    "\n",
    "#get max possible value of plotted columns with some offset\n",
    "p = figure(x_range=country, y_range=(0, nutr[['sugars_100g','bad-fats_100g','sodium_100g']].values.max() + 3), \n",
    "           plot_height=250, title=\"Unhealthy Nutrients By Country\", plot_width = 800,\n",
    "           toolbar_location=None, tools=\"\", y_axis_label = 'Mean Amount Per 100g')\n",
    "\n",
    "p.vbar(x=dodge('country', -0.1, range=p.x_range), top='sugars_100g', width=0.4, source=ColumnDataSource(data),\n",
    "       color=Set3[8][7], legend_label=\"sugars\")\n",
    "\n",
    "p.vbar(x=dodge('country', 0, range=p.x_range), top='bad-fats_100g', width=0.4, source=ColumnDataSource(data),\n",
    "       color=Set3[4][2], legend_label=\"bad-fats\")\n",
    "\n",
    "p.vbar(x=dodge('country', 0.1, range=p.x_range), top='sodium_100g', width=0.4, source=ColumnDataSource(data),\n",
    "       color=Set3[4][3], legend_label=\"sodium\")\n",
    "\n",
    "p.x_range.range_padding = 0.1\n",
    "p.xgrid.grid_line_color = None\n",
    "p.legend.location = \"top_left\"\n",
    "p.legend.orientation = \"horizontal\"\n",
    "\n",
    "\n",
    "#get max possible value of plotted columns with some offset\n",
    "h = figure(x_range=country, y_range=(0, nutr[['proteins_100g','fiber_100g']].values.max() + 3), \n",
    "           plot_height=250, title=\"Healthy Nutrients By Country\", plot_width=800,\n",
    "           toolbar_location=None, tools=\"\", y_axis_label = 'Mean Amount Per 100g')\n",
    "\n",
    "h.vbar(x=dodge('country', 0.1, range=p.x_range), top='proteins_100g', width=0.4, source=ColumnDataSource(data),\n",
    "       color='#80ced6', legend_label='protein')\n",
    "\n",
    "h.vbar(x=dodge('country',  0.2,  range=p.x_range), top='fiber_100g', width=0.4, source=ColumnDataSource(data),\n",
    "       color='#d5f4e6',legend_label = \"fiber\")\n",
    "\n",
    "\n",
    "h.x_range.range_padding = 0.1\n",
    "h.xgrid.grid_line_color = None\n",
    "h.legend.location = \"top_left\"\n",
    "h.legend.orientation = \"horizontal\"\n",
    "\n",
    "show(p)\n",
    "show(h)\n",
    "\n",
    "export_png(p, filename=\"plot2.png\")\n",
    "export_png(h, filename=\"plot3.png\")"
   ]
  },
  {
   "cell_type": "markdown",
   "metadata": {},
   "source": [
    "Sugar has fairly detrimental affects on health. It can lead to weight gain, increased risk of type 2 Diabetes, food addictions, and chronic digestive issues. Saturated and trans fats can causes increases in harmful LDL cholesterol levels, create inflammation, and contribute to insulin resistance. Excess sodium can lead to elevated blood pressure and cause varying health problems. \n",
    "\n",
    "Italy clearly takes home the gold when it comes to average sugar and fat content while Australia is the runner-up in terms of sodium. In general, most countries products tend to be fairly high in sugar. \n",
    "\n",
    "Protein is essential within a diet as it is used by our bodies to build and repair tissues. Our body is unable to store protein and needs relatively large quantities of it. Fiber aids our bodies in regulating digestion and lowers cholesterol levels. It is recommended to eat foods high in fiber to help achieve a healthy weight. \n",
    "\n",
    "From the above plots, we observe that Switzerland offers products with the highest average protein content while Australia's products have the highest average fiber content. \n",
    "\n",
    "__Relying upon the country's average score in terms of the above healthy/unhealthy nutrients, Italy provides some of the unhealthiest products while Switzerland, Russia, and Australia offer the healthiest.__ \n",
    "\n",
    "### Can We Verify This With External Information? \n",
    "\n",
    "According to the European Union Commission 2017 Health Report, the leading cause of death in Italy is cardiovascular disease, 40% among women and 33% among men. A recent study by clinical researchers from the University of Surrey found that the risk of heart disease is significantly increased by high-sugar diets, even amongst healthy populations. The average sugar content of Italy's products exceeds the next leading country by about 7 grams. Italy's consumption of high-sugar products may have a relationship with its population's predisposition towards cardiovascular disease.\n",
    "\n",
    "Switzerland, Australia, and Russia ranked top for healthiest products offered. According to the Organization for Economic Cooperation and Development, Switzerland has one of the lowest obesity rates at 9% compared to other developed nations. In terms of overweight children, Switzerland, Australia, and Russia have some of the lowest rates: 19%, 18%, and 17% respectively. Italy's proportion of overweight children remains significantly higher, at 38%.  \n",
    "\n",
    "While there are a variety of external and genetic factors that yield influence on an individual's health, this data suggests the presence of relationships between the nutritional quality of food products offered to a population and their health.  \n",
    "\n",
    "*Sources at Bottom of Report*\n",
    "\n",
    "### Which Country Offers the Healthiest Food Items?\n",
    "\n",
    "Let's see which country offers products with the greatest amount of protein and fiber per 100g. "
   ]
  },
  {
   "cell_type": "code",
   "execution_count": 10,
   "metadata": {},
   "outputs": [
    {
     "data": {
      "text/html": [
       "\n",
       "\n",
       "\n",
       "\n",
       "\n",
       "\n",
       "  <div class=\"bk-root\" id=\"dd898739-1f53-4465-aafe-776966d57a4a\" data-root-id=\"2159\"></div>\n"
      ]
     },
     "metadata": {},
     "output_type": "display_data"
    },
    {
     "data": {
      "application/javascript": [
       "(function(root) {\n",
       "  function embed_document(root) {\n",
       "    \n",
       "  var docs_json = {\"d3eb066e-ab38-4068-ab9a-4d106095eac5\":{\"roots\":{\"references\":[{\"attributes\":{\"below\":[{\"id\":\"2170\",\"type\":\"CategoricalAxis\"}],\"center\":[{\"id\":\"2173\",\"type\":\"Grid\"},{\"id\":\"2178\",\"type\":\"Grid\"},{\"id\":\"2192\",\"type\":\"Legend\"}],\"left\":[{\"id\":\"2174\",\"type\":\"LinearAxis\"}],\"plot_height\":250,\"plot_width\":800,\"renderers\":[{\"id\":\"2185\",\"type\":\"GlyphRenderer\"},{\"id\":\"2199\",\"type\":\"GlyphRenderer\"}],\"title\":{\"id\":\"2160\",\"type\":\"Title\"},\"toolbar\":{\"id\":\"2179\",\"type\":\"Toolbar\"},\"toolbar_location\":null,\"x_range\":{\"id\":\"2162\",\"type\":\"FactorRange\"},\"x_scale\":{\"id\":\"2166\",\"type\":\"CategoricalScale\"},\"y_range\":{\"id\":\"2164\",\"type\":\"Range1d\"},\"y_scale\":{\"id\":\"2168\",\"type\":\"LinearScale\"}},\"id\":\"2159\",\"subtype\":\"Figure\",\"type\":\"Plot\"},{\"attributes\":{\"label\":{\"value\":\"protein\"},\"renderers\":[{\"id\":\"2185\",\"type\":\"GlyphRenderer\"}]},\"id\":\"2193\",\"type\":\"LegendItem\"},{\"attributes\":{\"source\":{\"id\":\"2181\",\"type\":\"ColumnDataSource\"}},\"id\":\"2186\",\"type\":\"CDSView\"},{\"attributes\":{},\"id\":\"2166\",\"type\":\"CategoricalScale\"},{\"attributes\":{\"active_drag\":\"auto\",\"active_inspect\":\"auto\",\"active_multi\":null,\"active_scroll\":\"auto\",\"active_tap\":\"auto\"},\"id\":\"2179\",\"type\":\"Toolbar\"},{\"attributes\":{},\"id\":\"2191\",\"type\":\"BasicTickFormatter\"},{\"attributes\":{},\"id\":\"2189\",\"type\":\"CategoricalTickFormatter\"},{\"attributes\":{\"callback\":null,\"end\":103.0},\"id\":\"2164\",\"type\":\"Range1d\"},{\"attributes\":{},\"id\":\"2257\",\"type\":\"Selection\"},{\"attributes\":{\"grid_line_color\":null,\"ticker\":{\"id\":\"2171\",\"type\":\"CategoricalTicker\"}},\"id\":\"2173\",\"type\":\"Grid\"},{\"attributes\":{},\"id\":\"2168\",\"type\":\"LinearScale\"},{\"attributes\":{\"callback\":null,\"factors\":[\"Australia\",\"Belgium\",\"Canada\",\"France\",\"Germany\",\"Italy\",\"Russia\",\"Spain\",\"Switzerland\",\"UK\",\"US\"],\"range_padding\":0.1},\"id\":\"2162\",\"type\":\"FactorRange\"},{\"attributes\":{\"axis_label\":\"Max Amount Per 100g\",\"formatter\":{\"id\":\"2191\",\"type\":\"BasicTickFormatter\"},\"ticker\":{\"id\":\"2175\",\"type\":\"BasicTicker\"}},\"id\":\"2174\",\"type\":\"LinearAxis\"},{\"attributes\":{\"fill_alpha\":{\"value\":0.1},\"fill_color\":{\"value\":\"#1f77b4\"},\"line_alpha\":{\"value\":0.1},\"line_color\":{\"value\":\"#1f77b4\"},\"top\":{\"field\":\"fiber_100g\"},\"width\":{\"value\":0.4},\"x\":{\"field\":\"country\",\"transform\":{\"id\":\"2194\",\"type\":\"Dodge\"}}},\"id\":\"2198\",\"type\":\"VBar\"},{\"attributes\":{\"fill_color\":{\"value\":\"#f7cac9\"},\"line_color\":{\"value\":\"#f7cac9\"},\"top\":{\"field\":\"proteins_100g\"},\"width\":{\"value\":0.4},\"x\":{\"field\":\"country\",\"transform\":{\"id\":\"2180\",\"type\":\"Dodge\"}}},\"id\":\"2183\",\"type\":\"VBar\"},{\"attributes\":{\"label\":{\"value\":\"fiber\"},\"renderers\":[{\"id\":\"2199\",\"type\":\"GlyphRenderer\"}]},\"id\":\"2208\",\"type\":\"LegendItem\"},{\"attributes\":{\"fill_color\":{\"value\":\"#92a8d1\"},\"line_color\":{\"value\":\"#92a8d1\"},\"top\":{\"field\":\"fiber_100g\"},\"width\":{\"value\":0.4},\"x\":{\"field\":\"country\",\"transform\":{\"id\":\"2194\",\"type\":\"Dodge\"}}},\"id\":\"2197\",\"type\":\"VBar\"},{\"attributes\":{\"range\":{\"id\":\"2162\",\"type\":\"FactorRange\"},\"value\":0.1},\"id\":\"2194\",\"type\":\"Dodge\"},{\"attributes\":{\"data_source\":{\"id\":\"2195\",\"type\":\"ColumnDataSource\"},\"glyph\":{\"id\":\"2197\",\"type\":\"VBar\"},\"hover_glyph\":null,\"muted_glyph\":null,\"nonselection_glyph\":{\"id\":\"2198\",\"type\":\"VBar\"},\"selection_glyph\":null,\"view\":{\"id\":\"2200\",\"type\":\"CDSView\"}},\"id\":\"2199\",\"type\":\"GlyphRenderer\"},{\"attributes\":{\"callback\":null,\"data\":{\"country\":[\"Australia\",\"Belgium\",\"Canada\",\"France\",\"Germany\",\"Italy\",\"Russia\",\"Spain\",\"Switzerland\",\"UK\",\"US\"],\"fiber_100g\":[66.7,13.5,18.2,40.0,12.0,5.3,8.0,7.9,13.5,17.0,100.0],\"proteins_100g\":[22.6,14.3,33.3,33.0,19.0,7.0,10.0,17.0,78.9,21.0,100.0]},\"selected\":{\"id\":\"2206\",\"type\":\"Selection\"},\"selection_policy\":{\"id\":\"2207\",\"type\":\"UnionRenderers\"}},\"id\":\"2181\",\"type\":\"ColumnDataSource\"},{\"attributes\":{\"source\":{\"id\":\"2195\",\"type\":\"ColumnDataSource\"}},\"id\":\"2200\",\"type\":\"CDSView\"},{\"attributes\":{},\"id\":\"2206\",\"type\":\"Selection\"},{\"attributes\":{\"formatter\":{\"id\":\"2189\",\"type\":\"CategoricalTickFormatter\"},\"ticker\":{\"id\":\"2171\",\"type\":\"CategoricalTicker\"}},\"id\":\"2170\",\"type\":\"CategoricalAxis\"},{\"attributes\":{},\"id\":\"2258\",\"type\":\"UnionRenderers\"},{\"attributes\":{\"fill_alpha\":{\"value\":0.1},\"fill_color\":{\"value\":\"#1f77b4\"},\"line_alpha\":{\"value\":0.1},\"line_color\":{\"value\":\"#1f77b4\"},\"top\":{\"field\":\"proteins_100g\"},\"width\":{\"value\":0.4},\"x\":{\"field\":\"country\",\"transform\":{\"id\":\"2180\",\"type\":\"Dodge\"}}},\"id\":\"2184\",\"type\":\"VBar\"},{\"attributes\":{\"data_source\":{\"id\":\"2181\",\"type\":\"ColumnDataSource\"},\"glyph\":{\"id\":\"2183\",\"type\":\"VBar\"},\"hover_glyph\":null,\"muted_glyph\":null,\"nonselection_glyph\":{\"id\":\"2184\",\"type\":\"VBar\"},\"selection_glyph\":null,\"view\":{\"id\":\"2186\",\"type\":\"CDSView\"}},\"id\":\"2185\",\"type\":\"GlyphRenderer\"},{\"attributes\":{},\"id\":\"2207\",\"type\":\"UnionRenderers\"},{\"attributes\":{\"dimension\":1,\"ticker\":{\"id\":\"2175\",\"type\":\"BasicTicker\"}},\"id\":\"2178\",\"type\":\"Grid\"},{\"attributes\":{\"items\":[{\"id\":\"2193\",\"type\":\"LegendItem\"},{\"id\":\"2208\",\"type\":\"LegendItem\"}],\"location\":\"top_left\",\"orientation\":\"horizontal\"},\"id\":\"2192\",\"type\":\"Legend\"},{\"attributes\":{},\"id\":\"2175\",\"type\":\"BasicTicker\"},{\"attributes\":{\"callback\":null,\"data\":{\"country\":[\"Australia\",\"Belgium\",\"Canada\",\"France\",\"Germany\",\"Italy\",\"Russia\",\"Spain\",\"Switzerland\",\"UK\",\"US\"],\"fiber_100g\":[66.7,13.5,18.2,40.0,12.0,5.3,8.0,7.9,13.5,17.0,100.0],\"proteins_100g\":[22.6,14.3,33.3,33.0,19.0,7.0,10.0,17.0,78.9,21.0,100.0]},\"selected\":{\"id\":\"2257\",\"type\":\"Selection\"},\"selection_policy\":{\"id\":\"2258\",\"type\":\"UnionRenderers\"}},\"id\":\"2195\",\"type\":\"ColumnDataSource\"},{\"attributes\":{\"range\":{\"id\":\"2162\",\"type\":\"FactorRange\"},\"value\":-0.1},\"id\":\"2180\",\"type\":\"Dodge\"},{\"attributes\":{},\"id\":\"2171\",\"type\":\"CategoricalTicker\"},{\"attributes\":{\"text\":\"Healthiest Food Product By Country\"},\"id\":\"2160\",\"type\":\"Title\"}],\"root_ids\":[\"2159\"]},\"title\":\"Bokeh Application\",\"version\":\"1.4.0\"}};\n",
       "  var render_items = [{\"docid\":\"d3eb066e-ab38-4068-ab9a-4d106095eac5\",\"roots\":{\"2159\":\"dd898739-1f53-4465-aafe-776966d57a4a\"}}];\n",
       "  root.Bokeh.embed.embed_items_notebook(docs_json, render_items);\n",
       "\n",
       "  }\n",
       "  if (root.Bokeh !== undefined) {\n",
       "    embed_document(root);\n",
       "  } else {\n",
       "    var attempts = 0;\n",
       "    var timer = setInterval(function(root) {\n",
       "      if (root.Bokeh !== undefined) {\n",
       "        clearInterval(timer);\n",
       "        embed_document(root);\n",
       "      } else {\n",
       "        attempts++;\n",
       "        if (attempts > 100) {\n",
       "          clearInterval(timer);\n",
       "          console.log(\"Bokeh: ERROR: Unable to run BokehJS code because BokehJS library is missing\");\n",
       "        }\n",
       "      }\n",
       "    }, 10, root)\n",
       "  }\n",
       "})(window);"
      ],
      "application/vnd.bokehjs_exec.v0+json": ""
     },
     "metadata": {
      "application/vnd.bokehjs_exec.v0+json": {
       "id": "2159"
      }
     },
     "output_type": "display_data"
    },
    {
     "data": {
      "text/plain": [
       "'C:\\\\Users\\\\india\\\\Documents\\\\Projects\\\\plot4.png'"
      ]
     },
     "execution_count": 10,
     "metadata": {},
     "output_type": "execute_result"
    }
   ],
   "source": [
    "max_nutrients = nutrients.groupby('country',as_index=False)[['proteins_100g','fiber_100g']].agg('max')\n",
    "data2 = max_nutrients.to_dict(orient='list')\n",
    "country = max_nutrients['country'].tolist()\n",
    "\n",
    "\n",
    "\n",
    "#get max possible value of plotted columns with some offset\n",
    "p = figure(x_range=country, y_range=(0, max_nutrients[['proteins_100g','fiber_100g']].values.max() + 3), \n",
    "           plot_height=250, title=\"Healthiest Food Product By Country\", plot_width=800,\n",
    "           toolbar_location=None, tools=\"\", y_axis_label = 'Max Amount Per 100g')\n",
    "\n",
    "p.vbar(x=dodge('country', -0.1, range=p.x_range), top='proteins_100g', width=0.4, source=ColumnDataSource(data2),\n",
    "       color='#f7cac9', legend_label='protein')\n",
    "\n",
    "p.vbar(x=dodge('country',  0.1,  range=p.x_range), top='fiber_100g', width=0.4, source=ColumnDataSource(data2),\n",
    "       color='#92a8d1',legend_label = \"fiber\")\n",
    "\n",
    "\n",
    "p.x_range.range_padding = 0.1\n",
    "p.xgrid.grid_line_color = None\n",
    "p.legend.location = \"top_left\"\n",
    "p.legend.orientation = \"horizontal\"\n",
    "\n",
    "show(p)\n",
    "export_png(p, filename=\"plot4.png\")"
   ]
  },
  {
   "cell_type": "markdown",
   "metadata": {},
   "source": [
    "Switzerland's products target the protein factor while Australia contain high levels of fiber. __Given both of these countries stood out for out for their healthy product offerings in the previous section, this may indicate the presence of a health conscious market in Switzerland and Australia__\n",
    "\n",
    "It seems a little odd that the US has a product with a 100g of protein and another with 100g fiber ... for a product to have 100 grams of protein or fiber per 100 grams, it must be entirely made up of protein or fiber. Let's see what these products are. "
   ]
  },
  {
   "cell_type": "code",
   "execution_count": 12,
   "metadata": {},
   "outputs": [
    {
     "data": {
      "text/html": [
       "<div>\n",
       "<style scoped>\n",
       "    .dataframe tbody tr th:only-of-type {\n",
       "        vertical-align: middle;\n",
       "    }\n",
       "\n",
       "    .dataframe tbody tr th {\n",
       "        vertical-align: top;\n",
       "    }\n",
       "\n",
       "    .dataframe thead th {\n",
       "        text-align: right;\n",
       "    }\n",
       "</style>\n",
       "<table border=\"1\" class=\"dataframe\">\n",
       "  <thead>\n",
       "    <tr style=\"text-align: right;\">\n",
       "      <th></th>\n",
       "      <th>product_name</th>\n",
       "      <th>serving_size</th>\n",
       "      <th>brands</th>\n",
       "      <th>energy_100g</th>\n",
       "      <th>fat_100g</th>\n",
       "      <th>fiber_100g</th>\n",
       "      <th>proteins_100g</th>\n",
       "    </tr>\n",
       "  </thead>\n",
       "  <tbody>\n",
       "    <tr>\n",
       "      <th>152137</th>\n",
       "      <td>Tcho-A-Day Dark Chocolate</td>\n",
       "      <td>8 g (1 BAR)</td>\n",
       "      <td>Tcho</td>\n",
       "      <td>2301.0</td>\n",
       "      <td>35.00</td>\n",
       "      <td>0.0</td>\n",
       "      <td>100.00</td>\n",
       "    </tr>\n",
       "    <tr>\n",
       "      <th>41498</th>\n",
       "      <td>Unflavored Gelatin</td>\n",
       "      <td>7 g (7 g)</td>\n",
       "      <td>Meijer</td>\n",
       "      <td>1795.0</td>\n",
       "      <td>0.00</td>\n",
       "      <td>0.0</td>\n",
       "      <td>100.00</td>\n",
       "    </tr>\n",
       "    <tr>\n",
       "      <th>18852</th>\n",
       "      <td>Fisherman's Wharf, Cocktail Shrimp</td>\n",
       "      <td>22 g (8 SHRIMP AND 0.8 OZ SAUCE | ABOUT)</td>\n",
       "      <td>Winn-Dixie Stores  Inc.</td>\n",
       "      <td>2092.0</td>\n",
       "      <td>6.82</td>\n",
       "      <td>0.0</td>\n",
       "      <td>86.36</td>\n",
       "    </tr>\n",
       "  </tbody>\n",
       "</table>\n",
       "</div>"
      ],
      "text/plain": [
       "                              product_name  \\\n",
       "152137           Tcho-A-Day Dark Chocolate   \n",
       "41498                   Unflavored Gelatin   \n",
       "18852   Fisherman's Wharf, Cocktail Shrimp   \n",
       "\n",
       "                                    serving_size                   brands  \\\n",
       "152137                               8 g (1 BAR)                     Tcho   \n",
       "41498                                  7 g (7 g)                   Meijer   \n",
       "18852   22 g (8 SHRIMP AND 0.8 OZ SAUCE | ABOUT)  Winn-Dixie Stores  Inc.   \n",
       "\n",
       "        energy_100g  fat_100g  fiber_100g  proteins_100g  \n",
       "152137       2301.0     35.00         0.0         100.00  \n",
       "41498        1795.0      0.00         0.0         100.00  \n",
       "18852        2092.0      6.82         0.0          86.36  "
      ]
     },
     "execution_count": 12,
     "metadata": {},
     "output_type": "execute_result"
    }
   ],
   "source": [
    "#selecting country as US\n",
    "usa = nutrients[nutrients['country']=='US']\n",
    "usa[['product_name','serving_size','brands','energy_100g','fat_100g','fiber_100g','proteins_100g']].sort_values(by='proteins_100g',ascending=False)[:3]"
   ]
  },
  {
   "cell_type": "markdown",
   "metadata": {},
   "source": [
    "Unless the Tcho-A-Day Dark Chocolate bar actually is made of pure protein (if so, please tell me where to find it 😋), its protein content is probably the result of a data entry error. Otherwise, unflavored gelatin (a protein product derived from collagen) takes the gold for the US. This product is typically 99% protein and often taken as a protein supplement. "
   ]
  },
  {
   "cell_type": "code",
   "execution_count": 13,
   "metadata": {},
   "outputs": [
    {
     "data": {
      "text/html": [
       "<div>\n",
       "<style scoped>\n",
       "    .dataframe tbody tr th:only-of-type {\n",
       "        vertical-align: middle;\n",
       "    }\n",
       "\n",
       "    .dataframe tbody tr th {\n",
       "        vertical-align: top;\n",
       "    }\n",
       "\n",
       "    .dataframe thead th {\n",
       "        text-align: right;\n",
       "    }\n",
       "</style>\n",
       "<table border=\"1\" class=\"dataframe\">\n",
       "  <thead>\n",
       "    <tr style=\"text-align: right;\">\n",
       "      <th></th>\n",
       "      <th>product_name</th>\n",
       "      <th>serving_size</th>\n",
       "      <th>brands</th>\n",
       "      <th>energy_100g</th>\n",
       "      <th>fat_100g</th>\n",
       "      <th>fiber_100g</th>\n",
       "      <th>proteins_100g</th>\n",
       "    </tr>\n",
       "  </thead>\n",
       "  <tbody>\n",
       "    <tr>\n",
       "      <th>87624</th>\n",
       "      <td>Yamashin, Powdered Agar-Agar</td>\n",
       "      <td>4 g (1 PACKAGE)</td>\n",
       "      <td>Wismettac Asian Foods  Inc.</td>\n",
       "      <td>1046.0</td>\n",
       "      <td>0.0</td>\n",
       "      <td>100.0</td>\n",
       "      <td>0.0</td>\n",
       "    </tr>\n",
       "    <tr>\n",
       "      <th>37059</th>\n",
       "      <td>Premium Guar Gum</td>\n",
       "      <td>10 g (1 Tbsp)</td>\n",
       "      <td>Bob's Red Mill</td>\n",
       "      <td>1255.0</td>\n",
       "      <td>0.0</td>\n",
       "      <td>90.0</td>\n",
       "      <td>0.0</td>\n",
       "    </tr>\n",
       "    <tr>\n",
       "      <th>77233</th>\n",
       "      <td>Xanthan Gum</td>\n",
       "      <td>1.15 g (0.5 tsp)</td>\n",
       "      <td>NaN</td>\n",
       "      <td>0.0</td>\n",
       "      <td>0.0</td>\n",
       "      <td>87.0</td>\n",
       "      <td>0.0</td>\n",
       "    </tr>\n",
       "  </tbody>\n",
       "</table>\n",
       "</div>"
      ],
      "text/plain": [
       "                       product_name      serving_size  \\\n",
       "87624  Yamashin, Powdered Agar-Agar   4 g (1 PACKAGE)   \n",
       "37059              Premium Guar Gum     10 g (1 Tbsp)   \n",
       "77233                   Xanthan Gum  1.15 g (0.5 tsp)   \n",
       "\n",
       "                            brands  energy_100g  fat_100g  fiber_100g  \\\n",
       "87624  Wismettac Asian Foods  Inc.       1046.0       0.0       100.0   \n",
       "37059               Bob's Red Mill       1255.0       0.0        90.0   \n",
       "77233                          NaN          0.0       0.0        87.0   \n",
       "\n",
       "       proteins_100g  \n",
       "87624            0.0  \n",
       "37059            0.0  \n",
       "77233            0.0  "
      ]
     },
     "execution_count": 13,
     "metadata": {},
     "output_type": "execute_result"
    }
   ],
   "source": [
    "#top 3 USA products with the highest fiber content\n",
    "usa[['product_name','serving_size','brands','energy_100g','fat_100g','fiber_100g','proteins_100g']].sort_values(by='fiber_100g',ascending=False)[:3]"
   ]
  },
  {
   "cell_type": "markdown",
   "metadata": {},
   "source": [
    "The products the US offers with the highest fiber content are all a little unusual. Agar-agar is a jelly-like product derived from seaweed. Guar gum consist of the fiber from the seed of the guar plant and Xantham gum is a plant-based thickening and stabilizing agent. All three of these products are typically used as thickening or stablizing agents within vegan cooking to help food imitate the consistency or creamyness provided from using animal products. __These products may indicate that a market for vegan, animal-product substitutes exists in the US.__\n",
    "\n",
    "While we're on the topic of vegan products...\n",
    "\n",
    "### Let's Look At The Popularity of Alternative Diets By Country\n",
    "\n",
    "If a product fits a vegetarian diet, than it contains no animal meat products. If it fits a vegan diet, it contains no animal or dairy products. Foods that are vegan are also vegetarian.\n",
    "\n",
    "In the data quality file, I used categorized the foods by their diet type. Let's use these tags to discovery which countries have preferences for the different diets. "
   ]
  },
  {
   "cell_type": "code",
   "execution_count": 14,
   "metadata": {},
   "outputs": [],
   "source": [
    "diets = nutrients[nutrients['Special Diet']!= 'Not Specified']\n",
    "\n",
    "#gives us proportion of popularity of each diet to normalize for amount of products per country\n",
    "diets2 = pd.crosstab(diets['country'],diets['Special Diet']).apply(lambda r: r/r.sum(), axis=1)"
   ]
  },
  {
   "cell_type": "code",
   "execution_count": 15,
   "metadata": {},
   "outputs": [
    {
     "data": {
      "text/html": [
       "\n",
       "\n",
       "\n",
       "\n",
       "\n",
       "\n",
       "  <div class=\"bk-root\" id=\"71d2657f-d74b-4b59-b6b9-fddcc3a76dfe\" data-root-id=\"2432\"></div>\n"
      ]
     },
     "metadata": {},
     "output_type": "display_data"
    },
    {
     "data": {
      "application/javascript": [
       "(function(root) {\n",
       "  function embed_document(root) {\n",
       "    \n",
       "  var docs_json = {\"345a42a1-48a0-43f8-b259-3a007b7a9904\":{\"roots\":{\"references\":[{\"attributes\":{\"below\":[{\"id\":\"2442\",\"type\":\"LinearAxis\"}],\"center\":[{\"id\":\"2446\",\"type\":\"Grid\"},{\"id\":\"2450\",\"type\":\"Grid\"},{\"id\":\"2475\",\"type\":\"Legend\"}],\"left\":[{\"id\":\"2447\",\"type\":\"CategoricalAxis\"}],\"plot_width\":800,\"renderers\":[{\"id\":\"2467\",\"type\":\"GlyphRenderer\"},{\"id\":\"2480\",\"type\":\"GlyphRenderer\"},{\"id\":\"2494\",\"type\":\"GlyphRenderer\"},{\"id\":\"2510\",\"type\":\"GlyphRenderer\"}],\"title\":{\"id\":\"2433\",\"type\":\"Title\"},\"toolbar\":{\"id\":\"2457\",\"type\":\"Toolbar\"},\"x_range\":{\"id\":\"2435\",\"type\":\"DataRange1d\"},\"x_scale\":{\"id\":\"2438\",\"type\":\"LinearScale\"},\"y_range\":{\"id\":\"2431\",\"type\":\"FactorRange\"},\"y_scale\":{\"id\":\"2440\",\"type\":\"CategoricalScale\"}},\"id\":\"2432\",\"subtype\":\"Figure\",\"type\":\"Plot\"},{\"attributes\":{\"fill_alpha\":{\"value\":0.1},\"fill_color\":{\"value\":\"#1f77b4\"},\"height\":{\"value\":0.2},\"left\":{\"field\":\"left\"},\"line_alpha\":{\"value\":0.1},\"line_color\":{\"value\":\"#1f77b4\"},\"right\":{\"field\":\"right\"},\"y\":{\"field\":\"y\"}},\"id\":\"2509\",\"type\":\"HBar\"},{\"attributes\":{\"data_source\":{\"id\":\"2507\",\"type\":\"ColumnDataSource\"},\"glyph\":{\"id\":\"2508\",\"type\":\"HBar\"},\"hover_glyph\":null,\"muted_glyph\":null,\"nonselection_glyph\":{\"id\":\"2509\",\"type\":\"HBar\"},\"selection_glyph\":null,\"view\":{\"id\":\"2511\",\"type\":\"CDSView\"}},\"id\":\"2510\",\"type\":\"GlyphRenderer\"},{\"attributes\":{\"data_source\":{\"id\":\"2464\",\"type\":\"ColumnDataSource\"},\"glyph\":{\"id\":\"2465\",\"type\":\"HBar\"},\"hover_glyph\":null,\"muted_glyph\":null,\"nonselection_glyph\":{\"id\":\"2466\",\"type\":\"HBar\"},\"selection_glyph\":null,\"view\":{\"id\":\"2468\",\"type\":\"CDSView\"}},\"id\":\"2467\",\"type\":\"GlyphRenderer\"},{\"attributes\":{\"callback\":null,\"factors\":[\"Australia\",\"Belgium\",\"Canada\",\"France\",\"Spain\",\"Switzerland\",\"UK\",\"US\"]},\"id\":\"2431\",\"type\":\"FactorRange\"},{\"attributes\":{\"label\":{\"value\":\"Dairy\"},\"renderers\":[{\"id\":\"2467\",\"type\":\"GlyphRenderer\"}]},\"id\":\"2476\",\"type\":\"LegendItem\"},{\"attributes\":{},\"id\":\"2438\",\"type\":\"LinearScale\"},{\"attributes\":{\"fill_color\":{\"value\":\"#ff6f69\"},\"height\":{\"value\":0.2},\"line_color\":{\"value\":\"#ff6f69\"},\"right\":{\"field\":\"right\"},\"y\":{\"field\":\"y\"}},\"id\":\"2465\",\"type\":\"HBar\"},{\"attributes\":{\"callback\":null,\"data\":{\"left\":{\"__ndarray__\":\"AAAAAAAAAAAAAAAAAAAAAFAHdVAHddA/uuiiiy664D8AAAAAAAAAAFVVVVVVVeU/AAAAAAAAAAAzMzMzMzPDPw==\",\"dtype\":\"float64\",\"shape\":[8]},\"right\":{\"__ndarray__\":\"kiRJkiRJwj8AAAAAAADwPx3UQR3UQc0/F1100UUXzT+e2Imd2IntP1VVVVVVVcU/AAAAAAAAAABI4XoUrkfBPw==\",\"dtype\":\"float64\",\"shape\":[8]},\"y\":[\"Australia\",\"Belgium\",\"Canada\",\"France\",\"Spain\",\"Switzerland\",\"UK\",\"US\"]},\"selected\":{\"id\":\"2522\",\"type\":\"Selection\"},\"selection_policy\":{\"id\":\"2523\",\"type\":\"UnionRenderers\"}},\"id\":\"2491\",\"type\":\"ColumnDataSource\"},{\"attributes\":{},\"id\":\"2454\",\"type\":\"SaveTool\"},{\"attributes\":{},\"id\":\"2522\",\"type\":\"Selection\"},{\"attributes\":{\"text\":\"Special Diet Popularity\"},\"id\":\"2433\",\"type\":\"Title\"},{\"attributes\":{},\"id\":\"2451\",\"type\":\"PanTool\"},{\"attributes\":{\"fill_color\":{\"value\":\"#96ceb4\"},\"height\":{\"value\":0.2},\"left\":{\"field\":\"left\"},\"line_color\":{\"value\":\"#96ceb4\"},\"right\":{\"field\":\"right\"},\"y\":{\"field\":\"y\"}},\"id\":\"2492\",\"type\":\"HBar\"},{\"attributes\":{\"callback\":null},\"id\":\"2435\",\"type\":\"DataRange1d\"},{\"attributes\":{},\"id\":\"2452\",\"type\":\"WheelZoomTool\"},{\"attributes\":{\"fill_alpha\":{\"value\":0.1},\"fill_color\":{\"value\":\"#1f77b4\"},\"height\":{\"value\":0.2},\"left\":{\"field\":\"left\"},\"line_alpha\":{\"value\":0.1},\"line_color\":{\"value\":\"#1f77b4\"},\"right\":{\"field\":\"right\"},\"y\":{\"field\":\"y\"}},\"id\":\"2493\",\"type\":\"HBar\"},{\"attributes\":{\"fill_color\":{\"value\":\"#ffeead\"},\"height\":{\"value\":0.2},\"left\":{\"field\":\"left\"},\"line_color\":{\"value\":\"#ffeead\"},\"right\":{\"field\":\"right\"},\"y\":{\"field\":\"y\"}},\"id\":\"2508\",\"type\":\"HBar\"},{\"attributes\":{\"data_source\":{\"id\":\"2491\",\"type\":\"ColumnDataSource\"},\"glyph\":{\"id\":\"2492\",\"type\":\"HBar\"},\"hover_glyph\":null,\"muted_glyph\":null,\"nonselection_glyph\":{\"id\":\"2493\",\"type\":\"HBar\"},\"selection_glyph\":null,\"view\":{\"id\":\"2495\",\"type\":\"CDSView\"}},\"id\":\"2494\",\"type\":\"GlyphRenderer\"},{\"attributes\":{\"overlay\":{\"id\":\"2474\",\"type\":\"BoxAnnotation\"}},\"id\":\"2453\",\"type\":\"BoxZoomTool\"},{\"attributes\":{\"callback\":null,\"data\":{\"left\":{\"__ndarray__\":\"kiRJkiRJ0j8AAAAAAAAAAFAHdVAHdeA/L7rooosuyj8AAAAAAAAAAFVVVVVVVcU/AAAAAAAAAABI4XoUrkflPw==\",\"dtype\":\"float64\",\"shape\":[8]},\"right\":{\"__ndarray__\":\"AAAAAAAAAAAAAAAAAAAAAFAHdVAHddA/uuiiiy664D8AAAAAAAAAAFVVVVVVVeU/AAAAAAAAAAAzMzMzMzPDPw==\",\"dtype\":\"float64\",\"shape\":[8]},\"y\":[\"Australia\",\"Belgium\",\"Canada\",\"France\",\"Spain\",\"Switzerland\",\"UK\",\"US\"]},\"selected\":{\"id\":\"2504\",\"type\":\"Selection\"},\"selection_policy\":{\"id\":\"2505\",\"type\":\"UnionRenderers\"}},\"id\":\"2477\",\"type\":\"ColumnDataSource\"},{\"attributes\":{\"source\":{\"id\":\"2507\",\"type\":\"ColumnDataSource\"}},\"id\":\"2511\",\"type\":\"CDSView\"},{\"attributes\":{},\"id\":\"2523\",\"type\":\"UnionRenderers\"},{\"attributes\":{},\"id\":\"2588\",\"type\":\"UnionRenderers\"},{\"attributes\":{},\"id\":\"2455\",\"type\":\"ResetTool\"},{\"attributes\":{\"fill_alpha\":{\"value\":0.1},\"fill_color\":{\"value\":\"#1f77b4\"},\"height\":{\"value\":0.2},\"line_alpha\":{\"value\":0.1},\"line_color\":{\"value\":\"#1f77b4\"},\"right\":{\"field\":\"right\"},\"y\":{\"field\":\"y\"}},\"id\":\"2466\",\"type\":\"HBar\"},{\"attributes\":{\"bottom_units\":\"screen\",\"fill_alpha\":{\"value\":0.5},\"fill_color\":{\"value\":\"lightgrey\"},\"left_units\":\"screen\",\"level\":\"overlay\",\"line_alpha\":{\"value\":1.0},\"line_color\":{\"value\":\"black\"},\"line_dash\":[4,4],\"line_width\":{\"value\":2},\"render_mode\":\"css\",\"right_units\":\"screen\",\"top_units\":\"screen\"},\"id\":\"2474\",\"type\":\"BoxAnnotation\"},{\"attributes\":{},\"id\":\"2505\",\"type\":\"UnionRenderers\"},{\"attributes\":{\"axis_label\":\"Proportion of Products\",\"formatter\":{\"id\":\"2471\",\"type\":\"BasicTickFormatter\"},\"ticker\":{\"id\":\"2443\",\"type\":\"BasicTicker\"}},\"id\":\"2442\",\"type\":\"LinearAxis\"},{\"attributes\":{\"fill_color\":{\"value\":\"#ffcc5c\"},\"height\":{\"value\":0.2},\"left\":{\"field\":\"left\"},\"line_color\":{\"value\":\"#ffcc5c\"},\"right\":{\"field\":\"right\"},\"y\":{\"field\":\"y\"}},\"id\":\"2478\",\"type\":\"HBar\"},{\"attributes\":{},\"id\":\"2440\",\"type\":\"CategoricalScale\"},{\"attributes\":{\"fill_alpha\":{\"value\":0.1},\"fill_color\":{\"value\":\"#1f77b4\"},\"height\":{\"value\":0.2},\"left\":{\"field\":\"left\"},\"line_alpha\":{\"value\":0.1},\"line_color\":{\"value\":\"#1f77b4\"},\"right\":{\"field\":\"right\"},\"y\":{\"field\":\"y\"}},\"id\":\"2479\",\"type\":\"HBar\"},{\"attributes\":{\"data_source\":{\"id\":\"2477\",\"type\":\"ColumnDataSource\"},\"glyph\":{\"id\":\"2478\",\"type\":\"HBar\"},\"hover_glyph\":null,\"muted_glyph\":null,\"nonselection_glyph\":{\"id\":\"2479\",\"type\":\"HBar\"},\"selection_glyph\":null,\"view\":{\"id\":\"2481\",\"type\":\"CDSView\"}},\"id\":\"2480\",\"type\":\"GlyphRenderer\"},{\"attributes\":{},\"id\":\"2456\",\"type\":\"HelpTool\"},{\"attributes\":{\"ticker\":{\"id\":\"2443\",\"type\":\"BasicTicker\"}},\"id\":\"2446\",\"type\":\"Grid\"},{\"attributes\":{},\"id\":\"2488\",\"type\":\"Selection\"},{\"attributes\":{\"source\":{\"id\":\"2491\",\"type\":\"ColumnDataSource\"}},\"id\":\"2495\",\"type\":\"CDSView\"},{\"attributes\":{},\"id\":\"2443\",\"type\":\"BasicTicker\"},{\"attributes\":{},\"id\":\"2504\",\"type\":\"Selection\"},{\"attributes\":{\"label\":{\"value\":\"Vegan\"},\"renderers\":[{\"id\":\"2494\",\"type\":\"GlyphRenderer\"}]},\"id\":\"2506\",\"type\":\"LegendItem\"},{\"attributes\":{},\"id\":\"2587\",\"type\":\"Selection\"},{\"attributes\":{\"dimension\":1,\"ticker\":{\"id\":\"2448\",\"type\":\"CategoricalTicker\"}},\"id\":\"2450\",\"type\":\"Grid\"},{\"attributes\":{},\"id\":\"2489\",\"type\":\"UnionRenderers\"},{\"attributes\":{\"axis_label\":\"Country\",\"formatter\":{\"id\":\"2473\",\"type\":\"CategoricalTickFormatter\"},\"ticker\":{\"id\":\"2448\",\"type\":\"CategoricalTicker\"}},\"id\":\"2447\",\"type\":\"CategoricalAxis\"},{\"attributes\":{\"label\":{\"value\":\"Vegetarian\"},\"renderers\":[{\"id\":\"2510\",\"type\":\"GlyphRenderer\"}]},\"id\":\"2524\",\"type\":\"LegendItem\"},{\"attributes\":{\"source\":{\"id\":\"2477\",\"type\":\"ColumnDataSource\"}},\"id\":\"2481\",\"type\":\"CDSView\"},{\"attributes\":{},\"id\":\"2448\",\"type\":\"CategoricalTicker\"},{\"attributes\":{\"source\":{\"id\":\"2464\",\"type\":\"ColumnDataSource\"}},\"id\":\"2468\",\"type\":\"CDSView\"},{\"attributes\":{},\"id\":\"2471\",\"type\":\"BasicTickFormatter\"},{\"attributes\":{\"label\":{\"value\":\"Meat\"},\"renderers\":[{\"id\":\"2480\",\"type\":\"GlyphRenderer\"}]},\"id\":\"2490\",\"type\":\"LegendItem\"},{\"attributes\":{\"callback\":null,\"data\":{\"right\":{\"__ndarray__\":\"kiRJkiRJ0j8AAAAAAAAAAFAHdVAHdeA/L7rooosuyj8AAAAAAAAAAFVVVVVVVcU/AAAAAAAAAABI4XoUrkflPw==\",\"dtype\":\"float64\",\"shape\":[8]},\"y\":[\"Australia\",\"Belgium\",\"Canada\",\"France\",\"Spain\",\"Switzerland\",\"UK\",\"US\"]},\"selected\":{\"id\":\"2488\",\"type\":\"Selection\"},\"selection_policy\":{\"id\":\"2489\",\"type\":\"UnionRenderers\"}},\"id\":\"2464\",\"type\":\"ColumnDataSource\"},{\"attributes\":{\"items\":[{\"id\":\"2476\",\"type\":\"LegendItem\"},{\"id\":\"2490\",\"type\":\"LegendItem\"},{\"id\":\"2506\",\"type\":\"LegendItem\"},{\"id\":\"2524\",\"type\":\"LegendItem\"}]},\"id\":\"2475\",\"type\":\"Legend\"},{\"attributes\":{\"callback\":null,\"data\":{\"left\":{\"__ndarray__\":\"kiRJkiRJwj8AAAAAAADwPx3UQR3UQc0/F1100UUXzT+e2Imd2IntP1VVVVVVVcU/AAAAAAAAAABI4XoUrkfBPw==\",\"dtype\":\"float64\",\"shape\":[8]},\"right\":{\"__ndarray__\":\"kiRJkiRJ4j8AAAAAAAAAAAAAAAAAAAAARhdddNFFpz8UO7ETO7GzPwAAAAAAAAAAAAAAAAAA8D+amZmZmZmpPw==\",\"dtype\":\"float64\",\"shape\":[8]},\"y\":[\"Australia\",\"Belgium\",\"Canada\",\"France\",\"Spain\",\"Switzerland\",\"UK\",\"US\"]},\"selected\":{\"id\":\"2587\",\"type\":\"Selection\"},\"selection_policy\":{\"id\":\"2588\",\"type\":\"UnionRenderers\"}},\"id\":\"2507\",\"type\":\"ColumnDataSource\"},{\"attributes\":{},\"id\":\"2473\",\"type\":\"CategoricalTickFormatter\"},{\"attributes\":{\"active_drag\":\"auto\",\"active_inspect\":\"auto\",\"active_multi\":null,\"active_scroll\":\"auto\",\"active_tap\":\"auto\",\"tools\":[{\"id\":\"2451\",\"type\":\"PanTool\"},{\"id\":\"2452\",\"type\":\"WheelZoomTool\"},{\"id\":\"2453\",\"type\":\"BoxZoomTool\"},{\"id\":\"2454\",\"type\":\"SaveTool\"},{\"id\":\"2455\",\"type\":\"ResetTool\"},{\"id\":\"2456\",\"type\":\"HelpTool\"}]},\"id\":\"2457\",\"type\":\"Toolbar\"}],\"root_ids\":[\"2432\"]},\"title\":\"Bokeh Application\",\"version\":\"1.4.0\"}};\n",
       "  var render_items = [{\"docid\":\"345a42a1-48a0-43f8-b259-3a007b7a9904\",\"roots\":{\"2432\":\"71d2657f-d74b-4b59-b6b9-fddcc3a76dfe\"}}];\n",
       "  root.Bokeh.embed.embed_items_notebook(docs_json, render_items);\n",
       "\n",
       "  }\n",
       "  if (root.Bokeh !== undefined) {\n",
       "    embed_document(root);\n",
       "  } else {\n",
       "    var attempts = 0;\n",
       "    var timer = setInterval(function(root) {\n",
       "      if (root.Bokeh !== undefined) {\n",
       "        clearInterval(timer);\n",
       "        embed_document(root);\n",
       "      } else {\n",
       "        attempts++;\n",
       "        if (attempts > 100) {\n",
       "          clearInterval(timer);\n",
       "          console.log(\"Bokeh: ERROR: Unable to run BokehJS code because BokehJS library is missing\");\n",
       "        }\n",
       "      }\n",
       "    }, 10, root)\n",
       "  }\n",
       "})(window);"
      ],
      "application/vnd.bokehjs_exec.v0+json": ""
     },
     "metadata": {
      "application/vnd.bokehjs_exec.v0+json": {
       "id": "2432"
      }
     },
     "output_type": "display_data"
    },
    {
     "data": {
      "text/plain": [
       "'C:\\\\Users\\\\india\\\\Documents\\\\Projects\\\\plot5.png'"
      ]
     },
     "execution_count": 15,
     "metadata": {},
     "output_type": "execute_result"
    }
   ],
   "source": [
    "from bokeh.models.ranges import FactorRange\n",
    "p = figure(title=\"Special Diet Popularity\",\n",
    "           y_axis_label='Country', x_axis_label='Proportion of Products',\n",
    "           y_range = FactorRange(factors=list(diets2.index)),\n",
    "           plot_height=600, plot_width=800)\n",
    "\n",
    "p.hbar(y=diets2.index, left=0, right=diets2['Dairy Product'], height=0.2, color='#ff6f69', legend_label='Dairy')\n",
    "p.hbar(y=diets2.index, left=diets2['Dairy Product'], right=diets2['Meat Product'], height=0.2, color='#ffcc5c', legend_label='Meat')\n",
    "p.hbar(y=diets2.index, left=diets2['Meat Product'], right=diets2['Vegan'], height=0.2, color='#96ceb4', legend_label='Vegan')\n",
    "p.hbar(y=diets2.index, left=diets2['Vegan'], right=diets2['Vegetarian'], height=0.2, color='#ffeead', legend_label='Vegetarian')\n",
    "\n",
    "\n",
    "show(p)\n",
    "export_png(p, filename=\"plot5.png\")"
   ]
  },
  {
   "cell_type": "markdown",
   "metadata": {},
   "source": [
    "__Wow! The majority of Spain's products in this dataset are vegan and no other country comes close. All of the countries seem to have fairly high proportions of dairy products with Russia taking the lead. France offers the greatest proportion of meat products while the UK and Australia are tied for the number of vegetarian products.__\n",
    "\n",
    "*Remember that any vegan products can also be classified as vegetarian. We chose to separate them here to see how countries differ in products offered between these two categories.*\n",
    "\n",
    "### Does The Nutritional Content of Products Differ By Special Diet Category?"
   ]
  },
  {
   "cell_type": "code",
   "execution_count": 16,
   "metadata": {},
   "outputs": [],
   "source": [
    "nutr_cat = diets.groupby(['Special Diet'])[['proteins_100g','fiber_100g','fat_100g','sodium_100g']].mean()\n",
    "nutr_cat = nutr_cat.T\n",
    "nutr_content = ['Proteins','Fibers','Fat','Sodium']\n",
    "nutr_cat.index = nutr_content\n"
   ]
  },
  {
   "cell_type": "code",
   "execution_count": 17,
   "metadata": {},
   "outputs": [
    {
     "data": {
      "text/html": [
       "\n",
       "\n",
       "\n",
       "\n",
       "\n",
       "\n",
       "  <div class=\"bk-root\" id=\"143e37a3-728e-4ae0-811c-83e2f00756a1\" data-root-id=\"2856\"></div>\n"
      ]
     },
     "metadata": {},
     "output_type": "display_data"
    },
    {
     "data": {
      "application/javascript": [
       "(function(root) {\n",
       "  function embed_document(root) {\n",
       "    \n",
       "  var docs_json = {\"bd5808b4-b4de-4b11-b029-de56e7de7de5\":{\"roots\":{\"references\":[{\"attributes\":{\"below\":[{\"id\":\"2867\",\"type\":\"CategoricalAxis\"}],\"center\":[{\"id\":\"2870\",\"type\":\"Grid\"},{\"id\":\"2875\",\"type\":\"Grid\"},{\"id\":\"2900\",\"type\":\"Legend\"}],\"left\":[{\"id\":\"2871\",\"type\":\"LinearAxis\"}],\"renderers\":[{\"id\":\"2892\",\"type\":\"GlyphRenderer\"},{\"id\":\"2905\",\"type\":\"GlyphRenderer\"},{\"id\":\"2919\",\"type\":\"GlyphRenderer\"},{\"id\":\"2935\",\"type\":\"GlyphRenderer\"},{\"id\":\"2953\",\"type\":\"GlyphRenderer\"},{\"id\":\"2958\",\"type\":\"GlyphRenderer\"},{\"id\":\"2963\",\"type\":\"GlyphRenderer\"},{\"id\":\"2968\",\"type\":\"GlyphRenderer\"}],\"title\":{\"id\":\"2857\",\"type\":\"Title\"},\"toolbar\":{\"id\":\"2882\",\"type\":\"Toolbar\"},\"x_range\":{\"id\":\"2859\",\"type\":\"FactorRange\"},\"x_scale\":{\"id\":\"2863\",\"type\":\"CategoricalScale\"},\"y_range\":{\"id\":\"2861\",\"type\":\"DataRange1d\"},\"y_scale\":{\"id\":\"2865\",\"type\":\"LinearScale\"}},\"id\":\"2856\",\"subtype\":\"Figure\",\"type\":\"Plot\"},{\"attributes\":{},\"id\":\"3053\",\"type\":\"UnionRenderers\"},{\"attributes\":{\"line_color\":\"tomato\",\"x\":{\"field\":\"x\"},\"y\":{\"field\":\"y\"}},\"id\":\"2890\",\"type\":\"Line\"},{\"attributes\":{},\"id\":\"3051\",\"type\":\"UnionRenderers\"},{\"attributes\":{},\"id\":\"3052\",\"type\":\"Selection\"},{\"attributes\":{},\"id\":\"3055\",\"type\":\"UnionRenderers\"},{\"attributes\":{},\"id\":\"3054\",\"type\":\"Selection\"},{\"attributes\":{},\"id\":\"2898\",\"type\":\"BasicTickFormatter\"},{\"attributes\":{},\"id\":\"2876\",\"type\":\"PanTool\"},{\"attributes\":{},\"id\":\"2877\",\"type\":\"WheelZoomTool\"},{\"attributes\":{\"line_alpha\":0.1,\"line_color\":\"#1f77b4\",\"x\":{\"field\":\"x\"},\"y\":{\"field\":\"y\"}},\"id\":\"2891\",\"type\":\"Line\"},{\"attributes\":{},\"id\":\"3046\",\"type\":\"Selection\"},{\"attributes\":{},\"id\":\"2879\",\"type\":\"SaveTool\"},{\"attributes\":{\"overlay\":{\"id\":\"2899\",\"type\":\"BoxAnnotation\"}},\"id\":\"2878\",\"type\":\"BoxZoomTool\"},{\"attributes\":{},\"id\":\"2881\",\"type\":\"HelpTool\"},{\"attributes\":{\"dimension\":1,\"ticker\":{\"id\":\"2872\",\"type\":\"BasicTicker\"}},\"id\":\"2875\",\"type\":\"Grid\"},{\"attributes\":{},\"id\":\"2880\",\"type\":\"ResetTool\"},{\"attributes\":{\"line_alpha\":0.1,\"line_color\":\"#1f77b4\",\"x\":{\"field\":\"x\"},\"y\":{\"field\":\"y\"}},\"id\":\"2904\",\"type\":\"Line\"},{\"attributes\":{},\"id\":\"2896\",\"type\":\"CategoricalTickFormatter\"},{\"attributes\":{\"callback\":null,\"data\":{\"x\":[\"Proteins\",\"Fibers\",\"Fat\",\"Sodium\"],\"y\":{\"__ndarray__\":\"vxR7pKtVIUDdpuAYXFLDPwNWDi2yXSVAfkSZhD47zT8=\",\"dtype\":\"float64\",\"shape\":[4]}},\"selected\":{\"id\":\"2913\",\"type\":\"Selection\"},\"selection_policy\":{\"id\":\"2914\",\"type\":\"UnionRenderers\"}},\"id\":\"2889\",\"type\":\"ColumnDataSource\"},{\"attributes\":{\"text\":\"Average Nutritional Content Per Special Diet\"},\"id\":\"2857\",\"type\":\"Title\"},{\"attributes\":{\"data_source\":{\"id\":\"2889\",\"type\":\"ColumnDataSource\"},\"glyph\":{\"id\":\"2890\",\"type\":\"Line\"},\"hover_glyph\":null,\"muted_glyph\":null,\"nonselection_glyph\":{\"id\":\"2891\",\"type\":\"Line\"},\"selection_glyph\":null,\"view\":{\"id\":\"2893\",\"type\":\"CDSView\"}},\"id\":\"2892\",\"type\":\"GlyphRenderer\"},{\"attributes\":{\"active_drag\":\"auto\",\"active_inspect\":\"auto\",\"active_multi\":null,\"active_scroll\":\"auto\",\"active_tap\":\"auto\",\"tools\":[{\"id\":\"2876\",\"type\":\"PanTool\"},{\"id\":\"2877\",\"type\":\"WheelZoomTool\"},{\"id\":\"2878\",\"type\":\"BoxZoomTool\"},{\"id\":\"2879\",\"type\":\"SaveTool\"},{\"id\":\"2880\",\"type\":\"ResetTool\"},{\"id\":\"2881\",\"type\":\"HelpTool\"}]},\"id\":\"2882\",\"type\":\"Toolbar\"},{\"attributes\":{\"callback\":null,\"data\":{\"x\":[\"Proteins\",\"Fibers\",\"Fat\",\"Sodium\"],\"y\":{\"__ndarray__\":\"dpMYBFYOHkAzDgiH8S0VQN/nmEXlHTVA/YsjtNTV5j8=\",\"dtype\":\"float64\",\"shape\":[4]}},\"selected\":{\"id\":\"3052\",\"type\":\"Selection\"},\"selection_policy\":{\"id\":\"3053\",\"type\":\"UnionRenderers\"}},\"id\":\"2960\",\"type\":\"ColumnDataSource\"},{\"attributes\":{\"formatter\":{\"id\":\"2896\",\"type\":\"CategoricalTickFormatter\"},\"ticker\":{\"id\":\"2868\",\"type\":\"CategoricalTicker\"}},\"id\":\"2867\",\"type\":\"CategoricalAxis\"},{\"attributes\":{\"callback\":null,\"data\":{\"x\":[\"Proteins\",\"Fibers\",\"Fat\",\"Sodium\"],\"y\":{\"__ndarray__\":\"dpMYBFYOHkAzDgiH8S0VQN/nmEXlHTVA/YsjtNTV5j8=\",\"dtype\":\"float64\",\"shape\":[4]}},\"selected\":{\"id\":\"2947\",\"type\":\"Selection\"},\"selection_policy\":{\"id\":\"2948\",\"type\":\"UnionRenderers\"}},\"id\":\"2916\",\"type\":\"ColumnDataSource\"},{\"attributes\":{\"source\":{\"id\":\"2889\",\"type\":\"ColumnDataSource\"}},\"id\":\"2893\",\"type\":\"CDSView\"},{\"attributes\":{\"callback\":null},\"id\":\"2861\",\"type\":\"DataRange1d\"},{\"attributes\":{\"line_color\":\"indigo\",\"x\":{\"field\":\"x\"},\"y\":{\"field\":\"y\"}},\"id\":\"2917\",\"type\":\"Line\"},{\"attributes\":{},\"id\":\"2929\",\"type\":\"Selection\"},{\"attributes\":{},\"id\":\"2872\",\"type\":\"BasicTicker\"},{\"attributes\":{\"callback\":null,\"factors\":[\"Proteins\",\"Fibers\",\"Fat\",\"Sodium\"]},\"id\":\"2859\",\"type\":\"FactorRange\"},{\"attributes\":{\"line_alpha\":0.1,\"line_color\":\"#1f77b4\",\"x\":{\"field\":\"x\"},\"y\":{\"field\":\"y\"}},\"id\":\"2918\",\"type\":\"Line\"},{\"attributes\":{},\"id\":\"2863\",\"type\":\"CategoricalScale\"},{\"attributes\":{\"data_source\":{\"id\":\"2916\",\"type\":\"ColumnDataSource\"},\"glyph\":{\"id\":\"2917\",\"type\":\"Line\"},\"hover_glyph\":null,\"muted_glyph\":null,\"nonselection_glyph\":{\"id\":\"2918\",\"type\":\"Line\"},\"selection_glyph\":null,\"view\":{\"id\":\"2920\",\"type\":\"CDSView\"}},\"id\":\"2919\",\"type\":\"GlyphRenderer\"},{\"attributes\":{},\"id\":\"3047\",\"type\":\"UnionRenderers\"},{\"attributes\":{\"ticker\":{\"id\":\"2868\",\"type\":\"CategoricalTicker\"}},\"id\":\"2870\",\"type\":\"Grid\"},{\"attributes\":{},\"id\":\"2865\",\"type\":\"LinearScale\"},{\"attributes\":{\"data_source\":{\"id\":\"2902\",\"type\":\"ColumnDataSource\"},\"glyph\":{\"id\":\"2903\",\"type\":\"Line\"},\"hover_glyph\":null,\"muted_glyph\":null,\"nonselection_glyph\":{\"id\":\"2904\",\"type\":\"Line\"},\"selection_glyph\":null,\"view\":{\"id\":\"2906\",\"type\":\"CDSView\"}},\"id\":\"2905\",\"type\":\"GlyphRenderer\"},{\"attributes\":{\"source\":{\"id\":\"2916\",\"type\":\"ColumnDataSource\"}},\"id\":\"2920\",\"type\":\"CDSView\"},{\"attributes\":{\"items\":[{\"id\":\"2901\",\"type\":\"LegendItem\"},{\"id\":\"2915\",\"type\":\"LegendItem\"},{\"id\":\"2931\",\"type\":\"LegendItem\"},{\"id\":\"2949\",\"type\":\"LegendItem\"}],\"location\":\"top_left\"},\"id\":\"2900\",\"type\":\"Legend\"},{\"attributes\":{},\"id\":\"2868\",\"type\":\"CategoricalTicker\"},{\"attributes\":{},\"id\":\"2930\",\"type\":\"UnionRenderers\"},{\"attributes\":{\"label\":{\"value\":\"Vegan\"},\"renderers\":[{\"id\":\"2919\",\"type\":\"GlyphRenderer\"}]},\"id\":\"2931\",\"type\":\"LegendItem\"},{\"attributes\":{\"formatter\":{\"id\":\"2898\",\"type\":\"BasicTickFormatter\"},\"ticker\":{\"id\":\"2872\",\"type\":\"BasicTicker\"}},\"id\":\"2871\",\"type\":\"LinearAxis\"},{\"attributes\":{\"fill_color\":{\"value\":\"tomato\"},\"line_color\":{\"value\":\"tomato\"},\"radius\":{\"units\":\"data\",\"value\":0.05},\"x\":{\"field\":\"x\"},\"y\":{\"field\":\"y\"}},\"id\":\"2951\",\"type\":\"Circle\"},{\"attributes\":{\"callback\":null,\"data\":{\"x\":[\"Proteins\",\"Fibers\",\"Fat\",\"Sodium\"],\"y\":{\"__ndarray__\":\"vxR7pKtVIUDdpuAYXFLDPwNWDi2yXSVAfkSZhD47zT8=\",\"dtype\":\"float64\",\"shape\":[4]}},\"selected\":{\"id\":\"3048\",\"type\":\"Selection\"},\"selection_policy\":{\"id\":\"3049\",\"type\":\"UnionRenderers\"}},\"id\":\"2950\",\"type\":\"ColumnDataSource\"},{\"attributes\":{\"callback\":null,\"data\":{\"x\":[\"Proteins\",\"Fibers\",\"Fat\",\"Sodium\"],\"y\":{\"__ndarray__\":\"/aqhrxp6LEBIGA1Rnt3rP2Know/UkyNAqN8qGPDW4z8=\",\"dtype\":\"float64\",\"shape\":[4]}},\"selected\":{\"id\":\"3050\",\"type\":\"Selection\"},\"selection_policy\":{\"id\":\"3051\",\"type\":\"UnionRenderers\"}},\"id\":\"2955\",\"type\":\"ColumnDataSource\"},{\"attributes\":{\"fill_color\":{\"value\":\"#96ceb4\"},\"line_color\":{\"value\":\"#96ceb4\"},\"radius\":{\"units\":\"data\",\"value\":0.05},\"x\":{\"field\":\"x\"},\"y\":{\"field\":\"y\"}},\"id\":\"2956\",\"type\":\"Circle\"},{\"attributes\":{\"callback\":null,\"data\":{\"x\":[\"Proteins\",\"Fibers\",\"Fat\",\"Sodium\"],\"y\":{\"__ndarray__\":\"E/DNq4nnFEBVNBLwzasMQCz5xZJfrB5AaZYnNtB87z8=\",\"dtype\":\"float64\",\"shape\":[4]}},\"selected\":{\"id\":\"3046\",\"type\":\"Selection\"},\"selection_policy\":{\"id\":\"3047\",\"type\":\"UnionRenderers\"}},\"id\":\"2932\",\"type\":\"ColumnDataSource\"},{\"attributes\":{\"line_color\":\"gold\",\"x\":{\"field\":\"x\"},\"y\":{\"field\":\"y\"}},\"id\":\"2933\",\"type\":\"Line\"},{\"attributes\":{\"label\":{\"value\":\"Vegetarian\"},\"renderers\":[{\"id\":\"2935\",\"type\":\"GlyphRenderer\"}]},\"id\":\"2949\",\"type\":\"LegendItem\"},{\"attributes\":{\"line_alpha\":0.1,\"line_color\":\"#1f77b4\",\"x\":{\"field\":\"x\"},\"y\":{\"field\":\"y\"}},\"id\":\"2934\",\"type\":\"Line\"},{\"attributes\":{\"data_source\":{\"id\":\"2932\",\"type\":\"ColumnDataSource\"},\"glyph\":{\"id\":\"2933\",\"type\":\"Line\"},\"hover_glyph\":null,\"muted_glyph\":null,\"nonselection_glyph\":{\"id\":\"2934\",\"type\":\"Line\"},\"selection_glyph\":null,\"view\":{\"id\":\"2936\",\"type\":\"CDSView\"}},\"id\":\"2935\",\"type\":\"GlyphRenderer\"},{\"attributes\":{},\"id\":\"2948\",\"type\":\"UnionRenderers\"},{\"attributes\":{},\"id\":\"2947\",\"type\":\"Selection\"},{\"attributes\":{\"source\":{\"id\":\"2932\",\"type\":\"ColumnDataSource\"}},\"id\":\"2936\",\"type\":\"CDSView\"},{\"attributes\":{\"bottom_units\":\"screen\",\"fill_alpha\":{\"value\":0.5},\"fill_color\":{\"value\":\"lightgrey\"},\"left_units\":\"screen\",\"level\":\"overlay\",\"line_alpha\":{\"value\":1.0},\"line_color\":{\"value\":\"black\"},\"line_dash\":[4,4],\"line_width\":{\"value\":2},\"render_mode\":\"css\",\"right_units\":\"screen\",\"top_units\":\"screen\"},\"id\":\"2899\",\"type\":\"BoxAnnotation\"},{\"attributes\":{\"fill_color\":{\"value\":\"indigo\"},\"line_color\":{\"value\":\"indigo\"},\"radius\":{\"units\":\"data\",\"value\":0.05},\"x\":{\"field\":\"x\"},\"y\":{\"field\":\"y\"}},\"id\":\"2961\",\"type\":\"Circle\"},{\"attributes\":{\"fill_alpha\":{\"value\":0.1},\"fill_color\":{\"value\":\"#1f77b4\"},\"line_alpha\":{\"value\":0.1},\"line_color\":{\"value\":\"#1f77b4\"},\"radius\":{\"units\":\"data\",\"value\":0.05},\"x\":{\"field\":\"x\"},\"y\":{\"field\":\"y\"}},\"id\":\"2952\",\"type\":\"Circle\"},{\"attributes\":{\"label\":{\"value\":\"Meat Product\"},\"renderers\":[{\"id\":\"2905\",\"type\":\"GlyphRenderer\"}]},\"id\":\"2915\",\"type\":\"LegendItem\"},{\"attributes\":{\"data_source\":{\"id\":\"2950\",\"type\":\"ColumnDataSource\"},\"glyph\":{\"id\":\"2951\",\"type\":\"Circle\"},\"hover_glyph\":null,\"muted_glyph\":null,\"nonselection_glyph\":{\"id\":\"2952\",\"type\":\"Circle\"},\"selection_glyph\":null,\"view\":{\"id\":\"2954\",\"type\":\"CDSView\"}},\"id\":\"2953\",\"type\":\"GlyphRenderer\"},{\"attributes\":{\"source\":{\"id\":\"2902\",\"type\":\"ColumnDataSource\"}},\"id\":\"2906\",\"type\":\"CDSView\"},{\"attributes\":{\"source\":{\"id\":\"2950\",\"type\":\"ColumnDataSource\"}},\"id\":\"2954\",\"type\":\"CDSView\"},{\"attributes\":{\"fill_color\":{\"value\":\"gold\"},\"line_color\":{\"value\":\"gold\"},\"radius\":{\"units\":\"data\",\"value\":0.05},\"x\":{\"field\":\"x\"},\"y\":{\"field\":\"y\"}},\"id\":\"2966\",\"type\":\"Circle\"},{\"attributes\":{},\"id\":\"2914\",\"type\":\"UnionRenderers\"},{\"attributes\":{},\"id\":\"2913\",\"type\":\"Selection\"},{\"attributes\":{\"label\":{\"value\":\"Dairy Product\"},\"renderers\":[{\"id\":\"2892\",\"type\":\"GlyphRenderer\"}]},\"id\":\"2901\",\"type\":\"LegendItem\"},{\"attributes\":{\"fill_alpha\":{\"value\":0.1},\"fill_color\":{\"value\":\"#1f77b4\"},\"line_alpha\":{\"value\":0.1},\"line_color\":{\"value\":\"#1f77b4\"},\"radius\":{\"units\":\"data\",\"value\":0.05},\"x\":{\"field\":\"x\"},\"y\":{\"field\":\"y\"}},\"id\":\"2962\",\"type\":\"Circle\"},{\"attributes\":{\"source\":{\"id\":\"2955\",\"type\":\"ColumnDataSource\"}},\"id\":\"2959\",\"type\":\"CDSView\"},{\"attributes\":{\"callback\":null,\"data\":{\"x\":[\"Proteins\",\"Fibers\",\"Fat\",\"Sodium\"],\"y\":{\"__ndarray__\":\"E/DNq4nnFEBVNBLwzasMQCz5xZJfrB5AaZYnNtB87z8=\",\"dtype\":\"float64\",\"shape\":[4]}},\"selected\":{\"id\":\"3054\",\"type\":\"Selection\"},\"selection_policy\":{\"id\":\"3055\",\"type\":\"UnionRenderers\"}},\"id\":\"2965\",\"type\":\"ColumnDataSource\"},{\"attributes\":{\"fill_alpha\":{\"value\":0.1},\"fill_color\":{\"value\":\"#1f77b4\"},\"line_alpha\":{\"value\":0.1},\"line_color\":{\"value\":\"#1f77b4\"},\"radius\":{\"units\":\"data\",\"value\":0.05},\"x\":{\"field\":\"x\"},\"y\":{\"field\":\"y\"}},\"id\":\"2967\",\"type\":\"Circle\"},{\"attributes\":{\"data_source\":{\"id\":\"2960\",\"type\":\"ColumnDataSource\"},\"glyph\":{\"id\":\"2961\",\"type\":\"Circle\"},\"hover_glyph\":null,\"muted_glyph\":null,\"nonselection_glyph\":{\"id\":\"2962\",\"type\":\"Circle\"},\"selection_glyph\":null,\"view\":{\"id\":\"2964\",\"type\":\"CDSView\"}},\"id\":\"2963\",\"type\":\"GlyphRenderer\"},{\"attributes\":{\"fill_alpha\":{\"value\":0.1},\"fill_color\":{\"value\":\"#1f77b4\"},\"line_alpha\":{\"value\":0.1},\"line_color\":{\"value\":\"#1f77b4\"},\"radius\":{\"units\":\"data\",\"value\":0.05},\"x\":{\"field\":\"x\"},\"y\":{\"field\":\"y\"}},\"id\":\"2957\",\"type\":\"Circle\"},{\"attributes\":{\"callback\":null,\"data\":{\"x\":[\"Proteins\",\"Fibers\",\"Fat\",\"Sodium\"],\"y\":{\"__ndarray__\":\"/aqhrxp6LEBIGA1Rnt3rP2Know/UkyNAqN8qGPDW4z8=\",\"dtype\":\"float64\",\"shape\":[4]}},\"selected\":{\"id\":\"2929\",\"type\":\"Selection\"},\"selection_policy\":{\"id\":\"2930\",\"type\":\"UnionRenderers\"}},\"id\":\"2902\",\"type\":\"ColumnDataSource\"},{\"attributes\":{},\"id\":\"3049\",\"type\":\"UnionRenderers\"},{\"attributes\":{\"source\":{\"id\":\"2960\",\"type\":\"ColumnDataSource\"}},\"id\":\"2964\",\"type\":\"CDSView\"},{\"attributes\":{\"data_source\":{\"id\":\"2965\",\"type\":\"ColumnDataSource\"},\"glyph\":{\"id\":\"2966\",\"type\":\"Circle\"},\"hover_glyph\":null,\"muted_glyph\":null,\"nonselection_glyph\":{\"id\":\"2967\",\"type\":\"Circle\"},\"selection_glyph\":null,\"view\":{\"id\":\"2969\",\"type\":\"CDSView\"}},\"id\":\"2968\",\"type\":\"GlyphRenderer\"},{\"attributes\":{\"data_source\":{\"id\":\"2955\",\"type\":\"ColumnDataSource\"},\"glyph\":{\"id\":\"2956\",\"type\":\"Circle\"},\"hover_glyph\":null,\"muted_glyph\":null,\"nonselection_glyph\":{\"id\":\"2957\",\"type\":\"Circle\"},\"selection_glyph\":null,\"view\":{\"id\":\"2959\",\"type\":\"CDSView\"}},\"id\":\"2958\",\"type\":\"GlyphRenderer\"},{\"attributes\":{},\"id\":\"3048\",\"type\":\"Selection\"},{\"attributes\":{\"source\":{\"id\":\"2965\",\"type\":\"ColumnDataSource\"}},\"id\":\"2969\",\"type\":\"CDSView\"},{\"attributes\":{},\"id\":\"3050\",\"type\":\"Selection\"},{\"attributes\":{\"line_color\":\"#96ceb4\",\"x\":{\"field\":\"x\"},\"y\":{\"field\":\"y\"}},\"id\":\"2903\",\"type\":\"Line\"}],\"root_ids\":[\"2856\"]},\"title\":\"Bokeh Application\",\"version\":\"1.4.0\"}};\n",
       "  var render_items = [{\"docid\":\"bd5808b4-b4de-4b11-b029-de56e7de7de5\",\"roots\":{\"2856\":\"143e37a3-728e-4ae0-811c-83e2f00756a1\"}}];\n",
       "  root.Bokeh.embed.embed_items_notebook(docs_json, render_items);\n",
       "\n",
       "  }\n",
       "  if (root.Bokeh !== undefined) {\n",
       "    embed_document(root);\n",
       "  } else {\n",
       "    var attempts = 0;\n",
       "    var timer = setInterval(function(root) {\n",
       "      if (root.Bokeh !== undefined) {\n",
       "        clearInterval(timer);\n",
       "        embed_document(root);\n",
       "      } else {\n",
       "        attempts++;\n",
       "        if (attempts > 100) {\n",
       "          clearInterval(timer);\n",
       "          console.log(\"Bokeh: ERROR: Unable to run BokehJS code because BokehJS library is missing\");\n",
       "        }\n",
       "      }\n",
       "    }, 10, root)\n",
       "  }\n",
       "})(window);"
      ],
      "application/vnd.bokehjs_exec.v0+json": ""
     },
     "metadata": {
      "application/vnd.bokehjs_exec.v0+json": {
       "id": "2856"
      }
     },
     "output_type": "display_data"
    },
    {
     "data": {
      "text/plain": [
       "'C:\\\\Users\\\\india\\\\Documents\\\\Projects\\\\plot6.png'"
      ]
     },
     "execution_count": 17,
     "metadata": {},
     "output_type": "execute_result"
    }
   ],
   "source": [
    "from bokeh.models.annotations import Label\n",
    "\n",
    "#Initializing our plot\n",
    "p = figure(x_range=nutr_cat.index.tolist(), title='Average Nutritional Content Per Special Diet')\n",
    "\n",
    "#Plotting a line\n",
    "p.line(nutr_cat.index,\n",
    "      nutr_cat['Dairy Product'],\n",
    "        line_color=\"tomato\", legend_label = 'Dairy Product',\n",
    "      line_width=1)\n",
    "\n",
    "p.line(nutr_cat.index,\n",
    "      nutr_cat['Meat Product'],\n",
    "       line_color='#96ceb4',  legend_label = 'Meat Product',\n",
    "      line_width=1)\n",
    "\n",
    "p.line(nutr_cat.index,\n",
    "      nutr_cat['Vegan'], line_color=\"indigo\", legend_label = 'Vegan',\n",
    "      line_width=1)\n",
    "\n",
    "p.line(nutr_cat.index,\n",
    "      nutr_cat['Vegetarian'],\n",
    "       line_color=\"gold\", legend_label = 'Vegetarian',\n",
    "      line_width=1)\n",
    "\n",
    "#Plotting data points as cirles\n",
    "p.circle(nutr_cat.index,\n",
    "      nutr_cat['Dairy Product'],\n",
    "        radius=.05,\n",
    "        fill_color=\"tomato\", line_color='tomato')\n",
    "\n",
    "p.circle(nutr_cat.index,\n",
    "      nutr_cat['Meat Product'],\n",
    "        radius=.05,\n",
    "        fill_color='#96ceb4', line_color = '#96ceb4')\n",
    "\n",
    "p.circle(nutr_cat.index,\n",
    "      nutr_cat['Vegan'],\n",
    "        radius=.05,\n",
    "        fill_color=\"indigo\", line_color='indigo')\n",
    "\n",
    "p.circle(nutr_cat.index,\n",
    "      nutr_cat['Vegetarian'],\n",
    "        radius=.05,\n",
    "        fill_color='gold', line_color='gold')\n",
    "\n",
    "\n",
    "p.legend.location = \"top_left\"\n",
    "\n",
    "show(p)\n",
    "export_png(p, filename=\"plot6.png\")"
   ]
  },
  {
   "cell_type": "markdown",
   "metadata": {},
   "source": [
    "Meat products generally have high average values of protein, fat, and sodium while vegetarian and vegan products take the lead in average fiber content. \n",
    "\n",
    "All types of diets tend to be fairly high in fat, let's take a closer look at how the type of fat differs by diet. Remember, bad fat per 100 grams measures the total amount of both saturated and trans fats per 100 grams in the product"
   ]
  },
  {
   "cell_type": "code",
   "execution_count": 18,
   "metadata": {},
   "outputs": [
    {
     "data": {
      "text/html": [
       "\n",
       "\n",
       "\n",
       "\n",
       "\n",
       "\n",
       "  <div class=\"bk-root\" id=\"722e2aa0-ba4e-4ad9-a444-d2e79dfe6af0\" data-root-id=\"3475\"></div>\n"
      ]
     },
     "metadata": {},
     "output_type": "display_data"
    },
    {
     "data": {
      "application/javascript": [
       "(function(root) {\n",
       "  function embed_document(root) {\n",
       "    \n",
       "  var docs_json = {\"3c30ca2e-cf79-4982-8979-bd8354b02238\":{\"roots\":{\"references\":[{\"attributes\":{\"below\":[{\"id\":\"3486\",\"type\":\"LinearAxis\"}],\"center\":[{\"id\":\"3490\",\"type\":\"Grid\"},{\"id\":\"3495\",\"type\":\"Grid\"},{\"id\":\"3520\",\"type\":\"Legend\"}],\"left\":[{\"id\":\"3491\",\"type\":\"LinearAxis\"}],\"renderers\":[{\"id\":\"3512\",\"type\":\"GlyphRenderer\"},{\"id\":\"3525\",\"type\":\"GlyphRenderer\"},{\"id\":\"3539\",\"type\":\"GlyphRenderer\"},{\"id\":\"3555\",\"type\":\"GlyphRenderer\"}],\"title\":{\"id\":\"3476\",\"type\":\"Title\"},\"toolbar\":{\"id\":\"3502\",\"type\":\"Toolbar\"},\"x_range\":{\"id\":\"3478\",\"type\":\"DataRange1d\"},\"x_scale\":{\"id\":\"3482\",\"type\":\"LinearScale\"},\"y_range\":{\"id\":\"3480\",\"type\":\"DataRange1d\"},\"y_scale\":{\"id\":\"3484\",\"type\":\"LinearScale\"}},\"id\":\"3475\",\"subtype\":\"Figure\",\"type\":\"Plot\"},{\"attributes\":{\"data_source\":{\"id\":\"3522\",\"type\":\"ColumnDataSource\"},\"glyph\":{\"id\":\"3523\",\"type\":\"Circle\"},\"hover_glyph\":null,\"muted_glyph\":null,\"nonselection_glyph\":{\"id\":\"3524\",\"type\":\"Circle\"},\"selection_glyph\":null,\"view\":{\"id\":\"3526\",\"type\":\"CDSView\"}},\"id\":\"3525\",\"type\":\"GlyphRenderer\"},{\"attributes\":{},\"id\":\"3500\",\"type\":\"ResetTool\"},{\"attributes\":{\"callback\":null,\"data\":{\"x\":{\"__ndarray__\":\"pHA9Ctej/D8AAAAAAAAAAAAAAAAAAAAAzczMzMxMN0AzMzMzMzMsQAAAAAAAADBAAAAAAAAAMEDhehSuR+HKP1K4HoXrUew/uB6F61G4+j8AAAAAAAAAALgehetRuPo/AAAAAAAAAACPwvUoXI8MQHE9CtejcBVAcT0K16NwFUAUrkfhehQdQAAAAAAAAAAAAAAAAAAAAAAAAAAAAAAeQJqZmZmZmfk/ZmZmZmZm5j8zMzMzMzMFQDMzMzMzMwVAAAAAAAAAAAB56SYxCKzgPz0K16NwPR9ApHA9Ctej/D+PwvUoXI8MQFyPwvUoXP8/XI/C9ShcBUCZmZmZmZnpP2ZmZmZmZi9AZmZmZmbmMkAzMzMzMzM8QJqZmZmZGTRAmpmZmZkZO0CamZmZmZk2QHA9CtejcCpAcD0K16NwKkBwPQrXo3AqQIcW2c73U+M/hxbZzvdT4z+HFtnO91PjPwAAAAAAABlAAAAAAACANkAAAAAAAAAAAAAAAAAAAAAAmpmZmZmZ+T+amZmZmZn5P2ZmZmZmZhBAAAAAAAAALkBnZmZmZmYCQGZmZmZmZgZAAAAAAAAACEAAAAAAAAAQQAAAAAAAAAAAPQrXo3A9H0AAAAAAAABJQKRwPQrXowpA\",\"dtype\":\"float64\",\"shape\":[60]},\"y\":{\"__ndarray__\":\"mpmZmZmZPECamZmZmZm5P5qZmZmZmbk/AAAAAADAQ0AAAAAAAABJQAAAAAAAADBAAAAAAAAAMEAUrkfhehT+P1K4HoXrUQxAAAAAAAAA+H8AAAAAAAAAAAAAAAAAABRAAAAAAAAAAACuR+F6FG41QJqZmZmZmTxAmpmZmZmZPEBmZmZmZmYwQB+F61G4HhtASOF6FK5H9T+amZmZmZkqQJqZmZmZmfk/XI/C9ShcGUCamZmZmZkoQDMzMzMzMyVAAAAAAAAAAADNzMzMzMwkQGZmZmZm5kVArkfhehRuNUDsUbgehdtRQGZmZmZmZitApHA9CtejCkBmZmZmZmYUQDMzMzMzMzxAzczMzMyMQkAAAAAAAMBHQGZmZmZm5klAMzMzMzNzR0BmZmZmZuZFQM3MzMzMTDRAzczMzMxMNEDNzMzMzEw0QAAAAAAAAABAAAAAAAAAAEAAAAAAAAAAQDMzMzMzs01AAAAAAACARkBmZmZmZmbmP2ZmZmZmZuY/ZmZmZmZm/j9mZmZmZmb+PwAAAAAAACpAAAAAAAAAWUBmZmZmZmYvQDMzMzMzszJAAAAAAACAM0AzMzMzMzM6QAAAAAAAAOA/zczMzMxMREAzMzMzM7NNQGZmZmZmpkVA\",\"dtype\":\"float64\",\"shape\":[60]}},\"selected\":{\"id\":\"3567\",\"type\":\"Selection\"},\"selection_policy\":{\"id\":\"3568\",\"type\":\"UnionRenderers\"}},\"id\":\"3536\",\"type\":\"ColumnDataSource\"},{\"attributes\":{\"fill_alpha\":{\"value\":0.1},\"fill_color\":{\"value\":\"#1f77b4\"},\"line_alpha\":{\"value\":0.1},\"line_color\":{\"value\":\"#1f77b4\"},\"size\":{\"units\":\"screen\",\"value\":10},\"x\":{\"field\":\"x\"},\"y\":{\"field\":\"y\"}},\"id\":\"3554\",\"type\":\"Circle\"},{\"attributes\":{\"label\":{\"value\":\"Vegetarian\"},\"renderers\":[{\"id\":\"3555\",\"type\":\"GlyphRenderer\"}]},\"id\":\"3569\",\"type\":\"LegendItem\"},{\"attributes\":{\"callback\":null,\"data\":{\"x\":{\"__ndarray__\":\"cT0K16Nw9T+PwvUoXI8cQAAAAAAAAAAAAAAAAAAAGED6fmq8dJPsPwAAAAAAAAAAZmZmZmZmJUBSuB6F69EiQJqZmZmZmSRAyqFFtvP96D9cj8L1KNwhQAAAAAAAABlAAAAAAAAAEECJFtnO91PbP+xRuB6FayJAAAAAAAAAAAAAAAAAAAAAAGZmZmZmZgJA9ihcj8L1/D/2KFyPwvUGQAAAAAAAAARA7FG4HoXr8T8AAAAAAAAAAAAAAAAAAAAAXI/C9SjcIUCF61G4HoUjQDMzMzMzMyxAMzMzMzMz0z8AAAAAAAAAADMzMzMzMxFAz/dT46UbEkBmZmZmZmYlQBKDwMqhRdY/pHA9CtejEUCF61G4HoUHQClcj8L1KBxAAAAAAAAAAAAAAAAAAAAIQAAAAAAAACxAAAAAAAAALEAAAAAAAADwP2dmZmZmZvY/mZmZmZmZ6T+ZmZmZmZnpP83MzMzMzBBAZ2ZmZmZmAkBnZmZmZmYCQDQzMzMzM/M/MzMzMzMzB0CamZmZmZn5P5qZmZmZmfk/mpmZmZmZBUCamZmZmZkFQM3MzMzMzAhAzczMzMzMFkAAAAAAAAAWQJqZmZmZmRFAzczMzMzMBECamZmZmZn5P5qZmZmZmdk/mpmZmZmZAUDNzMzMzMz0P83MzMzMzABAmpmZmZmZ2T+F61G4HoXjP+xRuB6F6+k/\",\"dtype\":\"float64\",\"shape\":[66]},\"y\":{\"__ndarray__\":\"XI/C9SjcIUBmZmZmZmY1QI/C9ShcjwxAAAAAAAAALkBxPQrXo3AFQAAAAAAAAAAAmpmZmZmZPEBmZmZmZuY5QJqZmZmZmTtA9ihcj8L1CEAAAAAAAAA5QJqZmZmZmTNAAAAAAAAAJECF61G4HoUUQDMzMzMzszdAuB6F61G4+j+4HoXrUbj6PwAAAAAAABRAmpmZmZmZKkCamZmZmZkmQM3MzMzMzCZAzczMzMzMCkD6fmq8dJPsP/p+arx0k+w/AAAAAAAAOUCamZmZmZk5QDMzMzMzM0NAAAAAAAAAAECkcD0K16P8PwAAAAAAAC5AzczMzMzMJ0CamZmZmZk8QM3MzMzMzPQ/hetRuB6FF0AzMzMzMzMlQGZmZmZm5jBAH4XrUbge9T8AAAAAAAAmQIXrUbgehRRAhetRuB6FFECamZmZmZkVQGZmZmZmZhRAzczMzMzMGEDNzMzMzMwYQGZmZmZmZhxAAAAAAAAAHkAAAAAAAAAeQAAAAAAAABxAZmZmZmZmHEAzMzMzMzMiQDMzMzMzMyJAmpmZmZmZH0CamZmZmZkfQM3MzMzMzBpAAAAAAAAAJkDNzMzMzMwjQDMzMzMzMyFAzczMzMzMIkAAAAAAAAAgQAAAAAAAAARAAAAAAAAAGkBmZmZmZmYQQGZmZmZmZhhAMzMzMzMz8z+amZmZmZn5P83MzMzMzABA\",\"dtype\":\"float64\",\"shape\":[66]}},\"selected\":{\"id\":\"3549\",\"type\":\"Selection\"},\"selection_policy\":{\"id\":\"3550\",\"type\":\"UnionRenderers\"}},\"id\":\"3522\",\"type\":\"ColumnDataSource\"},{\"attributes\":{\"fill_alpha\":{\"value\":0.2},\"fill_color\":{\"value\":\"tomato\"},\"line_color\":{\"value\":\"tomato\"},\"size\":{\"units\":\"screen\",\"value\":10},\"x\":{\"field\":\"x\"},\"y\":{\"field\":\"y\"}},\"id\":\"3510\",\"type\":\"Circle\"},{\"attributes\":{\"callback\":null,\"data\":{\"x\":{\"__ndarray__\":\"AAAAAAAAAAB7FK5H4XoAQGZmZmZm5jFAAAAAAAAA5D9cj8L1KFz3PwAAAAAAAAAAAAAAAAAA9D+amZmZmZnJP6RwPQrXowpAZmZmZmbmMUBmZmZmZuYxQGZmZmZm5jFAZmZmZmbmMUA3iUFg5dDiP8P1KFyPwgFA5KWbxCCw5j+amZmZmZksQHsUrkfhehBACtejcD0KE0AAAAAAAAAAANejcD0K1+M/AAAAAAAAAAAAAAAAAAAAAArXo3A9ChNAAAAAAAAA5D8zMzMzMzPnP2ZmZmZm5jFAAAAAAAAARkAzMzMzM7MwQGZmZmZm5jFAAAAAAAAAFEDTTWIQWDnsPwAAAAAAAAAAZmZmZmbmMUAAAAAAAAD0PzMzMzMzM/M/AAAAAAAA8D8AAAAAAADwP7gehetRuPo/AAAAAAAAAACamZmZmZn5PwAAAAAAAAAA46WbxCCw2j+e76fGSzfZP5huEoPAqjRAmpmZmZmZ2T97FK5H4XrkP/p+arx0UyFAAAAAAAAAAADqBDQRNjytP+oENBE2PK0/ZmZmZmbmMUBmZmZmZuYxQGZmZmZm5jFAN4lBYOXQ4j8AAAAAAAAAAB1aZDvfT9U/JzEIrBxa5D8AAAAAAAD0PwAAAAAAAOQ/AAAAAAAA5D8AAAAAAAD0P3sUrkfhegBA9ihcj8L1AEAAAAAAAADkP/3UeOkmMew/AAAAAAAAAACkcD0K16MAQFK4HoXrkUxApHA9CtejAEBmZmZmZuYxQK5H4XoUrgFArkfhehSuAUBSuB6F61H0P/YoXI/C9QBAObTIdr6fyj+amZmZmZksQFK4HoXrUfQ/AAAAAAAA5D+amZmZmZksQJqZmZmZmSxAZmZmZmZmNUBmZmZmZmY1QHE9CtejcBVApHA9CtejEUCamZmZmZkWQB6F61G4XjxAHoXrUbhePEAehetRuF48QCcxCKwcWuQ/AAAAAAAAAAApXI/C9Sj8Pylcj8L1KPw/KVyPwvUo/D+F61G4HoX3P4XrUbgehfc/exSuR+F6AECuR+F6FK4QQAAAAAAAAAAAZmZmZmZmNUAzMzMzMzP7P5qZmZmZmSxAzczMzMzMAkApXI/C9Sj8Pylcj8L1KPw/exSuR+F6AEAAAAAAAAAAAAAAAAAAAElAAAAAAAAANEAK16NwPQr7P6RwPQrXowBApHA9CtejAEBcj8L1KFzzP1yPwvUo3CFAmpmZmZmZAUAAAAAAAAAAANejcD0K1+M/yXa+nxrvK0AOLbKd76fqPwAAAAAAAPA/rkfhehSuGkAAAAAAAAAAAArXo3A9Cvs/NV66SQwC2z/TTWIQWDnsP9NNYhBYOew/001iEFg57D9cj8L1KFwFQGZmZmZm5jFAZmZmZmZmNUBmZmZmZuYxQGZmZmZm5jFAKVyPwvUo/D8AAAAAAAAIQAAAAAAAAABALbKd76fGL0ApXI/C9SjsPylcj8L1KOw/KVyPwvUo7D/hehSuR+HyP+F6FK5H4fI/AAAAAACANkAAAAAAAAA5QAAAAAAAAAAAAAAAAAAAAAAAAAAAAAAAAAAAAAAAAAAAAAAAAAAAAAAAAAAAAAAAAAAAAAAAAAAAAAAAAAAAAAAAAAAAAAAAAClcj8L1KPw/rkfhehRuNUCuR+F6FG41QDMzMzMzMyZAAAAAAAAAAACG61G4HkUyQIbrUbgeRTJAAAAAAAAA5D8AAAAAAAAoQJqZmZmZmck/zczMzMzMDEA=\",\"dtype\":\"float64\",\"shape\":[163]},\"y\":{\"__ndarray__\":\"AAAAAAAAAAB7FK5H4XoQQM3MzMzMDEBApHA9Ctej8D+kcD0K16MAQAAAAAAAAAAApHA9CtejAEBmZmZmZmb2P1K4HoXrURVAzczMzMwMQEDNzMzMzAxAQM3MzMzMDEBAzczMzMwMQEDTTWIQWDnsP3sUrkfhegxACtejcD0KAUBmZmZmZmY1QD0K16NwPRxAj8L1KFyPHEAAAAAAAAAAAKRwPQrXo/A/AAAAAAAAAACkcD0K16PwP4/C9ShcjxxApHA9Ctej8D9xPQrXo3DxP83MzMzMDEBAAAAAAAAATkDNzMzMzMw7QJqZmZmZmTxAAAAAAAAAJECF61G4HoX3PwAAAAAAAAAAmpmZmZmZPECkcD0K16MAQJqZmZmZmfk/AAAAAAAA+D8AAAAAAAD4PwAAAAAAAARAAAAAAAAAAAAAAAAAAAAEQAAAAAAAAAAAFK5H4XoU/j9I4XoUrkf5PzMzMzMzszpAMzMzMzMzA0AAAAAAAADwPwAAAAAAAC5AAAAAAAAAAADJdr6fGi+9P8l2vp8aL70/zczMzMwMQEDNzMzMzAxAQM3MzMzMDEBA001iEFg57D8AAAAAAAAAAPLSTWIQWOU/9ihcj8L18D+kcD0K16MAQKRwPQrXo/A/pHA9Ctej8D+kcD0K16MAQD0K16NwPQxAH4XrUbgeC0CkcD0K16PwPx+F61G4HvU/AAAAAAAAAACkcD0K16MKQD0K16NwbVVAAAAAAAAADkCamZmZmZk8QFK4HoXrUQxAUrgehetRDED2KFyPwvUAQHsUrkfheg5AFK5H4XoU/j9mZmZmZmY1QPYoXI/C9QBApHA9Ctej8D/NzMzMzAxAQM3MzMzMDEBAzczMzMwMQEDNzMzMzAxAQFyPwvUo3CFA9ihcj8L1HUAfhetRuB4gQAAAAAAAAERAAAAAAAAAREAAAAAAAABEQPYoXI/C9fA/AAAAAAAAAAAzMzMzMzMFQDMzMzMzMwVAhetRuB6FB0B7FK5H4XoAQHsUrkfhegBAhetRuB6FB0DNzMzMzEwyQKRwPQrXo/A/zczMzMwMQEDNzMzMzMwEQAAAAAAAADlAPQrXo3A9DECF61G4HoUHQIXrUbgehQdAPQrXo3A9DEAAAAAAAAAAAGZmZmZmplNACtejcD2qQEBSuB6F61EEQKRwPQrXowpApHA9CtejCkApXI/C9SgAQJqZmZmZmTxArkfhehSuD0AAAAAAAAAAAKRwPQrXo/A/AAAAAAAANEC4HoXrUbj6P7gehetRuPo/ZmZmZmZmJ0AAAAAAAAAAAI/C9ShcjxJACtejcD0KC0CF61G4HoX3P4XrUbgehfc/hetRuB6F9z/D9Shcj8IRQM3MzMzMDEBAzczMzMwMQEDNzMzMzAxAQM3MzMzMDEBAMzMzMzMzBUCuR+F6FK4aQFyPwvUoXAVAMzMzMzOzOEBI4XoUrkf1P0jhehSuR/U/SOF6FK5H9T8pXI/C9Sj8Pylcj8L1KPw/AAAAAACAQUCamZmZmdlBQAAAAAAAAAAAAAAAAAAAAAAAAAAAAAAAAAAAAAAAAAAAAAAAAAAAAAAAAAAAAAAAAAAAAAAAAAAAAAAAAAAAAAAAAAAAAAAAADMzMzMzMwVAUrgehesRQEBSuB6F6xFAQAAAAAAAAC5AAAAAAAAAAAAAAAAAAAA6QAAAAAAAADpApHA9Ctej8D8AAAAAAAAsQJqZmZmZmbk/zczMzMzMEkA=\",\"dtype\":\"float64\",\"shape\":[163]}},\"selected\":{\"id\":\"3533\",\"type\":\"Selection\"},\"selection_policy\":{\"id\":\"3534\",\"type\":\"UnionRenderers\"}},\"id\":\"3509\",\"type\":\"ColumnDataSource\"},{\"attributes\":{\"fill_alpha\":{\"value\":0.2},\"fill_color\":{\"value\":\"gold\"},\"line_color\":{\"value\":\"gold\"},\"size\":{\"units\":\"screen\",\"value\":10},\"x\":{\"field\":\"x\"},\"y\":{\"field\":\"y\"}},\"id\":\"3553\",\"type\":\"Circle\"},{\"attributes\":{\"callback\":null,\"data\":{\"x\":{\"__ndarray__\":\"6SYxCKwcyj8AAAAAAAAAAAAAAAAAAAAAmpmZmZmZAUCamZmZmZkBQJqZmZmZmQFAmpmZmZmZAUAzMzMzMzPzPzMzMzMzM/M/pHA9Ctej/D8AAAAAAAAAAAAAAAAAAAAAAAAAAAAAAAAAAAAAAAD4PzMzMzMzM+M/rkfhehSuGkAAAAAAAAAgQAAAAAAAAPA/\",\"dtype\":\"float64\",\"shape\":[18]},\"y\":{\"__ndarray__\":\"FK5H4XoU+j8AAAAAAAAkQAAAAAAAAAAAMzMzMzMzEUAzMzMzMzMRQJqZmZmZmRVAmpmZmZmZFUAAAAAAAAAgQAAAAAAAACBAmpmZmZkZMEAAAAAAAAAAAAAAAAAAAAAAAAAAAAAAAADNzMzMzEwwQGZmZmZmZg5AZmZmZmamQEAAAAAAAIAwQAAAAAAAABRA\",\"dtype\":\"float64\",\"shape\":[18]}},\"selected\":{\"id\":\"3668\",\"type\":\"Selection\"},\"selection_policy\":{\"id\":\"3669\",\"type\":\"UnionRenderers\"}},\"id\":\"3552\",\"type\":\"ColumnDataSource\"},{\"attributes\":{\"dimension\":1,\"ticker\":{\"id\":\"3492\",\"type\":\"BasicTicker\"}},\"id\":\"3495\",\"type\":\"Grid\"},{\"attributes\":{\"fill_alpha\":{\"value\":0.2},\"fill_color\":{\"value\":\"#96ceb4\"},\"line_color\":{\"value\":\"#96ceb4\"},\"size\":{\"units\":\"screen\",\"value\":10},\"x\":{\"field\":\"x\"},\"y\":{\"field\":\"y\"}},\"id\":\"3523\",\"type\":\"Circle\"},{\"attributes\":{\"axis_label\":\"Bad Fats Per 100g\",\"formatter\":{\"id\":\"3516\",\"type\":\"BasicTickFormatter\"},\"ticker\":{\"id\":\"3487\",\"type\":\"BasicTicker\"}},\"id\":\"3486\",\"type\":\"LinearAxis\"},{\"attributes\":{},\"id\":\"3497\",\"type\":\"WheelZoomTool\"},{\"attributes\":{},\"id\":\"3668\",\"type\":\"Selection\"},{\"attributes\":{\"active_drag\":\"auto\",\"active_inspect\":\"auto\",\"active_multi\":null,\"active_scroll\":\"auto\",\"active_tap\":\"auto\",\"tools\":[{\"id\":\"3496\",\"type\":\"PanTool\"},{\"id\":\"3497\",\"type\":\"WheelZoomTool\"},{\"id\":\"3498\",\"type\":\"BoxZoomTool\"},{\"id\":\"3499\",\"type\":\"SaveTool\"},{\"id\":\"3500\",\"type\":\"ResetTool\"},{\"id\":\"3501\",\"type\":\"HelpTool\"}]},\"id\":\"3502\",\"type\":\"Toolbar\"},{\"attributes\":{\"data_source\":{\"id\":\"3536\",\"type\":\"ColumnDataSource\"},\"glyph\":{\"id\":\"3537\",\"type\":\"Circle\"},\"hover_glyph\":null,\"muted_glyph\":null,\"nonselection_glyph\":{\"id\":\"3538\",\"type\":\"Circle\"},\"selection_glyph\":null,\"view\":{\"id\":\"3540\",\"type\":\"CDSView\"}},\"id\":\"3539\",\"type\":\"GlyphRenderer\"},{\"attributes\":{\"overlay\":{\"id\":\"3519\",\"type\":\"BoxAnnotation\"}},\"id\":\"3498\",\"type\":\"BoxZoomTool\"},{\"attributes\":{\"callback\":null},\"id\":\"3478\",\"type\":\"DataRange1d\"},{\"attributes\":{\"data_source\":{\"id\":\"3509\",\"type\":\"ColumnDataSource\"},\"glyph\":{\"id\":\"3510\",\"type\":\"Circle\"},\"hover_glyph\":null,\"muted_glyph\":null,\"nonselection_glyph\":{\"id\":\"3511\",\"type\":\"Circle\"},\"selection_glyph\":null,\"view\":{\"id\":\"3513\",\"type\":\"CDSView\"}},\"id\":\"3512\",\"type\":\"GlyphRenderer\"},{\"attributes\":{\"fill_alpha\":{\"value\":0.1},\"fill_color\":{\"value\":\"#1f77b4\"},\"line_alpha\":{\"value\":0.1},\"line_color\":{\"value\":\"#1f77b4\"},\"size\":{\"units\":\"screen\",\"value\":10},\"x\":{\"field\":\"x\"},\"y\":{\"field\":\"y\"}},\"id\":\"3511\",\"type\":\"Circle\"},{\"attributes\":{},\"id\":\"3549\",\"type\":\"Selection\"},{\"attributes\":{\"label\":{\"value\":\"Dairy Product\"},\"renderers\":[{\"id\":\"3512\",\"type\":\"GlyphRenderer\"}]},\"id\":\"3521\",\"type\":\"LegendItem\"},{\"attributes\":{\"fill_alpha\":{\"value\":0.2},\"fill_color\":{\"value\":\"indigo\"},\"line_color\":{\"value\":\"indigo\"},\"size\":{\"units\":\"screen\",\"value\":10},\"x\":{\"field\":\"x\"},\"y\":{\"field\":\"y\"}},\"id\":\"3537\",\"type\":\"Circle\"},{\"attributes\":{\"callback\":null},\"id\":\"3480\",\"type\":\"DataRange1d\"},{\"attributes\":{\"ticker\":{\"id\":\"3487\",\"type\":\"BasicTicker\"}},\"id\":\"3490\",\"type\":\"Grid\"},{\"attributes\":{},\"id\":\"3518\",\"type\":\"BasicTickFormatter\"},{\"attributes\":{},\"id\":\"3501\",\"type\":\"HelpTool\"},{\"attributes\":{\"label\":{\"value\":\"Meat Product\"},\"renderers\":[{\"id\":\"3525\",\"type\":\"GlyphRenderer\"}]},\"id\":\"3535\",\"type\":\"LegendItem\"},{\"attributes\":{\"text\":\"Relationship Between Fat and Bad Fats\"},\"id\":\"3476\",\"type\":\"Title\"},{\"attributes\":{},\"id\":\"3492\",\"type\":\"BasicTicker\"},{\"attributes\":{},\"id\":\"3499\",\"type\":\"SaveTool\"},{\"attributes\":{\"fill_alpha\":{\"value\":0.1},\"fill_color\":{\"value\":\"#1f77b4\"},\"line_alpha\":{\"value\":0.1},\"line_color\":{\"value\":\"#1f77b4\"},\"size\":{\"units\":\"screen\",\"value\":10},\"x\":{\"field\":\"x\"},\"y\":{\"field\":\"y\"}},\"id\":\"3538\",\"type\":\"Circle\"},{\"attributes\":{\"items\":[{\"id\":\"3521\",\"type\":\"LegendItem\"},{\"id\":\"3535\",\"type\":\"LegendItem\"},{\"id\":\"3551\",\"type\":\"LegendItem\"},{\"id\":\"3569\",\"type\":\"LegendItem\"}],\"location\":\"top_left\"},\"id\":\"3520\",\"type\":\"Legend\"},{\"attributes\":{},\"id\":\"3487\",\"type\":\"BasicTicker\"},{\"attributes\":{},\"id\":\"3484\",\"type\":\"LinearScale\"},{\"attributes\":{},\"id\":\"3533\",\"type\":\"Selection\"},{\"attributes\":{},\"id\":\"3568\",\"type\":\"UnionRenderers\"},{\"attributes\":{},\"id\":\"3482\",\"type\":\"LinearScale\"},{\"attributes\":{},\"id\":\"3516\",\"type\":\"BasicTickFormatter\"},{\"attributes\":{\"source\":{\"id\":\"3522\",\"type\":\"ColumnDataSource\"}},\"id\":\"3526\",\"type\":\"CDSView\"},{\"attributes\":{},\"id\":\"3567\",\"type\":\"Selection\"},{\"attributes\":{\"source\":{\"id\":\"3509\",\"type\":\"ColumnDataSource\"}},\"id\":\"3513\",\"type\":\"CDSView\"},{\"attributes\":{\"source\":{\"id\":\"3552\",\"type\":\"ColumnDataSource\"}},\"id\":\"3556\",\"type\":\"CDSView\"},{\"attributes\":{},\"id\":\"3550\",\"type\":\"UnionRenderers\"},{\"attributes\":{},\"id\":\"3669\",\"type\":\"UnionRenderers\"},{\"attributes\":{\"axis_label\":\"Fats Per 100g\",\"formatter\":{\"id\":\"3518\",\"type\":\"BasicTickFormatter\"},\"ticker\":{\"id\":\"3492\",\"type\":\"BasicTicker\"}},\"id\":\"3491\",\"type\":\"LinearAxis\"},{\"attributes\":{\"label\":{\"value\":\"Vegan\"},\"renderers\":[{\"id\":\"3539\",\"type\":\"GlyphRenderer\"}]},\"id\":\"3551\",\"type\":\"LegendItem\"},{\"attributes\":{\"bottom_units\":\"screen\",\"fill_alpha\":{\"value\":0.5},\"fill_color\":{\"value\":\"lightgrey\"},\"left_units\":\"screen\",\"level\":\"overlay\",\"line_alpha\":{\"value\":1.0},\"line_color\":{\"value\":\"black\"},\"line_dash\":[4,4],\"line_width\":{\"value\":2},\"render_mode\":\"css\",\"right_units\":\"screen\",\"top_units\":\"screen\"},\"id\":\"3519\",\"type\":\"BoxAnnotation\"},{\"attributes\":{},\"id\":\"3496\",\"type\":\"PanTool\"},{\"attributes\":{\"source\":{\"id\":\"3536\",\"type\":\"ColumnDataSource\"}},\"id\":\"3540\",\"type\":\"CDSView\"},{\"attributes\":{\"fill_alpha\":{\"value\":0.1},\"fill_color\":{\"value\":\"#1f77b4\"},\"line_alpha\":{\"value\":0.1},\"line_color\":{\"value\":\"#1f77b4\"},\"size\":{\"units\":\"screen\",\"value\":10},\"x\":{\"field\":\"x\"},\"y\":{\"field\":\"y\"}},\"id\":\"3524\",\"type\":\"Circle\"},{\"attributes\":{},\"id\":\"3534\",\"type\":\"UnionRenderers\"},{\"attributes\":{\"data_source\":{\"id\":\"3552\",\"type\":\"ColumnDataSource\"},\"glyph\":{\"id\":\"3553\",\"type\":\"Circle\"},\"hover_glyph\":null,\"muted_glyph\":null,\"nonselection_glyph\":{\"id\":\"3554\",\"type\":\"Circle\"},\"selection_glyph\":null,\"view\":{\"id\":\"3556\",\"type\":\"CDSView\"}},\"id\":\"3555\",\"type\":\"GlyphRenderer\"}],\"root_ids\":[\"3475\"]},\"title\":\"Bokeh Application\",\"version\":\"1.4.0\"}};\n",
       "  var render_items = [{\"docid\":\"3c30ca2e-cf79-4982-8979-bd8354b02238\",\"roots\":{\"3475\":\"722e2aa0-ba4e-4ad9-a444-d2e79dfe6af0\"}}];\n",
       "  root.Bokeh.embed.embed_items_notebook(docs_json, render_items);\n",
       "\n",
       "  }\n",
       "  if (root.Bokeh !== undefined) {\n",
       "    embed_document(root);\n",
       "  } else {\n",
       "    var attempts = 0;\n",
       "    var timer = setInterval(function(root) {\n",
       "      if (root.Bokeh !== undefined) {\n",
       "        clearInterval(timer);\n",
       "        embed_document(root);\n",
       "      } else {\n",
       "        attempts++;\n",
       "        if (attempts > 100) {\n",
       "          clearInterval(timer);\n",
       "          console.log(\"Bokeh: ERROR: Unable to run BokehJS code because BokehJS library is missing\");\n",
       "        }\n",
       "      }\n",
       "    }, 10, root)\n",
       "  }\n",
       "})(window);"
      ],
      "application/vnd.bokehjs_exec.v0+json": ""
     },
     "metadata": {
      "application/vnd.bokehjs_exec.v0+json": {
       "id": "3475"
      }
     },
     "output_type": "display_data"
    },
    {
     "data": {
      "text/plain": [
       "'C:\\\\Users\\\\india\\\\Documents\\\\Projects\\\\plot7.png'"
      ]
     },
     "execution_count": 18,
     "metadata": {},
     "output_type": "execute_result"
    }
   ],
   "source": [
    "colormap = {'Dairy Product': \"tomato\", 'Meat Product': '#96ceb4', 'Vegan': 'indigo', 'Vegetarian':'gold'}\n",
    "colors = [colormap[x] for x in diets['Special Diet']]\n",
    "\n",
    "\n",
    "p = figure(title =\"Relationship Between Fat and Bad Fats\" )\n",
    "p.xaxis.axis_label = \"Bad Fats Per 100g\"\n",
    "p.yaxis.axis_label = 'Fats Per 100g'\n",
    "\n",
    "for diet in colormap.keys():\n",
    "    df = diets[diets['Special Diet']==diet]\n",
    "    p.circle(x=df['bad-fats_100g'],y=df['fat_100g'], legend_label= diet,  color= colormap[diet], fill_alpha = 0.2, size = 10)\n",
    "p.legend.location = \"top_left\"\n",
    "show(p)\n",
    "export_png(p, filename=\"plot7.png\")"
   ]
  },
  {
   "cell_type": "markdown",
   "metadata": {},
   "source": [
    "It looks like the fat content of dairy products is primarily derived from the unhealthy types of fats. Vegan and vegetarian tend to have lower values of bad fats per fat content while overall, meat products tend to be fairly low in fat.  \n",
    "\n",
    "__Concluding Thoughts__\n",
    "\n",
    "We found that Italy may have a bit of a sweet tooth, offering products that tend to have the highest average amounts of sugar and bad-fats per 100 grams. Given the majority of fat in dairy products stems from bad-fats, it might be helpful to stress the benefits of low dairy diets. \n",
    "\n",
    "Australia's products contain the highest average amounts of sodium and fiber. Given the sodium content tends to be higher in packaged goods, this could imply that Australia eats more processed and packaged food than other countries. Australia also offers a high proportion of vegetarian products, which tend to have high fiber content. When combined with the fact that Australia's products contained the highest average amounts of fiber, this may indicate a strong preference of vegetarian food items in Australia. \n",
    "\n",
    "While the US may not have had the highest averages for specific nutrients, they offer products with the most extreme amounts of protein and fiber. This may imply the existence of a health conscious market within the US, focused on taking supplements or food products merely for their nutritional value. \n",
    "\n",
    "Spain earns the gold medal when it comes to the amount of vegan products offered. This may suggest the existence of a large market for plant-based, meat alternatives. \n",
    "\n",
    "Overall, it is important to remember the that insights in this dataset reflect the products uploaded to the open food facts database. The data offers interesting tidbits about the ways different countries eat however, it may not be representative of the general eating habits of the whole population of these countries. \n",
    "\n",
    "Sources:\n",
    "\n",
    "\n",
    "__[EC Report on Italy's Health](https://ec.europa.eu/health/sites/health/files/state/docs/chp_it_english.pdf#:~:text=Close%20to%20two-thirds%20of%20all%20deaths%20in%20Italy,to%20cardiovascular%20diseases%20and%20another%20one-third%20to%20cancer)__\n",
    "__[High-Sugar Diets and Cardiovascular Disease](https://www.medicalnewstoday.com/articles/319663)__\n",
    "__[OECD Report On Obesity](http://www.oecd.org/switzerland/Obesity-Update-2014-SWITZERLAND.pdf)__"
   ]
  }
 ],
 "metadata": {
  "kernelspec": {
   "display_name": "Python 3",
   "language": "python",
   "name": "python3"
  },
  "language_info": {
   "codemirror_mode": {
    "name": "ipython",
    "version": 3
   },
   "file_extension": ".py",
   "mimetype": "text/x-python",
   "name": "python",
   "nbconvert_exporter": "python",
   "pygments_lexer": "ipython3",
   "version": "3.7.6"
  }
 },
 "nbformat": 4,
 "nbformat_minor": 4
}
