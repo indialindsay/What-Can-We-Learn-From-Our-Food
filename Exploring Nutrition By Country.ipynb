{
 "cells": [
  {
   "cell_type": "code",
   "execution_count": 2,
   "metadata": {},
   "outputs": [
    {
     "name": "stdout",
     "output_type": "stream",
     "text": [
      "Populating the interactive namespace from numpy and matplotlib\n"
     ]
    },
    {
     "data": {
      "text/html": [
       "\n",
       "    <div class=\"bk-root\">\n",
       "        <a href=\"https://bokeh.org\" target=\"_blank\" class=\"bk-logo bk-logo-small bk-logo-notebook\"></a>\n",
       "        <span id=\"1025\">Loading BokehJS ...</span>\n",
       "    </div>"
      ]
     },
     "metadata": {},
     "output_type": "display_data"
    },
    {
     "data": {
      "application/javascript": [
       "\n",
       "(function(root) {\n",
       "  function now() {\n",
       "    return new Date();\n",
       "  }\n",
       "\n",
       "  var force = true;\n",
       "\n",
       "  if (typeof root._bokeh_onload_callbacks === \"undefined\" || force === true) {\n",
       "    root._bokeh_onload_callbacks = [];\n",
       "    root._bokeh_is_loading = undefined;\n",
       "  }\n",
       "\n",
       "  var JS_MIME_TYPE = 'application/javascript';\n",
       "  var HTML_MIME_TYPE = 'text/html';\n",
       "  var EXEC_MIME_TYPE = 'application/vnd.bokehjs_exec.v0+json';\n",
       "  var CLASS_NAME = 'output_bokeh rendered_html';\n",
       "\n",
       "  /**\n",
       "   * Render data to the DOM node\n",
       "   */\n",
       "  function render(props, node) {\n",
       "    var script = document.createElement(\"script\");\n",
       "    node.appendChild(script);\n",
       "  }\n",
       "\n",
       "  /**\n",
       "   * Handle when an output is cleared or removed\n",
       "   */\n",
       "  function handleClearOutput(event, handle) {\n",
       "    var cell = handle.cell;\n",
       "\n",
       "    var id = cell.output_area._bokeh_element_id;\n",
       "    var server_id = cell.output_area._bokeh_server_id;\n",
       "    // Clean up Bokeh references\n",
       "    if (id != null && id in Bokeh.index) {\n",
       "      Bokeh.index[id].model.document.clear();\n",
       "      delete Bokeh.index[id];\n",
       "    }\n",
       "\n",
       "    if (server_id !== undefined) {\n",
       "      // Clean up Bokeh references\n",
       "      var cmd = \"from bokeh.io.state import curstate; print(curstate().uuid_to_server['\" + server_id + \"'].get_sessions()[0].document.roots[0]._id)\";\n",
       "      cell.notebook.kernel.execute(cmd, {\n",
       "        iopub: {\n",
       "          output: function(msg) {\n",
       "            var id = msg.content.text.trim();\n",
       "            if (id in Bokeh.index) {\n",
       "              Bokeh.index[id].model.document.clear();\n",
       "              delete Bokeh.index[id];\n",
       "            }\n",
       "          }\n",
       "        }\n",
       "      });\n",
       "      // Destroy server and session\n",
       "      var cmd = \"import bokeh.io.notebook as ion; ion.destroy_server('\" + server_id + \"')\";\n",
       "      cell.notebook.kernel.execute(cmd);\n",
       "    }\n",
       "  }\n",
       "\n",
       "  /**\n",
       "   * Handle when a new output is added\n",
       "   */\n",
       "  function handleAddOutput(event, handle) {\n",
       "    var output_area = handle.output_area;\n",
       "    var output = handle.output;\n",
       "\n",
       "    // limit handleAddOutput to display_data with EXEC_MIME_TYPE content only\n",
       "    if ((output.output_type != \"display_data\") || (!output.data.hasOwnProperty(EXEC_MIME_TYPE))) {\n",
       "      return\n",
       "    }\n",
       "\n",
       "    var toinsert = output_area.element.find(\".\" + CLASS_NAME.split(' ')[0]);\n",
       "\n",
       "    if (output.metadata[EXEC_MIME_TYPE][\"id\"] !== undefined) {\n",
       "      toinsert[toinsert.length - 1].firstChild.textContent = output.data[JS_MIME_TYPE];\n",
       "      // store reference to embed id on output_area\n",
       "      output_area._bokeh_element_id = output.metadata[EXEC_MIME_TYPE][\"id\"];\n",
       "    }\n",
       "    if (output.metadata[EXEC_MIME_TYPE][\"server_id\"] !== undefined) {\n",
       "      var bk_div = document.createElement(\"div\");\n",
       "      bk_div.innerHTML = output.data[HTML_MIME_TYPE];\n",
       "      var script_attrs = bk_div.children[0].attributes;\n",
       "      for (var i = 0; i < script_attrs.length; i++) {\n",
       "        toinsert[toinsert.length - 1].firstChild.setAttribute(script_attrs[i].name, script_attrs[i].value);\n",
       "      }\n",
       "      // store reference to server id on output_area\n",
       "      output_area._bokeh_server_id = output.metadata[EXEC_MIME_TYPE][\"server_id\"];\n",
       "    }\n",
       "  }\n",
       "\n",
       "  function register_renderer(events, OutputArea) {\n",
       "\n",
       "    function append_mime(data, metadata, element) {\n",
       "      // create a DOM node to render to\n",
       "      var toinsert = this.create_output_subarea(\n",
       "        metadata,\n",
       "        CLASS_NAME,\n",
       "        EXEC_MIME_TYPE\n",
       "      );\n",
       "      this.keyboard_manager.register_events(toinsert);\n",
       "      // Render to node\n",
       "      var props = {data: data, metadata: metadata[EXEC_MIME_TYPE]};\n",
       "      render(props, toinsert[toinsert.length - 1]);\n",
       "      element.append(toinsert);\n",
       "      return toinsert\n",
       "    }\n",
       "\n",
       "    /* Handle when an output is cleared or removed */\n",
       "    events.on('clear_output.CodeCell', handleClearOutput);\n",
       "    events.on('delete.Cell', handleClearOutput);\n",
       "\n",
       "    /* Handle when a new output is added */\n",
       "    events.on('output_added.OutputArea', handleAddOutput);\n",
       "\n",
       "    /**\n",
       "     * Register the mime type and append_mime function with output_area\n",
       "     */\n",
       "    OutputArea.prototype.register_mime_type(EXEC_MIME_TYPE, append_mime, {\n",
       "      /* Is output safe? */\n",
       "      safe: true,\n",
       "      /* Index of renderer in `output_area.display_order` */\n",
       "      index: 0\n",
       "    });\n",
       "  }\n",
       "\n",
       "  // register the mime type if in Jupyter Notebook environment and previously unregistered\n",
       "  if (root.Jupyter !== undefined) {\n",
       "    var events = require('base/js/events');\n",
       "    var OutputArea = require('notebook/js/outputarea').OutputArea;\n",
       "\n",
       "    if (OutputArea.prototype.mime_types().indexOf(EXEC_MIME_TYPE) == -1) {\n",
       "      register_renderer(events, OutputArea);\n",
       "    }\n",
       "  }\n",
       "\n",
       "  \n",
       "  if (typeof (root._bokeh_timeout) === \"undefined\" || force === true) {\n",
       "    root._bokeh_timeout = Date.now() + 5000;\n",
       "    root._bokeh_failed_load = false;\n",
       "  }\n",
       "\n",
       "  var NB_LOAD_WARNING = {'data': {'text/html':\n",
       "     \"<div style='background-color: #fdd'>\\n\"+\n",
       "     \"<p>\\n\"+\n",
       "     \"BokehJS does not appear to have successfully loaded. If loading BokehJS from CDN, this \\n\"+\n",
       "     \"may be due to a slow or bad network connection. Possible fixes:\\n\"+\n",
       "     \"</p>\\n\"+\n",
       "     \"<ul>\\n\"+\n",
       "     \"<li>re-rerun `output_notebook()` to attempt to load from CDN again, or</li>\\n\"+\n",
       "     \"<li>use INLINE resources instead, as so:</li>\\n\"+\n",
       "     \"</ul>\\n\"+\n",
       "     \"<code>\\n\"+\n",
       "     \"from bokeh.resources import INLINE\\n\"+\n",
       "     \"output_notebook(resources=INLINE)\\n\"+\n",
       "     \"</code>\\n\"+\n",
       "     \"</div>\"}};\n",
       "\n",
       "  function display_loaded() {\n",
       "    var el = document.getElementById(\"1025\");\n",
       "    if (el != null) {\n",
       "      el.textContent = \"BokehJS is loading...\";\n",
       "    }\n",
       "    if (root.Bokeh !== undefined) {\n",
       "      if (el != null) {\n",
       "        el.textContent = \"BokehJS \" + root.Bokeh.version + \" successfully loaded.\";\n",
       "      }\n",
       "    } else if (Date.now() < root._bokeh_timeout) {\n",
       "      setTimeout(display_loaded, 100)\n",
       "    }\n",
       "  }\n",
       "\n",
       "\n",
       "  function run_callbacks() {\n",
       "    try {\n",
       "      root._bokeh_onload_callbacks.forEach(function(callback) {\n",
       "        if (callback != null)\n",
       "          callback();\n",
       "      });\n",
       "    } finally {\n",
       "      delete root._bokeh_onload_callbacks\n",
       "    }\n",
       "    console.debug(\"Bokeh: all callbacks have finished\");\n",
       "  }\n",
       "\n",
       "  function load_libs(css_urls, js_urls, callback) {\n",
       "    if (css_urls == null) css_urls = [];\n",
       "    if (js_urls == null) js_urls = [];\n",
       "\n",
       "    root._bokeh_onload_callbacks.push(callback);\n",
       "    if (root._bokeh_is_loading > 0) {\n",
       "      console.debug(\"Bokeh: BokehJS is being loaded, scheduling callback at\", now());\n",
       "      return null;\n",
       "    }\n",
       "    if (js_urls == null || js_urls.length === 0) {\n",
       "      run_callbacks();\n",
       "      return null;\n",
       "    }\n",
       "    console.debug(\"Bokeh: BokehJS not loaded, scheduling load and callback at\", now());\n",
       "    root._bokeh_is_loading = css_urls.length + js_urls.length;\n",
       "\n",
       "    function on_load() {\n",
       "      root._bokeh_is_loading--;\n",
       "      if (root._bokeh_is_loading === 0) {\n",
       "        console.debug(\"Bokeh: all BokehJS libraries/stylesheets loaded\");\n",
       "        run_callbacks()\n",
       "      }\n",
       "    }\n",
       "\n",
       "    function on_error() {\n",
       "      console.error(\"failed to load \" + url);\n",
       "    }\n",
       "\n",
       "    for (var i = 0; i < css_urls.length; i++) {\n",
       "      var url = css_urls[i];\n",
       "      const element = document.createElement(\"link\");\n",
       "      element.onload = on_load;\n",
       "      element.onerror = on_error;\n",
       "      element.rel = \"stylesheet\";\n",
       "      element.type = \"text/css\";\n",
       "      element.href = url;\n",
       "      console.debug(\"Bokeh: injecting link tag for BokehJS stylesheet: \", url);\n",
       "      document.body.appendChild(element);\n",
       "    }\n",
       "\n",
       "    for (var i = 0; i < js_urls.length; i++) {\n",
       "      var url = js_urls[i];\n",
       "      var element = document.createElement('script');\n",
       "      element.onload = on_load;\n",
       "      element.onerror = on_error;\n",
       "      element.async = false;\n",
       "      element.src = url;\n",
       "      console.debug(\"Bokeh: injecting script tag for BokehJS library: \", url);\n",
       "      document.head.appendChild(element);\n",
       "    }\n",
       "  };var element = document.getElementById(\"1025\");\n",
       "  if (element == null) {\n",
       "    console.error(\"Bokeh: ERROR: autoload.js configured with elementid '1025' but no matching script tag was found. \")\n",
       "    return false;\n",
       "  }\n",
       "\n",
       "  function inject_raw_css(css) {\n",
       "    const element = document.createElement(\"style\");\n",
       "    element.appendChild(document.createTextNode(css));\n",
       "    document.body.appendChild(element);\n",
       "  }\n",
       "\n",
       "  \n",
       "  var js_urls = [\"https://cdn.pydata.org/bokeh/release/bokeh-1.4.0.min.js\", \"https://cdn.pydata.org/bokeh/release/bokeh-widgets-1.4.0.min.js\", \"https://cdn.pydata.org/bokeh/release/bokeh-tables-1.4.0.min.js\", \"https://cdn.pydata.org/bokeh/release/bokeh-gl-1.4.0.min.js\"];\n",
       "  var css_urls = [];\n",
       "  \n",
       "\n",
       "  var inline_js = [\n",
       "    function(Bokeh) {\n",
       "      Bokeh.set_log_level(\"info\");\n",
       "    },\n",
       "    function(Bokeh) {\n",
       "    \n",
       "    \n",
       "    }\n",
       "  ];\n",
       "\n",
       "  function run_inline_js() {\n",
       "    \n",
       "    if (root.Bokeh !== undefined || force === true) {\n",
       "      \n",
       "    for (var i = 0; i < inline_js.length; i++) {\n",
       "      inline_js[i].call(root, root.Bokeh);\n",
       "    }\n",
       "    if (force === true) {\n",
       "        display_loaded();\n",
       "      }} else if (Date.now() < root._bokeh_timeout) {\n",
       "      setTimeout(run_inline_js, 100);\n",
       "    } else if (!root._bokeh_failed_load) {\n",
       "      console.log(\"Bokeh: BokehJS failed to load within specified timeout.\");\n",
       "      root._bokeh_failed_load = true;\n",
       "    } else if (force !== true) {\n",
       "      var cell = $(document.getElementById(\"1025\")).parents('.cell').data().cell;\n",
       "      cell.output_area.append_execute_result(NB_LOAD_WARNING)\n",
       "    }\n",
       "\n",
       "  }\n",
       "\n",
       "  if (root._bokeh_is_loading === 0) {\n",
       "    console.debug(\"Bokeh: BokehJS loaded, going straight to plotting\");\n",
       "    run_inline_js();\n",
       "  } else {\n",
       "    load_libs(css_urls, js_urls, function() {\n",
       "      console.debug(\"Bokeh: BokehJS plotting callback run at\", now());\n",
       "      run_inline_js();\n",
       "    });\n",
       "  }\n",
       "}(window));"
      ],
      "application/vnd.bokehjs_load.v0+json": "\n(function(root) {\n  function now() {\n    return new Date();\n  }\n\n  var force = true;\n\n  if (typeof root._bokeh_onload_callbacks === \"undefined\" || force === true) {\n    root._bokeh_onload_callbacks = [];\n    root._bokeh_is_loading = undefined;\n  }\n\n  \n\n  \n  if (typeof (root._bokeh_timeout) === \"undefined\" || force === true) {\n    root._bokeh_timeout = Date.now() + 5000;\n    root._bokeh_failed_load = false;\n  }\n\n  var NB_LOAD_WARNING = {'data': {'text/html':\n     \"<div style='background-color: #fdd'>\\n\"+\n     \"<p>\\n\"+\n     \"BokehJS does not appear to have successfully loaded. If loading BokehJS from CDN, this \\n\"+\n     \"may be due to a slow or bad network connection. Possible fixes:\\n\"+\n     \"</p>\\n\"+\n     \"<ul>\\n\"+\n     \"<li>re-rerun `output_notebook()` to attempt to load from CDN again, or</li>\\n\"+\n     \"<li>use INLINE resources instead, as so:</li>\\n\"+\n     \"</ul>\\n\"+\n     \"<code>\\n\"+\n     \"from bokeh.resources import INLINE\\n\"+\n     \"output_notebook(resources=INLINE)\\n\"+\n     \"</code>\\n\"+\n     \"</div>\"}};\n\n  function display_loaded() {\n    var el = document.getElementById(\"1025\");\n    if (el != null) {\n      el.textContent = \"BokehJS is loading...\";\n    }\n    if (root.Bokeh !== undefined) {\n      if (el != null) {\n        el.textContent = \"BokehJS \" + root.Bokeh.version + \" successfully loaded.\";\n      }\n    } else if (Date.now() < root._bokeh_timeout) {\n      setTimeout(display_loaded, 100)\n    }\n  }\n\n\n  function run_callbacks() {\n    try {\n      root._bokeh_onload_callbacks.forEach(function(callback) {\n        if (callback != null)\n          callback();\n      });\n    } finally {\n      delete root._bokeh_onload_callbacks\n    }\n    console.debug(\"Bokeh: all callbacks have finished\");\n  }\n\n  function load_libs(css_urls, js_urls, callback) {\n    if (css_urls == null) css_urls = [];\n    if (js_urls == null) js_urls = [];\n\n    root._bokeh_onload_callbacks.push(callback);\n    if (root._bokeh_is_loading > 0) {\n      console.debug(\"Bokeh: BokehJS is being loaded, scheduling callback at\", now());\n      return null;\n    }\n    if (js_urls == null || js_urls.length === 0) {\n      run_callbacks();\n      return null;\n    }\n    console.debug(\"Bokeh: BokehJS not loaded, scheduling load and callback at\", now());\n    root._bokeh_is_loading = css_urls.length + js_urls.length;\n\n    function on_load() {\n      root._bokeh_is_loading--;\n      if (root._bokeh_is_loading === 0) {\n        console.debug(\"Bokeh: all BokehJS libraries/stylesheets loaded\");\n        run_callbacks()\n      }\n    }\n\n    function on_error() {\n      console.error(\"failed to load \" + url);\n    }\n\n    for (var i = 0; i < css_urls.length; i++) {\n      var url = css_urls[i];\n      const element = document.createElement(\"link\");\n      element.onload = on_load;\n      element.onerror = on_error;\n      element.rel = \"stylesheet\";\n      element.type = \"text/css\";\n      element.href = url;\n      console.debug(\"Bokeh: injecting link tag for BokehJS stylesheet: \", url);\n      document.body.appendChild(element);\n    }\n\n    for (var i = 0; i < js_urls.length; i++) {\n      var url = js_urls[i];\n      var element = document.createElement('script');\n      element.onload = on_load;\n      element.onerror = on_error;\n      element.async = false;\n      element.src = url;\n      console.debug(\"Bokeh: injecting script tag for BokehJS library: \", url);\n      document.head.appendChild(element);\n    }\n  };var element = document.getElementById(\"1025\");\n  if (element == null) {\n    console.error(\"Bokeh: ERROR: autoload.js configured with elementid '1025' but no matching script tag was found. \")\n    return false;\n  }\n\n  function inject_raw_css(css) {\n    const element = document.createElement(\"style\");\n    element.appendChild(document.createTextNode(css));\n    document.body.appendChild(element);\n  }\n\n  \n  var js_urls = [\"https://cdn.pydata.org/bokeh/release/bokeh-1.4.0.min.js\", \"https://cdn.pydata.org/bokeh/release/bokeh-widgets-1.4.0.min.js\", \"https://cdn.pydata.org/bokeh/release/bokeh-tables-1.4.0.min.js\", \"https://cdn.pydata.org/bokeh/release/bokeh-gl-1.4.0.min.js\"];\n  var css_urls = [];\n  \n\n  var inline_js = [\n    function(Bokeh) {\n      Bokeh.set_log_level(\"info\");\n    },\n    function(Bokeh) {\n    \n    \n    }\n  ];\n\n  function run_inline_js() {\n    \n    if (root.Bokeh !== undefined || force === true) {\n      \n    for (var i = 0; i < inline_js.length; i++) {\n      inline_js[i].call(root, root.Bokeh);\n    }\n    if (force === true) {\n        display_loaded();\n      }} else if (Date.now() < root._bokeh_timeout) {\n      setTimeout(run_inline_js, 100);\n    } else if (!root._bokeh_failed_load) {\n      console.log(\"Bokeh: BokehJS failed to load within specified timeout.\");\n      root._bokeh_failed_load = true;\n    } else if (force !== true) {\n      var cell = $(document.getElementById(\"1025\")).parents('.cell').data().cell;\n      cell.output_area.append_execute_result(NB_LOAD_WARNING)\n    }\n\n  }\n\n  if (root._bokeh_is_loading === 0) {\n    console.debug(\"Bokeh: BokehJS loaded, going straight to plotting\");\n    run_inline_js();\n  } else {\n    load_libs(css_urls, js_urls, function() {\n      console.debug(\"Bokeh: BokehJS plotting callback run at\", now());\n      run_inline_js();\n    });\n  }\n}(window));"
     },
     "metadata": {},
     "output_type": "display_data"
    }
   ],
   "source": [
    "'''Installing Necessary Libraries'''\n",
    "from pandas import Series, DataFrame\n",
    "import pandas as pd\n",
    "import seaborn as sns\n",
    "import warnings\n",
    "warnings.filterwarnings('ignore')\n",
    "from matplotlib.pyplot import figure \n",
    "%pylab inline\n",
    "\n",
    "from bokeh.io import output_notebook\n",
    "from bokeh.plotting import figure, show\n",
    "from bokeh.palettes import Set3, GnBu3, OrRd3, RdYlGn, Reds, Paired\n",
    "from bokeh.transform import cumsum, dodge\n",
    "from bokeh.models import ColumnDataSource, HoverTool, Panel\n",
    "from bokeh.core.properties import value\n",
    "from bokeh.models.widgets import Tabs\n",
    "from bokeh.io import export_png\n",
    "\n",
    "\n",
    "plot = figure(plot_width=600, plot_height=400, tools='pan,box_zoom')\n",
    "output_notebook()\n"
   ]
  },
  {
   "cell_type": "markdown",
   "metadata": {},
   "source": [
    "# Exploring The Data\n",
    "\n",
    "### Are there significant differences in the general products countries eat?\n",
    "\n"
   ]
  },
  {
   "cell_type": "markdown",
   "metadata": {},
   "source": [
    "In order to analzye the general nutrition characteristics of the food products, \n",
    "it will be helpful to know the amount of energy, saturated fat, trans fat, fiber,\n",
    "sodium, sugars, and protein contained in each product. Let's only select rows \n",
    "where this information is not missing. "
   ]
  },
  {
   "cell_type": "code",
   "execution_count": 16,
   "metadata": {},
   "outputs": [],
   "source": [
    "df = pd.read_csv('final_food_data.csv') #reading in the data\n",
    "df['country'] = df['country'].replace(['United Kingdom','United States'],['UK','US']) #renaming countries concisely\n",
    "nutrients = df.dropna(subset=['saturated-fat_100g','fiber_100g','sugars_100g','proteins_100g','sodium_100g'], how='any')"
   ]
  },
  {
   "cell_type": "markdown",
   "metadata": {},
   "source": [
    "Let's also remove any outliers. We are interested in comparing the general food products so want to remove any products that will skew this analysis\n",
    "Outliers are defined as being 3 standard deviations from the normalized mean"
   ]
  },
  {
   "cell_type": "code",
   "execution_count": 17,
   "metadata": {},
   "outputs": [
    {
     "name": "stdout",
     "output_type": "stream",
     "text": [
      " Columns saturated-fat_100g had 15968 outliers removed\n",
      " Columns fiber_100g had 13458 outliers removed\n",
      " Columns sugars_100g had 12915 outliers removed\n",
      " Columns proteins_100g had 7191 outliers removed\n",
      " Columns sodium_100g had 8148 outliers removed\n",
      "Data reduced by 57680 lines, or 26.70 %\n"
     ]
    }
   ],
   "source": [
    "def remove_outliers(df, out_cols, T=1.5, verbose=True):\n",
    "    # Copy of df\n",
    "    new_df = df.copy()\n",
    "    init_shape = new_df.shape\n",
    "    # For each column\n",
    "    for c in out_cols:\n",
    "        q1 = new_df[c].quantile(.25)\n",
    "        q3 = new_df[c].quantile(.75)\n",
    "        col_iqr = q3 - q1\n",
    "        col_max = q3 + T * col_iqr\n",
    "        col_min = q1 - T * col_iqr\n",
    "        # Filter data without outliers and ignoring nan\n",
    "        filtered_df = new_df[(new_df[c] <= col_max) & (new_df[c] >= col_min)]\n",
    "        if verbose:\n",
    "            n_out = new_df.shape[0] - filtered_df.shape[0] \n",
    "            print(f\" Columns {c} had {n_out} outliers removed\")\n",
    "        new_df = filtered_df\n",
    "            \n",
    "    if verbose:\n",
    "        # Print shrink percentage\n",
    "        lines_red = df.shape[0] - new_df.shape[0]\n",
    "        print(f\"Data reduced by {lines_red} lines, or {lines_red/df.shape[0]*100:.2f} %\")\n",
    "    return new_df\n",
    "\n",
    "outliers = ['saturated-fat_100g','fiber_100g','sugars_100g','proteins_100g','sodium_100g']\n",
    "df = remove_outliers(df=nutrients,out_cols=outliers)"
   ]
  },
  {
   "cell_type": "markdown",
   "metadata": {},
   "source": [
    "#### Let's begin by looking into the number of products we have per country:"
   ]
  },
  {
   "cell_type": "code",
   "execution_count": 74,
   "metadata": {},
   "outputs": [
    {
     "data": {
      "text/html": [
       "\n",
       "\n",
       "\n",
       "\n",
       "\n",
       "\n",
       "  <div class=\"bk-root\" id=\"73080b9c-6922-41d0-b6f6-a4e61dd34b11\" data-root-id=\"4547\"></div>\n"
      ]
     },
     "metadata": {},
     "output_type": "display_data"
    },
    {
     "data": {
      "application/javascript": [
       "(function(root) {\n",
       "  function embed_document(root) {\n",
       "    \n",
       "  var docs_json = {\"95e0f9ce-f2c5-4f1b-b2c5-4cef15a0077d\":{\"roots\":{\"references\":[{\"attributes\":{\"below\":[{\"id\":\"4558\",\"type\":\"LinearAxis\"}],\"center\":[{\"id\":\"4562\",\"type\":\"Grid\"},{\"id\":\"4567\",\"type\":\"Grid\"},{\"id\":\"4584\",\"type\":\"Legend\"}],\"left\":[{\"id\":\"4563\",\"type\":\"LinearAxis\"}],\"plot_height\":350,\"renderers\":[{\"id\":\"4577\",\"type\":\"GlyphRenderer\"}],\"title\":{\"id\":\"4548\",\"type\":\"Title\"},\"toolbar\":{\"id\":\"4569\",\"type\":\"Toolbar\"},\"toolbar_location\":null,\"x_range\":{\"id\":\"4550\",\"type\":\"Range1d\"},\"x_scale\":{\"id\":\"4554\",\"type\":\"LinearScale\"},\"y_range\":{\"id\":\"4552\",\"type\":\"DataRange1d\"},\"y_scale\":{\"id\":\"4556\",\"type\":\"LinearScale\"}},\"id\":\"4547\",\"subtype\":\"Figure\",\"type\":\"Plot\"},{\"attributes\":{\"source\":{\"id\":\"4573\",\"type\":\"ColumnDataSource\"}},\"id\":\"4578\",\"type\":\"CDSView\"},{\"attributes\":{\"field\":\"angle\"},\"id\":\"4572\",\"type\":\"CumSum\"},{\"attributes\":{\"grid_line_color\":null,\"ticker\":{\"id\":\"4559\",\"type\":\"BasicTicker\"}},\"id\":\"4562\",\"type\":\"Grid\"},{\"attributes\":{\"dimension\":1,\"grid_line_color\":null,\"ticker\":{\"id\":\"4564\",\"type\":\"BasicTicker\"}},\"id\":\"4567\",\"type\":\"Grid\"},{\"attributes\":{\"axis_label\":null,\"formatter\":{\"id\":\"4582\",\"type\":\"BasicTickFormatter\"},\"ticker\":{\"id\":\"4564\",\"type\":\"BasicTicker\"},\"visible\":false},\"id\":\"4563\",\"type\":\"LinearAxis\"},{\"attributes\":{\"callback\":null,\"start\":-0.5},\"id\":\"4550\",\"type\":\"Range1d\"},{\"attributes\":{},\"id\":\"4556\",\"type\":\"LinearScale\"},{\"attributes\":{\"label\":{\"field\":\"country\"},\"renderers\":[{\"id\":\"4577\",\"type\":\"GlyphRenderer\"}]},\"id\":\"4585\",\"type\":\"LegendItem\"},{\"attributes\":{\"callback\":null},\"id\":\"4552\",\"type\":\"DataRange1d\"},{\"attributes\":{\"active_drag\":\"auto\",\"active_inspect\":\"auto\",\"active_multi\":null,\"active_scroll\":\"auto\",\"active_tap\":\"auto\",\"tools\":[{\"id\":\"4568\",\"type\":\"HoverTool\"}]},\"id\":\"4569\",\"type\":\"Toolbar\"},{\"attributes\":{\"text\":\"Number of Products by Country\"},\"id\":\"4548\",\"type\":\"Title\"},{\"attributes\":{\"callback\":null,\"tooltips\":\"@country: @counts\"},\"id\":\"4568\",\"type\":\"HoverTool\"},{\"attributes\":{\"items\":[{\"id\":\"4585\",\"type\":\"LegendItem\"}]},\"id\":\"4584\",\"type\":\"Legend\"},{\"attributes\":{\"callback\":null,\"data\":{\"angle\":{\"__ndarray__\":\"SmPg/ey+DkDE4VQA9Q//P+xgU8KV4NA/MbFYa1T7rz8FX0ZGK/OtP/NBXHHpsqo/TKJan/puoT8ioA1U5X6KP+PjLS+rNX8/5MEaoYqLeD8DD4FsF9tSPw==\",\"dtype\":\"float64\",\"shape\":[11]},\"color\":[\"#8dd3c7\",\"#ffffb3\",\"#bebada\",\"#fb8072\",\"#80b1d3\",\"#fdb462\",\"#b3de69\",\"#fccde5\",\"#d9d9d9\",\"#bc80bd\",\"#ccebc5\"],\"country\":[\"US\",\"France\",\"Switzerland\",\"Spain\",\"Germany\",\"UK\",\"Belgium\",\"Italy\",\"Canada\",\"Australia\",\"Russia\"],\"counts\":[96843,48920,6645,1574,1474,1314,858,326,192,151,29]},\"selected\":{\"id\":\"4716\",\"type\":\"Selection\"},\"selection_policy\":{\"id\":\"4717\",\"type\":\"UnionRenderers\"}},\"id\":\"4573\",\"type\":\"ColumnDataSource\"},{\"attributes\":{},\"id\":\"4564\",\"type\":\"BasicTicker\"},{\"attributes\":{},\"id\":\"4580\",\"type\":\"BasicTickFormatter\"},{\"attributes\":{},\"id\":\"4559\",\"type\":\"BasicTicker\"},{\"attributes\":{},\"id\":\"4582\",\"type\":\"BasicTickFormatter\"},{\"attributes\":{},\"id\":\"4554\",\"type\":\"LinearScale\"},{\"attributes\":{\"end_angle\":{\"expr\":{\"id\":\"4572\",\"type\":\"CumSum\"},\"units\":\"rad\"},\"fill_color\":{\"field\":\"color\"},\"line_color\":{\"value\":\"white\"},\"radius\":{\"units\":\"data\",\"value\":0.4},\"start_angle\":{\"expr\":{\"id\":\"4571\",\"type\":\"CumSum\"},\"units\":\"rad\"},\"x\":{\"value\":0},\"y\":{\"value\":1}},\"id\":\"4575\",\"type\":\"Wedge\"},{\"attributes\":{\"data_source\":{\"id\":\"4573\",\"type\":\"ColumnDataSource\"},\"glyph\":{\"id\":\"4575\",\"type\":\"Wedge\"},\"hover_glyph\":null,\"muted_glyph\":null,\"nonselection_glyph\":{\"id\":\"4576\",\"type\":\"Wedge\"},\"selection_glyph\":null,\"view\":{\"id\":\"4578\",\"type\":\"CDSView\"}},\"id\":\"4577\",\"type\":\"GlyphRenderer\"},{\"attributes\":{\"end_angle\":{\"expr\":{\"id\":\"4572\",\"type\":\"CumSum\"},\"units\":\"rad\"},\"fill_alpha\":{\"value\":0.1},\"fill_color\":{\"value\":\"#1f77b4\"},\"line_alpha\":{\"value\":0.1},\"line_color\":{\"value\":\"#1f77b4\"},\"radius\":{\"units\":\"data\",\"value\":0.4},\"start_angle\":{\"expr\":{\"id\":\"4571\",\"type\":\"CumSum\"},\"units\":\"rad\"},\"x\":{\"value\":0},\"y\":{\"value\":1}},\"id\":\"4576\",\"type\":\"Wedge\"},{\"attributes\":{\"field\":\"angle\",\"include_zero\":true},\"id\":\"4571\",\"type\":\"CumSum\"},{\"attributes\":{\"axis_label\":null,\"formatter\":{\"id\":\"4580\",\"type\":\"BasicTickFormatter\"},\"ticker\":{\"id\":\"4559\",\"type\":\"BasicTicker\"},\"visible\":false},\"id\":\"4558\",\"type\":\"LinearAxis\"},{\"attributes\":{},\"id\":\"4717\",\"type\":\"UnionRenderers\"},{\"attributes\":{},\"id\":\"4716\",\"type\":\"Selection\"}],\"root_ids\":[\"4547\"]},\"title\":\"Bokeh Application\",\"version\":\"1.4.0\"}};\n",
       "  var render_items = [{\"docid\":\"95e0f9ce-f2c5-4f1b-b2c5-4cef15a0077d\",\"roots\":{\"4547\":\"73080b9c-6922-41d0-b6f6-a4e61dd34b11\"}}];\n",
       "  root.Bokeh.embed.embed_items_notebook(docs_json, render_items);\n",
       "\n",
       "  }\n",
       "  if (root.Bokeh !== undefined) {\n",
       "    embed_document(root);\n",
       "  } else {\n",
       "    var attempts = 0;\n",
       "    var timer = setInterval(function(root) {\n",
       "      if (root.Bokeh !== undefined) {\n",
       "        clearInterval(timer);\n",
       "        embed_document(root);\n",
       "      } else {\n",
       "        attempts++;\n",
       "        if (attempts > 100) {\n",
       "          clearInterval(timer);\n",
       "          console.log(\"Bokeh: ERROR: Unable to run BokehJS code because BokehJS library is missing\");\n",
       "        }\n",
       "      }\n",
       "    }, 10, root)\n",
       "  }\n",
       "})(window);"
      ],
      "application/vnd.bokehjs_exec.v0+json": ""
     },
     "metadata": {
      "application/vnd.bokehjs_exec.v0+json": {
       "id": "4547"
      }
     },
     "output_type": "display_data"
    },
    {
     "data": {
      "text/plain": [
       "'C:\\\\Users\\\\india\\\\Documents\\\\Projects\\\\plot1.png'"
      ]
     },
     "execution_count": 74,
     "metadata": {},
     "output_type": "execute_result"
    }
   ],
   "source": [
    "chart_colors = ['#BE9EC9', '#feb236', '#006E6D',\n",
    "                '#d64161', '#F1EA7F', '#6b5b95',\n",
    "                '#EC9787', ' #BD3D3A', '#D5AE41', '#00A591','#7F4145']\n",
    "\n",
    "country = df['country'].value_counts().rename_axis('country').to_frame('counts')\n",
    "country['angle'] = country['counts']/country['counts'].sum() * 2*pi\n",
    "country['color'] = Set3[len(country)]\n",
    "\n",
    "p = figure(plot_height=350, title=\"Number of Products by Country\", toolbar_location=None,\n",
    "           tools=\"hover\", tooltips=\"@country: @counts\", x_range=(-0.5, 1.0))\n",
    "\n",
    "p.wedge(x=0, y=1, radius=0.4,\n",
    "        start_angle=cumsum('angle', include_zero=True), end_angle=cumsum('angle'),\n",
    "        line_color=\"white\", fill_color='color', legend_field='country', source=country)\n",
    "\n",
    "p.axis.axis_label=None\n",
    "p.axis.visible=False\n",
    "p.grid.grid_line_color = None\n",
    "\n",
    "show(p)\n",
    "\n",
    "export_png(p, filename=\"plot1.png\")"
   ]
  },
  {
   "cell_type": "markdown",
   "metadata": {},
   "source": [
    "The US and France definitely dominate this dataset. \n",
    "\n",
    "#### How does the general nutritional content of the food products differ by country? "
   ]
  },
  {
   "cell_type": "code",
   "execution_count": 75,
   "metadata": {},
   "outputs": [
    {
     "data": {
      "text/html": [
       "\n",
       "\n",
       "\n",
       "\n",
       "\n",
       "\n",
       "  <div class=\"bk-root\" id=\"f71f774e-cca1-4d99-9cae-88790cdefc97\" data-root-id=\"4852\"></div>\n"
      ]
     },
     "metadata": {},
     "output_type": "display_data"
    },
    {
     "data": {
      "application/javascript": [
       "(function(root) {\n",
       "  function embed_document(root) {\n",
       "    \n",
       "  var docs_json = {\"d7754b17-a83b-4a8b-8d08-71118044458a\":{\"roots\":{\"references\":[{\"attributes\":{\"below\":[{\"id\":\"4863\",\"type\":\"CategoricalAxis\"}],\"center\":[{\"id\":\"4866\",\"type\":\"Grid\"},{\"id\":\"4871\",\"type\":\"Grid\"},{\"id\":\"4885\",\"type\":\"Legend\"}],\"left\":[{\"id\":\"4867\",\"type\":\"LinearAxis\"}],\"plot_height\":250,\"plot_width\":800,\"renderers\":[{\"id\":\"4878\",\"type\":\"GlyphRenderer\"},{\"id\":\"4892\",\"type\":\"GlyphRenderer\"},{\"id\":\"4907\",\"type\":\"GlyphRenderer\"}],\"title\":{\"id\":\"4853\",\"type\":\"Title\"},\"toolbar\":{\"id\":\"4872\",\"type\":\"Toolbar\"},\"toolbar_location\":null,\"x_range\":{\"id\":\"4855\",\"type\":\"FactorRange\"},\"x_scale\":{\"id\":\"4859\",\"type\":\"CategoricalScale\"},\"y_range\":{\"id\":\"4857\",\"type\":\"Range1d\"},\"y_scale\":{\"id\":\"4861\",\"type\":\"LinearScale\"}},\"id\":\"4852\",\"subtype\":\"Figure\",\"type\":\"Plot\"},{\"attributes\":{},\"id\":\"4868\",\"type\":\"BasicTicker\"},{\"attributes\":{\"range\":{\"id\":\"4855\",\"type\":\"FactorRange\"}},\"id\":\"4887\",\"type\":\"Dodge\"},{\"attributes\":{\"source\":{\"id\":\"4888\",\"type\":\"ColumnDataSource\"}},\"id\":\"4893\",\"type\":\"CDSView\"},{\"attributes\":{},\"id\":\"4883\",\"type\":\"BasicTickFormatter\"},{\"attributes\":{\"fill_alpha\":{\"value\":0.1},\"fill_color\":{\"value\":\"#1f77b4\"},\"line_alpha\":{\"value\":0.1},\"line_color\":{\"value\":\"#1f77b4\"},\"top\":{\"field\":\"saturated-fat_100g\"},\"width\":{\"value\":0.4},\"x\":{\"field\":\"country\",\"transform\":{\"id\":\"4887\",\"type\":\"Dodge\"}}},\"id\":\"4891\",\"type\":\"VBar\"},{\"attributes\":{\"source\":{\"id\":\"4874\",\"type\":\"ColumnDataSource\"}},\"id\":\"4879\",\"type\":\"CDSView\"},{\"attributes\":{\"callback\":null,\"data\":{\"country\":[\"Australia\",\"Belgium\",\"Canada\",\"France\",\"Germany\",\"Italy\",\"Russia\",\"Spain\",\"Switzerland\",\"UK\",\"US\"],\"fiber_100g\":[2.8472185430463592,2.0752857808857823,1.9537447916666668,1.952129756745723,2.5798301899592953,2.5053527607361947,2.455172413793104,2.6684607115629,2.0937647855530512,1.9605121765601228,1.9930737141560722],\"proteins_100g\":[5.444966887417219,5.312090792540795,5.820510416666669,5.97244634096482,6.122704884667577,6.771380368098159,7.857586206896553,4.882877064803051,6.252377727614746,6.423934550989344,6.173363949898934],\"saturated-fat_100g\":[1.8954039735099328,3.322999999999995,3.3633234375,3.0323458877760396,3.034590841248298,3.043254601226995,4.612672413793104,2.280025412960609,3.2998491948833673,3.2096948249619413,3.1737457844141392],\"sodium_100g\":[0.24736753663242425,0.24875348741809344,0.2672840994094487,0.2496065836645345,0.2288707650615911,0.296951624800734,0.326916516038958,0.22671372946952936,0.27714946501484505,0.2312598439878233,0.3262916716857568],\"sugars_100g\":[8.441920529801324,11.460301864801847,11.597624999999999,9.662658472608353,10.123936227951157,10.459540184049082,8.646551724137932,8.206090851334181,10.002664860797589,9.512140030441396,11.773546596036292]},\"selected\":{\"id\":\"4916\",\"type\":\"Selection\"},\"selection_policy\":{\"id\":\"4917\",\"type\":\"UnionRenderers\"}},\"id\":\"4888\",\"type\":\"ColumnDataSource\"},{\"attributes\":{\"data_source\":{\"id\":\"4888\",\"type\":\"ColumnDataSource\"},\"glyph\":{\"id\":\"4890\",\"type\":\"VBar\"},\"hover_glyph\":null,\"muted_glyph\":null,\"nonselection_glyph\":{\"id\":\"4891\",\"type\":\"VBar\"},\"selection_glyph\":null,\"view\":{\"id\":\"4893\",\"type\":\"CDSView\"}},\"id\":\"4892\",\"type\":\"GlyphRenderer\"},{\"attributes\":{\"source\":{\"id\":\"4903\",\"type\":\"ColumnDataSource\"}},\"id\":\"4908\",\"type\":\"CDSView\"},{\"attributes\":{\"axis_label\":\"Mean Amount Per 100g\",\"formatter\":{\"id\":\"4883\",\"type\":\"BasicTickFormatter\"},\"ticker\":{\"id\":\"4868\",\"type\":\"BasicTicker\"}},\"id\":\"4867\",\"type\":\"LinearAxis\"},{\"attributes\":{},\"id\":\"4881\",\"type\":\"CategoricalTickFormatter\"},{\"attributes\":{\"label\":{\"value\":\"saturated fat\"},\"renderers\":[{\"id\":\"4892\",\"type\":\"GlyphRenderer\"}]},\"id\":\"4901\",\"type\":\"LegendItem\"},{\"attributes\":{\"range\":{\"id\":\"4855\",\"type\":\"FactorRange\"},\"value\":0.1},\"id\":\"4902\",\"type\":\"Dodge\"},{\"attributes\":{},\"id\":\"4900\",\"type\":\"UnionRenderers\"},{\"attributes\":{},\"id\":\"4916\",\"type\":\"Selection\"},{\"attributes\":{\"text\":\"Nutritional Content By Country\"},\"id\":\"4853\",\"type\":\"Title\"},{\"attributes\":{\"fill_alpha\":{\"value\":0.1},\"fill_color\":{\"value\":\"#1f77b4\"},\"line_alpha\":{\"value\":0.1},\"line_color\":{\"value\":\"#1f77b4\"},\"top\":{\"field\":\"sugars_100g\"},\"width\":{\"value\":0.4},\"x\":{\"field\":\"country\",\"transform\":{\"id\":\"4873\",\"type\":\"Dodge\"}}},\"id\":\"4877\",\"type\":\"VBar\"},{\"attributes\":{\"callback\":null,\"data\":{\"country\":[\"Australia\",\"Belgium\",\"Canada\",\"France\",\"Germany\",\"Italy\",\"Russia\",\"Spain\",\"Switzerland\",\"UK\",\"US\"],\"fiber_100g\":[2.8472185430463592,2.0752857808857823,1.9537447916666668,1.952129756745723,2.5798301899592953,2.5053527607361947,2.455172413793104,2.6684607115629,2.0937647855530512,1.9605121765601228,1.9930737141560722],\"proteins_100g\":[5.444966887417219,5.312090792540795,5.820510416666669,5.97244634096482,6.122704884667577,6.771380368098159,7.857586206896553,4.882877064803051,6.252377727614746,6.423934550989344,6.173363949898934],\"saturated-fat_100g\":[1.8954039735099328,3.322999999999995,3.3633234375,3.0323458877760396,3.034590841248298,3.043254601226995,4.612672413793104,2.280025412960609,3.2998491948833673,3.2096948249619413,3.1737457844141392],\"sodium_100g\":[0.24736753663242425,0.24875348741809344,0.2672840994094487,0.2496065836645345,0.2288707650615911,0.296951624800734,0.326916516038958,0.22671372946952936,0.27714946501484505,0.2312598439878233,0.3262916716857568],\"sugars_100g\":[8.441920529801324,11.460301864801847,11.597624999999999,9.662658472608353,10.123936227951157,10.459540184049082,8.646551724137932,8.206090851334181,10.002664860797589,9.512140030441396,11.773546596036292]},\"selected\":{\"id\":\"5110\",\"type\":\"Selection\"},\"selection_policy\":{\"id\":\"5111\",\"type\":\"UnionRenderers\"}},\"id\":\"4903\",\"type\":\"ColumnDataSource\"},{\"attributes\":{},\"id\":\"4899\",\"type\":\"Selection\"},{\"attributes\":{\"fill_color\":{\"value\":\"#fb8072\"},\"line_color\":{\"value\":\"#fb8072\"},\"top\":{\"field\":\"sodium_100g\"},\"width\":{\"value\":0.4},\"x\":{\"field\":\"country\",\"transform\":{\"id\":\"4902\",\"type\":\"Dodge\"}}},\"id\":\"4905\",\"type\":\"VBar\"},{\"attributes\":{\"grid_line_color\":null,\"ticker\":{\"id\":\"4864\",\"type\":\"CategoricalTicker\"}},\"id\":\"4866\",\"type\":\"Grid\"},{\"attributes\":{},\"id\":\"5110\",\"type\":\"Selection\"},{\"attributes\":{\"callback\":null,\"end\":14.773546596036292},\"id\":\"4857\",\"type\":\"Range1d\"},{\"attributes\":{\"data_source\":{\"id\":\"4903\",\"type\":\"ColumnDataSource\"},\"glyph\":{\"id\":\"4905\",\"type\":\"VBar\"},\"hover_glyph\":null,\"muted_glyph\":null,\"nonselection_glyph\":{\"id\":\"4906\",\"type\":\"VBar\"},\"selection_glyph\":null,\"view\":{\"id\":\"4908\",\"type\":\"CDSView\"}},\"id\":\"4907\",\"type\":\"GlyphRenderer\"},{\"attributes\":{\"fill_color\":{\"value\":\"#fccde5\"},\"line_color\":{\"value\":\"#fccde5\"},\"top\":{\"field\":\"sugars_100g\"},\"width\":{\"value\":0.4},\"x\":{\"field\":\"country\",\"transform\":{\"id\":\"4873\",\"type\":\"Dodge\"}}},\"id\":\"4876\",\"type\":\"VBar\"},{\"attributes\":{\"fill_alpha\":{\"value\":0.1},\"fill_color\":{\"value\":\"#1f77b4\"},\"line_alpha\":{\"value\":0.1},\"line_color\":{\"value\":\"#1f77b4\"},\"top\":{\"field\":\"sodium_100g\"},\"width\":{\"value\":0.4},\"x\":{\"field\":\"country\",\"transform\":{\"id\":\"4902\",\"type\":\"Dodge\"}}},\"id\":\"4906\",\"type\":\"VBar\"},{\"attributes\":{\"active_drag\":\"auto\",\"active_inspect\":\"auto\",\"active_multi\":null,\"active_scroll\":\"auto\",\"active_tap\":\"auto\"},\"id\":\"4872\",\"type\":\"Toolbar\"},{\"attributes\":{\"items\":[{\"id\":\"4886\",\"type\":\"LegendItem\"},{\"id\":\"4901\",\"type\":\"LegendItem\"},{\"id\":\"4918\",\"type\":\"LegendItem\"}],\"location\":\"top_left\",\"orientation\":\"horizontal\"},\"id\":\"4885\",\"type\":\"Legend\"},{\"attributes\":{\"range\":{\"id\":\"4855\",\"type\":\"FactorRange\"},\"value\":-0.1},\"id\":\"4873\",\"type\":\"Dodge\"},{\"attributes\":{},\"id\":\"5111\",\"type\":\"UnionRenderers\"},{\"attributes\":{\"label\":{\"value\":\"sugars\"},\"renderers\":[{\"id\":\"4878\",\"type\":\"GlyphRenderer\"}]},\"id\":\"4886\",\"type\":\"LegendItem\"},{\"attributes\":{},\"id\":\"4859\",\"type\":\"CategoricalScale\"},{\"attributes\":{\"callback\":null,\"data\":{\"country\":[\"Australia\",\"Belgium\",\"Canada\",\"France\",\"Germany\",\"Italy\",\"Russia\",\"Spain\",\"Switzerland\",\"UK\",\"US\"],\"fiber_100g\":[2.8472185430463592,2.0752857808857823,1.9537447916666668,1.952129756745723,2.5798301899592953,2.5053527607361947,2.455172413793104,2.6684607115629,2.0937647855530512,1.9605121765601228,1.9930737141560722],\"proteins_100g\":[5.444966887417219,5.312090792540795,5.820510416666669,5.97244634096482,6.122704884667577,6.771380368098159,7.857586206896553,4.882877064803051,6.252377727614746,6.423934550989344,6.173363949898934],\"saturated-fat_100g\":[1.8954039735099328,3.322999999999995,3.3633234375,3.0323458877760396,3.034590841248298,3.043254601226995,4.612672413793104,2.280025412960609,3.2998491948833673,3.2096948249619413,3.1737457844141392],\"sodium_100g\":[0.24736753663242425,0.24875348741809344,0.2672840994094487,0.2496065836645345,0.2288707650615911,0.296951624800734,0.326916516038958,0.22671372946952936,0.27714946501484505,0.2312598439878233,0.3262916716857568],\"sugars_100g\":[8.441920529801324,11.460301864801847,11.597624999999999,9.662658472608353,10.123936227951157,10.459540184049082,8.646551724137932,8.206090851334181,10.002664860797589,9.512140030441396,11.773546596036292]},\"selected\":{\"id\":\"4899\",\"type\":\"Selection\"},\"selection_policy\":{\"id\":\"4900\",\"type\":\"UnionRenderers\"}},\"id\":\"4874\",\"type\":\"ColumnDataSource\"},{\"attributes\":{\"label\":{\"value\":\"sodium\"},\"renderers\":[{\"id\":\"4907\",\"type\":\"GlyphRenderer\"}]},\"id\":\"4918\",\"type\":\"LegendItem\"},{\"attributes\":{\"fill_color\":{\"value\":\"#bebada\"},\"line_color\":{\"value\":\"#bebada\"},\"top\":{\"field\":\"saturated-fat_100g\"},\"width\":{\"value\":0.4},\"x\":{\"field\":\"country\",\"transform\":{\"id\":\"4887\",\"type\":\"Dodge\"}}},\"id\":\"4890\",\"type\":\"VBar\"},{\"attributes\":{\"formatter\":{\"id\":\"4881\",\"type\":\"CategoricalTickFormatter\"},\"ticker\":{\"id\":\"4864\",\"type\":\"CategoricalTicker\"}},\"id\":\"4863\",\"type\":\"CategoricalAxis\"},{\"attributes\":{},\"id\":\"4861\",\"type\":\"LinearScale\"},{\"attributes\":{},\"id\":\"4917\",\"type\":\"UnionRenderers\"},{\"attributes\":{},\"id\":\"4864\",\"type\":\"CategoricalTicker\"},{\"attributes\":{\"data_source\":{\"id\":\"4874\",\"type\":\"ColumnDataSource\"},\"glyph\":{\"id\":\"4876\",\"type\":\"VBar\"},\"hover_glyph\":null,\"muted_glyph\":null,\"nonselection_glyph\":{\"id\":\"4877\",\"type\":\"VBar\"},\"selection_glyph\":null,\"view\":{\"id\":\"4879\",\"type\":\"CDSView\"}},\"id\":\"4878\",\"type\":\"GlyphRenderer\"},{\"attributes\":{\"callback\":null,\"factors\":[\"Australia\",\"Belgium\",\"Canada\",\"France\",\"Germany\",\"Italy\",\"Russia\",\"Spain\",\"Switzerland\",\"UK\",\"US\"],\"range_padding\":0.1},\"id\":\"4855\",\"type\":\"FactorRange\"},{\"attributes\":{\"dimension\":1,\"ticker\":{\"id\":\"4868\",\"type\":\"BasicTicker\"}},\"id\":\"4871\",\"type\":\"Grid\"}],\"root_ids\":[\"4852\"]},\"title\":\"Bokeh Application\",\"version\":\"1.4.0\"}};\n",
       "  var render_items = [{\"docid\":\"d7754b17-a83b-4a8b-8d08-71118044458a\",\"roots\":{\"4852\":\"f71f774e-cca1-4d99-9cae-88790cdefc97\"}}];\n",
       "  root.Bokeh.embed.embed_items_notebook(docs_json, render_items);\n",
       "\n",
       "  }\n",
       "  if (root.Bokeh !== undefined) {\n",
       "    embed_document(root);\n",
       "  } else {\n",
       "    var attempts = 0;\n",
       "    var timer = setInterval(function(root) {\n",
       "      if (root.Bokeh !== undefined) {\n",
       "        clearInterval(timer);\n",
       "        embed_document(root);\n",
       "      } else {\n",
       "        attempts++;\n",
       "        if (attempts > 100) {\n",
       "          clearInterval(timer);\n",
       "          console.log(\"Bokeh: ERROR: Unable to run BokehJS code because BokehJS library is missing\");\n",
       "        }\n",
       "      }\n",
       "    }, 10, root)\n",
       "  }\n",
       "})(window);"
      ],
      "application/vnd.bokehjs_exec.v0+json": ""
     },
     "metadata": {
      "application/vnd.bokehjs_exec.v0+json": {
       "id": "4852"
      }
     },
     "output_type": "display_data"
    },
    {
     "data": {
      "text/html": [
       "\n",
       "\n",
       "\n",
       "\n",
       "\n",
       "\n",
       "  <div class=\"bk-root\" id=\"704e77dd-9fce-48fe-9366-732ce1a360db\" data-root-id=\"4919\"></div>\n"
      ]
     },
     "metadata": {},
     "output_type": "display_data"
    },
    {
     "data": {
      "application/javascript": [
       "(function(root) {\n",
       "  function embed_document(root) {\n",
       "    \n",
       "  var docs_json = {\"52f2d0f7-79b2-4589-ab3e-d9a66c742de3\":{\"roots\":{\"references\":[{\"attributes\":{\"below\":[{\"id\":\"4928\",\"type\":\"CategoricalAxis\"}],\"center\":[{\"id\":\"4931\",\"type\":\"Grid\"},{\"id\":\"4936\",\"type\":\"Grid\"},{\"id\":\"4951\",\"type\":\"Legend\"}],\"left\":[{\"id\":\"4932\",\"type\":\"LinearAxis\"}],\"plot_height\":250,\"plot_width\":800,\"renderers\":[{\"id\":\"4943\",\"type\":\"GlyphRenderer\"},{\"id\":\"4958\",\"type\":\"GlyphRenderer\"}],\"title\":{\"id\":\"4945\",\"type\":\"Title\"},\"toolbar\":{\"id\":\"4937\",\"type\":\"Toolbar\"},\"toolbar_location\":null,\"x_range\":{\"id\":\"4920\",\"type\":\"FactorRange\"},\"x_scale\":{\"id\":\"4924\",\"type\":\"CategoricalScale\"},\"y_range\":{\"id\":\"4922\",\"type\":\"Range1d\"},\"y_scale\":{\"id\":\"4926\",\"type\":\"LinearScale\"}},\"id\":\"4919\",\"subtype\":\"Figure\",\"type\":\"Plot\"},{\"attributes\":{\"callback\":null,\"factors\":[\"Australia\",\"Belgium\",\"Canada\",\"France\",\"Germany\",\"Italy\",\"Russia\",\"Spain\",\"Switzerland\",\"UK\",\"US\"],\"range_padding\":0.1},\"id\":\"4920\",\"type\":\"FactorRange\"},{\"attributes\":{\"range\":{\"id\":\"4855\",\"type\":\"FactorRange\"},\"value\":0.2},\"id\":\"4953\",\"type\":\"Dodge\"},{\"attributes\":{\"grid_line_color\":null,\"ticker\":{\"id\":\"4929\",\"type\":\"CategoricalTicker\"}},\"id\":\"4931\",\"type\":\"Grid\"},{\"attributes\":{},\"id\":\"4924\",\"type\":\"CategoricalScale\"},{\"attributes\":{\"items\":[{\"id\":\"4952\",\"type\":\"LegendItem\"},{\"id\":\"4968\",\"type\":\"LegendItem\"}],\"location\":\"top_left\",\"orientation\":\"horizontal\"},\"id\":\"4951\",\"type\":\"Legend\"},{\"attributes\":{},\"id\":\"4929\",\"type\":\"CategoricalTicker\"},{\"attributes\":{\"fill_color\":{\"value\":\"#80ced6\"},\"line_color\":{\"value\":\"#80ced6\"},\"top\":{\"field\":\"proteins_100g\"},\"width\":{\"value\":0.4},\"x\":{\"field\":\"country\",\"transform\":{\"id\":\"4938\",\"type\":\"Dodge\"}}},\"id\":\"4941\",\"type\":\"VBar\"},{\"attributes\":{\"label\":{\"value\":\"protein\"},\"renderers\":[{\"id\":\"4943\",\"type\":\"GlyphRenderer\"}]},\"id\":\"4952\",\"type\":\"LegendItem\"},{\"attributes\":{\"fill_alpha\":{\"value\":0.1},\"fill_color\":{\"value\":\"#1f77b4\"},\"line_alpha\":{\"value\":0.1},\"line_color\":{\"value\":\"#1f77b4\"},\"top\":{\"field\":\"proteins_100g\"},\"width\":{\"value\":0.4},\"x\":{\"field\":\"country\",\"transform\":{\"id\":\"4938\",\"type\":\"Dodge\"}}},\"id\":\"4942\",\"type\":\"VBar\"},{\"attributes\":{\"data_source\":{\"id\":\"4954\",\"type\":\"ColumnDataSource\"},\"glyph\":{\"id\":\"4956\",\"type\":\"VBar\"},\"hover_glyph\":null,\"muted_glyph\":null,\"nonselection_glyph\":{\"id\":\"4957\",\"type\":\"VBar\"},\"selection_glyph\":null,\"view\":{\"id\":\"4959\",\"type\":\"CDSView\"}},\"id\":\"4958\",\"type\":\"GlyphRenderer\"},{\"attributes\":{},\"id\":\"4933\",\"type\":\"BasicTicker\"},{\"attributes\":{\"label\":{\"value\":\"fiber\"},\"renderers\":[{\"id\":\"4958\",\"type\":\"GlyphRenderer\"}]},\"id\":\"4968\",\"type\":\"LegendItem\"},{\"attributes\":{},\"id\":\"5330\",\"type\":\"UnionRenderers\"},{\"attributes\":{},\"id\":\"4949\",\"type\":\"BasicTickFormatter\"},{\"attributes\":{\"callback\":null,\"end\":10.857586206896553},\"id\":\"4922\",\"type\":\"Range1d\"},{\"attributes\":{\"callback\":null,\"data\":{\"country\":[\"Australia\",\"Belgium\",\"Canada\",\"France\",\"Germany\",\"Italy\",\"Russia\",\"Spain\",\"Switzerland\",\"UK\",\"US\"],\"fiber_100g\":[2.8472185430463592,2.0752857808857823,1.9537447916666668,1.952129756745723,2.5798301899592953,2.5053527607361947,2.455172413793104,2.6684607115629,2.0937647855530512,1.9605121765601228,1.9930737141560722],\"proteins_100g\":[5.444966887417219,5.312090792540795,5.820510416666669,5.97244634096482,6.122704884667577,6.771380368098159,7.857586206896553,4.882877064803051,6.252377727614746,6.423934550989344,6.173363949898934],\"saturated-fat_100g\":[1.8954039735099328,3.322999999999995,3.3633234375,3.0323458877760396,3.034590841248298,3.043254601226995,4.612672413793104,2.280025412960609,3.2998491948833673,3.2096948249619413,3.1737457844141392],\"sodium_100g\":[0.24736753663242425,0.24875348741809344,0.2672840994094487,0.2496065836645345,0.2288707650615911,0.296951624800734,0.326916516038958,0.22671372946952936,0.27714946501484505,0.2312598439878233,0.3262916716857568],\"sugars_100g\":[8.441920529801324,11.460301864801847,11.597624999999999,9.662658472608353,10.123936227951157,10.459540184049082,8.646551724137932,8.206090851334181,10.002664860797589,9.512140030441396,11.773546596036292]},\"selected\":{\"id\":\"5329\",\"type\":\"Selection\"},\"selection_policy\":{\"id\":\"5330\",\"type\":\"UnionRenderers\"}},\"id\":\"4954\",\"type\":\"ColumnDataSource\"},{\"attributes\":{},\"id\":\"5329\",\"type\":\"Selection\"},{\"attributes\":{},\"id\":\"4926\",\"type\":\"LinearScale\"},{\"attributes\":{},\"id\":\"4947\",\"type\":\"CategoricalTickFormatter\"},{\"attributes\":{\"formatter\":{\"id\":\"4947\",\"type\":\"CategoricalTickFormatter\"},\"ticker\":{\"id\":\"4929\",\"type\":\"CategoricalTicker\"}},\"id\":\"4928\",\"type\":\"CategoricalAxis\"},{\"attributes\":{\"dimension\":1,\"ticker\":{\"id\":\"4933\",\"type\":\"BasicTicker\"}},\"id\":\"4936\",\"type\":\"Grid\"},{\"attributes\":{\"fill_alpha\":{\"value\":0.1},\"fill_color\":{\"value\":\"#1f77b4\"},\"line_alpha\":{\"value\":0.1},\"line_color\":{\"value\":\"#1f77b4\"},\"top\":{\"field\":\"fiber_100g\"},\"width\":{\"value\":0.4},\"x\":{\"field\":\"country\",\"transform\":{\"id\":\"4953\",\"type\":\"Dodge\"}}},\"id\":\"4957\",\"type\":\"VBar\"},{\"attributes\":{},\"id\":\"4967\",\"type\":\"UnionRenderers\"},{\"attributes\":{\"axis_label\":\"Mean Amount Per 100g\",\"formatter\":{\"id\":\"4949\",\"type\":\"BasicTickFormatter\"},\"ticker\":{\"id\":\"4933\",\"type\":\"BasicTicker\"}},\"id\":\"4932\",\"type\":\"LinearAxis\"},{\"attributes\":{\"data_source\":{\"id\":\"4939\",\"type\":\"ColumnDataSource\"},\"glyph\":{\"id\":\"4941\",\"type\":\"VBar\"},\"hover_glyph\":null,\"muted_glyph\":null,\"nonselection_glyph\":{\"id\":\"4942\",\"type\":\"VBar\"},\"selection_glyph\":null,\"view\":{\"id\":\"4944\",\"type\":\"CDSView\"}},\"id\":\"4943\",\"type\":\"GlyphRenderer\"},{\"attributes\":{\"source\":{\"id\":\"4954\",\"type\":\"ColumnDataSource\"}},\"id\":\"4959\",\"type\":\"CDSView\"},{\"attributes\":{\"range\":{\"id\":\"4855\",\"type\":\"FactorRange\"},\"value\":0.1},\"id\":\"4938\",\"type\":\"Dodge\"},{\"attributes\":{},\"id\":\"4966\",\"type\":\"Selection\"},{\"attributes\":{\"active_drag\":\"auto\",\"active_inspect\":\"auto\",\"active_multi\":null,\"active_scroll\":\"auto\",\"active_tap\":\"auto\"},\"id\":\"4937\",\"type\":\"Toolbar\"},{\"attributes\":{\"fill_color\":{\"value\":\"#d5f4e6\"},\"line_color\":{\"value\":\"#d5f4e6\"},\"top\":{\"field\":\"fiber_100g\"},\"width\":{\"value\":0.4},\"x\":{\"field\":\"country\",\"transform\":{\"id\":\"4953\",\"type\":\"Dodge\"}}},\"id\":\"4956\",\"type\":\"VBar\"},{\"attributes\":{\"text\":\"\"},\"id\":\"4945\",\"type\":\"Title\"},{\"attributes\":{\"callback\":null,\"data\":{\"country\":[\"Australia\",\"Belgium\",\"Canada\",\"France\",\"Germany\",\"Italy\",\"Russia\",\"Spain\",\"Switzerland\",\"UK\",\"US\"],\"fiber_100g\":[2.8472185430463592,2.0752857808857823,1.9537447916666668,1.952129756745723,2.5798301899592953,2.5053527607361947,2.455172413793104,2.6684607115629,2.0937647855530512,1.9605121765601228,1.9930737141560722],\"proteins_100g\":[5.444966887417219,5.312090792540795,5.820510416666669,5.97244634096482,6.122704884667577,6.771380368098159,7.857586206896553,4.882877064803051,6.252377727614746,6.423934550989344,6.173363949898934],\"saturated-fat_100g\":[1.8954039735099328,3.322999999999995,3.3633234375,3.0323458877760396,3.034590841248298,3.043254601226995,4.612672413793104,2.280025412960609,3.2998491948833673,3.2096948249619413,3.1737457844141392],\"sodium_100g\":[0.24736753663242425,0.24875348741809344,0.2672840994094487,0.2496065836645345,0.2288707650615911,0.296951624800734,0.326916516038958,0.22671372946952936,0.27714946501484505,0.2312598439878233,0.3262916716857568],\"sugars_100g\":[8.441920529801324,11.460301864801847,11.597624999999999,9.662658472608353,10.123936227951157,10.459540184049082,8.646551724137932,8.206090851334181,10.002664860797589,9.512140030441396,11.773546596036292]},\"selected\":{\"id\":\"4966\",\"type\":\"Selection\"},\"selection_policy\":{\"id\":\"4967\",\"type\":\"UnionRenderers\"}},\"id\":\"4939\",\"type\":\"ColumnDataSource\"},{\"attributes\":{\"source\":{\"id\":\"4939\",\"type\":\"ColumnDataSource\"}},\"id\":\"4944\",\"type\":\"CDSView\"},{\"attributes\":{\"callback\":null,\"factors\":[\"Australia\",\"Belgium\",\"Canada\",\"France\",\"Germany\",\"Italy\",\"Russia\",\"Spain\",\"Switzerland\",\"UK\",\"US\"],\"range_padding\":0.1},\"id\":\"4855\",\"type\":\"FactorRange\"}],\"root_ids\":[\"4919\"]},\"title\":\"Bokeh Application\",\"version\":\"1.4.0\"}};\n",
       "  var render_items = [{\"docid\":\"52f2d0f7-79b2-4589-ab3e-d9a66c742de3\",\"roots\":{\"4919\":\"704e77dd-9fce-48fe-9366-732ce1a360db\"}}];\n",
       "  root.Bokeh.embed.embed_items_notebook(docs_json, render_items);\n",
       "\n",
       "  }\n",
       "  if (root.Bokeh !== undefined) {\n",
       "    embed_document(root);\n",
       "  } else {\n",
       "    var attempts = 0;\n",
       "    var timer = setInterval(function(root) {\n",
       "      if (root.Bokeh !== undefined) {\n",
       "        clearInterval(timer);\n",
       "        embed_document(root);\n",
       "      } else {\n",
       "        attempts++;\n",
       "        if (attempts > 100) {\n",
       "          clearInterval(timer);\n",
       "          console.log(\"Bokeh: ERROR: Unable to run BokehJS code because BokehJS library is missing\");\n",
       "        }\n",
       "      }\n",
       "    }, 10, root)\n",
       "  }\n",
       "})(window);"
      ],
      "application/vnd.bokehjs_exec.v0+json": ""
     },
     "metadata": {
      "application/vnd.bokehjs_exec.v0+json": {
       "id": "4919"
      }
     },
     "output_type": "display_data"
    },
    {
     "data": {
      "text/plain": [
       "'C:\\\\Users\\\\india\\\\Documents\\\\Projects\\\\plot3.png'"
      ]
     },
     "execution_count": 75,
     "metadata": {},
     "output_type": "execute_result"
    }
   ],
   "source": [
    "#focusing on mean nutrient value per product by country \n",
    "nutr = df.groupby('country',as_index=False)[['sugars_100g','saturated-fat_100g','sodium_100g','proteins_100g','fiber_100g']].agg('mean')\n",
    "data = nutr.to_dict(orient='list')\n",
    "country = nutr['country'].tolist()\n",
    "\n",
    "#get max possible value of plotted columns with some offset\n",
    "p = figure(x_range=country, y_range=(0, nutr[['sugars_100g','saturated-fat_100g','sodium_100g']].values.max() + 3), \n",
    "           plot_height=250, title=\"Nutritional Content By Country\", plot_width = 800,\n",
    "           toolbar_location=None, tools=\"\", y_axis_label = 'Mean Amount Per 100g')\n",
    "\n",
    "p.vbar(x=dodge('country', -0.1, range=p.x_range), top='sugars_100g', width=0.4, source=ColumnDataSource(data),\n",
    "       color=Set3[8][7], legend_label=\"sugars\")\n",
    "\n",
    "p.vbar(x=dodge('country', 0, range=p.x_range), top='saturated-fat_100g', width=0.4, source=ColumnDataSource(data),\n",
    "       color=Set3[4][2], legend_label=\"saturated fat\")\n",
    "\n",
    "p.vbar(x=dodge('country', 0.1, range=p.x_range), top='sodium_100g', width=0.4, source=ColumnDataSource(data),\n",
    "       color=Set3[4][3], legend_label=\"sodium\")\n",
    "\n",
    "p.x_range.range_padding = 0.1\n",
    "p.xgrid.grid_line_color = None\n",
    "p.legend.location = \"top_left\"\n",
    "p.legend.orientation = \"horizontal\"\n",
    "\n",
    "\n",
    "#get max possible value of plotted columns with some offset\n",
    "h = figure(x_range=country, y_range=(0, nutr[['proteins_100g','fiber_100g']].values.max() + 3), \n",
    "           plot_height=250, plot_width=800,\n",
    "           toolbar_location=None, tools=\"\", y_axis_label = 'Mean Amount Per 100g')\n",
    "\n",
    "h.vbar(x=dodge('country', 0.1, range=p.x_range), top='proteins_100g', width=0.4, source=ColumnDataSource(data),\n",
    "       color='#80ced6', legend_label='protein')\n",
    "\n",
    "h.vbar(x=dodge('country',  0.2,  range=p.x_range), top='fiber_100g', width=0.4, source=ColumnDataSource(data),\n",
    "       color='#d5f4e6',legend_label = \"fiber\")\n",
    "\n",
    "\n",
    "h.x_range.range_padding = 0.1\n",
    "h.xgrid.grid_line_color = None\n",
    "h.legend.location = \"top_left\"\n",
    "h.legend.orientation = \"horizontal\"\n",
    "\n",
    "show(p)\n",
    "show(h)\n",
    "\n",
    "export_png(p, filename=\"plot2.png\")\n",
    "export_png(h, filename=\"plot3.png\")"
   ]
  },
  {
   "cell_type": "markdown",
   "metadata": {},
   "source": [
    "Sugar has fairly detrimental affects on health. It can lead to weight gain, increased risk of type 2 Diabetes, food addictions, and chronic digestive issues. Saturated fats can causes increases in harmful LDL cholesterol levels, create inflammation, and contribute to insulin resistance. Excess sodium can lead to elevated blood pressure and cause varying health problems. \n",
    "\n",
    "Protein is essential within a diet as it is used by our bodies to build and repair tissues. Our body is unable to store protein and needs relatively large quantities of it. Fiber aids our bodies in regulating digestion and lowers cholesterol levels. It is recommended to eat foods high in fiber to help achieve a healthy weight. \n",
    "\n",
    "In general, most countries products tend to have a fairly high average sugar content per product with the US, Canada, and Belgium taking the lead. Russia has both the highest average protein and saturated fat content per 100g. \n",
    "\n",
    "*Sources at Bottom of Report*\n",
    "\n",
    "Sources: \n",
    "https://www.webmd.com/diabetes/features/how-sugar-affects-your-body\n",
    "https://www.heart.org/en/healthy-living/healthy-eating/eat-smart/fats/saturated-fats\n",
    "https://www.mayoclinic.org/healthy-lifestyle/nutrition-and-healthy-eating/in-depth/fiber/art-20043983"
   ]
  },
  {
   "cell_type": "markdown",
   "metadata": {},
   "source": [
    "\n",
    "### Let's Look At The Popularity of Alternative Diets By Country\n",
    "\n",
    "If a product fits a vegetarian diet, than it contains no animal meat products. If it fits a vegan diet, it contains no animal or dairy products. Foods that are vegan are also vegetarian.\n",
    "\n",
    "In the data quality file, I used categorized the foods by their diet type. Let's use these tags to discovery which countries have preferences for the different diets. "
   ]
  },
  {
   "cell_type": "code",
   "execution_count": 25,
   "metadata": {},
   "outputs": [],
   "source": [
    "diets = df[df['Special Diet']!= 'Not Specified']\n",
    "\n",
    "#gives us proportion of popularity of each diet to normalize for amount of products per country\n",
    "diets2 = pd.crosstab(diets['country'],diets['Special Diet']).apply(lambda r: r/r.sum(), axis=1)"
   ]
  },
  {
   "cell_type": "code",
   "execution_count": 76,
   "metadata": {},
   "outputs": [
    {
     "data": {
      "text/html": [
       "\n",
       "\n",
       "\n",
       "\n",
       "\n",
       "\n",
       "  <div class=\"bk-root\" id=\"50959ee2-a10d-4600-b518-0f27f0e16b22\" data-root-id=\"5667\"></div>\n"
      ]
     },
     "metadata": {},
     "output_type": "display_data"
    },
    {
     "data": {
      "application/javascript": [
       "(function(root) {\n",
       "  function embed_document(root) {\n",
       "    \n",
       "  var docs_json = {\"0473ab20-e52c-4653-8c0b-951e33098ff6\":{\"roots\":{\"references\":[{\"attributes\":{\"below\":[{\"id\":\"5677\",\"type\":\"LinearAxis\"}],\"center\":[{\"id\":\"5681\",\"type\":\"Grid\"},{\"id\":\"5685\",\"type\":\"Grid\"},{\"id\":\"5710\",\"type\":\"Legend\"}],\"left\":[{\"id\":\"5682\",\"type\":\"CategoricalAxis\"}],\"plot_width\":800,\"renderers\":[{\"id\":\"5702\",\"type\":\"GlyphRenderer\"},{\"id\":\"5715\",\"type\":\"GlyphRenderer\"},{\"id\":\"5729\",\"type\":\"GlyphRenderer\"},{\"id\":\"5745\",\"type\":\"GlyphRenderer\"}],\"title\":{\"id\":\"5668\",\"type\":\"Title\"},\"toolbar\":{\"id\":\"5692\",\"type\":\"Toolbar\"},\"x_range\":{\"id\":\"5670\",\"type\":\"DataRange1d\"},\"x_scale\":{\"id\":\"5673\",\"type\":\"LinearScale\"},\"y_range\":{\"id\":\"5666\",\"type\":\"FactorRange\"},\"y_scale\":{\"id\":\"5675\",\"type\":\"CategoricalScale\"}},\"id\":\"5667\",\"subtype\":\"Figure\",\"type\":\"Plot\"},{\"attributes\":{},\"id\":\"5686\",\"type\":\"PanTool\"},{\"attributes\":{},\"id\":\"5689\",\"type\":\"SaveTool\"},{\"attributes\":{\"fill_color\":{\"value\":\"#96ceb4\"},\"height\":{\"value\":0.2},\"left\":{\"field\":\"left\"},\"line_color\":{\"value\":\"#96ceb4\"},\"right\":{\"field\":\"right\"},\"y\":{\"field\":\"y\"}},\"id\":\"5727\",\"type\":\"HBar\"},{\"attributes\":{\"fill_color\":{\"value\":\"#ffeead\"},\"height\":{\"value\":0.2},\"left\":{\"field\":\"left\"},\"line_color\":{\"value\":\"#ffeead\"},\"right\":{\"field\":\"right\"},\"y\":{\"field\":\"y\"}},\"id\":\"5743\",\"type\":\"HBar\"},{\"attributes\":{},\"id\":\"5757\",\"type\":\"Selection\"},{\"attributes\":{\"fill_color\":{\"value\":\"#ffcc5c\"},\"height\":{\"value\":0.2},\"left\":{\"field\":\"left\"},\"line_color\":{\"value\":\"#ffcc5c\"},\"right\":{\"field\":\"right\"},\"y\":{\"field\":\"y\"}},\"id\":\"5713\",\"type\":\"HBar\"},{\"attributes\":{\"dimension\":1,\"ticker\":{\"id\":\"5683\",\"type\":\"CategoricalTicker\"}},\"id\":\"5685\",\"type\":\"Grid\"},{\"attributes\":{\"label\":{\"value\":\"Meat\"},\"renderers\":[{\"id\":\"5715\",\"type\":\"GlyphRenderer\"}]},\"id\":\"5725\",\"type\":\"LegendItem\"},{\"attributes\":{\"source\":{\"id\":\"5712\",\"type\":\"ColumnDataSource\"}},\"id\":\"5716\",\"type\":\"CDSView\"},{\"attributes\":{\"fill_color\":{\"value\":\"#ff6f69\"},\"height\":{\"value\":0.2},\"line_color\":{\"value\":\"#ff6f69\"},\"right\":{\"field\":\"right\"},\"y\":{\"field\":\"y\"}},\"id\":\"5700\",\"type\":\"HBar\"},{\"attributes\":{\"callback\":null,\"data\":{\"left\":{\"__ndarray__\":\"t23btm3bxj/bMM1d8FfhP/Maymsor+E/IJTcKVo43T8MF8H+JfnQP27btm3btuU/AAAAAAAA8D8t86OGRnqLP1ZGCBAvq9s/FlECFlECxj/lAl5voz/kPw==\",\"dtype\":\"float64\",\"shape\":[11]},\"right\":{\"__ndarray__\":\"kiRJkiRJoj/BX8UJKXnGP0N5DeU1lMc/aoLxVvY52j+aK87v7aasP5IkSZIkSbI/AAAAAAAAAACCKy+3kHyAP93sKiMEiMc/8fDw8PDw0D8X8Hob/aHAPw==\",\"dtype\":\"float64\",\"shape\":[11]},\"y\":[\"Australia\",\"Belgium\",\"Canada\",\"France\",\"Germany\",\"Italy\",\"Russia\",\"Spain\",\"Switzerland\",\"UK\",\"US\"]},\"selected\":{\"id\":\"5739\",\"type\":\"Selection\"},\"selection_policy\":{\"id\":\"5740\",\"type\":\"UnionRenderers\"}},\"id\":\"5712\",\"type\":\"ColumnDataSource\"},{\"attributes\":{\"overlay\":{\"id\":\"5709\",\"type\":\"BoxAnnotation\"}},\"id\":\"5688\",\"type\":\"BoxZoomTool\"},{\"attributes\":{},\"id\":\"5690\",\"type\":\"ResetTool\"},{\"attributes\":{\"source\":{\"id\":\"5742\",\"type\":\"ColumnDataSource\"}},\"id\":\"5746\",\"type\":\"CDSView\"},{\"attributes\":{\"active_drag\":\"auto\",\"active_inspect\":\"auto\",\"active_multi\":null,\"active_scroll\":\"auto\",\"active_tap\":\"auto\",\"tools\":[{\"id\":\"5686\",\"type\":\"PanTool\"},{\"id\":\"5687\",\"type\":\"WheelZoomTool\"},{\"id\":\"5688\",\"type\":\"BoxZoomTool\"},{\"id\":\"5689\",\"type\":\"SaveTool\"},{\"id\":\"5690\",\"type\":\"ResetTool\"},{\"id\":\"5691\",\"type\":\"HelpTool\"}]},\"id\":\"5692\",\"type\":\"Toolbar\"},{\"attributes\":{\"label\":{\"value\":\"Vegetarian\"},\"renderers\":[{\"id\":\"5745\",\"type\":\"GlyphRenderer\"}]},\"id\":\"5759\",\"type\":\"LegendItem\"},{\"attributes\":{\"label\":{\"value\":\"Vegan\"},\"renderers\":[{\"id\":\"5729\",\"type\":\"GlyphRenderer\"}]},\"id\":\"5741\",\"type\":\"LegendItem\"},{\"attributes\":{\"data_source\":{\"id\":\"5699\",\"type\":\"ColumnDataSource\"},\"glyph\":{\"id\":\"5700\",\"type\":\"HBar\"},\"hover_glyph\":null,\"muted_glyph\":null,\"nonselection_glyph\":{\"id\":\"5701\",\"type\":\"HBar\"},\"selection_glyph\":null,\"view\":{\"id\":\"5703\",\"type\":\"CDSView\"}},\"id\":\"5702\",\"type\":\"GlyphRenderer\"},{\"attributes\":{\"text\":\"Special Diet Popularity\"},\"id\":\"5668\",\"type\":\"Title\"},{\"attributes\":{},\"id\":\"5678\",\"type\":\"BasicTicker\"},{\"attributes\":{\"source\":{\"id\":\"5726\",\"type\":\"ColumnDataSource\"}},\"id\":\"5730\",\"type\":\"CDSView\"},{\"attributes\":{},\"id\":\"5758\",\"type\":\"UnionRenderers\"},{\"attributes\":{\"items\":[{\"id\":\"5711\",\"type\":\"LegendItem\"},{\"id\":\"5725\",\"type\":\"LegendItem\"},{\"id\":\"5741\",\"type\":\"LegendItem\"},{\"id\":\"5759\",\"type\":\"LegendItem\"}]},\"id\":\"5710\",\"type\":\"Legend\"},{\"attributes\":{\"ticker\":{\"id\":\"5678\",\"type\":\"BasicTicker\"}},\"id\":\"5681\",\"type\":\"Grid\"},{\"attributes\":{\"data_source\":{\"id\":\"5742\",\"type\":\"ColumnDataSource\"},\"glyph\":{\"id\":\"5743\",\"type\":\"HBar\"},\"hover_glyph\":null,\"muted_glyph\":null,\"nonselection_glyph\":{\"id\":\"5744\",\"type\":\"HBar\"},\"selection_glyph\":null,\"view\":{\"id\":\"5746\",\"type\":\"CDSView\"}},\"id\":\"5745\",\"type\":\"GlyphRenderer\"},{\"attributes\":{\"axis_label\":\"Proportion of Products\",\"formatter\":{\"id\":\"5705\",\"type\":\"BasicTickFormatter\"},\"ticker\":{\"id\":\"5678\",\"type\":\"BasicTicker\"}},\"id\":\"5677\",\"type\":\"LinearAxis\"},{\"attributes\":{},\"id\":\"5675\",\"type\":\"CategoricalScale\"},{\"attributes\":{},\"id\":\"5691\",\"type\":\"HelpTool\"},{\"attributes\":{},\"id\":\"5739\",\"type\":\"Selection\"},{\"attributes\":{},\"id\":\"5925\",\"type\":\"Selection\"},{\"attributes\":{\"data_source\":{\"id\":\"5712\",\"type\":\"ColumnDataSource\"},\"glyph\":{\"id\":\"5713\",\"type\":\"HBar\"},\"hover_glyph\":null,\"muted_glyph\":null,\"nonselection_glyph\":{\"id\":\"5714\",\"type\":\"HBar\"},\"selection_glyph\":null,\"view\":{\"id\":\"5716\",\"type\":\"CDSView\"}},\"id\":\"5715\",\"type\":\"GlyphRenderer\"},{\"attributes\":{\"fill_alpha\":{\"value\":0.1},\"fill_color\":{\"value\":\"#1f77b4\"},\"height\":{\"value\":0.2},\"left\":{\"field\":\"left\"},\"line_alpha\":{\"value\":0.1},\"line_color\":{\"value\":\"#1f77b4\"},\"right\":{\"field\":\"right\"},\"y\":{\"field\":\"y\"}},\"id\":\"5728\",\"type\":\"HBar\"},{\"attributes\":{\"label\":{\"value\":\"Dairy\"},\"renderers\":[{\"id\":\"5702\",\"type\":\"GlyphRenderer\"}]},\"id\":\"5711\",\"type\":\"LegendItem\"},{\"attributes\":{\"axis_label\":\"Country\",\"formatter\":{\"id\":\"5707\",\"type\":\"CategoricalTickFormatter\"},\"ticker\":{\"id\":\"5683\",\"type\":\"CategoricalTicker\"}},\"id\":\"5682\",\"type\":\"CategoricalAxis\"},{\"attributes\":{},\"id\":\"5673\",\"type\":\"LinearScale\"},{\"attributes\":{\"fill_alpha\":{\"value\":0.1},\"fill_color\":{\"value\":\"#1f77b4\"},\"height\":{\"value\":0.2},\"line_alpha\":{\"value\":0.1},\"line_color\":{\"value\":\"#1f77b4\"},\"right\":{\"field\":\"right\"},\"y\":{\"field\":\"y\"}},\"id\":\"5701\",\"type\":\"HBar\"},{\"attributes\":{},\"id\":\"5724\",\"type\":\"UnionRenderers\"},{\"attributes\":{},\"id\":\"5687\",\"type\":\"WheelZoomTool\"},{\"attributes\":{},\"id\":\"5707\",\"type\":\"CategoricalTickFormatter\"},{\"attributes\":{\"callback\":null,\"data\":{\"right\":{\"__ndarray__\":\"t23btm3bxj/bMM1d8FfhP/Maymsor+E/IJTcKVo43T8MF8H+JfnQP27btm3btuU/AAAAAAAA8D8t86OGRnqLP1ZGCBAvq9s/FlECFlECxj/lAl5voz/kPw==\",\"dtype\":\"float64\",\"shape\":[11]},\"y\":[\"Australia\",\"Belgium\",\"Canada\",\"France\",\"Germany\",\"Italy\",\"Russia\",\"Spain\",\"Switzerland\",\"UK\",\"US\"]},\"selected\":{\"id\":\"5723\",\"type\":\"Selection\"},\"selection_policy\":{\"id\":\"5724\",\"type\":\"UnionRenderers\"}},\"id\":\"5699\",\"type\":\"ColumnDataSource\"},{\"attributes\":{\"source\":{\"id\":\"5699\",\"type\":\"ColumnDataSource\"}},\"id\":\"5703\",\"type\":\"CDSView\"},{\"attributes\":{\"callback\":null},\"id\":\"5670\",\"type\":\"DataRange1d\"},{\"attributes\":{},\"id\":\"5705\",\"type\":\"BasicTickFormatter\"},{\"attributes\":{\"callback\":null,\"data\":{\"left\":{\"__ndarray__\":\"kiRJkiRJoj/BX8UJKXnGP0N5DeU1lMc/aoLxVvY52j+aK87v7aasP5IkSZIkSbI/AAAAAAAAAACCKy+3kHyAP93sKiMEiMc/8fDw8PDw0D8X8Hob/aHAPw==\",\"dtype\":\"float64\",\"shape\":[11]},\"right\":{\"__ndarray__\":\"SZIkSZIk2T8j+oDq2Fu7P3kN5TWU19A/2EasS4/5qz9RWr1wEezfP7dt27Zt28Y/AAAAAAAAAABjiWxdDCvuP2AaA6YxYMo/V7ngVrngxj/QcFL35bHFPw==\",\"dtype\":\"float64\",\"shape\":[11]},\"y\":[\"Australia\",\"Belgium\",\"Canada\",\"France\",\"Germany\",\"Italy\",\"Russia\",\"Spain\",\"Switzerland\",\"UK\",\"US\"]},\"selected\":{\"id\":\"5757\",\"type\":\"Selection\"},\"selection_policy\":{\"id\":\"5758\",\"type\":\"UnionRenderers\"}},\"id\":\"5726\",\"type\":\"ColumnDataSource\"},{\"attributes\":{},\"id\":\"5723\",\"type\":\"Selection\"},{\"attributes\":{\"callback\":null,\"factors\":[\"Australia\",\"Belgium\",\"Canada\",\"France\",\"Germany\",\"Italy\",\"Russia\",\"Spain\",\"Switzerland\",\"UK\",\"US\"]},\"id\":\"5666\",\"type\":\"FactorRange\"},{\"attributes\":{\"data_source\":{\"id\":\"5726\",\"type\":\"ColumnDataSource\"},\"glyph\":{\"id\":\"5727\",\"type\":\"HBar\"},\"hover_glyph\":null,\"muted_glyph\":null,\"nonselection_glyph\":{\"id\":\"5728\",\"type\":\"HBar\"},\"selection_glyph\":null,\"view\":{\"id\":\"5730\",\"type\":\"CDSView\"}},\"id\":\"5729\",\"type\":\"GlyphRenderer\"},{\"attributes\":{\"callback\":null,\"data\":{\"left\":{\"__ndarray__\":\"SZIkSZIk2T8j+oDq2Fu7P3kN5TWU19A/2EasS4/5qz9RWr1wEezfP7dt27Zt28Y/AAAAAAAAAABjiWxdDCvuP2AaA6YxYMo/V7ngVrngxj/QcFL35bHFPw==\",\"dtype\":\"float64\",\"shape\":[11]},\"right\":{\"__ndarray__\":\"SZIkSZIk2T/BX8UJKXnGPwAAAAAAAAAAaoLxVvY5tD9gkg+l1QvHP5IkSZIkSbI/AAAAAAAAAAAeosJZhFGiPxdswRZswcY/2Ymd2Imd2D8NJ3VfHluxPw==\",\"dtype\":\"float64\",\"shape\":[11]},\"y\":[\"Australia\",\"Belgium\",\"Canada\",\"France\",\"Germany\",\"Italy\",\"Russia\",\"Spain\",\"Switzerland\",\"UK\",\"US\"]},\"selected\":{\"id\":\"5925\",\"type\":\"Selection\"},\"selection_policy\":{\"id\":\"5926\",\"type\":\"UnionRenderers\"}},\"id\":\"5742\",\"type\":\"ColumnDataSource\"},{\"attributes\":{\"bottom_units\":\"screen\",\"fill_alpha\":{\"value\":0.5},\"fill_color\":{\"value\":\"lightgrey\"},\"left_units\":\"screen\",\"level\":\"overlay\",\"line_alpha\":{\"value\":1.0},\"line_color\":{\"value\":\"black\"},\"line_dash\":[4,4],\"line_width\":{\"value\":2},\"render_mode\":\"css\",\"right_units\":\"screen\",\"top_units\":\"screen\"},\"id\":\"5709\",\"type\":\"BoxAnnotation\"},{\"attributes\":{},\"id\":\"5740\",\"type\":\"UnionRenderers\"},{\"attributes\":{},\"id\":\"5926\",\"type\":\"UnionRenderers\"},{\"attributes\":{\"fill_alpha\":{\"value\":0.1},\"fill_color\":{\"value\":\"#1f77b4\"},\"height\":{\"value\":0.2},\"left\":{\"field\":\"left\"},\"line_alpha\":{\"value\":0.1},\"line_color\":{\"value\":\"#1f77b4\"},\"right\":{\"field\":\"right\"},\"y\":{\"field\":\"y\"}},\"id\":\"5744\",\"type\":\"HBar\"},{\"attributes\":{\"fill_alpha\":{\"value\":0.1},\"fill_color\":{\"value\":\"#1f77b4\"},\"height\":{\"value\":0.2},\"left\":{\"field\":\"left\"},\"line_alpha\":{\"value\":0.1},\"line_color\":{\"value\":\"#1f77b4\"},\"right\":{\"field\":\"right\"},\"y\":{\"field\":\"y\"}},\"id\":\"5714\",\"type\":\"HBar\"},{\"attributes\":{},\"id\":\"5683\",\"type\":\"CategoricalTicker\"}],\"root_ids\":[\"5667\"]},\"title\":\"Bokeh Application\",\"version\":\"1.4.0\"}};\n",
       "  var render_items = [{\"docid\":\"0473ab20-e52c-4653-8c0b-951e33098ff6\",\"roots\":{\"5667\":\"50959ee2-a10d-4600-b518-0f27f0e16b22\"}}];\n",
       "  root.Bokeh.embed.embed_items_notebook(docs_json, render_items);\n",
       "\n",
       "  }\n",
       "  if (root.Bokeh !== undefined) {\n",
       "    embed_document(root);\n",
       "  } else {\n",
       "    var attempts = 0;\n",
       "    var timer = setInterval(function(root) {\n",
       "      if (root.Bokeh !== undefined) {\n",
       "        clearInterval(timer);\n",
       "        embed_document(root);\n",
       "      } else {\n",
       "        attempts++;\n",
       "        if (attempts > 100) {\n",
       "          clearInterval(timer);\n",
       "          console.log(\"Bokeh: ERROR: Unable to run BokehJS code because BokehJS library is missing\");\n",
       "        }\n",
       "      }\n",
       "    }, 10, root)\n",
       "  }\n",
       "})(window);"
      ],
      "application/vnd.bokehjs_exec.v0+json": ""
     },
     "metadata": {
      "application/vnd.bokehjs_exec.v0+json": {
       "id": "5667"
      }
     },
     "output_type": "display_data"
    },
    {
     "data": {
      "text/plain": [
       "'C:\\\\Users\\\\india\\\\Documents\\\\Projects\\\\plot5.png'"
      ]
     },
     "execution_count": 76,
     "metadata": {},
     "output_type": "execute_result"
    }
   ],
   "source": [
    "\n",
    "from bokeh.models.ranges import FactorRange\n",
    "p = figure(title=\"Special Diet Popularity\",\n",
    "           y_axis_label='Country', x_axis_label='Proportion of Products',\n",
    "           y_range = FactorRange(factors=list(diets2.index)),\n",
    "           plot_height=600, plot_width=800)\n",
    "\n",
    "p.hbar(y=diets2.index, left=0, right=diets2['Dairy Product'], height=0.2, color='#ff6f69', legend_label='Dairy')\n",
    "p.hbar(y=diets2.index, left=diets2['Dairy Product'], right=diets2['Meat Product'], height=0.2, color='#ffcc5c', legend_label='Meat')\n",
    "p.hbar(y=diets2.index, left=diets2['Meat Product'], right=diets2['Vegan'], height=0.2, color='#96ceb4', legend_label='Vegan')\n",
    "p.hbar(y=diets2.index, left=diets2['Vegan'], right=diets2['Vegetarian'], height=0.2, color='#ffeead', legend_label='Vegetarian')\n",
    "\n",
    "\n",
    "show(p)\n",
    "export_png(p, filename=\"plot5.png\")"
   ]
  },
  {
   "cell_type": "markdown",
   "metadata": {},
   "source": [
    "The majority of Spain's products in this dataset are vegetarian and no other country comes close. Pretty much all of Russia's products in this dataset are meat products. The US, Italy, and Belgium also offer a lot of meat products while Germany, Australia, Spain, and the UK have very few if any meat products. Australia and France consume a notable number of vegan products.  \n",
    "\n",
    "\n",
    "#### Which countries offer the most organic products?"
   ]
  },
  {
   "cell_type": "code",
   "execution_count": 22,
   "metadata": {},
   "outputs": [],
   "source": [
    "import re\n",
    "\n",
    "df['labels_en'] = df['labels_en'].astype(str)\n",
    "def find_organic(s):\n",
    "    if ('organic' in s['labels_en'].lower()):\n",
    "        return 1\n",
    "    else:\n",
    "        return 0\n",
    "df['organic'] = df.apply(lambda row: find_organic(row), axis=1)\n"
   ]
  },
  {
   "cell_type": "code",
   "execution_count": 77,
   "metadata": {},
   "outputs": [
    {
     "data": {
      "text/html": [
       "\n",
       "\n",
       "\n",
       "\n",
       "\n",
       "\n",
       "  <div class=\"bk-root\" id=\"ccad9aa6-f60d-4d03-b94a-4d6c48fdf097\" data-root-id=\"6195\"></div>\n"
      ]
     },
     "metadata": {},
     "output_type": "display_data"
    },
    {
     "data": {
      "application/javascript": [
       "(function(root) {\n",
       "  function embed_document(root) {\n",
       "    \n",
       "  var docs_json = {\"df14823d-6c47-477b-b3e8-8d137cfad9cd\":{\"roots\":{\"references\":[{\"attributes\":{\"below\":[{\"id\":\"6205\",\"type\":\"CategoricalAxis\"}],\"center\":[{\"id\":\"6208\",\"type\":\"Grid\"},{\"id\":\"6213\",\"type\":\"Grid\"},{\"id\":\"6238\",\"type\":\"Legend\"}],\"left\":[{\"id\":\"6209\",\"type\":\"LinearAxis\"}],\"plot_width\":800,\"renderers\":[{\"id\":\"6230\",\"type\":\"GlyphRenderer\"},{\"id\":\"6243\",\"type\":\"GlyphRenderer\"}],\"title\":{\"id\":\"6196\",\"type\":\"Title\"},\"toolbar\":{\"id\":\"6220\",\"type\":\"Toolbar\"},\"x_range\":{\"id\":\"6194\",\"type\":\"FactorRange\"},\"x_scale\":{\"id\":\"6201\",\"type\":\"CategoricalScale\"},\"y_range\":{\"id\":\"6199\",\"type\":\"DataRange1d\"},\"y_scale\":{\"id\":\"6203\",\"type\":\"LinearScale\"}},\"id\":\"6195\",\"subtype\":\"Figure\",\"type\":\"Plot\"},{\"attributes\":{},\"id\":\"6235\",\"type\":\"BasicTickFormatter\"},{\"attributes\":{\"callback\":null},\"id\":\"6199\",\"type\":\"DataRange1d\"},{\"attributes\":{},\"id\":\"6203\",\"type\":\"LinearScale\"},{\"attributes\":{\"data_source\":{\"id\":\"6240\",\"type\":\"ColumnDataSource\"},\"glyph\":{\"id\":\"6241\",\"type\":\"VBar\"},\"hover_glyph\":null,\"muted_glyph\":null,\"nonselection_glyph\":{\"id\":\"6242\",\"type\":\"VBar\"},\"selection_glyph\":null,\"view\":{\"id\":\"6244\",\"type\":\"CDSView\"}},\"id\":\"6243\",\"type\":\"GlyphRenderer\"},{\"attributes\":{},\"id\":\"6214\",\"type\":\"PanTool\"},{\"attributes\":{},\"id\":\"6217\",\"type\":\"SaveTool\"},{\"attributes\":{\"dimension\":1,\"ticker\":{\"id\":\"6210\",\"type\":\"BasicTicker\"}},\"id\":\"6213\",\"type\":\"Grid\"},{\"attributes\":{},\"id\":\"6233\",\"type\":\"CategoricalTickFormatter\"},{\"attributes\":{},\"id\":\"6429\",\"type\":\"Selection\"},{\"attributes\":{\"source\":{\"id\":\"6227\",\"type\":\"ColumnDataSource\"}},\"id\":\"6231\",\"type\":\"CDSView\"},{\"attributes\":{\"fill_color\":{\"value\":\"#f7cac9\"},\"line_color\":{\"value\":\"#f7cac9\"},\"top\":{\"field\":\"top\"},\"width\":{\"value\":0.2},\"x\":{\"field\":\"x\"}},\"id\":\"6228\",\"type\":\"VBar\"},{\"attributes\":{},\"id\":\"6219\",\"type\":\"HelpTool\"},{\"attributes\":{\"bottom_units\":\"screen\",\"fill_alpha\":{\"value\":0.5},\"fill_color\":{\"value\":\"lightgrey\"},\"left_units\":\"screen\",\"level\":\"overlay\",\"line_alpha\":{\"value\":1.0},\"line_color\":{\"value\":\"black\"},\"line_dash\":[4,4],\"line_width\":{\"value\":2},\"render_mode\":\"css\",\"right_units\":\"screen\",\"top_units\":\"screen\"},\"id\":\"6237\",\"type\":\"BoxAnnotation\"},{\"attributes\":{\"overlay\":{\"id\":\"6237\",\"type\":\"BoxAnnotation\"}},\"id\":\"6216\",\"type\":\"BoxZoomTool\"},{\"attributes\":{\"label\":{\"value\":\"Organic\"},\"renderers\":[{\"id\":\"6230\",\"type\":\"GlyphRenderer\"}]},\"id\":\"6239\",\"type\":\"LegendItem\"},{\"attributes\":{\"source\":{\"id\":\"6240\",\"type\":\"ColumnDataSource\"}},\"id\":\"6244\",\"type\":\"CDSView\"},{\"attributes\":{\"bottom\":{\"field\":\"bottom\"},\"fill_color\":{\"value\":\"#92a8d1\"},\"line_color\":{\"value\":\"#92a8d1\"},\"top\":{\"field\":\"top\"},\"width\":{\"value\":0.2},\"x\":{\"field\":\"x\"}},\"id\":\"6241\",\"type\":\"VBar\"},{\"attributes\":{\"ticker\":{\"id\":\"6206\",\"type\":\"CategoricalTicker\"}},\"id\":\"6208\",\"type\":\"Grid\"},{\"attributes\":{},\"id\":\"6210\",\"type\":\"BasicTicker\"},{\"attributes\":{\"bottom\":{\"field\":\"bottom\"},\"fill_alpha\":{\"value\":0.1},\"fill_color\":{\"value\":\"#1f77b4\"},\"line_alpha\":{\"value\":0.1},\"line_color\":{\"value\":\"#1f77b4\"},\"top\":{\"field\":\"top\"},\"width\":{\"value\":0.2},\"x\":{\"field\":\"x\"}},\"id\":\"6242\",\"type\":\"VBar\"},{\"attributes\":{\"callback\":null,\"data\":{\"bottom\":{\"__ndarray__\":\"/iZ/k7/J7z9MgO16OtbtPwAAAAAAgO0/0KuoIXRO6j/Rh5kGjarlPzd/hVmNIu4/AAAAAAAA8D/6AK9CYXfrP0TQGijT2+4/2+5ru6/t7j8TK84I1/rvPw==\",\"dtype\":\"float64\",\"shape\":[11]},\"top\":{\"__ndarray__\":\"2YBsQDYgez+d/ZMoLE6xPwAAAAAAALQ/wlBdeS/Gxj9e8Mzy5arUP5AMqGcq160/AAAAAAAAAAAZ/EP1eiLCP7n7Un7NQqI/UBJBSQQloT/TtVPH3KNEPw==\",\"dtype\":\"float64\",\"shape\":[11]},\"x\":[\"Australia\",\"Belgium\",\"Canada\",\"France\",\"Germany\",\"Italy\",\"Russia\",\"Spain\",\"Switzerland\",\"UK\",\"US\"]},\"selected\":{\"id\":\"6429\",\"type\":\"Selection\"},\"selection_policy\":{\"id\":\"6430\",\"type\":\"UnionRenderers\"}},\"id\":\"6240\",\"type\":\"ColumnDataSource\"},{\"attributes\":{},\"id\":\"6218\",\"type\":\"ResetTool\"},{\"attributes\":{\"items\":[{\"id\":\"6239\",\"type\":\"LegendItem\"},{\"id\":\"6253\",\"type\":\"LegendItem\"}]},\"id\":\"6238\",\"type\":\"Legend\"},{\"attributes\":{\"data_source\":{\"id\":\"6227\",\"type\":\"ColumnDataSource\"},\"glyph\":{\"id\":\"6228\",\"type\":\"VBar\"},\"hover_glyph\":null,\"muted_glyph\":null,\"nonselection_glyph\":{\"id\":\"6229\",\"type\":\"VBar\"},\"selection_glyph\":null,\"view\":{\"id\":\"6231\",\"type\":\"CDSView\"}},\"id\":\"6230\",\"type\":\"GlyphRenderer\"},{\"attributes\":{\"active_drag\":\"auto\",\"active_inspect\":\"auto\",\"active_multi\":null,\"active_scroll\":\"auto\",\"active_tap\":\"auto\",\"tools\":[{\"id\":\"6214\",\"type\":\"PanTool\"},{\"id\":\"6215\",\"type\":\"WheelZoomTool\"},{\"id\":\"6216\",\"type\":\"BoxZoomTool\"},{\"id\":\"6217\",\"type\":\"SaveTool\"},{\"id\":\"6218\",\"type\":\"ResetTool\"},{\"id\":\"6219\",\"type\":\"HelpTool\"}]},\"id\":\"6220\",\"type\":\"Toolbar\"},{\"attributes\":{\"axis_label\":\"Proportion of Products\",\"formatter\":{\"id\":\"6235\",\"type\":\"BasicTickFormatter\"},\"ticker\":{\"id\":\"6210\",\"type\":\"BasicTicker\"}},\"id\":\"6209\",\"type\":\"LinearAxis\"},{\"attributes\":{},\"id\":\"6206\",\"type\":\"CategoricalTicker\"},{\"attributes\":{\"text\":\"Organic Products By Country\"},\"id\":\"6196\",\"type\":\"Title\"},{\"attributes\":{},\"id\":\"6201\",\"type\":\"CategoricalScale\"},{\"attributes\":{},\"id\":\"6252\",\"type\":\"UnionRenderers\"},{\"attributes\":{},\"id\":\"6430\",\"type\":\"UnionRenderers\"},{\"attributes\":{\"label\":{\"value\":\"Non-Organic\"},\"renderers\":[{\"id\":\"6243\",\"type\":\"GlyphRenderer\"}]},\"id\":\"6253\",\"type\":\"LegendItem\"},{\"attributes\":{\"axis_label\":\"Country\",\"formatter\":{\"id\":\"6233\",\"type\":\"CategoricalTickFormatter\"},\"ticker\":{\"id\":\"6206\",\"type\":\"CategoricalTicker\"}},\"id\":\"6205\",\"type\":\"CategoricalAxis\"},{\"attributes\":{\"callback\":null,\"factors\":[\"Australia\",\"Belgium\",\"Canada\",\"France\",\"Germany\",\"Italy\",\"Russia\",\"Spain\",\"Switzerland\",\"UK\",\"US\"]},\"id\":\"6194\",\"type\":\"FactorRange\"},{\"attributes\":{},\"id\":\"6215\",\"type\":\"WheelZoomTool\"},{\"attributes\":{\"fill_alpha\":{\"value\":0.1},\"fill_color\":{\"value\":\"#1f77b4\"},\"line_alpha\":{\"value\":0.1},\"line_color\":{\"value\":\"#1f77b4\"},\"top\":{\"field\":\"top\"},\"width\":{\"value\":0.2},\"x\":{\"field\":\"x\"}},\"id\":\"6229\",\"type\":\"VBar\"},{\"attributes\":{},\"id\":\"6251\",\"type\":\"Selection\"},{\"attributes\":{\"callback\":null,\"data\":{\"top\":{\"__ndarray__\":\"/iZ/k7/J7z9MgO16OtbtPwAAAAAAgO0/0KuoIXRO6j/Rh5kGjarlPzd/hVmNIu4/AAAAAAAA8D/6AK9CYXfrP0TQGijT2+4/2+5ru6/t7j8TK84I1/rvPw==\",\"dtype\":\"float64\",\"shape\":[11]},\"x\":[\"Australia\",\"Belgium\",\"Canada\",\"France\",\"Germany\",\"Italy\",\"Russia\",\"Spain\",\"Switzerland\",\"UK\",\"US\"]},\"selected\":{\"id\":\"6251\",\"type\":\"Selection\"},\"selection_policy\":{\"id\":\"6252\",\"type\":\"UnionRenderers\"}},\"id\":\"6227\",\"type\":\"ColumnDataSource\"}],\"root_ids\":[\"6195\"]},\"title\":\"Bokeh Application\",\"version\":\"1.4.0\"}};\n",
       "  var render_items = [{\"docid\":\"df14823d-6c47-477b-b3e8-8d137cfad9cd\",\"roots\":{\"6195\":\"ccad9aa6-f60d-4d03-b94a-4d6c48fdf097\"}}];\n",
       "  root.Bokeh.embed.embed_items_notebook(docs_json, render_items);\n",
       "\n",
       "  }\n",
       "  if (root.Bokeh !== undefined) {\n",
       "    embed_document(root);\n",
       "  } else {\n",
       "    var attempts = 0;\n",
       "    var timer = setInterval(function(root) {\n",
       "      if (root.Bokeh !== undefined) {\n",
       "        clearInterval(timer);\n",
       "        embed_document(root);\n",
       "      } else {\n",
       "        attempts++;\n",
       "        if (attempts > 100) {\n",
       "          clearInterval(timer);\n",
       "          console.log(\"Bokeh: ERROR: Unable to run BokehJS code because BokehJS library is missing\");\n",
       "        }\n",
       "      }\n",
       "    }, 10, root)\n",
       "  }\n",
       "})(window);"
      ],
      "application/vnd.bokehjs_exec.v0+json": ""
     },
     "metadata": {
      "application/vnd.bokehjs_exec.v0+json": {
       "id": "6195"
      }
     },
     "output_type": "display_data"
    },
    {
     "data": {
      "text/plain": [
       "'C:\\\\Users\\\\india\\\\Documents\\\\Projects\\\\plot6.png'"
      ]
     },
     "execution_count": 77,
     "metadata": {},
     "output_type": "execute_result"
    }
   ],
   "source": [
    "country = df['country'].tolist()\n",
    "\n",
    "org = pd.crosstab(df['country'],df['organic']).apply(lambda r: r/r.sum(), axis=1)\n",
    "\n",
    "from bokeh.models.ranges import FactorRange\n",
    "p = figure(title=\"Organic Products By Country\",\n",
    "           x_axis_label='Country', y_axis_label='Proportion of Products',\n",
    "           x_range = FactorRange(factors=list(org.index)),\n",
    "           plot_height=600, plot_width=800)\n",
    "\n",
    "p.vbar(x=org.index, bottom=0, top=org[0], width=0.2, color='#f7cac9', legend_label='Organic')\n",
    "p.vbar(x=org.index, bottom=org[0], top=org[1], width=0.2, color='#92a8d1', legend_label='Non-Organic')\n",
    "\n",
    "show(p)\n",
    "export_png(p, filename=\"plot6.png\")\n",
    "\n"
   ]
  },
  {
   "cell_type": "markdown",
   "metadata": {},
   "source": [
    "The European countries have the greatest proportion of organic products in this dataset. About 1/3 of all of Germany's products are sourced organically. "
   ]
  },
  {
   "cell_type": "markdown",
   "metadata": {},
   "source": [
    "### What ingredients are shared between the countries with the most products? Looking into US, France, Switzerland, Spain, and Germany\n"
   ]
  },
  {
   "cell_type": "code",
   "execution_count": 37,
   "metadata": {},
   "outputs": [],
   "source": [
    "#cleaning ingredients by making them all lower case and removing punctuation\n",
    "def clean_ing1(s):\n",
    "    s =str(s)\n",
    "    s = s.lower()\n",
    "    s = re.sub('[^a-z,\\s]+', '', s)\n",
    "    return s\n",
    "\n",
    "df['ingredients'] = df['ingredients_text'].map(clean_ing1)\n",
    "\n",
    "#assigning each individual ingredient to its own line\n",
    "clean_ing = df.assign(ingredients_single=df['ingredients'].str.split(',')).explode('ingredients_single')"
   ]
  },
  {
   "cell_type": "code",
   "execution_count": 39,
   "metadata": {},
   "outputs": [],
   "source": [
    "from translate import Translator\n",
    "translator= Translator(to_lang=\"English\")\n",
    "\n",
    "def clean(lst):\n",
    "    a = set()\n",
    "    for i in lst:\n",
    "        i.lstrip(' ').rstrip(' ')\n",
    "        if i != '':\n",
    "            translatedText = translator.translate(i)\n",
    "            a.add(translatedText)\n",
    "    return a\n"
   ]
  },
  {
   "cell_type": "code",
   "execution_count": 41,
   "metadata": {},
   "outputs": [],
   "source": [
    "a = clean_ing[clean_ing['country'] == 'Australia']\n",
    "top_a = a['ingredients_single'].value_counts().nlargest(11)\n",
    "top_a = top_a.index.tolist()\n",
    "top_a = clean(top_a)"
   ]
  },
  {
   "cell_type": "code",
   "execution_count": 46,
   "metadata": {},
   "outputs": [],
   "source": [
    "f = clean_ing[clean_ing['country'] == 'France']\n",
    "top_f = f['ingredients_single'].value_counts().nlargest(11)\n",
    "top_f = top_f.index.tolist()\n",
    "top_f = clean(top_f)\n",
    "\n",
    "us = clean_ing[clean_ing['country'] == 'US']\n",
    "top_us = us['ingredients_single'].value_counts().nlargest(11)\n",
    "top_us= top_us.index.tolist()\n",
    "top_us = clean(top_us)\n",
    "  \n",
    "s = clean_ing[clean_ing['country'] == 'Switzerland']\n",
    "top_s = s['ingredients_single'].value_counts().nlargest(11)\n",
    "top_s= top_s.index.tolist()\n",
    "top_s = clean(top_s)\n",
    "\n",
    "sp = clean_ing[clean_ing['country'] == 'Spain']\n",
    "top_sp = sp['ingredients_single'].value_counts().nlargest(11)\n",
    "top_sp= top_sp.index.tolist()\n",
    "top_sp = clean(top_sp)\n",
    "\n",
    "g = clean_ing[clean_ing['country']=='Germany']\n",
    "top_g= g['ingredients_single'].value_counts().nlargest(11)\n",
    "top_g = top_g.index.tolist()\n",
    "top_g = clean(top_g)\n"
   ]
  },
  {
   "cell_type": "code",
   "execution_count": 70,
   "metadata": {},
   "outputs": [
    {
     "data": {
      "image/png": "[encoded data removed]",
      "text/plain": [
       "<Figure size 432x288 with 1 Axes>"
      ]
     },
     "metadata": {},
     "output_type": "display_data"
    }
   ],
   "source": [
    "from matplotlib_venn import venn2, venn2_circles\n",
    "from matplotlib_venn import venn3, venn3_circles\n",
    "from matplotlib import pyplot as plt\n",
    "\n",
    "plt = venn3([top_us,top_f,top_s],set_labels = ('US','France    ','     Switzerland'), set_colors=('palevioletred','pink','cornflowerblue'),alpha=0.8)\n",
    "matplotlib.pyplot.savefig('venn1.png')"
   ]
  },
  {
   "cell_type": "code",
   "execution_count": 71,
   "metadata": {},
   "outputs": [
    {
     "data": {
      "image/png": "[encoded data removed]",
      "text/plain": [
       "<Figure size 432x288 with 1 Axes>"
      ]
     },
     "metadata": {},
     "output_type": "display_data"
    }
   ],
   "source": [
    "plt = venn3([top_us,top_sp,top_g],set_labels = ('US','Spain','Germany'), set_colors=('palevioletred','lightblue','mediumpurple'),alpha=0.8)\n",
    "matplotlib.pyplot.savefig('venn2.png')"
   ]
  },
  {
   "cell_type": "code",
   "execution_count": 72,
   "metadata": {},
   "outputs": [
    {
     "data": {
      "image/png": "[encoded data removed]",
      "text/plain": [
       "<Figure size 432x288 with 1 Axes>"
      ]
     },
     "metadata": {},
     "output_type": "display_data"
    }
   ],
   "source": [
    "plt = venn3([top_sp,top_f,top_g],set_labels = ('Spain','France','Germany'), set_colors=('lightblue','pink','mediumpurple'),alpha=0.8)\n",
    "matplotlib.pyplot.savefig('venn3.png')"
   ]
  },
  {
   "cell_type": "code",
   "execution_count": 73,
   "metadata": {},
   "outputs": [
    {
     "data": {
      "image/png": "[encoded data removed]",
      "text/plain": [
       "<Figure size 432x288 with 1 Axes>"
      ]
     },
     "metadata": {},
     "output_type": "display_data"
    }
   ],
   "source": [
    "plt = venn3([top_s,top_sp,top_g],set_labels = ('Switzerland','Spain','Germany'), set_colors=('cornflowerblue','lightblue','mediumpurple'),alpha=0.8)\n",
    "matplotlib.pyplot.savefig('venn4.png')"
   ]
  },
  {
   "cell_type": "code",
   "execution_count": null,
   "metadata": {},
   "outputs": [],
   "source": []
  }
 ],
 "metadata": {
  "kernelspec": {
   "display_name": "Python 3",
   "language": "python",
   "name": "python3"
  },
  "language_info": {
   "codemirror_mode": {
    "name": "ipython",
    "version": 3
   },
   "file_extension": ".py",
   "mimetype": "text/x-python",
   "name": "python",
   "nbconvert_exporter": "python",
   "pygments_lexer": "ipython3",
   "version": "3.7.6"
  }
 },
 "nbformat": 4,
 "nbformat_minor": 4
}
